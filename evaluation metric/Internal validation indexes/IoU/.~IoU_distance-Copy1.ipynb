{
 "cells": [
  {
   "cell_type": "code",
   "execution_count": 1,
   "metadata": {},
   "outputs": [],
   "source": [
    "import os\n",
    "import trimesh as tm \n",
    "from time import time, process_time\n",
    "import csv\n",
    "from constants import data_dir, csv_dir, dimension\n",
    "from tqdm import tqdm\n",
    "import numpy as np\n",
    "import trimesh"
   ]
  },
  {
   "cell_type": "code",
   "execution_count": 2,
   "metadata": {},
   "outputs": [],
   "source": [
    "start = 1\n",
    "end = 100\n",
    "make_header = True\n",
    "\n",
    "csv_path = os.path.join(csv_dir, \"sub_results\", \"iou_distance_{}_{}.csv\".format(start, end))\n",
    "n = end - start"
   ]
  },
  {
   "cell_type": "code",
   "execution_count": 3,
   "metadata": {},
   "outputs": [],
   "source": [
    "start_time = process_time()\n",
    "actual_start_time = time()\n",
    "\n",
    "obj_list_full = sorted(os.listdir(data_dir))\n",
    "if end == -1 or end > len(obj_list_full):\n",
    "    end = len(obj_list_full)\n",
    "obj_list = obj_list_full[0:end]"
   ]
  },
  {
   "cell_type": "code",
   "execution_count": 4,
   "metadata": {},
   "outputs": [],
   "source": [
    "def write_header(fieldnames):\n",
    "    with open(csv_path, 'wt', newline='') as f:\n",
    "        writer = csv.DictWriter(f, fieldnames=fieldnames)\n",
    "        writer.writeheader()\n",
    "\n",
    "\n",
    "def write_row(row):\n",
    "    with open(csv_path, 'a', newline='') as f:\n",
    "        writer = csv.writer(f)\n",
    "        writer.writerow(row)\n",
    "\n",
    "\n",
    "def print_csv():\n",
    "    with open(csv_path, newline='') as f:\n",
    "        reader = csv.reader(f)\n",
    "        for row in reader:\n",
    "            print(row)"
   ]
  },
  {
   "cell_type": "code",
   "execution_count": 5,
   "metadata": {},
   "outputs": [],
   "source": [
    "if make_header:\n",
    "    write_header([''] + obj_list_full)\n",
    "    \n",
    "del obj_list_full"
   ]
  },
  {
   "cell_type": "code",
   "execution_count": 8,
   "metadata": {},
   "outputs": [],
   "source": [
    "def iou(voxel_matrix1, voxel_matrix2):\n",
    "    return np.count_nonzero(np.logical_and(voxel_matrix1, voxel_matrix2)) / np.count_nonzero(np.logical_or(voxel_matrix1, voxel_matrix2))"
   ]
  },
  {
   "cell_type": "code",
   "execution_count": null,
   "metadata": {},
   "outputs": [],
   "source": [
    "data = np.zeros(n*(n-1)//2)\n",
    "ii = np.zeros(n*(n-1)//2, dtype=int)\n",
    "jj = np.zeros(n*(n-1)//2, dtype=int)"
   ]
  },
  {
   "cell_type": "code",
   "execution_count": 6,
   "metadata": {},
   "outputs": [
    {
     "name": "stderr",
     "output_type": "stream",
     "text": [
      "  0%|          | 0/100 [00:00<?, ?it/s]"
     ]
    },
    {
     "name": "stdout",
     "output_type": "stream",
     "text": [
      "00000002 has shape () instead of (128, 128, 128)\n"
     ]
    },
    {
     "name": "stderr",
     "output_type": "stream",
     "text": [
      "\n"
     ]
    }
   ],
   "source": [
    "for idx1, obj1_name in enumerate(tqdm(obj_list[start:], position=0, leave=True), start=start):\n",
    "    voxel_matrix1 = np.load(os.path.join(data_dir, obj1_name, \"{}.npy\".format(obj1_name)), allow_pickle=True)\n",
    "    try:\n",
    "        assert(voxel_matrix1.shape == (dimension, dimension, dimension))\n",
    "    except:\n",
    "        print(obj1_name, \"has shape\", voxel_matrix1.shape, \"instead of\", (dimension, dimension, dimension))\n",
    "        break\n",
    "        continue\n",
    "    print(voxel_matrix1)\n",
    "    break\n",
    "    for idx2, obj2_name in enumerate(obj_list[:idx1-1]):\n",
    "        data(idx1 + idx2) = iou(voxel_matrix1, voxel_matrix1)\n",
    "        \n",
    "        \n",
    "        "
   ]
  },
  {
   "cell_type": "code",
   "execution_count": 7,
   "metadata": {},
   "outputs": [
    {
     "data": {
      "text/plain": [
       "array(<trimesh.VoxelGrid(128, 47, 128)>, dtype=object)"
      ]
     },
     "execution_count": 7,
     "metadata": {},
     "output_type": "execute_result"
    }
   ],
   "source": [
    "voxel_matrix1"
   ]
  },
  {
   "cell_type": "code",
   "execution_count": null,
   "metadata": {
    "scrolled": false
   },
   "outputs": [],
   "source": [
    "for i in range(128):\n",
    "    for j in range(47):\n",
    "        for k in range(128):\n",
    "            print(voxel_matrix1[i,j,k])"
   ]
  },
  {
   "cell_type": "code",
   "execution_count": null,
   "metadata": {},
   "outputs": [],
   "source": [
    "def get_obj(obj_name):\n",
    "    obj_dir = os.path.join(data_dir, obj_name)\n",
    "    obj_path = os.path.join(obj_dir, os.listdir(obj_dir)[0])\n",
    "    return o3d.io.read_triangle_mesh(obj_path)"
   ]
  },
  {
   "cell_type": "code",
   "execution_count": null,
   "metadata": {},
   "outputs": [],
   "source": [
    "mesh = get_obj('00000002')"
   ]
  },
  {
   "cell_type": "code",
   "execution_count": null,
   "metadata": {
    "scrolled": true
   },
   "outputs": [],
   "source": [
    "o3d.visualization.draw_geometries([mesh])"
   ]
  },
  {
   "cell_type": "code",
   "execution_count": null,
   "metadata": {},
   "outputs": [],
   "source": [
    "import os"
   ]
  },
  {
   "cell_type": "code",
   "execution_count": null,
   "metadata": {},
   "outputs": [],
   "source": [
    "os.environ[\"DISPLAY\"] = \"0.0\""
   ]
  },
  {
   "cell_type": "code",
   "execution_count": null,
   "metadata": {},
   "outputs": [],
   "source": [
    "import meshplot as mp"
   ]
  },
  {
   "cell_type": "code",
   "execution_count": null,
   "metadata": {},
   "outputs": [],
   "source": []
  },
  {
   "cell_type": "code",
   "execution_count": null,
   "metadata": {},
   "outputs": [],
   "source": [
    "total_count = end-start\n",
    "print_step = total_count // 10\n",
    "last_time = process_time()\n",
    "for idx1, pc1_name in enumerate(tqdm(pc_list[start:], position=0, leave=True)):\n",
    "    num_obj = idx1 + start\n",
    "    row = [None] * (num_obj + 1)\n",
    "    row[0] = pc1_name\n",
    "    pc1 = get_pc(pc1_name)\n",
    "    for idx2 in range(num_obj):\n",
    "        pc2 = get_obj(pc_list[idx2])\n",
    "        chamfer = iou_distance(obj1, pc2)[0].item()  # calculate chamfer distance\n",
    "        row[idx2 + 1] = chamfer\n",
    "    # write to csv\n",
    "    write_row(row)\n",
    "    if idx1 % print_step == 0:\n",
    "        current_time = process_time()\n",
    "        print(idx1, \"of\", total_count, \"finished.\")\n",
    "        print(\"total time:\", current_time - start_time)\n",
    "        print(\"time for last\", print_step, \"iterations:\", current_time - last_time)\n",
    "        last_time = current_time\n",
    "\n",
    "current_time = process_time()\n",
    "print(\"finished! total time for all:\", current_time - start_time)\n",
    "print(\"time for last few iterations:\", current_time - last_time)\n",
    "print(\"total time for {} iterations: {}\".format(end-start, time()-actual_start_time))"
   ]
  },
  {
   "cell_type": "code",
   "execution_count": null,
   "metadata": {},
   "outputs": [],
   "source": []
  },
  {
   "cell_type": "code",
   "execution_count": null,
   "metadata": {},
   "outputs": [],
   "source": []
  },
  {
   "cell_type": "code",
   "execution_count": null,
   "metadata": {},
   "outputs": [],
   "source": []
  },
  {
   "cell_type": "code",
   "execution_count": null,
   "metadata": {},
   "outputs": [],
   "source": []
  },
  {
   "cell_type": "code",
   "execution_count": null,
   "metadata": {},
   "outputs": [],
   "source": []
  },
  {
   "cell_type": "code",
   "execution_count": null,
   "metadata": {},
   "outputs": [],
   "source": []
  }
 ],
 "metadata": {
  "kernelspec": {
   "display_name": "pytorch3d",
   "language": "python",
   "name": "build_central"
  },
  "language_info": {
   "codemirror_mode": {
    "name": "ipython",
    "version": 3
   },
   "file_extension": ".py",
   "mimetype": "text/x-python",
   "name": "python",
   "nbconvert_exporter": "python",
   "pygments_lexer": "ipython3",
   "version": "3.8.8"
  }
 },
 "nbformat": 4,
 "nbformat_minor": 4
}
