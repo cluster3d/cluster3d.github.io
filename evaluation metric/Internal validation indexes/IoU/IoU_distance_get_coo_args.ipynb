{
 "cells": [
  {
   "cell_type": "code",
   "execution_count": 1,
   "metadata": {},
   "outputs": [],
   "source": [
    "import os\n",
    "import trimesh as tm \n",
    "from time import time, process_time\n",
    "from iou_constants import data_dir, iou_coo_args_dir, dimension, iou_coo_args_name_start_end\n",
    "from tqdm import tqdm\n",
    "import numpy as np\n",
    "import trimesh"
   ]
  },
  {
   "cell_type": "code",
   "execution_count": 2,
   "metadata": {},
   "outputs": [],
   "source": [
    "start = 100\n",
    "end = 200"
   ]
  },
  {
   "cell_type": "code",
   "execution_count": 3,
   "metadata": {},
   "outputs": [],
   "source": [
    "start_time = time()\n",
    "\n",
    "obj_list = sorted(os.listdir(data_dir))\n",
    "if end == -1 or end > len(obj_list):\n",
    "    end = len(obj_list)\n",
    "    \n",
    "n = end - start\n",
    "obj_list = obj_list[:end]"
   ]
  },
  {
   "cell_type": "code",
   "execution_count": 4,
   "metadata": {},
   "outputs": [],
   "source": [
    "def iou(voxel_matrix1, voxel_matrix2):\n",
    "    i = np.count_nonzero(np.logical_and(voxel_matrix1, voxel_matrix2))\n",
    "    if i == 0:\n",
    "        return 0\n",
    "    return  i / np.count_nonzero(np.logical_or(voxel_matrix1, voxel_matrix2))"
   ]
  },
  {
   "cell_type": "code",
   "execution_count": 5,
   "metadata": {},
   "outputs": [
    {
     "name": "stderr",
     "output_type": "stream",
     "text": [
      "100%|██████████| 100/100 [00:25<00:00,  3.90it/s]\n"
     ]
    }
   ],
   "source": [
    "num_comp = (start+end-1)*n//2\n",
    "data = np.zeros(num_comp)\n",
    "ii = np.zeros(num_comp, dtype=int)\n",
    "jj = np.zeros(num_comp, dtype=int)\n",
    "\n",
    "index = 0\n",
    "for idx1, obj1_name in enumerate(tqdm(obj_list[start:], position=0, leave=True), start=start):\n",
    "    voxel_matrix1 = np.load(os.path.join(data_dir, obj1_name, \"{}.npy\".format(obj1_name)), allow_pickle=True)\n",
    "    for idx2, obj2_name in enumerate(obj_list[:idx1]):\n",
    "        voxel_matrix2 = np.load(os.path.join(data_dir, obj2_name, \"{}.npy\".format(obj2_name)), allow_pickle=True)\n",
    "#         index == (idx1-1) * idx1 // 2\n",
    "        data[index] = iou(voxel_matrix1, voxel_matrix2)\n",
    "        ii[index] = idx1\n",
    "        jj[index] = idx2\n",
    "        index += 1\n",
    "        "
   ]
  },
  {
   "cell_type": "code",
   "execution_count": 9,
   "metadata": {},
   "outputs": [
    {
     "name": "stdout",
     "output_type": "stream",
     "text": [
      "run time: 35.56572604179382\n"
     ]
    }
   ],
   "source": [
    "print(\"run time:\", time() - start_time)"
   ]
  },
  {
   "cell_type": "code",
   "execution_count": 23,
   "metadata": {},
   "outputs": [],
   "source": [
    "np.savez(os.path.join(iou_coo_args_dir, iou_coo_args_name_start_end.format(start, end)), data=data, ii=ii, jj=jj)"
   ]
  }
 ],
 "metadata": {
  "kernelspec": {
   "display_name": "pytorch3d",
   "language": "python",
   "name": "build_central"
  },
  "language_info": {
   "codemirror_mode": {
    "name": "ipython",
    "version": 3
   },
   "file_extension": ".py",
   "mimetype": "text/x-python",
   "name": "python",
   "nbconvert_exporter": "python",
   "pygments_lexer": "ipython3",
   "version": "3.8.8"
  }
 },
 "nbformat": 4,
 "nbformat_minor": 4
}
