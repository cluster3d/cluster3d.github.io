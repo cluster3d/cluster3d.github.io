{
 "cells": [
  {
   "cell_type": "code",
   "execution_count": 1,
   "metadata": {},
   "outputs": [],
   "source": [
    "from iou_constants import data_dir, code_dir, dimension, temp_export_type, binvox_program_path\n",
    "import trimesh\n",
    "from trimesh.exchange import binvox\n",
    "import subprocess\n",
    "import os\n",
    "import numpy as np\n",
    "from tqdm import tqdm"
   ]
  },
  {
   "cell_type": "code",
   "execution_count": 2,
   "metadata": {
    "scrolled": true
   },
   "outputs": [],
   "source": [
    "def remove(file_types):\n",
    "    if len(file_types) == 0:\n",
    "        return\n",
    "    \n",
    "    for obj_name in tqdm(os.listdir(data_dir)):\n",
    "        obj_dir = os.path.join(data_dir, obj_name)\n",
    "        command = \"\"\n",
    "        for file_type in file_types:\n",
    "            command += \"rm {}/*.{};\".format(obj_dir, file_type)\n",
    "        os.system(command)\n",
    "    \n",
    "# remove([temp_export_type, 'binvox', 'npy'])\n",
    "remove([])"
   ]
  },
  {
   "cell_type": "code",
   "execution_count": 3,
   "metadata": {},
   "outputs": [],
   "source": [
    "def temp_binvox(temp_export_path):\n",
    "    output = subprocess.run('export LD_PRELOAD=/share/apps/local/lib/libGL.so; {} -d {} {}'.format(binvox_program_path, dimension, temp_export_path),\n",
    "                            shell=True, capture_output=True)\n",
    "    try:\n",
    "        assert(output.returncode == 0 and output.stdout.decode('ascii').split('\\n')[-3] == 'done')\n",
    "    except:\n",
    "        raise Exception(output.stdout.decode('ascii'))\n",
    "    \n",
    "def binvox_npy(name_base, binvox_path, align_center=False):\n",
    "    with open(binvox_path, 'rb') as fp:\n",
    "        voxel_grid = np.array(binvox.load_binvox(fp, axis_order='xyz').matrix)\n",
    "    \n",
    "    if align_center:\n",
    "        coordinates = np.where(voxel_grid == 1)\n",
    "        new_coordinates = [None] * 3 \n",
    "        for i in range(3):\n",
    "            min_diff = min(coordinates[i])\n",
    "            max_diff = dimension - 1 - max(coordinates[i])\n",
    "            new_coordinates[i] = coordinates[i] + (max_diff - min_diff) // 2\n",
    "            voxel_grid = np.zeros((dimension, dimension, dimension))\n",
    "            voxel_grid[new_coordinates[0], new_coordinates[1], new_coordinates[2]] = 1\n",
    "    \n",
    "    np.save(name_base.format('npy'), voxel_grid)\n",
    "    \n",
    "def mesh_npy(mesh, type_name, obj_name):\n",
    "    name_base = os.path.join(obj_dir, '{}_{}.{}'.format(obj_name, type_name, '{}'))\n",
    "    \n",
    "    \n",
    "    npy_path = name_base.format('npy')\n",
    "    if not os.path.exists(npy_path):\n",
    "        binvox_path = name_base.format('binvox')\n",
    "        if not os.path.exists(binvox_path):\n",
    "            temp_export_path = name_base.format(temp_export_type)\n",
    "            if not os.path.exists(temp_export_path):\n",
    "                with open(temp_export_path, 'wb') as fp:\n",
    "                    mesh.export(fp, file_type=temp_export_type)\n",
    "            else:\n",
    "                print(\"object\", obj_name, \"already have\", type_name, temp_export_type, \"file generated.\")\n",
    "            temp_binvox(temp_export_path)\n",
    "        else:\n",
    "            print(\"object\", obj_name, \"already have\", type_name, \"binvox file generated.\")\n",
    "        binvox_npy(name_base, binvox_path, align_center=(type_name=='align_center'))\n",
    "    else:\n",
    "        print(\"object\", obj_name, \"already have npy file generated.\")"
   ]
  },
  {
   "cell_type": "code",
   "execution_count": 4,
   "metadata": {},
   "outputs": [
    {
     "name": "stderr",
     "output_type": "stream",
     "text": [
      "  0%|          | 2/22968 [00:00<41:03,  9.32it/s]"
     ]
    },
    {
     "name": "stdout",
     "output_type": "stream",
     "text": [
      "object 00049759 already have npy file generated.\n",
      "object 00049759 already have npy file generated.\n",
      "object 00005232 already have npy file generated.\n",
      "object 00005232 already have npy file generated.\n",
      "object 00028750 already have npy file generated.\n",
      "object 00028750 already have npy file generated.\n"
     ]
    },
    {
     "name": "stderr",
     "output_type": "stream",
     "text": [
      "  0%|          | 7/22968 [00:00<26:22, 14.51it/s]"
     ]
    },
    {
     "name": "stdout",
     "output_type": "stream",
     "text": [
      "object 00003866 already have npy file generated.\n",
      "object 00003866 already have npy file generated.\n",
      "object 00021352 already have npy file generated.\n",
      "object 00021352 already have npy file generated.\n",
      "object 00018970 already have npy file generated.\n",
      "object 00018970 already have npy file generated.\n",
      "object 00014871 already have npy file generated.\n",
      "object 00014871 already have npy file generated.\n"
     ]
    },
    {
     "name": "stderr",
     "output_type": "stream",
     "text": [
      "\r",
      "  0%|          | 9/22968 [00:00<28:51, 13.26it/s]"
     ]
    },
    {
     "name": "stdout",
     "output_type": "stream",
     "text": [
      "object 00010772 already have npy file generated.\n",
      "object 00010772 already have npy file generated.\n",
      "object 00028760 already have npy file generated.\n",
      "object 00028760 already have npy file generated.\n",
      "object 00021362 already have npy file generated.\n",
      "object 00021362 already have npy file generated.\n"
     ]
    },
    {
     "name": "stderr",
     "output_type": "stream",
     "text": [
      "  0%|          | 13/22968 [00:01<30:15, 12.64it/s]"
     ]
    },
    {
     "name": "stdout",
     "output_type": "stream",
     "text": [
      "object 00001640 already have npy file generated.\n",
      "object 00001640 already have npy file generated.\n",
      "object 00013060 already have npy file generated.\n",
      "object 00013060 already have npy file generated.\n",
      "object 00029908 already have npy file generated.\n",
      "object 00029908 already have npy file generated.\n"
     ]
    },
    {
     "name": "stderr",
     "output_type": "stream",
     "text": [
      "\r",
      "  0%|          | 15/22968 [00:01<37:50, 10.11it/s]"
     ]
    },
    {
     "name": "stdout",
     "output_type": "stream",
     "text": [
      "object 00028770 already have npy file generated.\n",
      "object 00028770 already have npy file generated.\n",
      "object 00012545 already have npy file generated.\n",
      "object 00012545 already have npy file generated.\n",
      "object 00049765 already have npy file generated.\n",
      "object 00049765 already have npy file generated.\n"
     ]
    },
    {
     "name": "stderr",
     "output_type": "stream",
     "text": [
      "\r",
      "  0%|          | 17/22968 [00:01<37:04, 10.32it/s]"
     ]
    },
    {
     "name": "stdout",
     "output_type": "stream",
     "text": [
      "object 00024116 already have npy file generated.\n",
      "object 00024116 already have npy file generated.\n",
      "object 00001641 already have npy file generated.\n",
      "object 00001641 already have npy file generated.\n"
     ]
    },
    {
     "name": "stderr",
     "output_type": "stream",
     "text": [
      "\r",
      "  0%|          | 19/22968 [00:01<38:00, 10.06it/s]"
     ]
    },
    {
     "name": "stdout",
     "output_type": "stream",
     "text": [
      "object 00024126 already have npy file generated.\n",
      "object 00024126 already have npy file generated.\n",
      "object 00029928 already have npy file generated.\n",
      "object 00029928 already have npy file generated.\n"
     ]
    },
    {
     "name": "stderr",
     "output_type": "stream",
     "text": [
      "\r",
      "  0%|          | 21/22968 [00:01<38:18,  9.99it/s]"
     ]
    },
    {
     "name": "stdout",
     "output_type": "stream",
     "text": [
      "object 00009087 already have npy file generated.\n",
      "object 00009087 already have npy file generated.\n",
      "object 00028790 already have npy file generated.\n",
      "object 00028790 already have npy file generated.\n"
     ]
    },
    {
     "name": "stderr",
     "output_type": "stream",
     "text": [
      "  0%|          | 25/22968 [00:02<43:34,  8.77it/s]"
     ]
    },
    {
     "name": "stdout",
     "output_type": "stream",
     "text": [
      "object 00010219 already have npy file generated.\n",
      "object 00010219 already have npy file generated.\n",
      "object 00004251 already have npy file generated.\n",
      "object 00004251 already have npy file generated.\n",
      "object 00029938 already have npy file generated.\n",
      "object 00029938 already have npy file generated.\n"
     ]
    },
    {
     "name": "stderr",
     "output_type": "stream",
     "text": [
      "\r",
      "  0%|          | 27/22968 [00:02<38:04, 10.04it/s]"
     ]
    },
    {
     "name": "stdout",
     "output_type": "stream",
     "text": [
      "object 00034879 already have npy file generated.\n",
      "object 00034879 already have npy file generated.\n",
      "object 00009713 already have npy file generated.\n",
      "object 00009713 already have npy file generated.\n",
      "object 00029948 already have npy file generated.\n",
      "object 00029948 already have npy file generated.\n"
     ]
    },
    {
     "name": "stderr",
     "output_type": "stream",
     "text": [
      "  0%|          | 32/22968 [00:02<29:49, 12.82it/s]"
     ]
    },
    {
     "name": "stdout",
     "output_type": "stream",
     "text": [
      "object 00004252 already have npy file generated.\n",
      "object 00004252 already have npy file generated.\n",
      "object 00020701 already have npy file generated.\n",
      "object 00020701 already have npy file generated.\n",
      "object 00034568 already have npy file generated.\n",
      "object 00034568 already have npy file generated.\n",
      "object 00035569 already have npy file generated.\n",
      "object 00035569 already have npy file generated.\n"
     ]
    },
    {
     "name": "stderr",
     "output_type": "stream",
     "text": [
      "\r",
      "  0%|          | 34/22968 [00:03<30:21, 12.59it/s]"
     ]
    },
    {
     "name": "stdout",
     "output_type": "stream",
     "text": [
      "object 00021635 already have npy file generated.\n",
      "object 00021635 already have npy file generated.\n",
      "object 00032726 already have npy file generated.\n",
      "object 00032726 already have npy file generated.\n",
      "object 00033727 already have npy file generated.\n",
      "object 00033727 already have npy file generated.\n"
     ]
    },
    {
     "name": "stderr",
     "output_type": "stream",
     "text": [
      "  0%|          | 39/22968 [00:03<26:46, 14.28it/s]"
     ]
    },
    {
     "name": "stdout",
     "output_type": "stream",
     "text": [
      "object 00013196 already have npy file generated.\n",
      "object 00013196 already have npy file generated.\n",
      "object 00029958 already have npy file generated.\n",
      "object 00029958 already have npy file generated.\n",
      "object 00009089 already have npy file generated.\n",
      "object 00009089 already have npy file generated.\n",
      "object 00005496 already have npy file generated.\n",
      "object 00005496 already have npy file generated.\n"
     ]
    },
    {
     "name": "stderr",
     "output_type": "stream",
     "text": [
      "\r",
      "  0%|          | 41/22968 [00:03<28:33, 13.38it/s]"
     ]
    },
    {
     "name": "stdout",
     "output_type": "stream",
     "text": [
      "object 00012995 already have npy file generated.\n",
      "object 00012995 already have npy file generated.\n",
      "object 00039587 already have npy file generated.\n",
      "object 00039587 already have npy file generated.\n",
      "object 00021645 already have npy file generated.\n",
      "object 00021645 already have npy file generated.\n"
     ]
    },
    {
     "name": "stderr",
     "output_type": "stream",
     "text": [
      "  0%|          | 46/22968 [00:03<26:24, 14.47it/s]"
     ]
    },
    {
     "name": "stdout",
     "output_type": "stream",
     "text": [
      "object 00033893 already have npy file generated.\n",
      "object 00033893 already have npy file generated.\n",
      "object 00004253 already have npy file generated.\n",
      "object 00004253 already have npy file generated.\n",
      "object 00034257 already have npy file generated.\n",
      "object 00034257 already have npy file generated.\n",
      "object 00000660 already have npy file generated.\n",
      "object 00000660 already have npy file generated.\n"
     ]
    },
    {
     "name": "stderr",
     "output_type": "stream",
     "text": [
      "\r",
      "  0%|          | 48/22968 [00:04<24:50, 15.38it/s]"
     ]
    },
    {
     "name": "stdout",
     "output_type": "stream",
     "text": [
      "object 00029968 already have npy file generated.\n",
      "object 00029968 already have npy file generated.\n",
      "object 00032415 already have npy file generated.\n",
      "object 00032415 already have npy file generated.\n",
      "object 00035903 already have npy file generated.\n",
      "object 00035903 already have npy file generated.\n"
     ]
    },
    {
     "name": "stderr",
     "output_type": "stream",
     "text": [
      "  0%|          | 52/22968 [00:04<26:36, 14.35it/s]"
     ]
    },
    {
     "name": "stdout",
     "output_type": "stream",
     "text": [
      "object 00023251 already have npy file generated.\n",
      "object 00023251 already have npy file generated.\n",
      "object 00019382 already have npy file generated.\n",
      "object 00019382 already have npy file generated.\n",
      "object 00011184 already have npy file generated.\n",
      "object 00011184 already have npy file generated.\n",
      "object 00039276 already have npy file generated.\n",
      "object 00039276 already have npy file generated.\n"
     ]
    },
    {
     "name": "stderr",
     "output_type": "stream",
     "text": [
      "\r",
      "  0%|          | 54/22968 [00:04<29:58, 12.74it/s]"
     ]
    },
    {
     "name": "stdout",
     "output_type": "stream",
     "text": [
      "object 00005497 already have npy file generated.\n",
      "object 00005497 already have npy file generated.\n",
      "object 00033582 already have npy file generated.\n",
      "object 00033582 already have npy file generated.\n"
     ]
    },
    {
     "name": "stderr",
     "output_type": "stream",
     "text": [
      "\r",
      "  0%|          | 56/22968 [00:05<56:59,  6.70it/s]"
     ]
    },
    {
     "name": "stdout",
     "output_type": "stream",
     "text": [
      "object 00029978 already have npy file generated.\n",
      "object 00029978 already have npy file generated.\n",
      "object 00014768 already have npy file generated.\n",
      "object 00014768 already have npy file generated.\n"
     ]
    },
    {
     "name": "stderr",
     "output_type": "stream",
     "text": [
      "  0%|          | 61/22968 [00:05<37:49, 10.09it/s]"
     ]
    },
    {
     "name": "stdout",
     "output_type": "stream",
     "text": [
      "object 00031740 already have npy file generated.\n",
      "object 00031740 already have npy file generated.\n",
      "object 00032741 already have npy file generated.\n",
      "object 00032741 already have npy file generated.\n",
      "object 00010669 already have npy file generated.\n",
      "object 00010669 already have npy file generated.\n",
      "object 00032104 already have npy file generated.\n",
      "object 00032104 already have npy file generated.\n"
     ]
    },
    {
     "name": "stderr",
     "output_type": "stream",
     "text": [
      "\r",
      "  0%|          | 63/22968 [00:05<36:15, 10.53it/s]"
     ]
    },
    {
     "name": "stdout",
     "output_type": "stream",
     "text": [
      "object 00021665 already have npy file generated.\n",
      "object 00021665 already have npy file generated.\n",
      "object 00008732 already have npy file generated.\n",
      "object 00008732 already have npy file generated.\n",
      "object 00034272 already have npy file generated.\n",
      "object 00034272 already have npy file generated.\n"
     ]
    },
    {
     "name": "stderr",
     "output_type": "stream",
     "text": [
      "\r",
      "  0%|          | 65/22968 [00:05<37:17, 10.24it/s]"
     ]
    },
    {
     "name": "stdout",
     "output_type": "stream",
     "text": [
      "object 00037760 already have npy file generated.\n",
      "object 00037760 already have npy file generated.\n",
      "object 00036122 already have npy file generated.\n",
      "object 00036122 already have npy file generated.\n"
     ]
    },
    {
     "name": "stderr",
     "output_type": "stream",
     "text": [
      "  0%|          | 69/22968 [00:06<40:25,  9.44it/s]"
     ]
    },
    {
     "name": "stdout",
     "output_type": "stream",
     "text": [
      "object 00021675 already have npy file generated.\n",
      "object 00021675 already have npy file generated.\n",
      "object 00039610 already have npy file generated.\n",
      "object 00039610 already have npy file generated.\n",
      "object 00026015 already have npy file generated.\n",
      "object 00026015 already have npy file generated.\n"
     ]
    },
    {
     "name": "stderr",
     "output_type": "stream",
     "text": [
      "\r",
      "  0%|          | 71/22968 [00:06<40:37,  9.39it/s]"
     ]
    },
    {
     "name": "stdout",
     "output_type": "stream",
     "text": [
      "object 00024419 already have npy file generated.\n",
      "object 00024419 already have npy file generated.\n",
      "object 00023281 already have npy file generated.\n",
      "object 00023281 already have npy file generated.\n"
     ]
    },
    {
     "name": "stderr",
     "output_type": "stream",
     "text": [
      "\r",
      "  0%|          | 73/22968 [00:06<40:14,  9.48it/s]"
     ]
    },
    {
     "name": "stdout",
     "output_type": "stream",
     "text": [
      "object 00048536 already have npy file generated.\n",
      "object 00048536 already have npy file generated.\n",
      "object 00021685 already have npy file generated.\n",
      "object 00021685 already have npy file generated.\n"
     ]
    },
    {
     "name": "stderr",
     "output_type": "stream",
     "text": [
      "\r",
      "  0%|          | 75/22968 [00:07<43:06,  8.85it/s]"
     ]
    },
    {
     "name": "stdout",
     "output_type": "stream",
     "text": [
      "object 00008733 already have npy file generated.\n",
      "object 00008733 already have npy file generated.\n",
      "object 00026035 already have npy file generated.\n",
      "object 00026035 already have npy file generated.\n"
     ]
    },
    {
     "name": "stderr",
     "output_type": "stream",
     "text": [
      "\r",
      "  0%|          | 77/22968 [00:07<38:53,  9.81it/s]"
     ]
    },
    {
     "name": "stdout",
     "output_type": "stream",
     "text": [
      "object 00010744 already have npy file generated.\n",
      "object 00010744 already have npy file generated.\n",
      "object 00024439 already have npy file generated.\n",
      "object 00024439 already have npy file generated.\n",
      "object 00004406 already have npy file generated.\n",
      "object 00004406 already have npy file generated.\n",
      "object 00043490 already have npy file generated.\n",
      "object 00043490 already have npy file generated.\n"
     ]
    },
    {
     "name": "stderr",
     "output_type": "stream",
     "text": [
      "  0%|          | 82/22968 [00:07<29:19, 13.01it/s]"
     ]
    },
    {
     "name": "stdout",
     "output_type": "stream",
     "text": [
      "object 00026045 already have npy file generated.\n",
      "object 00026045 already have npy file generated.\n",
      "object 00013032 already have npy file generated.\n",
      "object 00013032 already have npy file generated.\n",
      "object 00022600 already have npy file generated.\n",
      "object 00022600 already have npy file generated.\n",
      "object 00012831 already have npy file generated.\n",
      "object 00012831 already have npy file generated.\n",
      "object 00007751 already have npy file generated.\n",
      "object 00007751 already have npy file generated.\n"
     ]
    },
    {
     "name": "stderr",
     "output_type": "stream",
     "text": [
      "\r",
      "  0%|          | 85/22968 [00:07<25:12, 15.12it/s]"
     ]
    },
    {
     "name": "stdout",
     "output_type": "stream",
     "text": [
      "object 00004407 already have npy file generated.\n",
      "object 00004407 already have npy file generated.\n",
      "object 00026055 already have npy file generated.\n",
      "object 00026055 already have npy file generated.\n"
     ]
    },
    {
     "name": "stderr",
     "output_type": "stream",
     "text": [
      "\r",
      "  0%|          | 87/22968 [00:09<1:30:40,  4.21it/s]"
     ]
    },
    {
     "name": "stdout",
     "output_type": "stream",
     "text": [
      "object 00022610 already have npy file generated.\n",
      "object 00022610 already have npy file generated.\n",
      "object 00045985 already have npy file generated.\n",
      "object 00045985 already have npy file generated.\n",
      "object 00042036 already have npy file generated.\n",
      "object 00042036 already have npy file generated.\n"
     ]
    },
    {
     "name": "stderr",
     "output_type": "stream",
     "text": [
      "  0%|          | 92/22968 [00:09<55:37,  6.86it/s]  "
     ]
    },
    {
     "name": "stdout",
     "output_type": "stream",
     "text": [
      "object 00011020 already have npy file generated.\n",
      "object 00011020 already have npy file generated.\n",
      "object 00004408 already have npy file generated.\n",
      "object 00004408 already have npy file generated.\n",
      "object 00022620 already have npy file generated.\n",
      "object 00022620 already have npy file generated.\n",
      "object 00002291 already have npy file generated.\n",
      "object 00002291 already have npy file generated.\n"
     ]
    },
    {
     "name": "stderr",
     "output_type": "stream",
     "text": [
      "  0%|          | 96/22968 [00:09<41:45,  9.13it/s]"
     ]
    },
    {
     "name": "stdout",
     "output_type": "stream",
     "text": [
      "object 00026075 already have npy file generated.\n",
      "object 00026075 already have npy file generated.\n",
      "object 00049674 already have npy file generated.\n",
      "object 00049674 already have npy file generated.\n",
      "object 00022630 already have npy file generated.\n",
      "object 00022630 already have npy file generated.\n"
     ]
    },
    {
     "name": "stderr",
     "output_type": "stream",
     "text": [
      "\r",
      "  0%|          | 98/22968 [00:09<38:26,  9.91it/s]"
     ]
    },
    {
     "name": "stdout",
     "output_type": "stream",
     "text": [
      "object 00011395 already have npy file generated.\n",
      "object 00011395 already have npy file generated.\n",
      "object 00007018 already have npy file generated.\n",
      "object 00007018 already have npy file generated.\n",
      "object 00008996 already have npy file generated.\n",
      "object 00008996 already have npy file generated.\n"
     ]
    },
    {
     "name": "stderr",
     "output_type": "stream",
     "text": [
      "\r",
      "  0%|          | 100/22968 [00:09<38:10,  9.98it/s]"
     ]
    },
    {
     "name": "stdout",
     "output_type": "stream",
     "text": [
      "object 00000816 already have npy file generated.\n",
      "object 00000816 already have npy file generated.\n",
      "object 00026085 already have npy file generated.\n",
      "object 00026085 already have npy file generated.\n",
      "object 00022640 already have npy file generated.\n"
     ]
    },
    {
     "name": "stderr",
     "output_type": "stream",
     "text": [
      "\r",
      "  0%|          | 102/22968 [00:10<38:08,  9.99it/s]"
     ]
    },
    {
     "name": "stdout",
     "output_type": "stream",
     "text": [
      "object 00022640 already have npy file generated.\n",
      "object 00021978 already have npy file generated.\n",
      "object 00021978 already have npy file generated.\n",
      "object 00007019 already have npy file generated.\n",
      "object 00007019 already have npy file generated.\n"
     ]
    },
    {
     "name": "stderr",
     "output_type": "stream",
     "text": [
      "  0%|          | 107/22968 [00:10<38:50,  9.81it/s]"
     ]
    },
    {
     "name": "stdout",
     "output_type": "stream",
     "text": [
      "object 00008997 already have npy file generated.\n",
      "object 00008997 already have npy file generated.\n",
      "object 00013482 already have npy file generated.\n",
      "object 00013482 already have npy file generated.\n",
      "object 00009120 already have npy file generated.\n",
      "object 00009120 already have npy file generated.\n",
      "object 00013168 already have npy file generated.\n",
      "object 00013168 already have npy file generated.\n"
     ]
    },
    {
     "name": "stderr",
     "output_type": "stream",
     "text": [
      "\r",
      "  0%|          | 110/22968 [00:10<32:34, 11.70it/s]"
     ]
    },
    {
     "name": "stdout",
     "output_type": "stream",
     "text": [
      "object 00022650 already have npy file generated.\n",
      "object 00022650 already have npy file generated.\n",
      "object 00000817 already have npy file generated.\n",
      "object 00000817 already have npy file generated.\n",
      "object 00012967 already have npy file generated.\n",
      "object 00012967 already have npy file generated.\n"
     ]
    },
    {
     "name": "stderr",
     "output_type": "stream",
     "text": [
      "  0%|          | 114/22968 [00:11<30:28, 12.50it/s]"
     ]
    },
    {
     "name": "stdout",
     "output_type": "stream",
     "text": [
      "object 00021988 already have npy file generated.\n",
      "object 00021988 already have npy file generated.\n",
      "object 00022660 already have npy file generated.\n",
      "object 00022660 already have npy file generated.\n",
      "object 00008998 already have npy file generated.\n",
      "object 00008998 already have npy file generated.\n",
      "object 00027000 already have npy file generated.\n",
      "object 00027000 already have npy file generated.\n"
     ]
    },
    {
     "name": "stderr",
     "output_type": "stream",
     "text": [
      "  1%|          | 118/22968 [00:11<40:05,  9.50it/s]"
     ]
    },
    {
     "name": "stdout",
     "output_type": "stream",
     "text": [
      "object 00023594 already have npy file generated.\n",
      "object 00023594 already have npy file generated.\n",
      "object 00021998 already have npy file generated.\n",
      "object 00021998 already have npy file generated.\n",
      "object 00023808 already have npy file generated.\n",
      "object 00023808 already have npy file generated.\n",
      "object 00010955 already have npy file generated.\n",
      "object 00010955 already have npy file generated.\n"
     ]
    },
    {
     "name": "stderr",
     "output_type": "stream",
     "text": [
      "\r",
      "  1%|          | 120/22968 [00:12<40:41,  9.36it/s]"
     ]
    },
    {
     "name": "stdout",
     "output_type": "stream",
     "text": [
      "object 00025414 already have npy file generated.\n",
      "object 00025414 already have npy file generated.\n"
     ]
    },
    {
     "name": "stderr",
     "output_type": "stream",
     "text": [
      "  1%|          | 124/22968 [00:12<41:44,  9.12it/s]"
     ]
    },
    {
     "name": "stdout",
     "output_type": "stream",
     "text": [
      "object 00023818 already have npy file generated.\n",
      "object 00023818 already have npy file generated.\n",
      "object 00043837 already have npy file generated.\n",
      "object 00043837 already have npy file generated.\n",
      "object 00030429 already have npy file generated.\n",
      "object 00030429 already have npy file generated.\n",
      "object 00027020 already have npy file generated.\n",
      "object 00027020 already have npy file generated.\n"
     ]
    },
    {
     "name": "stderr",
     "output_type": "stream",
     "text": [
      "\r",
      "  1%|          | 126/22968 [00:12<44:36,  8.53it/s]"
     ]
    },
    {
     "name": "stdout",
     "output_type": "stream",
     "text": [
      "object 00033917 already have npy file generated.\n",
      "object 00033917 already have npy file generated.\n",
      "object 00025424 already have npy file generated.\n",
      "object 00025424 already have npy file generated.\n"
     ]
    },
    {
     "name": "stderr",
     "output_type": "stream",
     "text": [
      "  1%|          | 128/22968 [00:13<52:45,  7.21it/s]"
     ]
    },
    {
     "name": "stdout",
     "output_type": "stream",
     "text": [
      "object 00026358 already have npy file generated.\n",
      "object 00026358 already have npy file generated.\n",
      "object 00031596 already have npy file generated.\n",
      "object 00031596 already have npy file generated.\n"
     ]
    },
    {
     "name": "stderr",
     "output_type": "stream",
     "text": [
      "  1%|          | 132/22968 [00:13<40:44,  9.34it/s]"
     ]
    },
    {
     "name": "stdout",
     "output_type": "stream",
     "text": [
      "object 00032597 already have npy file generated.\n",
      "object 00032597 already have npy file generated.\n",
      "object 00018913 already have npy file generated.\n",
      "object 00018913 already have npy file generated.\n",
      "object 00035448 already have npy file generated.\n",
      "object 00035448 already have npy file generated.\n",
      "object 00006773 already have npy file generated.\n",
      "object 00006773 already have npy file generated.\n",
      "object 00038936 already have npy file generated.\n",
      "object 00038936 already have normalized off file generated.\n"
     ]
    },
    {
     "name": "stderr",
     "output_type": "stream",
     "text": [
      "  1%|          | 166/22968 [19:26<44:31:12,  7.03s/it] \n"
     ]
    },
    {
     "ename": "KeyboardInterrupt",
     "evalue": "",
     "output_type": "error",
     "traceback": [
      "\u001b[0;31m---------------------------------------------------------------------------\u001b[0m",
      "\u001b[0;31mKeyboardInterrupt\u001b[0m                         Traceback (most recent call last)",
      "\u001b[0;32m<ipython-input-4-f1bebd081609>\u001b[0m in \u001b[0;36m<module>\u001b[0;34m\u001b[0m\n\u001b[1;32m      8\u001b[0m     \u001b[0mmesh\u001b[0m \u001b[0;34m=\u001b[0m \u001b[0mtrimesh\u001b[0m\u001b[0;34m.\u001b[0m\u001b[0mload_mesh\u001b[0m\u001b[0;34m(\u001b[0m\u001b[0mobj_path\u001b[0m\u001b[0;34m)\u001b[0m\u001b[0;34m\u001b[0m\u001b[0;34m\u001b[0m\u001b[0m\n\u001b[1;32m      9\u001b[0m     \u001b[0;31m# align center\u001b[0m\u001b[0;34m\u001b[0m\u001b[0;34m\u001b[0m\u001b[0;34m\u001b[0m\u001b[0m\n\u001b[0;32m---> 10\u001b[0;31m     \u001b[0mmesh_npy\u001b[0m\u001b[0;34m(\u001b[0m\u001b[0mmesh\u001b[0m\u001b[0;34m,\u001b[0m \u001b[0;34m'align_center'\u001b[0m\u001b[0;34m,\u001b[0m \u001b[0mobj_name\u001b[0m\u001b[0;34m)\u001b[0m\u001b[0;34m\u001b[0m\u001b[0;34m\u001b[0m\u001b[0m\n\u001b[0m\u001b[1;32m     11\u001b[0m \u001b[0;34m\u001b[0m\u001b[0m\n\u001b[1;32m     12\u001b[0m     \u001b[0;31m# min-max normalization\u001b[0m\u001b[0;34m\u001b[0m\u001b[0;34m\u001b[0m\u001b[0;34m\u001b[0m\u001b[0m\n",
      "\u001b[0;32m<ipython-input-3-03af31d3920e>\u001b[0m in \u001b[0;36mmesh_npy\u001b[0;34m(mesh, type_name, obj_name)\u001b[0m\n\u001b[1;32m     37\u001b[0m             \u001b[0;32melse\u001b[0m\u001b[0;34m:\u001b[0m\u001b[0;34m\u001b[0m\u001b[0;34m\u001b[0m\u001b[0m\n\u001b[1;32m     38\u001b[0m                 \u001b[0mprint\u001b[0m\u001b[0;34m(\u001b[0m\u001b[0;34m\"object\"\u001b[0m\u001b[0;34m,\u001b[0m \u001b[0mobj_name\u001b[0m\u001b[0;34m,\u001b[0m \u001b[0;34m\"already have\"\u001b[0m\u001b[0;34m,\u001b[0m \u001b[0mtype_name\u001b[0m\u001b[0;34m,\u001b[0m \u001b[0mtemp_export_type\u001b[0m\u001b[0;34m,\u001b[0m \u001b[0;34m\"file generated.\"\u001b[0m\u001b[0;34m)\u001b[0m\u001b[0;34m\u001b[0m\u001b[0;34m\u001b[0m\u001b[0m\n\u001b[0;32m---> 39\u001b[0;31m             \u001b[0mtemp_binvox\u001b[0m\u001b[0;34m(\u001b[0m\u001b[0mtemp_export_path\u001b[0m\u001b[0;34m)\u001b[0m\u001b[0;34m\u001b[0m\u001b[0;34m\u001b[0m\u001b[0m\n\u001b[0m\u001b[1;32m     40\u001b[0m         \u001b[0;32melse\u001b[0m\u001b[0;34m:\u001b[0m\u001b[0;34m\u001b[0m\u001b[0;34m\u001b[0m\u001b[0m\n\u001b[1;32m     41\u001b[0m             \u001b[0mprint\u001b[0m\u001b[0;34m(\u001b[0m\u001b[0;34m\"object\"\u001b[0m\u001b[0;34m,\u001b[0m \u001b[0mobj_name\u001b[0m\u001b[0;34m,\u001b[0m \u001b[0;34m\"already have\"\u001b[0m\u001b[0;34m,\u001b[0m \u001b[0mtype_name\u001b[0m\u001b[0;34m,\u001b[0m \u001b[0;34m\"binvox file generated.\"\u001b[0m\u001b[0;34m)\u001b[0m\u001b[0;34m\u001b[0m\u001b[0;34m\u001b[0m\u001b[0m\n",
      "\u001b[0;32m<ipython-input-3-03af31d3920e>\u001b[0m in \u001b[0;36mtemp_binvox\u001b[0;34m(temp_export_path)\u001b[0m\n\u001b[1;32m      1\u001b[0m \u001b[0;32mdef\u001b[0m \u001b[0mtemp_binvox\u001b[0m\u001b[0;34m(\u001b[0m\u001b[0mtemp_export_path\u001b[0m\u001b[0;34m)\u001b[0m\u001b[0;34m:\u001b[0m\u001b[0;34m\u001b[0m\u001b[0;34m\u001b[0m\u001b[0m\n\u001b[0;32m----> 2\u001b[0;31m     output = subprocess.run('export LD_PRELOAD=/share/apps/local/lib/libGL.so; {} -d {} {}'.format(binvox_program_path, dimension, temp_export_path),\n\u001b[0m\u001b[1;32m      3\u001b[0m                             shell=True, capture_output=True)\n\u001b[1;32m      4\u001b[0m     \u001b[0;32mtry\u001b[0m\u001b[0;34m:\u001b[0m\u001b[0;34m\u001b[0m\u001b[0;34m\u001b[0m\u001b[0m\n\u001b[1;32m      5\u001b[0m         \u001b[0;32massert\u001b[0m\u001b[0;34m(\u001b[0m\u001b[0moutput\u001b[0m\u001b[0;34m.\u001b[0m\u001b[0mreturncode\u001b[0m \u001b[0;34m==\u001b[0m \u001b[0;36m0\u001b[0m \u001b[0;32mand\u001b[0m \u001b[0moutput\u001b[0m\u001b[0;34m.\u001b[0m\u001b[0mstdout\u001b[0m\u001b[0;34m.\u001b[0m\u001b[0mdecode\u001b[0m\u001b[0;34m(\u001b[0m\u001b[0;34m'ascii'\u001b[0m\u001b[0;34m)\u001b[0m\u001b[0;34m.\u001b[0m\u001b[0msplit\u001b[0m\u001b[0;34m(\u001b[0m\u001b[0;34m'\\n'\u001b[0m\u001b[0;34m)\u001b[0m\u001b[0;34m[\u001b[0m\u001b[0;34m-\u001b[0m\u001b[0;36m3\u001b[0m\u001b[0;34m]\u001b[0m \u001b[0;34m==\u001b[0m \u001b[0;34m'done'\u001b[0m\u001b[0;34m)\u001b[0m\u001b[0;34m\u001b[0m\u001b[0;34m\u001b[0m\u001b[0m\n",
      "\u001b[0;32m/scratch/yk1962/miniconda3/envs/pytorch3d/lib/python3.8/subprocess.py\u001b[0m in \u001b[0;36mrun\u001b[0;34m(input, capture_output, timeout, check, *popenargs, **kwargs)\u001b[0m\n\u001b[1;32m    493\u001b[0m     \u001b[0;32mwith\u001b[0m \u001b[0mPopen\u001b[0m\u001b[0;34m(\u001b[0m\u001b[0;34m*\u001b[0m\u001b[0mpopenargs\u001b[0m\u001b[0;34m,\u001b[0m \u001b[0;34m**\u001b[0m\u001b[0mkwargs\u001b[0m\u001b[0;34m)\u001b[0m \u001b[0;32mas\u001b[0m \u001b[0mprocess\u001b[0m\u001b[0;34m:\u001b[0m\u001b[0;34m\u001b[0m\u001b[0;34m\u001b[0m\u001b[0m\n\u001b[1;32m    494\u001b[0m         \u001b[0;32mtry\u001b[0m\u001b[0;34m:\u001b[0m\u001b[0;34m\u001b[0m\u001b[0;34m\u001b[0m\u001b[0m\n\u001b[0;32m--> 495\u001b[0;31m             \u001b[0mstdout\u001b[0m\u001b[0;34m,\u001b[0m \u001b[0mstderr\u001b[0m \u001b[0;34m=\u001b[0m \u001b[0mprocess\u001b[0m\u001b[0;34m.\u001b[0m\u001b[0mcommunicate\u001b[0m\u001b[0;34m(\u001b[0m\u001b[0minput\u001b[0m\u001b[0;34m,\u001b[0m \u001b[0mtimeout\u001b[0m\u001b[0;34m=\u001b[0m\u001b[0mtimeout\u001b[0m\u001b[0;34m)\u001b[0m\u001b[0;34m\u001b[0m\u001b[0;34m\u001b[0m\u001b[0m\n\u001b[0m\u001b[1;32m    496\u001b[0m         \u001b[0;32mexcept\u001b[0m \u001b[0mTimeoutExpired\u001b[0m \u001b[0;32mas\u001b[0m \u001b[0mexc\u001b[0m\u001b[0;34m:\u001b[0m\u001b[0;34m\u001b[0m\u001b[0;34m\u001b[0m\u001b[0m\n\u001b[1;32m    497\u001b[0m             \u001b[0mprocess\u001b[0m\u001b[0;34m.\u001b[0m\u001b[0mkill\u001b[0m\u001b[0;34m(\u001b[0m\u001b[0;34m)\u001b[0m\u001b[0;34m\u001b[0m\u001b[0;34m\u001b[0m\u001b[0m\n",
      "\u001b[0;32m/scratch/yk1962/miniconda3/envs/pytorch3d/lib/python3.8/subprocess.py\u001b[0m in \u001b[0;36mcommunicate\u001b[0;34m(self, input, timeout)\u001b[0m\n\u001b[1;32m   1026\u001b[0m \u001b[0;34m\u001b[0m\u001b[0m\n\u001b[1;32m   1027\u001b[0m             \u001b[0;32mtry\u001b[0m\u001b[0;34m:\u001b[0m\u001b[0;34m\u001b[0m\u001b[0;34m\u001b[0m\u001b[0m\n\u001b[0;32m-> 1028\u001b[0;31m                 \u001b[0mstdout\u001b[0m\u001b[0;34m,\u001b[0m \u001b[0mstderr\u001b[0m \u001b[0;34m=\u001b[0m \u001b[0mself\u001b[0m\u001b[0;34m.\u001b[0m\u001b[0m_communicate\u001b[0m\u001b[0;34m(\u001b[0m\u001b[0minput\u001b[0m\u001b[0;34m,\u001b[0m \u001b[0mendtime\u001b[0m\u001b[0;34m,\u001b[0m \u001b[0mtimeout\u001b[0m\u001b[0;34m)\u001b[0m\u001b[0;34m\u001b[0m\u001b[0;34m\u001b[0m\u001b[0m\n\u001b[0m\u001b[1;32m   1029\u001b[0m             \u001b[0;32mexcept\u001b[0m \u001b[0mKeyboardInterrupt\u001b[0m\u001b[0;34m:\u001b[0m\u001b[0;34m\u001b[0m\u001b[0;34m\u001b[0m\u001b[0m\n\u001b[1;32m   1030\u001b[0m                 \u001b[0;31m# https://bugs.python.org/issue25942\u001b[0m\u001b[0;34m\u001b[0m\u001b[0;34m\u001b[0m\u001b[0;34m\u001b[0m\u001b[0m\n",
      "\u001b[0;32m/scratch/yk1962/miniconda3/envs/pytorch3d/lib/python3.8/subprocess.py\u001b[0m in \u001b[0;36m_communicate\u001b[0;34m(self, input, endtime, orig_timeout)\u001b[0m\n\u001b[1;32m   1868\u001b[0m                             'failed to raise TimeoutExpired.')\n\u001b[1;32m   1869\u001b[0m \u001b[0;34m\u001b[0m\u001b[0m\n\u001b[0;32m-> 1870\u001b[0;31m                     \u001b[0mready\u001b[0m \u001b[0;34m=\u001b[0m \u001b[0mselector\u001b[0m\u001b[0;34m.\u001b[0m\u001b[0mselect\u001b[0m\u001b[0;34m(\u001b[0m\u001b[0mtimeout\u001b[0m\u001b[0;34m)\u001b[0m\u001b[0;34m\u001b[0m\u001b[0;34m\u001b[0m\u001b[0m\n\u001b[0m\u001b[1;32m   1871\u001b[0m                     \u001b[0mself\u001b[0m\u001b[0;34m.\u001b[0m\u001b[0m_check_timeout\u001b[0m\u001b[0;34m(\u001b[0m\u001b[0mendtime\u001b[0m\u001b[0;34m,\u001b[0m \u001b[0morig_timeout\u001b[0m\u001b[0;34m,\u001b[0m \u001b[0mstdout\u001b[0m\u001b[0;34m,\u001b[0m \u001b[0mstderr\u001b[0m\u001b[0;34m)\u001b[0m\u001b[0;34m\u001b[0m\u001b[0;34m\u001b[0m\u001b[0m\n\u001b[1;32m   1872\u001b[0m \u001b[0;34m\u001b[0m\u001b[0m\n",
      "\u001b[0;32m/scratch/yk1962/miniconda3/envs/pytorch3d/lib/python3.8/selectors.py\u001b[0m in \u001b[0;36mselect\u001b[0;34m(self, timeout)\u001b[0m\n\u001b[1;32m    413\u001b[0m         \u001b[0mready\u001b[0m \u001b[0;34m=\u001b[0m \u001b[0;34m[\u001b[0m\u001b[0;34m]\u001b[0m\u001b[0;34m\u001b[0m\u001b[0;34m\u001b[0m\u001b[0m\n\u001b[1;32m    414\u001b[0m         \u001b[0;32mtry\u001b[0m\u001b[0;34m:\u001b[0m\u001b[0;34m\u001b[0m\u001b[0;34m\u001b[0m\u001b[0m\n\u001b[0;32m--> 415\u001b[0;31m             \u001b[0mfd_event_list\u001b[0m \u001b[0;34m=\u001b[0m \u001b[0mself\u001b[0m\u001b[0;34m.\u001b[0m\u001b[0m_selector\u001b[0m\u001b[0;34m.\u001b[0m\u001b[0mpoll\u001b[0m\u001b[0;34m(\u001b[0m\u001b[0mtimeout\u001b[0m\u001b[0;34m)\u001b[0m\u001b[0;34m\u001b[0m\u001b[0;34m\u001b[0m\u001b[0m\n\u001b[0m\u001b[1;32m    416\u001b[0m         \u001b[0;32mexcept\u001b[0m \u001b[0mInterruptedError\u001b[0m\u001b[0;34m:\u001b[0m\u001b[0;34m\u001b[0m\u001b[0;34m\u001b[0m\u001b[0m\n\u001b[1;32m    417\u001b[0m             \u001b[0;32mreturn\u001b[0m \u001b[0mready\u001b[0m\u001b[0;34m\u001b[0m\u001b[0;34m\u001b[0m\u001b[0m\n",
      "\u001b[0;31mKeyboardInterrupt\u001b[0m: "
     ]
    }
   ],
   "source": [
    "for obj_name in tqdm(os.listdir(data_dir)):\n",
    "    obj_dir = os.path.join(data_dir, obj_name)\n",
    "    files = os.listdir(obj_dir)\n",
    "    for file_name in files:\n",
    "        if 'obj' in file_name:\n",
    "            obj_path = os.path.join(obj_dir,file_name)\n",
    "            break\n",
    "    mesh = trimesh.load_mesh(obj_path)\n",
    "    # align center\n",
    "#     mesh_npy(mesh, 'align_center', obj_name)\n",
    "    \n",
    "    # min-max normalization\n",
    "    [bbox_min, bbox_max] = mesh.bounds\n",
    "    mesh.vertices = (mesh.vertices - bbox_min) / (bbox_max - bbox_min)\n",
    "    mesh_npy(mesh, 'normalized', obj_name)"
   ]
  },
  {
   "cell_type": "code",
   "execution_count": null,
   "metadata": {},
   "outputs": [],
   "source": [
    "# obj_name = \"00049759\"\n",
    "# obj_dir = os.path.join(data_dir, obj_name)\n",
    "# files = os.listdir(obj_dir)\n",
    "# obj_path = os.path.join(obj_dir,files[0])\n",
    "# mesh = trimesh.load_mesh(obj_path)\n"
   ]
  },
  {
   "cell_type": "code",
   "execution_count": 10,
   "metadata": {},
   "outputs": [
    {
     "name": "stderr",
     "output_type": "stream",
     "text": [
      "\r",
      "  0%|          | 0/3 [00:00<?, ?it/s]"
     ]
    },
    {
     "name": "stdout",
     "output_type": "stream",
     "text": [
      "object 00048664 already have align_center off file generated.\n"
     ]
    },
    {
     "name": "stderr",
     "output_type": "stream",
     "text": [
      "100%|██████████| 3/3 [01:59<00:00, 39.76s/it]"
     ]
    },
    {
     "name": "stdout",
     "output_type": "stream",
     "text": [
      "         380175 function calls (380125 primitive calls) in 119.298 seconds\n",
      "\n",
      "   Ordered by: cumulative time\n",
      "\n",
      "   ncalls  tottime  percall  cumtime  percall filename:lineno(function)\n",
      "        2    0.000    0.000  119.298   59.649 /share/apps/python/3.8.6/intel/lib/python3.8/site-packages/IPython/core/interactiveshell.py:3376(run_code)\n",
      "        2    0.000    0.000  119.298   59.649 {built-in method builtins.exec}\n",
      "        1    0.002    0.002  119.298  119.298 <ipython-input-10-7ce8da15ab55>:3(<module>)\n",
      "        6    0.001    0.000  118.795   19.799 <ipython-input-3-03af31d3920e>:25(mesh_npy)\n",
      "        6    0.000    0.000  114.276   19.046 <ipython-input-3-03af31d3920e>:1(temp_binvox)\n",
      "        6    0.000    0.000  114.275   19.046 /scratch/yk1962/miniconda3/envs/pytorch3d/lib/python3.8/subprocess.py:452(run)\n",
      "        6    0.000    0.000  114.202   19.034 /scratch/yk1962/miniconda3/envs/pytorch3d/lib/python3.8/subprocess.py:984(communicate)\n",
      "        6    0.011    0.002  114.202   19.034 /scratch/yk1962/miniconda3/envs/pytorch3d/lib/python3.8/subprocess.py:1817(_communicate)\n",
      "     4925    0.007    0.000  114.179    0.023 /scratch/yk1962/miniconda3/envs/pytorch3d/lib/python3.8/selectors.py:402(select)\n",
      "     4925  114.171    0.023  114.171    0.023 {method 'poll' of 'select.poll' objects}\n",
      "        6    3.037    0.506    3.960    0.660 <ipython-input-3-03af31d3920e>:9(binvox_npy)\n",
      "  163/116    0.025    0.000    0.623    0.005 {built-in method numpy.core._multiarray_umath.implement_array_function}\n",
      "        5    0.000    0.000    0.554    0.111 /scratch/yk1962/miniconda3/envs/pytorch3d/lib/python3.8/site-packages/trimesh/base.py:2533(export)\n",
      "        5    0.000    0.000    0.554    0.111 /scratch/yk1962/miniconda3/envs/pytorch3d/lib/python3.8/site-packages/trimesh/exchange/export.py:19(export_mesh)\n",
      "        5    0.003    0.001    0.546    0.109 /scratch/yk1962/miniconda3/envs/pytorch3d/lib/python3.8/site-packages/trimesh/exchange/off.py:66(export_off)\n",
      "       10    0.170    0.017    0.540    0.054 /scratch/yk1962/miniconda3/envs/pytorch3d/lib/python3.8/site-packages/trimesh/util.py:1091(array_to_string)\n",
      "        6    0.000    0.000    0.509    0.085 <__array_function__ internals>:2(save)\n",
      "        6    0.001    0.000    0.509    0.085 /scratch/yk1962/miniconda3/envs/pytorch3d/lib/python3.8/site-packages/numpy/lib/npyio.py:457(save)\n",
      "        3    0.000    0.000    0.478    0.159 /scratch/yk1962/miniconda3/envs/pytorch3d/lib/python3.8/site-packages/trimesh/constants.py:132(timed)\n",
      "        3    0.003    0.001    0.477    0.159 /scratch/yk1962/miniconda3/envs/pytorch3d/lib/python3.8/site-packages/trimesh/exchange/load.py:170(load_mesh)\n",
      "        3    0.008    0.003    0.436    0.145 /scratch/yk1962/miniconda3/envs/pytorch3d/lib/python3.8/site-packages/trimesh/exchange/obj.py:22(load_obj)\n",
      "        6    0.000    0.000    0.383    0.064 /scratch/yk1962/miniconda3/envs/pytorch3d/lib/python3.8/site-packages/numpy/lib/format.py:611(write_array)\n",
      "        6    0.380    0.063    0.380    0.063 {method 'tofile' of 'numpy.ndarray' objects}\n",
      "      125    0.371    0.003    0.371    0.003 {method 'format' of 'str' objects}\n",
      "       13    0.153    0.012    0.153    0.012 {built-in method builtins.min}\n",
      "        3    0.002    0.001    0.151    0.050 /scratch/yk1962/miniconda3/envs/pytorch3d/lib/python3.8/site-packages/trimesh/exchange/obj.py:504(_parse_vertices)\n",
      "       23    0.149    0.006    0.149    0.006 {built-in method builtins.max}\n",
      "       32    0.130    0.004    0.130    0.004 {built-in method io.open}\n",
      "        9    0.098    0.011    0.098    0.011 {built-in method numpy.fromstring}\n",
      "        6    0.000    0.000    0.073    0.012 /scratch/yk1962/miniconda3/envs/pytorch3d/lib/python3.8/subprocess.py:736(__init__)\n",
      "        9    0.073    0.008    0.073    0.008 {method 'read' of '_io.BufferedReader' objects}\n",
      "        6    0.001    0.000    0.072    0.012 /scratch/yk1962/miniconda3/envs/pytorch3d/lib/python3.8/subprocess.py:1554(_execute_child)\n",
      "   315974    0.060    0.000    0.060    0.000 {method 'split' of 'str' objects}\n",
      "        3    0.002    0.001    0.055    0.018 /scratch/yk1962/miniconda3/envs/pytorch3d/lib/python3.8/site-packages/trimesh/exchange/obj.py:550(<dictcomp>)\n",
      "        6    0.000    0.000    0.053    0.009 /scratch/yk1962/miniconda3/envs/pytorch3d/lib/python3.8/site-packages/trimesh/grouping.py:401(unique_rows)\n",
      "        6    0.000    0.000    0.047    0.008 <__array_function__ internals>:2(unique)\n",
      "        6    0.000    0.000    0.047    0.008 /scratch/yk1962/miniconda3/envs/pytorch3d/lib/python3.8/site-packages/numpy/lib/arraysetops.py:149(unique)\n",
      "        6    0.007    0.001    0.047    0.008 /scratch/yk1962/miniconda3/envs/pytorch3d/lib/python3.8/site-packages/numpy/lib/arraysetops.py:309(_unique1d)\n",
      "    18/15    0.000    0.000    0.047    0.003 /scratch/yk1962/miniconda3/envs/pytorch3d/lib/python3.8/site-packages/trimesh/caching.py:82(get_cached)\n",
      "        3    0.005    0.002    0.046    0.015 /scratch/yk1962/miniconda3/envs/pytorch3d/lib/python3.8/site-packages/trimesh/visual/texture.py:216(unmerge_faces)\n",
      "       42    0.046    0.001    0.046    0.001 {method 'find' of 'str' objects}\n",
      "       30    0.043    0.001    0.043    0.001 {built-in method numpy.zeros}\n",
      "     4937    0.041    0.000    0.041    0.000 {built-in method posix.read}\n",
      "        9    0.040    0.004    0.040    0.004 {method 'argsort' of 'numpy.ndarray' objects}\n",
      "       39    0.000    0.000    0.039    0.001 /scratch/yk1962/miniconda3/envs/pytorch3d/lib/python3.8/site-packages/numpy/core/fromnumeric.py:52(_wrapfunc)\n",
      "        6    0.000    0.000    0.039    0.006 /scratch/yk1962/miniconda3/envs/pytorch3d/lib/python3.8/site-packages/trimesh/voxel/base.py:263(matrix)\n",
      "        6    0.000    0.000    0.039    0.006 /scratch/yk1962/miniconda3/envs/pytorch3d/lib/python3.8/site-packages/trimesh/voxel/encoding.py:783(dense)\n",
      "        6    0.000    0.000    0.038    0.006 /scratch/yk1962/miniconda3/envs/pytorch3d/lib/python3.8/site-packages/trimesh/voxel/encoding.py:515(dense)\n",
      "        6    0.000    0.000    0.038    0.006 /scratch/yk1962/miniconda3/envs/pytorch3d/lib/python3.8/site-packages/trimesh/voxel/runlength.py:236(rle_to_dense)\n",
      "        6    0.000    0.000    0.037    0.006 <__array_function__ internals>:2(repeat)\n",
      "        6    0.000    0.000    0.037    0.006 /scratch/yk1962/miniconda3/envs/pytorch3d/lib/python3.8/site-packages/numpy/core/fromnumeric.py:437(repeat)\n",
      "        6    0.037    0.006    0.037    0.006 {method 'repeat' of 'numpy.ndarray' objects}\n",
      "        3    0.000    0.000    0.037    0.012 /scratch/yk1962/miniconda3/envs/pytorch3d/lib/python3.8/site-packages/trimesh/exchange/load.py:383(load_kwargs)\n",
      "        6    0.022    0.004    0.037    0.006 /scratch/yk1962/miniconda3/envs/pytorch3d/lib/python3.8/site-packages/trimesh/exchange/obj.py:550(<listcomp>)\n",
      "        3    0.000    0.000    0.037    0.012 /scratch/yk1962/miniconda3/envs/pytorch3d/lib/python3.8/site-packages/trimesh/exchange/load.py:417(handle_mesh)\n",
      "        3    0.000    0.000    0.037    0.012 /scratch/yk1962/miniconda3/envs/pytorch3d/lib/python3.8/site-packages/trimesh/base.py:51(__init__)\n",
      "        6    0.036    0.006    0.036    0.006 {built-in method _posixsubprocess.fork_exec}\n",
      "        3    0.021    0.007    0.036    0.012 /scratch/yk1962/miniconda3/envs/pytorch3d/lib/python3.8/site-packages/trimesh/exchange/obj.py:136(<listcomp>)\n",
      "        3    0.000    0.000    0.035    0.012 /scratch/yk1962/miniconda3/envs/pytorch3d/lib/python3.8/site-packages/trimesh/base.py:198(process)\n",
      "        3    0.001    0.000    0.035    0.012 /scratch/yk1962/miniconda3/envs/pytorch3d/lib/python3.8/site-packages/trimesh/exchange/obj.py:645(_preprocess_faces)\n",
      "        3    0.000    0.000    0.030    0.010 /scratch/yk1962/miniconda3/envs/pytorch3d/lib/python3.8/site-packages/trimesh/base.py:1092(merge_vertices)\n",
      "        3    0.004    0.001    0.030    0.010 /scratch/yk1962/miniconda3/envs/pytorch3d/lib/python3.8/site-packages/trimesh/grouping.py:23(merge_vertices)\n",
      "       26    0.024    0.001    0.024    0.001 {method 'replace' of 'str' objects}\n",
      "        3    0.000    0.000    0.019    0.006 <__array_function__ internals>:2(where)\n",
      "        3    0.000    0.000    0.012    0.004 /scratch/yk1962/miniconda3/envs/pytorch3d/lib/python3.8/site-packages/trimesh/exchange/obj.py:531(<dictcomp>)\n",
      "        3    0.000    0.000    0.011    0.004 /scratch/yk1962/miniconda3/envs/pytorch3d/lib/python3.8/site-packages/trimesh/exchange/obj.py:539(<dictcomp>)\n",
      "       21    0.011    0.001    0.011    0.001 {method 'rfind' of 'str' objects}\n",
      "        4    0.011    0.003    0.011    0.003 {built-in method posix.listdir}\n",
      "       69    0.009    0.000    0.009    0.000 {method 'reduce' of 'numpy.ufunc' objects}\n",
      "      179    0.009    0.000    0.009    0.000 {built-in method numpy.array}\n",
      "        5    0.000    0.000    0.008    0.002 /scratch/yk1962/miniconda3/envs/pytorch3d/lib/python3.8/site-packages/trimesh/util.py:2109(write_encoded)\n",
      "        3    0.002    0.001    0.007    0.002 /scratch/yk1962/miniconda3/envs/pytorch3d/lib/python3.8/site-packages/trimesh/base.py:521(bounds)\n",
      "        6    0.006    0.001    0.006    0.001 /scratch/yk1962/miniconda3/envs/pytorch3d/lib/python3.8/site-packages/trimesh/base.py:1120(update_vertices)\n",
      "       36    0.006    0.000    0.006    0.000 {method 'join' of 'str' objects}\n",
      "       11    0.000    0.000    0.006    0.001 <__array_function__ internals>:2(column_stack)\n",
      "       11    0.000    0.000    0.006    0.001 /scratch/yk1962/miniconda3/envs/pytorch3d/lib/python3.8/site-packages/numpy/lib/shape_base.py:612(column_stack)\n",
      "        6    0.003    0.000    0.006    0.001 /scratch/yk1962/miniconda3/envs/pytorch3d/lib/python3.8/site-packages/trimesh/grouping.py:146(hashable_rows)\n",
      "       11    0.000    0.000    0.006    0.001 <__array_function__ internals>:2(concatenate)\n",
      "        6    0.000    0.000    0.005    0.001 /scratch/yk1962/miniconda3/envs/pytorch3d/lib/python3.8/site-packages/trimesh/exchange/binvox.py:216(load_binvox)\n",
      "        5    0.000    0.000    0.005    0.001 /scratch/yk1962/miniconda3/envs/pytorch3d/lib/python3.8/site-packages/tqdm/std.py:1461(display)\n",
      "        4    0.000    0.000    0.004    0.001 /scratch/yk1962/miniconda3/envs/pytorch3d/lib/python3.8/site-packages/tqdm/std.py:1157(__iter__)\n",
      "        5    0.004    0.001    0.004    0.001 {method 'flush' of '_io.BufferedWriter' objects}\n",
      "        4    0.000    0.000    0.004    0.001 /scratch/yk1962/miniconda3/envs/pytorch3d/lib/python3.8/site-packages/tqdm/std.py:1322(refresh)\n",
      "       12    0.004    0.000    0.004    0.000 {method 'decode' of 'bytes' objects}\n",
      "        3    0.000    0.000    0.004    0.001 /scratch/yk1962/miniconda3/envs/pytorch3d/lib/python3.8/site-packages/trimesh/util.py:2357(decode_text)\n",
      "        6    0.001    0.000    0.004    0.001 /scratch/yk1962/miniconda3/envs/pytorch3d/lib/python3.8/site-packages/trimesh/exchange/binvox.py:156(voxel_from_binvox)\n",
      "        5    0.000    0.000    0.004    0.001 /scratch/yk1962/miniconda3/envs/pytorch3d/lib/python3.8/site-packages/tqdm/std.py:346(print_status)\n",
      "        3    0.000    0.000    0.004    0.001 /scratch/yk1962/miniconda3/envs/pytorch3d/lib/python3.8/site-packages/trimesh/base.py:1238(remove_infinite_values)\n",
      "       12    0.000    0.000    0.004    0.000 /scratch/yk1962/miniconda3/envs/pytorch3d/lib/python3.8/site-packages/tqdm/utils.py:140(inner)\n",
      "        5    0.000    0.000    0.004    0.001 /scratch/yk1962/miniconda3/envs/pytorch3d/lib/python3.8/site-packages/tqdm/std.py:340(fp_write)\n",
      "        3    0.000    0.000    0.004    0.001 /scratch/yk1962/miniconda3/envs/pytorch3d/lib/python3.8/site-packages/tqdm/std.py:1195(update)\n",
      "       17    0.004    0.000    0.004    0.000 {method 'astype' of 'numpy.ndarray' objects}\n",
      "       12    0.000    0.000    0.003    0.000 {method 'all' of 'numpy.ndarray' objects}\n",
      "       12    0.000    0.000    0.003    0.000 /scratch/yk1962/miniconda3/envs/pytorch3d/lib/python3.8/site-packages/numpy/core/_methods.py:56(_all)\n",
      "       18    0.003    0.000    0.003    0.000 {method 'strip' of 'str' objects}\n",
      "        3    0.003    0.001    0.003    0.001 /scratch/yk1962/miniconda3/envs/pytorch3d/lib/python3.8/site-packages/trimesh/exchange/obj.py:356(_parse_faces_vectorized)\n",
      "        6    0.000    0.000    0.003    0.000 {method 'max' of 'numpy.ndarray' objects}\n",
      "        6    0.000    0.000    0.003    0.000 /scratch/yk1962/miniconda3/envs/pytorch3d/lib/python3.8/site-packages/numpy/core/_methods.py:37(_amax)\n",
      "       10    0.000    0.000    0.003    0.000 <__array_function__ internals>:2(tile)\n",
      "        5    0.000    0.000    0.003    0.001 /share/apps/python/3.8.6/intel/lib/python3.8/site-packages/ipykernel/iostream.py:337(flush)\n",
      "       10    0.000    0.000    0.003    0.000 /scratch/yk1962/miniconda3/envs/pytorch3d/lib/python3.8/site-packages/numpy/lib/shape_base.py:1171(tile)\n",
      "       59    0.002    0.000    0.002    0.000 {method 'reshape' of 'numpy.ndarray' objects}\n",
      "        5    0.000    0.000    0.002    0.000 /scratch/yk1962/miniconda3/envs/pytorch3d/lib/python3.8/threading.py:540(wait)\n",
      "        5    0.000    0.000    0.002    0.000 /scratch/yk1962/miniconda3/envs/pytorch3d/lib/python3.8/threading.py:270(wait)\n",
      "       61    0.002    0.000    0.002    0.000 {method 'acquire' of '_thread.lock' objects}\n",
      "        6    0.000    0.000    0.002    0.000 /scratch/yk1962/miniconda3/envs/pytorch3d/lib/python3.8/site-packages/numpy/lib/format.py:403(_write_array_header)\n",
      "        3    0.000    0.000    0.002    0.001 {method 'min' of 'numpy.ndarray' objects}\n",
      "        3    0.000    0.000    0.002    0.001 /scratch/yk1962/miniconda3/envs/pytorch3d/lib/python3.8/site-packages/numpy/core/_methods.py:41(_amin)\n",
      "       38    0.000    0.000    0.002    0.000 {built-in method builtins.sum}\n",
      "       11    0.002    0.000    0.002    0.000 {method 'write' of '_io.BufferedWriter' objects}\n",
      "        6    0.000    0.000    0.002    0.000 /scratch/yk1962/miniconda3/envs/pytorch3d/lib/python3.8/site-packages/numpy/lib/format.py:523(_filter_header)\n",
      "       27    0.000    0.000    0.002    0.000 /scratch/yk1962/miniconda3/envs/pytorch3d/lib/python3.8/site-packages/trimesh/caching.py:654(fast_hash)\n",
      "     4931    0.001    0.000    0.002    0.000 /scratch/yk1962/miniconda3/envs/pytorch3d/lib/python3.8/selectors.py:66(__len__)\n",
      "       42    0.002    0.000    0.002    0.000 /scratch/yk1962/miniconda3/envs/pytorch3d/lib/python3.8/site-packages/trimesh/caching.py:205(_xxhash)\n",
      "        6    0.000    0.000    0.002    0.000 <__array_function__ internals>:2(cumsum)\n",
      "       63    0.000    0.000    0.002    0.000 /scratch/yk1962/miniconda3/envs/pytorch3d/lib/python3.8/site-packages/trimesh/caching.py:664(<genexpr>)\n",
      "       19    0.000    0.000    0.002    0.000 /share/apps/python/3.8.6/intel/lib/python3.8/site-packages/ipykernel/iostream.py:386(write)\n",
      "        6    0.000    0.000    0.002    0.000 /scratch/yk1962/miniconda3/envs/pytorch3d/lib/python3.8/site-packages/numpy/core/fromnumeric.py:2418(cumsum)\n",
      "       12    0.002    0.000    0.002    0.000 {method 'cumsum' of 'numpy.ndarray' objects}\n",
      "       36    0.000    0.000    0.001    0.000 /share/apps/python/3.8.6/intel/lib/python3.8/site-packages/ipykernel/iostream.py:197(schedule)\n",
      "       33    0.000    0.000    0.001    0.000 /scratch/yk1962/miniconda3/envs/pytorch3d/lib/python3.8/site-packages/trimesh/caching.py:370(__init__)\n",
      "        3    0.000    0.000    0.001    0.000 /scratch/yk1962/miniconda3/envs/pytorch3d/lib/python3.8/site-packages/trimesh/exchange/load.py:484(parse_file_args)\n",
      "        6    0.000    0.000    0.001    0.000 /scratch/yk1962/miniconda3/envs/pytorch3d/lib/python3.8/site-packages/trimesh/grouping.py:202(float_to_int)\n",
      "      138    0.000    0.000    0.001    0.000 /scratch/yk1962/miniconda3/envs/pytorch3d/lib/python3.8/tokenize.py:429(_tokenize)\n",
      "       19    0.001    0.000    0.001    0.000 {method 'encode' of 'str' objects}\n",
      "       36    0.001    0.000    0.001    0.000 /share/apps/python/3.8.6/intel/lib/python3.8/site-packages/zmq/sugar/socket.py:357(send)\n",
      "        6    0.000    0.000    0.001    0.000 /scratch/yk1962/miniconda3/envs/pytorch3d/lib/python3.8/subprocess.py:1101(_close_pipe_fds)\n",
      "        6    0.000    0.000    0.001    0.000 /scratch/yk1962/miniconda3/envs/pytorch3d/lib/python3.8/site-packages/trimesh/voxel/encoding.py:131(reshape)\n",
      "        3    0.001    0.000    0.001    0.000 /scratch/yk1962/miniconda3/envs/pytorch3d/lib/python3.8/site-packages/trimesh/base.py:1043(referenced_vertices)\n",
      "       27    0.001    0.000    0.001    0.000 {built-in method posix.stat}\n",
      "        6    0.000    0.000    0.001    0.000 /scratch/yk1962/miniconda3/envs/pytorch3d/lib/python3.8/site-packages/trimesh/voxel/encoding.py:743(__init__)\n",
      "        6    0.000    0.000    0.001    0.000 /scratch/yk1962/miniconda3/envs/pytorch3d/lib/python3.8/site-packages/trimesh/exchange/binvox.py:68(parse_binvox)\n",
      "       36    0.000    0.000    0.001    0.000 /scratch/yk1962/miniconda3/envs/pytorch3d/lib/python3.8/site-packages/numpy/core/fromnumeric.py:70(_wrapreduction)\n",
      "    10289    0.001    0.000    0.001    0.000 {method 'append' of 'list' objects}\n",
      "       19    0.000    0.000    0.001    0.000 /share/apps/python/3.8.6/intel/lib/python3.8/site-packages/ipykernel/iostream.py:323(_schedule_flush)\n",
      "        6    0.000    0.000    0.001    0.000 /scratch/yk1962/miniconda3/envs/pytorch3d/lib/python3.8/site-packages/trimesh/voxel/base.py:27(__init__)\n",
      "        3    0.000    0.000    0.001    0.000 /scratch/yk1962/miniconda3/envs/pytorch3d/lib/python3.8/site-packages/trimesh/visual/objects.py:15(create_visual)\n",
      "        3    0.000    0.000    0.001    0.000 /scratch/yk1962/miniconda3/envs/pytorch3d/lib/python3.8/site-packages/trimesh/visual/color.py:42(__init__)\n",
      "        6    0.000    0.000    0.001    0.000 /scratch/yk1962/miniconda3/envs/pytorch3d/lib/python3.8/site-packages/trimesh/base.py:482(vertex_normals)\n",
      "        1    0.000    0.000    0.001    0.001 /scratch/yk1962/miniconda3/envs/pytorch3d/lib/python3.8/site-packages/tqdm/std.py:842(__init__)\n",
      "     4931    0.001    0.000    0.001    0.000 /scratch/yk1962/miniconda3/envs/pytorch3d/lib/python3.8/selectors.py:275(_key_from_fd)\n",
      "        3    0.000    0.000    0.001    0.000 /scratch/yk1962/miniconda3/envs/pytorch3d/lib/python3.8/site-packages/trimesh/visual/color.py:135(crc)\n",
      "        6    0.000    0.000    0.001    0.000 /scratch/yk1962/miniconda3/envs/pytorch3d/lib/python3.8/site-packages/trimesh/base.py:263(crc)\n",
      "        3    0.000    0.000    0.001    0.000 /scratch/yk1962/miniconda3/envs/pytorch3d/lib/python3.8/site-packages/trimesh/caching.py:505(__exit__)\n",
      "        3    0.001    0.000    0.001    0.000 {method 'round' of 'numpy.ndarray' objects}\n",
      "        3    0.000    0.000    0.001    0.000 /scratch/yk1962/miniconda3/envs/pytorch3d/lib/python3.8/genericpath.py:27(isfile)\n",
      "        6    0.000    0.000    0.001    0.000 /scratch/yk1962/miniconda3/envs/pytorch3d/lib/python3.8/site-packages/trimesh/transformations.py:2180(scale_and_translate)\n",
      "        6    0.000    0.000    0.001    0.000 {method 'ptp' of 'numpy.ndarray' objects}\n",
      "        6    0.000    0.000    0.001    0.000 /scratch/yk1962/miniconda3/envs/pytorch3d/lib/python3.8/site-packages/numpy/core/_methods.py:245(_ptp)\n",
      "        5    0.000    0.000    0.001    0.000 /scratch/yk1962/miniconda3/envs/pytorch3d/lib/python3.8/site-packages/tqdm/std.py:1147(__str__)\n",
      "        1    0.000    0.000    0.001    0.001 /scratch/yk1962/miniconda3/envs/pytorch3d/lib/python3.8/site-packages/tqdm/std.py:1262(close)\n",
      "        6    0.000    0.000    0.001    0.000 /scratch/yk1962/miniconda3/envs/pytorch3d/lib/python3.8/site-packages/trimesh/voxel/encoding.py:423(__init__)\n",
      "       18    0.000    0.000    0.001    0.000 <__array_function__ internals>:2(prod)\n",
      "     4931    0.001    0.000    0.001    0.000 /scratch/yk1962/miniconda3/envs/pytorch3d/lib/python3.8/selectors.py:272(get_map)\n",
      "       18    0.000    0.000    0.001    0.000 /scratch/yk1962/miniconda3/envs/pytorch3d/lib/python3.8/subprocess.py:1078(wait)\n",
      "     5469    0.001    0.000    0.001    0.000 {built-in method builtins.len}\n",
      "        6    0.000    0.000    0.001    0.000 /scratch/yk1962/miniconda3/envs/pytorch3d/lib/python3.8/site-packages/trimesh/voxel/encoding.py:493(size)\n",
      "        9    0.001    0.000    0.001    0.000 {method 'copy' of 'numpy.ndarray' objects}\n",
      "        6    0.001    0.000    0.001    0.000 {method 'flatten' of 'numpy.ndarray' objects}\n",
      "       18    0.000    0.000    0.001    0.000 /scratch/yk1962/miniconda3/envs/pytorch3d/lib/python3.8/subprocess.py:1776(_wait)\n",
      "       18    0.000    0.000    0.000    0.000 /scratch/yk1962/miniconda3/envs/pytorch3d/lib/python3.8/site-packages/numpy/core/fromnumeric.py:2881(prod)\n",
      "        6    0.000    0.000    0.000    0.000 /scratch/yk1962/miniconda3/envs/pytorch3d/lib/python3.8/site-packages/trimesh/exchange/binvox.py:24(parse_binvox_header)\n",
      "       18    0.000    0.000    0.000    0.000 /scratch/yk1962/miniconda3/envs/pytorch3d/lib/python3.8/genericpath.py:16(exists)\n",
      "        6    0.000    0.000    0.000    0.000 /scratch/yk1962/miniconda3/envs/pytorch3d/lib/python3.8/site-packages/trimesh/voxel/runlength.py:52(rle_length)\n",
      "     4925    0.000    0.000    0.000    0.000 /scratch/yk1962/miniconda3/envs/pytorch3d/lib/python3.8/subprocess.py:1066(_check_timeout)\n",
      "        5    0.000    0.000    0.000    0.000 /scratch/yk1962/miniconda3/envs/pytorch3d/lib/python3.8/site-packages/tqdm/std.py:353(format_meter)\n",
      "     4937    0.000    0.000    0.000    0.000 /scratch/yk1962/miniconda3/envs/pytorch3d/lib/python3.8/subprocess.py:1058(_remaining_time)\n",
      "        6    0.000    0.000    0.000    0.000 <__array_function__ internals>:2(sum)\n",
      "      120    0.000    0.000    0.000    0.000 /scratch/yk1962/miniconda3/envs/pytorch3d/lib/python3.8/tokenize.py:98(_compile)\n",
      "        6    0.000    0.000    0.000    0.000 <__array_function__ internals>:2(split)\n",
      "        6    0.000    0.000    0.000    0.000 /scratch/yk1962/miniconda3/envs/pytorch3d/lib/python3.8/site-packages/numpy/core/fromnumeric.py:2105(sum)\n",
      "        6    0.000    0.000    0.000    0.000 <__array_function__ internals>:2(product)\n",
      "       36    0.000    0.000    0.000    0.000 /scratch/yk1962/miniconda3/envs/pytorch3d/lib/python3.8/site-packages/trimesh/caching.py:182(crc)\n",
      "        6    0.000    0.000    0.000    0.000 /scratch/yk1962/miniconda3/envs/pytorch3d/lib/python3.8/site-packages/numpy/lib/shape_base.py:799(split)\n",
      "        6    0.000    0.000    0.000    0.000 /scratch/yk1962/miniconda3/envs/pytorch3d/lib/python3.8/subprocess.py:1763(_try_wait)\n",
      "        5    0.000    0.000    0.000    0.000 /scratch/yk1962/miniconda3/envs/pytorch3d/lib/python3.8/site-packages/numpy/core/numeric.py:144(ones)\n",
      "        6    0.000    0.000    0.000    0.000 {built-in method posix.waitpid}\n",
      "        6    0.000    0.000    0.000    0.000 /scratch/yk1962/miniconda3/envs/pytorch3d/lib/python3.8/subprocess.py:1461(_get_handles)\n",
      "       12    0.000    0.000    0.000    0.000 /scratch/yk1962/miniconda3/envs/pytorch3d/lib/python3.8/contextlib.py:429(callback)\n",
      "        6    0.000    0.000    0.000    0.000 <__array_function__ internals>:2(array_split)\n",
      "       18    0.000    0.000    0.000    0.000 {built-in method posix.pipe}\n",
      "        6    0.000    0.000    0.000    0.000 /scratch/yk1962/miniconda3/envs/pytorch3d/lib/python3.8/site-packages/numpy/core/fromnumeric.py:3640(product)\n",
      "       18    0.000    0.000    0.000    0.000 {built-in method zlib.adler32}\n",
      "       27    0.000    0.000    0.000    0.000 {method 'close' of '_io.BufferedReader' objects}\n",
      "        6    0.000    0.000    0.000    0.000 /scratch/yk1962/miniconda3/envs/pytorch3d/lib/python3.8/site-packages/numpy/lib/shape_base.py:739(array_split)\n",
      "       12    0.000    0.000    0.000    0.000 /scratch/yk1962/miniconda3/envs/pytorch3d/lib/python3.8/site-packages/trimesh/voxel/encoding.py:37(__init__)\n",
      "        6    0.000    0.000    0.000    0.000 {method 'sum' of 'numpy.ndarray' objects}\n",
      "        1    0.000    0.000    0.000    0.000 {built-in method builtins.print}\n",
      "        6    0.000    0.000    0.000    0.000 /scratch/yk1962/miniconda3/envs/pytorch3d/lib/python3.8/site-packages/trimesh/voxel/transforms.py:17(__init__)\n",
      "      120    0.000    0.000    0.000    0.000 /scratch/yk1962/miniconda3/envs/pytorch3d/lib/python3.8/re.py:250(compile)\n",
      "       79    0.000    0.000    0.000    0.000 /scratch/yk1962/miniconda3/envs/pytorch3d/lib/python3.8/site-packages/numpy/core/_asarray.py:86(asanyarray)\n",
      "        5    0.000    0.000    0.000    0.000 <__array_function__ internals>:2(copyto)\n",
      "        6    0.000    0.000    0.000    0.000 /scratch/yk1962/miniconda3/envs/pytorch3d/lib/python3.8/site-packages/numpy/core/_methods.py:45(_sum)\n",
      "       55    0.000    0.000    0.000    0.000 /scratch/yk1962/miniconda3/envs/pytorch3d/lib/python3.8/site-packages/trimesh/base.py:427(vertices)\n",
      "       30    0.000    0.000    0.000    0.000 /scratch/yk1962/miniconda3/envs/pytorch3d/lib/python3.8/site-packages/trimesh/caching.py:398(verify)\n",
      "        6    0.000    0.000    0.000    0.000 <__array_function__ internals>:2(any)\n",
      "      120    0.000    0.000    0.000    0.000 /scratch/yk1962/miniconda3/envs/pytorch3d/lib/python3.8/re.py:289(_compile)\n",
      "        3    0.000    0.000    0.000    0.000 /scratch/yk1962/miniconda3/envs/pytorch3d/lib/python3.8/site-packages/trimesh/util.py:2144(unique_id)\n",
      "        6    0.000    0.000    0.000    0.000 /scratch/yk1962/miniconda3/envs/pytorch3d/lib/python3.8/tokenize.py:257(untokenize)\n",
      "       30    0.000    0.000    0.000    0.000 {method 'readline' of '_io.BufferedReader' objects}\n",
      "      389    0.000    0.000    0.000    0.000 {built-in method builtins.hasattr}\n",
      "      585    0.000    0.000    0.000    0.000 {built-in method builtins.isinstance}\n",
      "       21    0.000    0.000    0.000    0.000 /scratch/yk1962/miniconda3/envs/pytorch3d/lib/python3.8/site-packages/trimesh/caching.py:33(tracked_array)\n",
      "      127    0.000    0.000    0.000    0.000 {built-in method numpy.empty}\n",
      "        6    0.000    0.000    0.000    0.000 /scratch/yk1962/miniconda3/envs/pytorch3d/lib/python3.8/site-packages/trimesh/caching.py:641(crc)\n",
      "      120    0.000    0.000    0.000    0.000 {method 'match' of 're.Pattern' objects}\n",
      "       27    0.000    0.000    0.000    0.000 /scratch/yk1962/miniconda3/envs/pytorch3d/lib/python3.8/site-packages/trimesh/caching.py:592(__setitem__)\n",
      "        6    0.000    0.000    0.000    0.000 /scratch/yk1962/miniconda3/envs/pytorch3d/lib/python3.8/tokenize.py:183(untokenize)\n",
      "       12    0.000    0.000    0.000    0.000 /scratch/yk1962/miniconda3/envs/pytorch3d/lib/python3.8/selectors.py:351(register)\n",
      "       12    0.000    0.000    0.000    0.000 {method 'join' of 'bytes' objects}\n",
      "       18    0.000    0.000    0.000    0.000 /scratch/yk1962/miniconda3/envs/pytorch3d/lib/python3.8/site-packages/trimesh/caching.py:651(<genexpr>)\n",
      "        6    0.000    0.000    0.000    0.000 /scratch/yk1962/miniconda3/envs/pytorch3d/lib/python3.8/site-packages/numpy/core/fromnumeric.py:2249(any)\n",
      "      174    0.000    0.000    0.000    0.000 /scratch/yk1962/miniconda3/envs/pytorch3d/lib/python3.8/site-packages/trimesh/caching.py:136(__array_finalize__)\n",
      "        6    0.000    0.000    0.000    0.000 /scratch/yk1962/miniconda3/envs/pytorch3d/lib/python3.8/contextlib.py:482(__exit__)\n",
      "       12    0.000    0.000    0.000    0.000 /scratch/yk1962/miniconda3/envs/pytorch3d/lib/python3.8/site-packages/trimesh/voxel/encoding.py:459(crc)\n",
      "        6    0.000    0.000    0.000    0.000 /scratch/yk1962/miniconda3/envs/pytorch3d/lib/python3.8/site-packages/trimesh/voxel/encoding.py:124(crc)\n",
      "       15    0.000    0.000    0.000    0.000 /scratch/yk1962/miniconda3/envs/pytorch3d/lib/python3.8/site-packages/trimesh/base.py:1559(is_empty)\n",
      "        5    0.000    0.000    0.000    0.000 /scratch/yk1962/miniconda3/envs/pytorch3d/lib/python3.8/site-packages/tqdm/utils.py:324(disp_len)\n",
      "       12    0.000    0.000    0.000    0.000 /scratch/yk1962/miniconda3/envs/pytorch3d/lib/python3.8/selectors.py:365(unregister)\n",
      "       12    0.000    0.000    0.000    0.000 /scratch/yk1962/miniconda3/envs/pytorch3d/lib/python3.8/selectors.py:234(register)\n",
      "        9    0.000    0.000    0.000    0.000 /scratch/yk1962/miniconda3/envs/pytorch3d/lib/python3.8/site-packages/trimesh/base.py:444(vertices)\n",
      "       55    0.000    0.000    0.000    0.000 /scratch/yk1962/miniconda3/envs/pytorch3d/lib/python3.8/site-packages/trimesh/base.py:278(faces)\n",
      "       15    0.000    0.000    0.000    0.000 /scratch/yk1962/miniconda3/envs/pytorch3d/lib/python3.8/site-packages/trimesh/caching.py:562(is_empty)\n",
      "        3    0.000    0.000    0.000    0.000 /scratch/yk1962/miniconda3/envs/pytorch3d/lib/python3.8/site-packages/trimesh/base.py:1185(update_faces)\n",
      "        5    0.000    0.000    0.000    0.000 /scratch/yk1962/miniconda3/envs/pytorch3d/lib/python3.8/site-packages/tqdm/utils.py:320(_text_width)\n",
      "        6    0.000    0.000    0.000    0.000 /scratch/yk1962/miniconda3/envs/pytorch3d/lib/python3.8/site-packages/numpy/lib/format.py:379(_wrap_header_guess_version)\n",
      "        2    0.000    0.000    0.000    0.000 /scratch/yk1962/miniconda3/envs/pytorch3d/lib/python3.8/codeop.py:142(__call__)\n",
      "        9    0.000    0.000    0.000    0.000 /scratch/yk1962/miniconda3/envs/pytorch3d/lib/python3.8/site-packages/numpy/core/_dtype.py:321(_name_get)\n",
      "        6    0.000    0.000    0.000    0.000 /scratch/yk1962/miniconda3/envs/pytorch3d/lib/python3.8/site-packages/numpy/lib/format.py:354(_wrap_header)\n",
      "       39    0.000    0.000    0.000    0.000 /scratch/yk1962/miniconda3/envs/pytorch3d/lib/python3.8/site-packages/trimesh/util.py:249(is_sequence)\n",
      "        2    0.000    0.000    0.000    0.000 {built-in method builtins.compile}\n",
      "        6    0.000    0.000    0.000    0.000 /scratch/yk1962/miniconda3/envs/pytorch3d/lib/python3.8/site-packages/numpy/lib/format.py:326(header_data_from_array_1_0)\n",
      "       24    0.000    0.000    0.000    0.000 /scratch/yk1962/miniconda3/envs/pytorch3d/lib/python3.8/selectors.py:215(_fileobj_lookup)\n",
      "       12    0.000    0.000    0.000    0.000 /scratch/yk1962/miniconda3/envs/pytorch3d/lib/python3.8/posixpath.py:71(join)\n",
      "       18    0.000    0.000    0.000    0.000 <__array_function__ internals>:2(swapaxes)\n",
      "      120    0.000    0.000    0.000    0.000 /scratch/yk1962/miniconda3/envs/pytorch3d/lib/python3.8/types.py:171(__get__)\n",
      "       12    0.000    0.000    0.000    0.000 /scratch/yk1962/miniconda3/envs/pytorch3d/lib/python3.8/selectors.py:247(unregister)\n",
      "       24    0.000    0.000    0.000    0.000 /scratch/yk1962/miniconda3/envs/pytorch3d/lib/python3.8/selectors.py:21(_fileobj_to_fd)\n",
      "      222    0.000    0.000    0.000    0.000 /scratch/yk1962/miniconda3/envs/pytorch3d/lib/python3.8/site-packages/tqdm/utils.py:321(<genexpr>)\n",
      "        6    0.000    0.000    0.000    0.000 /scratch/yk1962/miniconda3/envs/pytorch3d/lib/python3.8/selectors.py:347(__init__)\n",
      "        3    0.000    0.000    0.000    0.000 /scratch/yk1962/miniconda3/envs/pytorch3d/lib/python3.8/site-packages/trimesh/resolvers.py:45(__init__)\n",
      "        6    0.000    0.000    0.000    0.000 {built-in method numpy.arange}\n",
      "       12    0.000    0.000    0.000    0.000 /scratch/yk1962/miniconda3/envs/pytorch3d/lib/python3.8/posixpath.py:150(dirname)\n",
      "       24    0.000    0.000    0.000    0.000 /scratch/yk1962/miniconda3/envs/pytorch3d/lib/python3.8/abc.py:96(__instancecheck__)\n",
      "      110    0.000    0.000    0.000    0.000 /scratch/yk1962/miniconda3/envs/pytorch3d/lib/python3.8/_collections_abc.py:657(get)\n",
      "        6    0.000    0.000    0.000    0.000 /scratch/yk1962/miniconda3/envs/pytorch3d/lib/python3.8/site-packages/trimesh/base.py:294(faces)\n",
      "        6    0.000    0.000    0.000    0.000 /scratch/yk1962/miniconda3/envs/pytorch3d/lib/python3.8/contextlib.py:385(__init__)\n",
      "        6    0.000    0.000    0.000    0.000 /scratch/yk1962/miniconda3/envs/pytorch3d/lib/python3.8/site-packages/numpy/lib/twodim_base.py:152(eye)\n",
      "       41    0.000    0.000    0.000    0.000 /scratch/yk1962/miniconda3/envs/pytorch3d/lib/python3.8/threading.py:1071(is_alive)\n",
      "       24    0.000    0.000    0.000    0.000 {built-in method posix.close}\n",
      "        6    0.000    0.000    0.000    0.000 /scratch/yk1962/miniconda3/envs/pytorch3d/lib/python3.8/site-packages/trimesh/voxel/base.py:62(encoding)\n",
      "       18    0.000    0.000    0.000    0.000 /scratch/yk1962/miniconda3/envs/pytorch3d/lib/python3.8/site-packages/numpy/core/fromnumeric.py:550(swapaxes)\n",
      "       12    0.000    0.000    0.000    0.000 /scratch/yk1962/miniconda3/envs/pytorch3d/lib/python3.8/site-packages/trimesh/util.py:283(is_shape)\n",
      "        6    0.000    0.000    0.000    0.000 {built-in method numpy.frombuffer}\n",
      "        3    0.000    0.000    0.000    0.000 <__array_function__ internals>:2(nonzero)\n",
      "        3    0.000    0.000    0.000    0.000 /scratch/yk1962/miniconda3/envs/pytorch3d/lib/python3.8/site-packages/trimesh/parent.py:62(__repr__)\n",
      "       31    0.000    0.000    0.000    0.000 {built-in method builtins.all}\n",
      "       12    0.000    0.000    0.000    0.000 <__array_function__ internals>:2(squeeze)\n",
      "       24    0.000    0.000    0.000    0.000 {method 'view' of 'numpy.ndarray' objects}\n",
      "        6    0.000    0.000    0.000    0.000 /scratch/yk1962/miniconda3/envs/pytorch3d/lib/python3.8/site-packages/numpy/lib/format.py:246(dtype_to_descr)\n",
      "        6    0.000    0.000    0.000    0.000 <__array_function__ internals>:2(reshape)\n",
      "      151    0.000    0.000    0.000    0.000 {built-in method __new__ of type object at 0x563ce6e97ac0}\n",
      "       24    0.000    0.000    0.000    0.000 {built-in method _abc._abc_instancecheck}\n",
      "       24    0.000    0.000    0.000    0.000 /scratch/yk1962/miniconda3/envs/pytorch3d/lib/python3.8/site-packages/numpy/core/_asarray.py:139(ascontiguousarray)\n",
      "        6    0.000    0.000    0.000    0.000 /scratch/yk1962/miniconda3/envs/pytorch3d/lib/python3.8/site-packages/trimesh/caching.py:473(__setitem__)\n",
      "        3    0.000    0.000    0.000    0.000 /scratch/yk1962/miniconda3/envs/pytorch3d/lib/python3.8/site-packages/numpy/core/fromnumeric.py:1816(nonzero)\n",
      "        5    0.000    0.000    0.000    0.000 /scratch/yk1962/miniconda3/envs/pytorch3d/lib/python3.8/site-packages/tqdm/std.py:1443(format_dict)\n",
      "        6    0.000    0.000    0.000    0.000 /scratch/yk1962/miniconda3/envs/pytorch3d/lib/python3.8/posixpath.py:372(abspath)\n",
      "        2    0.000    0.000    0.000    0.000 /scratch/yk1962/miniconda3/envs/pytorch3d/lib/python3.8/site-packages/tqdm/std.py:1283(fp_write)\n",
      "       80    0.000    0.000    0.000    0.000 {built-in method builtins.getattr}\n",
      "        1    0.000    0.000    0.000    0.000 /scratch/yk1962/miniconda3/envs/pytorch3d/lib/python3.8/site-packages/tqdm/std.py:560(__new__)\n",
      "        9    0.000    0.000    0.000    0.000 /scratch/yk1962/miniconda3/envs/pytorch3d/lib/python3.8/site-packages/numpy/core/_dtype.py:307(_name_includes_bit_suffix)\n",
      "        3    0.000    0.000    0.000    0.000 {method 'nonzero' of 'numpy.ndarray' objects}\n",
      "       18    0.000    0.000    0.000    0.000 {method 'swapaxes' of 'numpy.ndarray' objects}\n",
      "        6    0.000    0.000    0.000    0.000 <__array_function__ internals>:2(all)\n",
      "        6    0.000    0.000    0.000    0.000 /scratch/yk1962/miniconda3/envs/pytorch3d/lib/python3.8/site-packages/numpy/core/fromnumeric.py:199(reshape)\n",
      "       11    0.000    0.000    0.000    0.000 /scratch/yk1962/miniconda3/envs/pytorch3d/lib/python3.8/site-packages/numpy/lib/shape_base.py:608(_column_stack_dispatcher)\n",
      "       18    0.000    0.000    0.000    0.000 <frozen importlib._bootstrap>:389(parent)\n",
      "        5    0.000    0.000    0.000    0.000 /scratch/yk1962/miniconda3/envs/pytorch3d/lib/python3.8/threading.py:505(__init__)\n",
      "        3    0.000    0.000    0.000    0.000 /scratch/yk1962/miniconda3/envs/pytorch3d/lib/python3.8/site-packages/trimesh/exchange/obj.py:614(_group_by_material)\n",
      "       12    0.000    0.000    0.000    0.000 /scratch/yk1962/miniconda3/envs/pytorch3d/lib/python3.8/contextlib.py:463(_push_exit_callback)\n",
      "      126    0.000    0.000    0.000    0.000 /scratch/yk1962/miniconda3/envs/pytorch3d/lib/python3.8/tokenize.py:170(add_whitespace)\n",
      "       12    0.000    0.000    0.000    0.000 /scratch/yk1962/miniconda3/envs/pytorch3d/lib/python3.8/site-packages/numpy/core/fromnumeric.py:1428(squeeze)\n",
      "        1    0.000    0.000    0.000    0.000 /scratch/yk1962/miniconda3/envs/pytorch3d/lib/python3.8/site-packages/tqdm/utils.py:273(_screen_shape_linux)\n",
      "        3    0.000    0.000    0.000    0.000 {method 'random' of 'numpy.random.mtrand.RandomState' objects}\n",
      "       12    0.000    0.000    0.000    0.000 /scratch/yk1962/miniconda3/envs/pytorch3d/lib/python3.8/contextlib.py:379(_create_cb_wrapper)\n",
      "        3    0.000    0.000    0.000    0.000 /scratch/yk1962/miniconda3/envs/pytorch3d/lib/python3.8/base64.py:51(b64encode)\n",
      "        6    0.000    0.000    0.000    0.000 /scratch/yk1962/miniconda3/envs/pytorch3d/lib/python3.8/posixpath.py:334(normpath)\n",
      "        6    0.000    0.000    0.000    0.000 /scratch/yk1962/miniconda3/envs/pytorch3d/lib/python3.8/selectors.py:209(__init__)\n",
      "        9    0.000    0.000    0.000    0.000 /scratch/yk1962/miniconda3/envs/pytorch3d/lib/python3.8/site-packages/tqdm/std.py:289(format_interval)\n",
      "       10    0.000    0.000    0.000    0.000 /scratch/yk1962/miniconda3/envs/pytorch3d/lib/python3.8/site-packages/tqdm/utils.py:213(_is_ascii)\n",
      "       12    0.000    0.000    0.000    0.000 {built-in method builtins.sorted}\n",
      "       12    0.000    0.000    0.000    0.000 {method 'squeeze' of 'numpy.ndarray' objects}\n",
      "        6    0.000    0.000    0.000    0.000 /scratch/yk1962/miniconda3/envs/pytorch3d/lib/python3.8/site-packages/numpy/core/fromnumeric.py:2337(all)\n",
      "        1    0.000    0.000    0.000    0.000 /scratch/yk1962/miniconda3/envs/pytorch3d/lib/python3.8/site-packages/tqdm/std.py:583(_decr_instances)\n",
      "       16    0.000    0.000    0.000    0.000 /scratch/yk1962/miniconda3/envs/pytorch3d/lib/python3.8/site-packages/tqdm/std.py:234(__call__)\n",
      "        6    0.000    0.000    0.000    0.000 /scratch/yk1962/miniconda3/envs/pytorch3d/lib/python3.8/genericpath.py:39(isdir)\n",
      "       12    0.000    0.000    0.000    0.000 <frozen importlib._bootstrap>:1017(_handle_fromlist)\n",
      "      217    0.000    0.000    0.000    0.000 {built-in method unicodedata.east_asian_width}\n",
      "       18    0.000    0.000    0.000    0.000 {built-in method builtins.repr}\n",
      "       11    0.000    0.000    0.000    0.000 /scratch/yk1962/miniconda3/envs/pytorch3d/lib/python3.8/logging/__init__.py:1420(debug)\n",
      "       41    0.000    0.000    0.000    0.000 /scratch/yk1962/miniconda3/envs/pytorch3d/lib/python3.8/threading.py:1017(_wait_for_tstate_lock)\n",
      "        3    0.000    0.000    0.000    0.000 /scratch/yk1962/miniconda3/envs/pytorch3d/lib/python3.8/site-packages/trimesh/ray/ray_pyembree.py:37(__init__)\n",
      "        6    0.000    0.000    0.000    0.000 <__array_function__ internals>:2(shape)\n",
      "       19    0.000    0.000    0.000    0.000 /share/apps/python/3.8.6/intel/lib/python3.8/site-packages/ipykernel/iostream.py:310(_is_master_process)\n",
      "        5    0.000    0.000    0.000    0.000 /scratch/yk1962/miniconda3/envs/pytorch3d/lib/python3.8/threading.py:222(__init__)\n",
      "      116    0.000    0.000    0.000    0.000 /scratch/yk1962/miniconda3/envs/pytorch3d/lib/python3.8/site-packages/trimesh/caching.py:589(__getitem__)\n",
      "        8    0.000    0.000    0.000    0.000 /scratch/yk1962/miniconda3/envs/pytorch3d/lib/python3.8/site-packages/tqdm/std.py:104(acquire)\n",
      "       36    0.000    0.000    0.000    0.000 /scratch/yk1962/miniconda3/envs/pytorch3d/lib/python3.8/posixpath.py:41(_get_sep)\n",
      "       12    0.000    0.000    0.000    0.000 <string>:1(__new__)\n",
      "        6    0.000    0.000    0.000    0.000 /scratch/yk1962/miniconda3/envs/pytorch3d/lib/python3.8/site-packages/numpy/lib/format.py:236(_has_metadata)\n",
      "        3    0.000    0.000    0.000    0.000 /scratch/yk1962/miniconda3/envs/pytorch3d/lib/python3.8/site-packages/trimesh/util.py:843(decimal_to_digits)\n",
      "      120    0.000    0.000    0.000    0.000 /scratch/yk1962/miniconda3/envs/pytorch3d/lib/python3.8/enum.py:748(value)\n",
      "       24    0.000    0.000    0.000    0.000 /scratch/yk1962/miniconda3/envs/pytorch3d/lib/python3.8/site-packages/trimesh/exchange/binvox.py:61(<genexpr>)\n",
      "       13    0.000    0.000    0.000    0.000 {method 'count' of 'str' objects}\n",
      "       27    0.000    0.000    0.000    0.000 /scratch/yk1962/miniconda3/envs/pytorch3d/lib/python3.8/site-packages/trimesh/caching.py:530(mutable)\n",
      "       12    0.000    0.000    0.000    0.000 /scratch/yk1962/miniconda3/envs/pytorch3d/lib/python3.8/site-packages/trimesh/caching.py:518(__init__)\n",
      "       24    0.000    0.000    0.000    0.000 {method 'fileno' of '_io.BufferedReader' objects}\n",
      "        3    0.000    0.000    0.000    0.000 /scratch/yk1962/miniconda3/envs/pytorch3d/lib/python3.8/site-packages/numpy/core/numerictypes.py:360(issubdtype)\n",
      "        6    0.000    0.000    0.000    0.000 {built-in method sys.exc_info}\n",
      "        5    0.000    0.000    0.000    0.000 /scratch/yk1962/miniconda3/envs/pytorch3d/lib/python3.8/site-packages/tqdm/std.py:188(__format__)\n",
      "        3    0.000    0.000    0.000    0.000 {method 'extend' of 'list' objects}\n",
      "       36    0.000    0.000    0.000    0.000 /scratch/yk1962/miniconda3/envs/pytorch3d/lib/python3.8/site-packages/numpy/core/fromnumeric.py:71(<dictcomp>)\n",
      "        8    0.000    0.000    0.000    0.000 /scratch/yk1962/miniconda3/envs/pytorch3d/lib/python3.8/site-packages/tqdm/std.py:108(release)\n",
      "        6    0.000    0.000    0.000    0.000 /scratch/yk1962/miniconda3/envs/pytorch3d/lib/python3.8/selectors.py:202(__exit__)\n",
      "       53    0.000    0.000    0.000    0.000 {method 'append' of 'collections.deque' objects}\n",
      "        1    0.000    0.000    0.000    0.000 /scratch/yk1962/miniconda3/envs/pytorch3d/lib/python3.8/site-packages/tqdm/std.py:576(_get_free_pos)\n",
      "        6    0.000    0.000    0.000    0.000 /scratch/yk1962/miniconda3/envs/pytorch3d/lib/python3.8/subprocess.py:1710(_handle_exitstatus)\n",
      "       36    0.000    0.000    0.000    0.000 /share/apps/python/3.8.6/intel/lib/python3.8/site-packages/ipykernel/iostream.py:93(_event_pipe)\n",
      "       60    0.000    0.000    0.000    0.000 /scratch/yk1962/miniconda3/envs/pytorch3d/lib/python3.8/site-packages/trimesh/util.py:268(<genexpr>)\n",
      "        3    0.000    0.000    0.000    0.000 /scratch/yk1962/miniconda3/envs/pytorch3d/lib/python3.8/site-packages/trimesh/exchange/obj.py:555(<dictcomp>)\n",
      "        3    0.000    0.000    0.000    0.000 /scratch/yk1962/miniconda3/envs/pytorch3d/lib/python3.8/_weakrefset.py:58(__iter__)\n",
      "        6    0.000    0.000    0.000    0.000 /scratch/yk1962/miniconda3/envs/pytorch3d/lib/python3.8/subprocess.py:911(__exit__)\n",
      "        3    0.000    0.000    0.000    0.000 /scratch/yk1962/miniconda3/envs/pytorch3d/lib/python3.8/site-packages/trimesh/caching.py:424(clear)\n",
      "       11    0.000    0.000    0.000    0.000 /scratch/yk1962/miniconda3/envs/pytorch3d/lib/python3.8/site-packages/numpy/core/shape_base.py:208(_arrays_for_stack_dispatcher)\n",
      "        1    0.000    0.000    0.000    0.000 /scratch/yk1962/miniconda3/envs/pytorch3d/lib/python3.8/site-packages/tqdm/utils.py:153(__init__)\n",
      "        3    0.000    0.000    0.000    0.000 /scratch/yk1962/miniconda3/envs/pytorch3d/lib/python3.8/posixpath.py:100(split)\n",
      "      120    0.000    0.000    0.000    0.000 {method 'span' of 're.Match' objects}\n",
      "        6    0.000    0.000    0.000    0.000 /scratch/yk1962/miniconda3/envs/pytorch3d/lib/python3.8/subprocess.py:241(_cleanup)\n",
      "        4    0.000    0.000    0.000    0.000 /scratch/yk1962/miniconda3/envs/pytorch3d/lib/python3.8/site-packages/tqdm/std.py:112(__enter__)\n",
      "        8    0.000    0.000    0.000    0.000 /scratch/yk1962/miniconda3/envs/pytorch3d/lib/python3.8/site-packages/trimesh/util.py:188(is_pathlib)\n",
      "        5    0.000    0.000    0.000    0.000 /scratch/yk1962/miniconda3/envs/pytorch3d/lib/python3.8/site-packages/tqdm/std.py:155(__init__)\n",
      "       24    0.000    0.000    0.000    0.000 /scratch/yk1962/miniconda3/envs/pytorch3d/lib/python3.8/site-packages/trimesh/exchange/binvox.py:59(<genexpr>)\n",
      "        2    0.000    0.000    0.000    0.000 /scratch/yk1962/miniconda3/envs/pytorch3d/lib/python3.8/contextlib.py:238(helper)\n",
      "       11    0.000    0.000    0.000    0.000 /scratch/yk1962/miniconda3/envs/pytorch3d/lib/python3.8/logging/__init__.py:1685(isEnabledFor)\n",
      "       12    0.000    0.000    0.000    0.000 /scratch/yk1962/miniconda3/envs/pytorch3d/lib/python3.8/contextlib.py:381(_exit_wrapper)\n",
      "        3    0.000    0.000    0.000    0.000 /scratch/yk1962/miniconda3/envs/pytorch3d/lib/python3.8/site-packages/trimesh/visual/color.py:98(defined)\n",
      "        6    0.000    0.000    0.000    0.000 /scratch/yk1962/miniconda3/envs/pytorch3d/lib/python3.8/contextlib.py:479(__enter__)\n",
      "        6    0.000    0.000    0.000    0.000 /scratch/yk1962/miniconda3/envs/pytorch3d/lib/python3.8/os.py:800(fsencode)\n",
      "        6    0.000    0.000    0.000    0.000 /scratch/yk1962/miniconda3/envs/pytorch3d/lib/python3.8/selectors.py:268(close)\n",
      "        6    0.000    0.000    0.000    0.000 {built-in method _struct.calcsize}\n",
      "       63    0.000    0.000    0.000    0.000 {method 'values' of 'dict' objects}\n",
      "        6    0.000    0.000    0.000    0.000 /scratch/yk1962/miniconda3/envs/pytorch3d/lib/python3.8/site-packages/trimesh/voxel/base.py:53(encoding)\n",
      "       17    0.000    0.000    0.000    0.000 {method 'update' of 'dict' objects}\n",
      "        6    0.000    0.000    0.000    0.000 /scratch/yk1962/miniconda3/envs/pytorch3d/lib/python3.8/site-packages/numpy/core/numerictypes.py:286(issubclass_)\n",
      "        6    0.000    0.000    0.000    0.000 /scratch/yk1962/miniconda3/envs/pytorch3d/lib/python3.8/tokenize.py:612(generate_tokens)\n",
      "       20    0.000    0.000    0.000    0.000 {method 'intdigest' of 'xxhash.xxh64' objects}\n",
      "        6    0.000    0.000    0.000    0.000 /scratch/yk1962/miniconda3/envs/pytorch3d/lib/python3.8/site-packages/trimesh/voxel/transforms.py:49(crc)\n",
      "        6    0.000    0.000    0.000    0.000 /scratch/yk1962/miniconda3/envs/pytorch3d/lib/python3.8/site-packages/numpy/lib/format.py:195(magic)\n",
      "        3    0.000    0.000    0.000    0.000 /scratch/yk1962/miniconda3/envs/pytorch3d/lib/python3.8/site-packages/trimesh/caching.py:434(update)\n",
      "        1    0.000    0.000    0.000    0.000 /scratch/yk1962/miniconda3/envs/pytorch3d/lib/python3.8/_weakrefset.py:81(add)\n",
      "        4    0.000    0.000    0.000    0.000 {built-in method now}\n",
      "        3    0.000    0.000    0.000    0.000 /scratch/yk1962/miniconda3/envs/pytorch3d/lib/python3.8/site-packages/trimesh/visual/color.py:390(update_vertices)\n",
      "       66    0.000    0.000    0.000    0.000 {method 'items' of 'dict' objects}\n",
      "       21    0.000    0.000    0.000    0.000 {method 'endswith' of 'str' objects}\n",
      "        9    0.000    0.000    0.000    0.000 {method 'add' of 'set' objects}\n",
      "        6    0.000    0.000    0.000    0.000 /scratch/yk1962/miniconda3/envs/pytorch3d/lib/python3.8/tokenize.py:164(__init__)\n",
      "       36    0.000    0.000    0.000    0.000 {method 'startswith' of 'str' objects}\n",
      "        4    0.000    0.000    0.000    0.000 /scratch/yk1962/miniconda3/envs/pytorch3d/lib/python3.8/site-packages/tqdm/std.py:115(__exit__)\n",
      "       66    0.000    0.000    0.000    0.000 {built-in method posix.fspath}\n",
      "        6    0.000    0.000    0.000    0.000 /scratch/yk1962/miniconda3/envs/pytorch3d/lib/python3.8/site-packages/trimesh/caching.py:453(__getitem__)\n",
      "        1    0.000    0.000    0.000    0.000 /scratch/yk1962/miniconda3/envs/pytorch3d/lib/python3.8/site-packages/tqdm/std.py:579(<setcomp>)\n",
      "       11    0.000    0.000    0.000    0.000 /scratch/yk1962/miniconda3/envs/pytorch3d/lib/python3.8/site-packages/trimesh/util.py:207(is_string)\n",
      "        1    0.000    0.000    0.000    0.000 /scratch/yk1962/miniconda3/envs/pytorch3d/lib/python3.8/site-packages/tqdm/utils.py:287(<listcomp>)\n",
      "       78    0.000    0.000    0.000    0.000 {method 'isidentifier' of 'str' objects}\n",
      "       19    0.000    0.000    0.000    0.000 {built-in method posix.getpid}\n",
      "       12    0.000    0.000    0.000    0.000 /scratch/yk1962/miniconda3/envs/pytorch3d/lib/python3.8/site-packages/trimesh/exchange/obj.py:401(<genexpr>)\n",
      "      105    0.000    0.000    0.000    0.000 {built-in method builtins.ord}\n",
      "        2    0.000    0.000    0.000    0.000 /scratch/yk1962/miniconda3/envs/pytorch3d/lib/python3.8/contextlib.py:82(__init__)\n",
      "       12    0.000    0.000    0.000    0.000 /scratch/yk1962/miniconda3/envs/pytorch3d/lib/python3.8/site-packages/trimesh/voxel/encoding.py:676(dtype)\n",
      "        1    0.000    0.000    0.000    0.000 /scratch/yk1962/miniconda3/envs/pytorch3d/lib/python3.8/_weakrefset.py:106(remove)\n",
      "        6    0.000    0.000    0.000    0.000 /scratch/yk1962/miniconda3/envs/pytorch3d/lib/python3.8/site-packages/numpy/compat/py3k.py:53(isfileobj)\n",
      "        3    0.000    0.000    0.000    0.000 /scratch/yk1962/miniconda3/envs/pytorch3d/lib/python3.8/site-packages/trimesh/visual/color.py:476(_update_key)\n",
      "        6    0.000    0.000    0.000    0.000 /scratch/yk1962/miniconda3/envs/pytorch3d/lib/python3.8/subprocess.py:430(__init__)\n",
      "        6    0.000    0.000    0.000    0.000 /scratch/yk1962/miniconda3/envs/pytorch3d/lib/python3.8/subprocess.py:1052(poll)\n",
      "        6    0.000    0.000    0.000    0.000 /scratch/yk1962/miniconda3/envs/pytorch3d/lib/python3.8/posixpath.py:60(isabs)\n",
      "       12    0.000    0.000    0.000    0.000 {method 'register' of 'select.poll' objects}\n",
      "        6    0.000    0.000    0.000    0.000 /scratch/yk1962/miniconda3/envs/pytorch3d/lib/python3.8/site-packages/numpy/lib/arraysetops.py:136(_unpack_tuple)\n",
      "        5    0.000    0.000    0.000    0.000 {method 'sub' of 're.Pattern' objects}\n",
      "        6    0.000    0.000    0.000    0.000 /scratch/yk1962/miniconda3/envs/pytorch3d/lib/python3.8/posixpath.py:228(expanduser)\n",
      "        9    0.000    0.000    0.000    0.000 /scratch/yk1962/miniconda3/envs/pytorch3d/lib/python3.8/site-packages/numpy/core/_dtype.py:24(_kind_name)\n",
      "        3    0.000    0.000    0.000    0.000 {method 'remove' of 'set' objects}\n",
      "       29    0.000    0.000    0.000    0.000 {built-in method builtins.divmod}\n",
      "       12    0.000    0.000    0.000    0.000 {method 'readline' of '_io.StringIO' objects}\n",
      "        6    0.000    0.000    0.000    0.000 /scratch/yk1962/miniconda3/envs/pytorch3d/lib/python3.8/subprocess.py:939(__del__)\n",
      "        1    0.000    0.000    0.000    0.000 /scratch/yk1962/miniconda3/envs/pytorch3d/lib/python3.8/os.py:670(__getitem__)\n",
      "        2    0.000    0.000    0.000    0.000 /share/apps/python/3.8.6/intel/lib/python3.8/site-packages/IPython/core/hooks.py:103(__call__)\n",
      "       16    0.000    0.000    0.000    0.000 {built-in method _thread.allocate_lock}\n",
      "        6    0.000    0.000    0.000    0.000 /scratch/yk1962/miniconda3/envs/pytorch3d/lib/python3.8/selectors.py:63(__init__)\n",
      "        3    0.000    0.000    0.000    0.000 /scratch/yk1962/miniconda3/envs/pytorch3d/lib/python3.8/site-packages/trimesh/visual/color.py:110(kind)\n",
      "        5    0.000    0.000    0.000    0.000 /scratch/yk1962/miniconda3/envs/pytorch3d/lib/python3.8/threading.py:258(_acquire_restore)\n",
      "        1    0.000    0.000    0.000    0.000 {built-in method fcntl.ioctl}\n",
      "        6    0.000    0.000    0.000    0.000 /scratch/yk1962/miniconda3/envs/pytorch3d/lib/python3.8/site-packages/numpy/lib/format.py:190(_check_version)\n",
      "        3    0.000    0.000    0.000    0.000 /scratch/yk1962/miniconda3/envs/pytorch3d/lib/python3.8/site-packages/numpy/core/_internal.py:827(npy_ctypes_check)\n",
      "        3    0.000    0.000    0.000    0.000 /scratch/yk1962/miniconda3/envs/pytorch3d/lib/python3.8/site-packages/trimesh/base.py:1967(visual)\n",
      "        3    0.000    0.000    0.000    0.000 /scratch/yk1962/miniconda3/envs/pytorch3d/lib/python3.8/site-packages/trimesh/util.py:1996(split_extension)\n",
      "        1    0.000    0.000    0.000    0.000 /scratch/yk1962/miniconda3/envs/pytorch3d/lib/python3.8/site-packages/tqdm/utils.py:104(__init__)\n",
      "        7    0.000    0.000    0.000    0.000 {built-in method builtins.next}\n",
      "       18    0.000    0.000    0.000    0.000 {built-in method builtins.issubclass}\n",
      "        2    0.000    0.000    0.000    0.000 /scratch/yk1962/miniconda3/envs/pytorch3d/lib/python3.8/contextlib.py:108(__enter__)\n",
      "       18    0.000    0.000    0.000    0.000 /scratch/yk1962/miniconda3/envs/pytorch3d/lib/python3.8/site-packages/trimesh/voxel/encoding.py:779(shape)\n",
      "       18    0.000    0.000    0.000    0.000 {method 'split' of 'bytes' objects}\n",
      "       30    0.000    0.000    0.000    0.000 /scratch/yk1962/miniconda3/envs/pytorch3d/lib/python3.8/site-packages/numpy/lib/shape_base.py:1243(<genexpr>)\n",
      "       18    0.000    0.000    0.000    0.000 {method 'rpartition' of 'str' objects}\n",
      "        6    0.000    0.000    0.000    0.000 {method 'startswith' of 'bytes' objects}\n",
      "       42    0.000    0.000    0.000    0.000 /scratch/yk1962/miniconda3/envs/pytorch3d/lib/python3.8/threading.py:513(is_set)\n",
      "        2    0.000    0.000    0.000    0.000 /scratch/yk1962/miniconda3/envs/pytorch3d/lib/python3.8/contextlib.py:117(__exit__)\n",
      "        2    0.000    0.000    0.000    0.000 /scratch/yk1962/miniconda3/envs/pytorch3d/lib/python3.8/_weakrefset.py:26(__exit__)\n",
      "        6    0.000    0.000    0.000    0.000 /scratch/yk1962/miniconda3/envs/pytorch3d/lib/python3.8/site-packages/trimesh/base.py:1953(visual)\n",
      "       24    0.000    0.000    0.000    0.000 /scratch/yk1962/miniconda3/envs/pytorch3d/lib/python3.8/site-packages/numpy/core/fromnumeric.py:2876(_prod_dispatcher)\n",
      "       12    0.000    0.000    0.000    0.000 {method 'unregister' of 'select.poll' objects}\n",
      "        3    0.000    0.000    0.000    0.000 /scratch/yk1962/miniconda3/envs/pytorch3d/lib/python3.8/site-packages/trimesh/caching.py:447(id_set)\n",
      "       15    0.000    0.000    0.000    0.000 /scratch/yk1962/miniconda3/envs/pytorch3d/lib/python3.8/site-packages/trimesh/exchange/load.py:473(<genexpr>)\n",
      "        3    0.000    0.000    0.000    0.000 /scratch/yk1962/miniconda3/envs/pytorch3d/lib/python3.8/site-packages/trimesh/permutate.py:128(__init__)\n",
      "        3    0.000    0.000    0.000    0.000 {built-in method builtins.any}\n",
      "        5    0.000    0.000    0.000    0.000 /scratch/yk1962/miniconda3/envs/pytorch3d/lib/python3.8/site-packages/tqdm/utils.py:56(__init__)\n",
      "        3    0.000    0.000    0.000    0.000 {built-in method binascii.b2a_base64}\n",
      "        3    0.000    0.000    0.000    0.000 /scratch/yk1962/miniconda3/envs/pytorch3d/lib/python3.8/posixpath.py:140(basename)\n",
      "        5    0.000    0.000    0.000    0.000 /scratch/yk1962/miniconda3/envs/pytorch3d/lib/python3.8/threading.py:249(__exit__)\n",
      "        8    0.000    0.000    0.000    0.000 {method 'acquire' of '_multiprocessing.SemLock' objects}\n",
      "        9    0.000    0.000    0.000    0.000 {built-in method time.perf_counter}\n",
      "        6    0.000    0.000    0.000    0.000 /scratch/yk1962/miniconda3/envs/pytorch3d/lib/python3.8/site-packages/trimesh/exchange/obj.py:535(<genexpr>)\n",
      "        5    0.000    0.000    0.000    0.000 /scratch/yk1962/miniconda3/envs/pytorch3d/lib/python3.8/threading.py:246(__enter__)\n",
      "        3    0.000    0.000    0.000    0.000 /scratch/yk1962/miniconda3/envs/pytorch3d/lib/python3.8/site-packages/trimesh/util.py:171(is_file)\n",
      "        6    0.000    0.000    0.000    0.000 {built-in method _struct.pack}\n",
      "        1    0.000    0.000    0.000    0.000 <ipython-input-10-7ce8da15ab55>:18(<module>)\n",
      "       24    0.000    0.000    0.000    0.000 {method 'strip' of 'bytes' objects}\n",
      "        1    0.000    0.000    0.000    0.000 /scratch/yk1962/miniconda3/envs/pytorch3d/lib/python3.8/site-packages/tqdm/std.py:657(get_lock)\n",
      "        9    0.000    0.000    0.000    0.000 {method 'rstrip' of 'str' objects}\n",
      "        6    0.000    0.000    0.000    0.000 {method 'count' of 'list' objects}\n",
      "       14    0.000    0.000    0.000    0.000 {built-in method time.time}\n",
      "        2    0.000    0.000    0.000    0.000 /share/apps/python/3.8.6/intel/lib/python3.8/site-packages/traitlets/traitlets.py:564(__get__)\n",
      "        6    0.000    0.000    0.000    0.000 /scratch/yk1962/miniconda3/envs/pytorch3d/lib/python3.8/site-packages/numpy/core/fromnumeric.py:1915(shape)\n",
      "        6    0.000    0.000    0.000    0.000 /scratch/yk1962/miniconda3/envs/pytorch3d/lib/python3.8/site-packages/numpy/lib/npyio.py:453(_save_dispatcher)\n",
      "        6    0.000    0.000    0.000    0.000 {method 'rfind' of 'bytes' objects}\n",
      "        1    0.000    0.000    0.000    0.000 /scratch/yk1962/miniconda3/envs/pytorch3d/lib/python3.8/os.py:748(encode)\n",
      "        4    0.000    0.000    0.000    0.000 /share/apps/python/3.8.6/intel/lib/python3.8/site-packages/IPython/core/compilerop.py:138(extra_flags)\n",
      "        6    0.000    0.000    0.000    0.000 {method 'rstrip' of 'bytes' objects}\n",
      "        5    0.000    0.000    0.000    0.000 /scratch/yk1962/miniconda3/envs/pytorch3d/lib/python3.8/threading.py:261(_is_owned)\n",
      "       12    0.000    0.000    0.000    0.000 {method 'pop' of 'dict' objects}\n",
      "        1    0.000    0.000    0.000    0.000 /scratch/yk1962/miniconda3/envs/pytorch3d/lib/python3.8/site-packages/tqdm/utils.py:206(_supports_unicode)\n",
      "        5    0.000    0.000    0.000    0.000 /scratch/yk1962/miniconda3/envs/pytorch3d/lib/python3.8/threading.py:255(_release_save)\n",
      "        6    0.000    0.000    0.000    0.000 {built-in method select.poll}\n",
      "       15    0.000    0.000    0.000    0.000 {method 'get' of 'dict' objects}\n",
      "        3    0.000    0.000    0.000    0.000 /scratch/yk1962/miniconda3/envs/pytorch3d/lib/python3.8/site-packages/trimesh/proximity.py:291(__init__)\n",
      "        3    0.000    0.000    0.000    0.000 /scratch/yk1962/miniconda3/envs/pytorch3d/lib/python3.8/site-packages/trimesh/exchange/load.py:470(<dictcomp>)\n",
      "        2    0.000    0.000    0.000    0.000 /scratch/yk1962/miniconda3/envs/pytorch3d/lib/python3.8/site-packages/tqdm/std.py:1154(__hash__)\n",
      "       12    0.000    0.000    0.000    0.000 /scratch/yk1962/miniconda3/envs/pytorch3d/lib/python3.8/subprocess.py:1728(_internal_poll)\n",
      "        3    0.000    0.000    0.000    0.000 /scratch/yk1962/miniconda3/envs/pytorch3d/lib/python3.8/site-packages/trimesh/caching.py:431(<dictcomp>)\n",
      "       10    0.000    0.000    0.000    0.000 {built-in method builtins.abs}\n",
      "        3    0.000    0.000    0.000    0.000 /scratch/yk1962/miniconda3/envs/pytorch3d/lib/python3.8/site-packages/tqdm/utils.py:100(wrapper_setattr)\n",
      "        2    0.000    0.000    0.000    0.000 /scratch/yk1962/miniconda3/envs/pytorch3d/lib/python3.8/_weakrefset.py:20(__enter__)\n",
      "        9    0.000    0.000    0.000    0.000 /scratch/yk1962/miniconda3/envs/pytorch3d/lib/python3.8/site-packages/trimesh/exchange/obj.py:544(<genexpr>)\n",
      "       11    0.000    0.000    0.000    0.000 /scratch/yk1962/miniconda3/envs/pytorch3d/lib/python3.8/site-packages/numpy/core/multiarray.py:143(concatenate)\n",
      "        5    0.000    0.000    0.000    0.000 /scratch/yk1962/miniconda3/envs/pytorch3d/lib/python3.8/site-packages/tqdm/std.py:169(colour)\n",
      "        1    0.000    0.000    0.000    0.000 /scratch/yk1962/miniconda3/envs/pytorch3d/lib/python3.8/site-packages/tqdm/utils.py:73(__eq__)\n",
      "        8    0.000    0.000    0.000    0.000 {method 'acquire' of '_thread.RLock' objects}\n",
      "        9    0.000    0.000    0.000    0.000 {built-in method builtins.iter}\n",
      "        6    0.000    0.000    0.000    0.000 /scratch/yk1962/miniconda3/envs/pytorch3d/lib/python3.8/site-packages/numpy/lib/arraysetops.py:144(_unique_dispatcher)\n",
      "        2    0.000    0.000    0.000    0.000 /share/apps/python/3.8.6/intel/lib/python3.8/site-packages/IPython/utils/ipstruct.py:125(__getattr__)\n",
      "        3    0.000    0.000    0.000    0.000 {built-in method maketrans}\n",
      "        6    0.000    0.000    0.000    0.000 {method 'tobytes' of 'numpy.ndarray' objects}\n",
      "       10    0.000    0.000    0.000    0.000 /scratch/yk1962/miniconda3/envs/pytorch3d/lib/python3.8/site-packages/numpy/lib/shape_base.py:1167(_tile_dispatcher)\n",
      "        1    0.000    0.000    0.000    0.000 {built-in method utcfromtimestamp}\n",
      "        1    0.000    0.000    0.000    0.000 /scratch/yk1962/miniconda3/envs/pytorch3d/lib/python3.8/site-packages/tqdm/utils.py:162(__eq__)\n",
      "        1    0.000    0.000    0.000    0.000 /scratch/yk1962/miniconda3/envs/pytorch3d/lib/python3.8/site-packages/tqdm/_monitor.py:93(report)\n",
      "        6    0.000    0.000    0.000    0.000 /scratch/yk1962/miniconda3/envs/pytorch3d/lib/python3.8/subprocess.py:1919(_save_input)\n",
      "        3    0.000    0.000    0.000    0.000 /scratch/yk1962/miniconda3/envs/pytorch3d/lib/python3.8/site-packages/trimesh/caching.py:502(__enter__)\n",
      "       18    0.000    0.000    0.000    0.000 /scratch/yk1962/miniconda3/envs/pytorch3d/lib/python3.8/site-packages/numpy/core/fromnumeric.py:546(_swapaxes_dispatcher)\n",
      "        6    0.000    0.000    0.000    0.000 {built-in method posix.WIFSIGNALED}\n",
      "        3    0.000    0.000    0.000    0.000 {method 'copy' of 'dict' objects}\n",
      "        5    0.000    0.000    0.000    0.000 {method 'upper' of 'str' objects}\n",
      "        6    0.000    0.000    0.000    0.000 /scratch/yk1962/miniconda3/envs/pytorch3d/lib/python3.8/site-packages/numpy/core/fromnumeric.py:2414(_cumsum_dispatcher)\n",
      "        5    0.000    0.000    0.000    0.000 /scratch/yk1962/miniconda3/envs/pytorch3d/lib/python3.8/site-packages/tqdm/utils.py:60(__format__)\n",
      "        2    0.000    0.000    0.000    0.000 /share/apps/python/3.8.6/intel/lib/python3.8/site-packages/IPython/core/interactiveshell.py:3314(compare)\n",
      "        2    0.000    0.000    0.000    0.000 /scratch/yk1962/miniconda3/envs/pytorch3d/lib/python3.8/site-packages/tqdm/utils.py:135(disable_on_exception)\n",
      "        8    0.000    0.000    0.000    0.000 {method 'release' of '_multiprocessing.SemLock' objects}\n",
      "        8    0.000    0.000    0.000    0.000 {method 'lower' of 'str' objects}\n",
      "        6    0.000    0.000    0.000    0.000 {built-in method sys.audit}\n",
      "        3    0.000    0.000    0.000    0.000 /scratch/yk1962/miniconda3/envs/pytorch3d/lib/python3.8/site-packages/numpy/core/multiarray.py:311(where)\n",
      "       12    0.000    0.000    0.000    0.000 /scratch/yk1962/miniconda3/envs/pytorch3d/lib/python3.8/site-packages/numpy/core/fromnumeric.py:1424(_squeeze_dispatcher)\n",
      "       12    0.000    0.000    0.000    0.000 /scratch/yk1962/miniconda3/envs/pytorch3d/lib/python3.8/site-packages/trimesh/voxel/encoding.py:452(dtype)\n",
      "        6    0.000    0.000    0.000    0.000 {method 'count' of 'tuple' objects}\n",
      "        3    0.000    0.000    0.000    0.000 /scratch/yk1962/miniconda3/envs/pytorch3d/lib/python3.8/site-packages/trimesh/caching.py:614(__contains__)\n",
      "        8    0.000    0.000    0.000    0.000 {method 'release' of '_thread.RLock' objects}\n",
      "        2    0.000    0.000    0.000    0.000 /share/apps/python/3.8.6/intel/lib/python3.8/site-packages/traitlets/traitlets.py:533(get)\n",
      "        2    0.000    0.000    0.000    0.000 /scratch/yk1962/miniconda3/envs/pytorch3d/lib/python3.8/site-packages/tqdm/utils.py:87(__getattr__)\n",
      "        2    0.000    0.000    0.000    0.000 /scratch/yk1962/miniconda3/envs/pytorch3d/lib/python3.8/site-packages/tqdm/std.py:1150(_comparable)\n",
      "        2    0.000    0.000    0.000    0.000 /scratch/yk1962/miniconda3/envs/pytorch3d/lib/python3.8/_weakrefset.py:16(__init__)\n",
      "        6    0.000    0.000    0.000    0.000 /scratch/yk1962/miniconda3/envs/pytorch3d/lib/python3.8/selectors.py:199(__enter__)\n",
      "        1    0.000    0.000    0.000    0.000 /scratch/yk1962/miniconda3/envs/pytorch3d/lib/python3.8/site-packages/tqdm/std.py:330(status_printer)\n",
      "        3    0.000    0.000    0.000    0.000 /scratch/yk1962/miniconda3/envs/pytorch3d/lib/python3.8/site-packages/tqdm/std.py:229(__init__)\n",
      "        3    0.000    0.000    0.000    0.000 {method 'translate' of 'bytes' objects}\n",
      "        5    0.000    0.000    0.000    0.000 /scratch/yk1962/miniconda3/envs/pytorch3d/lib/python3.8/site-packages/numpy/core/multiarray.py:1043(copyto)\n",
      "        2    0.000    0.000    0.000    0.000 /share/apps/python/3.8.6/intel/lib/python3.8/site-packages/IPython/core/interactiveshell.py:1276(user_global_ns)\n",
      "        6    0.000    0.000    0.000    0.000 /scratch/yk1962/miniconda3/envs/pytorch3d/lib/python3.8/site-packages/numpy/core/fromnumeric.py:2245(_any_dispatcher)\n",
      "        6    0.000    0.000    0.000    0.000 /scratch/yk1962/miniconda3/envs/pytorch3d/lib/python3.8/site-packages/numpy/lib/shape_base.py:795(_split_dispatcher)\n",
      "        6    0.000    0.000    0.000    0.000 {method 'clear' of 'dict' objects}\n",
      "        1    0.000    0.000    0.000    0.000 /scratch/yk1962/miniconda3/envs/pytorch3d/lib/python3.8/site-packages/tqdm/utils.py:192(_is_utf)\n",
      "        6    0.000    0.000    0.000    0.000 /scratch/yk1962/miniconda3/envs/pytorch3d/lib/python3.8/site-packages/numpy/core/fromnumeric.py:1911(_shape_dispatcher)\n",
      "        5    0.000    0.000    0.000    0.000 /scratch/yk1962/miniconda3/envs/pytorch3d/lib/python3.8/site-packages/tqdm/std.py:165(colour)\n",
      "        9    0.000    0.000    0.000    0.000 /scratch/yk1962/miniconda3/envs/pytorch3d/lib/python3.8/site-packages/trimesh/exchange/obj.py:545(<genexpr>)\n",
      "        6    0.000    0.000    0.000    0.000 /scratch/yk1962/miniconda3/envs/pytorch3d/lib/python3.8/site-packages/trimesh/voxel/encoding.py:444(ndims)\n",
      "        3    0.000    0.000    0.000    0.000 /scratch/yk1962/miniconda3/envs/pytorch3d/lib/python3.8/site-packages/trimesh/exchange/obj.py:631(<lambda>)\n",
      "        6    0.000    0.000    0.000    0.000 /scratch/yk1962/miniconda3/envs/pytorch3d/lib/python3.8/site-packages/numpy/core/fromnumeric.py:2333(_all_dispatcher)\n",
      "       12    0.000    0.000    0.000    0.000 {method 'pop' of 'collections.deque' objects}\n",
      "        6    0.000    0.000    0.000    0.000 /scratch/yk1962/miniconda3/envs/pytorch3d/lib/python3.8/subprocess.py:908(__enter__)\n",
      "        6    0.000    0.000    0.000    0.000 /scratch/yk1962/miniconda3/envs/pytorch3d/lib/python3.8/site-packages/numpy/core/fromnumeric.py:194(_reshape_dispatcher)\n",
      "        6    0.000    0.000    0.000    0.000 /scratch/yk1962/miniconda3/envs/pytorch3d/lib/python3.8/site-packages/numpy/core/fromnumeric.py:2100(_sum_dispatcher)\n",
      "        3    0.000    0.000    0.000    0.000 {built-in method _stat.S_ISREG}\n",
      "        3    0.000    0.000    0.000    0.000 {method 'keys' of 'dict' objects}\n",
      "        2    0.000    0.000    0.000    0.000 /scratch/yk1962/miniconda3/envs/pytorch3d/lib/python3.8/_weakrefset.py:52(_commit_removals)\n",
      "        5    0.000    0.000    0.000    0.000 {method '__enter__' of '_thread.lock' objects}\n",
      "        5    0.000    0.000    0.000    0.000 {built-in method _imp.lock_held}\n",
      "        6    0.000    0.000    0.000    0.000 /scratch/yk1962/miniconda3/envs/pytorch3d/lib/python3.8/site-packages/numpy/lib/shape_base.py:735(_array_split_dispatcher)\n",
      "        2    0.000    0.000    0.000    0.000 {built-in method builtins.id}\n",
      "        6    0.000    0.000    0.000    0.000 /scratch/yk1962/miniconda3/envs/pytorch3d/lib/python3.8/site-packages/numpy/core/fromnumeric.py:433(_repeat_dispatcher)\n",
      "        3    0.000    0.000    0.000    0.000 {method 'pop' of 'list' objects}\n",
      "        3    0.000    0.000    0.000    0.000 /scratch/yk1962/miniconda3/envs/pytorch3d/lib/python3.8/site-packages/trimesh/exchange/obj.py:558(<lambda>)\n",
      "        6    0.000    0.000    0.000    0.000 {built-in method _stat.S_ISDIR}\n",
      "        6    0.000    0.000    0.000    0.000 {built-in method posix.WEXITSTATUS}\n",
      "        5    0.000    0.000    0.000    0.000 {method 'release' of '_thread.lock' objects}\n",
      "        6    0.000    0.000    0.000    0.000 {built-in method posix.WIFEXITED}\n",
      "        5    0.000    0.000    0.000    0.000 {method '__exit__' of '_thread.lock' objects}\n",
      "        2    0.000    0.000    0.000    0.000 /share/apps/python/3.8.6/intel/lib/python3.8/site-packages/IPython/core/hooks.py:168(pre_run_code_hook)\n",
      "        3    0.000    0.000    0.000    0.000 /scratch/yk1962/miniconda3/envs/pytorch3d/lib/python3.8/site-packages/numpy/core/fromnumeric.py:1812(_nonzero_dispatcher)\n",
      "        1    0.000    0.000    0.000    0.000 {method 'difference' of 'set' objects}\n",
      "        1    0.000    0.000    0.000    0.000 /scratch/yk1962/miniconda3/envs/pytorch3d/lib/python3.8/site-packages/tqdm/utils.py:222(_screen_shape_wrapper)\n",
      "        1    0.000    0.000    0.000    0.000 /scratch/yk1962/miniconda3/envs/pytorch3d/lib/python3.8/site-packages/tqdm/std.py:1298(<lambda>)\n",
      "        1    0.000    0.000    0.000    0.000 {method 'disable' of '_lsprof.Profiler' objects}\n",
      "\n",
      "\n",
      "\n"
     ]
    },
    {
     "name": "stderr",
     "output_type": "stream",
     "text": [
      "\n"
     ]
    }
   ],
   "source": [
    "def test():\n",
    "    import cProfile, pstats, io\n",
    "    from pstats import SortKey\n",
    "    pr = cProfile.Profile()\n",
    "    pr.enable()\n",
    "    for obj_name in tqdm(os.listdir(data_dir)[166:169]):\n",
    "        obj_dir = os.path.join(data_dir, obj_name)\n",
    "        files = os.listdir(obj_dir)\n",
    "        for file_name in files:\n",
    "            if 'obj' in file_name:\n",
    "                obj_path = os.path.join(obj_dir,file_name)\n",
    "                break\n",
    "        mesh = trimesh.load_mesh(obj_path)\n",
    "        # align center\n",
    "        mesh_npy(mesh, 'align_center', obj_name)\n",
    "\n",
    "        # min-max normalization\n",
    "        [bbox_min, bbox_max] = mesh.bounds\n",
    "        mesh.vertices = (mesh.vertices - bbox_min) / (bbox_max - bbox_min)\n",
    "        mesh_npy(mesh, 'normalized', obj_name)\n",
    "    pr.disable()\n",
    "    s = io.StringIO()\n",
    "    sortby = SortKey.CUMULATIVE\n",
    "    ps = pstats.Stats(pr, stream=s).sort_stats(sortby)\n",
    "    ps.print_stats()\n",
    "    print(s.getvalue())"
   ]
  },
  {
   "cell_type": "code",
   "execution_count": null,
   "metadata": {},
   "outputs": [],
   "source": []
  }
 ],
 "metadata": {
  "kernelspec": {
   "display_name": "pytorch3d",
   "language": "python",
   "name": "build_central"
  },
  "language_info": {
   "codemirror_mode": {
    "name": "ipython",
    "version": 3
   },
   "file_extension": ".py",
   "mimetype": "text/x-python",
   "name": "python",
   "nbconvert_exporter": "python",
   "pygments_lexer": "ipython3",
   "version": "3.8.8"
  }
 },
 "nbformat": 4,
 "nbformat_minor": 4
}
