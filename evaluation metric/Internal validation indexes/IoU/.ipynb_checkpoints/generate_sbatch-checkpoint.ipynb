{
 "cells": [
  {
   "cell_type": "code",
   "execution_count": 1,
   "metadata": {},
   "outputs": [],
   "source": [
    "import os\n",
    "import numpy as np\n",
    "from constants import num_data, code_dir, sbatch_dir, output_dir, activate_env_command"
   ]
  },
  {
   "cell_type": "code",
   "execution_count": 2,
   "metadata": {},
   "outputs": [],
   "source": [
    "start = 10\n",
    "end = num_data"
   ]
  },
  {
   "cell_type": "code",
   "execution_count": 14,
   "metadata": {},
   "outputs": [],
   "source": [
    "def sbatch_from_template(command, job_name, remove_jobs=False, num_jobs=100, run_time=\"11:59:58\"):\n",
    "    os.system(\"rm {}/*.sh\".format(sbatch_dir))\n",
    "    job_start_end = np.linspace(start, end, num_jobs+1, dtype=int)\n",
    "    command_start_end = command.format(start, end)\n",
    "    content = \\\n",
    "    \"#!/bin/bash -e\\n\" \\\n",
    "    \"#\\n\" \\\n",
    "    \"#SBATCH --nodes=1\\n\" \\\n",
    "    \"#SBATCH --ntasks-per-node=1\\n\" \\\n",
    "    \"#SBATCH --cpus-per-task=2\\n\" \\\n",
    "    \"#SBATCH --time={}\\n\" \\\n",
    "    \"#SBATCH --mem=10GB\\n\" \\\n",
    "    \"#SBATCH --job-name={}_{}-{} \\n\" \\\n",
    "    \"#SBATCH --mail-user=yk1962@nyu.edu \\n\" \\\n",
    "    \"#SBATCH --output={}/slurm_%j_{}_{}_{}.out\\n\" \\\n",
    "    \"\\n\" \\\n",
    "    \"module purge\\n\" \\\n",
    "    \"\\n\" \\\n",
    "    \"# Enter required modules\\n\" \\\n",
    "    \"\\n\" \\\n",
    "    \"# Execute Commands\\n\" \\\n",
    "    \"cd {}\\n\" \\\n",
    "    \"source {}\\n\" \\\n",
    "    \"python {}\\n\"\n",
    "    for jobi in range(num_jobs):\n",
    "        jstart = job_start_end[jobi]\n",
    "        jend = job_start_end[jobi+1]\n",
    "        \n",
    "        current_content = content.format(run_time, \n",
    "                                 job_name, jstart, jend, \n",
    "                                 output_dir, jstart, jend, job_name,\n",
    "                                 code_dir, \n",
    "                                 activate_env_command,\n",
    "                                 command_start_end)\n",
    "        with open(os.path.join(sbatch_dir, \"{}_job{}.sh\".format(job_name, jobi)), \"w\") as f:\n",
    "            f.write(current_content)"
   ]
  },
  {
   "cell_type": "code",
   "execution_count": 15,
   "metadata": {},
   "outputs": [],
   "source": [
    "sbatch_from_template(\"generate_binvox.py {} {}\", \"iou\", remove_jobs=True, num_jobs=100)"
   ]
  },
  {
   "cell_type": "code",
   "execution_count": null,
   "metadata": {},
   "outputs": [],
   "source": []
  }
 ],
 "metadata": {
  "kernelspec": {
   "display_name": "pytorch3d",
   "language": "python",
   "name": "build_central"
  },
  "language_info": {
   "codemirror_mode": {
    "name": "ipython",
    "version": 3
   },
   "file_extension": ".py",
   "mimetype": "text/x-python",
   "name": "python",
   "nbconvert_exporter": "python",
   "pygments_lexer": "ipython3",
   "version": "3.8.8"
  }
 },
 "nbformat": 4,
 "nbformat_minor": 4
}
