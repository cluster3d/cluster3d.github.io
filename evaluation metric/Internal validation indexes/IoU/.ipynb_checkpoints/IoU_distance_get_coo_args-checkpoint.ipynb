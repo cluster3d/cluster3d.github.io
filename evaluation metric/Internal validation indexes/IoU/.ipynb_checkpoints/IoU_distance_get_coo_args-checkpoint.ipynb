{
 "cells": [
  {
   "cell_type": "code",
   "execution_count": 1,
   "metadata": {},
   "outputs": [],
   "source": [
    "import os\n",
    "import trimesh as tm \n",
    "from time import time, process_time\n",
    "import csv\n",
    "from iou_constants import data_dir, csv_dir, dimension\n",
    "from tqdm import tqdm\n",
    "import numpy as np\n",
    "import trimesh"
   ]
  },
  {
   "cell_type": "code",
   "execution_count": 2,
   "metadata": {},
   "outputs": [],
   "source": [
    "start = 100\n",
    "end = 200\n",
    "make_header = True\n",
    "\n",
    "csv_path = os.path.join(csv_dir, \"sub_results\", \"iou_distance_{}_{}.csv\".format(start, end))"
   ]
  },
  {
   "cell_type": "code",
   "execution_count": 3,
   "metadata": {},
   "outputs": [],
   "source": [
    "start_time = time()\n",
    "\n",
    "obj_list_full = sorted(os.listdir(data_dir))\n",
    "if end == -1 or end > len(obj_list_full):\n",
    "    end = len(obj_list_full)\n",
    "    \n",
    "n = end - start\n",
    "obj_list = obj_list_full[0:end]"
   ]
  },
  {
   "cell_type": "code",
   "execution_count": 4,
   "metadata": {},
   "outputs": [],
   "source": [
    "def write_header(fieldnames):\n",
    "    with open(csv_path, 'wt', newline='') as f:\n",
    "        writer = csv.DictWriter(f, fieldnames=fieldnames)\n",
    "        writer.writeheader()\n",
    "\n",
    "\n",
    "def write_row(row):\n",
    "    with open(csv_path, 'a', newline='') as f:\n",
    "        writer = csv.writer(f)\n",
    "        writer.writerow(row)\n",
    "\n",
    "\n",
    "def print_csv():\n",
    "    with open(csv_path, newline='') as f:\n",
    "        reader = csv.reader(f)\n",
    "        for row in reader:\n",
    "            print(row)"
   ]
  },
  {
   "cell_type": "code",
   "execution_count": 5,
   "metadata": {},
   "outputs": [],
   "source": [
    "if make_header:\n",
    "    write_header([''] + obj_list_full)\n",
    "    \n",
    "del obj_list_full"
   ]
  },
  {
   "cell_type": "code",
   "execution_count": 6,
   "metadata": {},
   "outputs": [],
   "source": [
    "def iou(voxel_matrix1, voxel_matrix2):\n",
    "    i = np.count_nonzero(np.logical_and(voxel_matrix1, voxel_matrix2))\n",
    "    if i == 0:\n",
    "        return 0\n",
    "    return  i / np.count_nonzero(np.logical_or(voxel_matrix1, voxel_matrix2))"
   ]
  },
  {
   "cell_type": "code",
   "execution_count": 7,
   "metadata": {},
   "outputs": [
    {
     "name": "stderr",
     "output_type": "stream",
     "text": [
      "100%|██████████| 100/100 [00:28<00:00,  3.53it/s]\n"
     ]
    }
   ],
   "source": [
    "num_comp = (start+end-1)*n//2\n",
    "data = np.zeros(num_comp)\n",
    "ii = np.zeros(num_comp, dtype=int)\n",
    "jj = np.zeros(num_comp, dtype=int)\n",
    "\n",
    "index = 0\n",
    "for idx1, obj1_name in enumerate(tqdm(obj_list[start:], position=0, leave=True), start=start):\n",
    "    voxel_matrix1 = np.load(os.path.join(data_dir, obj1_name, \"{}.npy\".format(obj1_name)), allow_pickle=True)\n",
    "    for idx2, obj2_name in enumerate(obj_list[:idx1]):\n",
    "        voxel_matrix2 = np.load(os.path.join(data_dir, obj2_name, \"{}.npy\".format(obj2_name)), allow_pickle=True)\n",
    "#         index == (idx1-1) * idx1 // 2\n",
    "        data[index] = iou(voxel_matrix1, voxel_matrix2)\n",
    "        ii[index] = idx1\n",
    "        jj[index] = idx2\n",
    "        index += 1\n",
    "        "
   ]
  },
  {
   "cell_type": "code",
   "execution_count": null,
   "metadata": {},
   "outputs": [],
   "source": []
  }
 ],
 "metadata": {
  "kernelspec": {
   "display_name": "pytorch3d",
   "language": "python",
   "name": "build_central"
  },
  "language_info": {
   "codemirror_mode": {
    "name": "ipython",
    "version": 3
   },
   "file_extension": ".py",
   "mimetype": "text/x-python",
   "name": "python",
   "nbconvert_exporter": "python",
   "pygments_lexer": "ipython3",
   "version": "3.8.8"
  }
 },
 "nbformat": 4,
 "nbformat_minor": 4
}
