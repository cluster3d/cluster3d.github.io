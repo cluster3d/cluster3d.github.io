{
 "cells": [
  {
   "cell_type": "code",
   "execution_count": 1,
   "metadata": {},
   "outputs": [],
   "source": [
    "import os\n",
    "from iou_constants import data_dir, dimension, num_data, temp_export_type, binvox_program_path\n",
    "from tqdm import tqdm\n",
    "import numpy as np\n",
    "import trimesh\n",
    "from multiprocessing import Pool, cpu_count\n",
    "from trimesh.exchange import binvox\n",
    "import subprocess"
   ]
  },
  {
   "cell_type": "code",
   "execution_count": 2,
   "metadata": {},
   "outputs": [],
   "source": [
    "obj_list = os.listdir(data_dir)"
   ]
  },
  {
   "cell_type": "code",
   "execution_count": 3,
   "metadata": {
    "scrolled": true
   },
   "outputs": [
    {
     "name": "stdout",
     "output_type": "stream",
     "text": [
      "errors list:\n",
      "[]\n"
     ]
    }
   ],
   "source": [
    "def f(idx):\n",
    "    obj_name = obj_list[idx]\n",
    "    try:\n",
    "        voxel_matrix = np.load(os.path.join(data_dir, obj_name, \"{}.npy\".format(obj_name)), allow_pickle=True)\n",
    "    except:\n",
    "        print(\"cannot load\", obj_name)\n",
    "        return obj_name\n",
    "\n",
    "    try:\n",
    "        assert(voxel_matrix.shape == (dimension, dimension, dimension))\n",
    "    except:\n",
    "        print(obj_name, \"has shape\", voxel_matrix.shape, \"instead of\", (dimension, dimension, dimension))\n",
    "        return obj_name\n",
    "    return None\n",
    "\n",
    "\n",
    "with Pool(cpu_count()) as p:\n",
    "    error_list = p.map(f, list(range(num_data)))\n",
    "error_list = np.array(error_list)\n",
    "error_list = error_list[error_list != None]\n",
    "print(\"errors list:\")\n",
    "print(list(error_list))"
   ]
  },
  {
   "cell_type": "code",
   "execution_count": 4,
   "metadata": {},
   "outputs": [
    {
     "name": "stderr",
     "output_type": "stream",
     "text": [
      "0it [00:00, ?it/s]\n"
     ]
    }
   ],
   "source": [
    "remove_file_types = ['binvox', 'npy']\n",
    "\n",
    "def temp_binvox(temp_export_path):\n",
    "    output = subprocess.run('export LD_PRELOAD=/share/apps/local/lib/libGL.so; {} -d {} {}'.format(binvox_program_path, dimension, temp_export_path),\n",
    "                            shell=True, capture_output=True)\n",
    "    try:\n",
    "        assert(output.returncode == 0 and output.stdout.decode('ascii').split('\\n')[-3] == 'done')\n",
    "    except:\n",
    "        raise Exception(output.stdout.decode('ascii'))\n",
    "    \n",
    "def binvox_npy(obj_name, obj_dir):\n",
    "    binvox_path = os.path.join(obj_dir, '{}.binvox'.format(obj_name))\n",
    "    with open(binvox_path, 'rb') as fp:\n",
    "        voxel_grid = binvox.load_binvox(fp, axis_order='xyz')\n",
    "    np.save(os.path.join(obj_dir, obj_name), np.array(voxel_grid.matrix))\n",
    "    \n",
    "def regenerate_voxel_grid(error_list):\n",
    "    for obj_name in tqdm(error_list):\n",
    "        obj_dir = os.path.join(data_dir, obj_name)\n",
    "        for file_type in remove_file_types:\n",
    "            os.system(\"rm {}\".format(os.path.join(data_dir, obj_name, \"*.{}\".format(file_type))))\n",
    "            \n",
    "        files = os.listdir(obj_dir)\n",
    "        obj_path = os.path.join(obj_dir,files[0])\n",
    "        mesh = trimesh.load_mesh(obj_path)\n",
    "        temp_export_path = os.path.join(obj_dir, '{}.{}'.format(obj_name, temp_export_type))\n",
    "        with open(temp_export_path, 'wb') as fp:\n",
    "            mesh.export(fp, file_type=temp_export_type)\n",
    "        temp_binvox(temp_export_path)\n",
    "        binvox_npy(obj_name, obj_dir)\n",
    "        \n",
    "regenerate_voxel_grid(error_list)"
   ]
  }
 ],
 "metadata": {
  "kernelspec": {
   "display_name": "pytorch3d",
   "language": "python",
   "name": "build_central"
  },
  "language_info": {
   "codemirror_mode": {
    "name": "ipython",
    "version": 3
   },
   "file_extension": ".py",
   "mimetype": "text/x-python",
   "name": "python",
   "nbconvert_exporter": "python",
   "pygments_lexer": "ipython3",
   "version": "3.8.8"
  }
 },
 "nbformat": 4,
 "nbformat_minor": 4
}
