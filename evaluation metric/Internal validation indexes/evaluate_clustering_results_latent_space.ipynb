{
 "cells": [
  {
   "cell_type": "code",
   "execution_count": 1,
   "metadata": {},
   "outputs": [],
   "source": [
    "import os\n",
    "import numpy as np\n",
    "from tqdm import tqdm\n",
    "import pickle\n",
    "from sklearn.metrics import davies_bouldin_score, calinski_harabasz_score\n",
    "import plotly.graph_objects as go\n",
    "from random import choices\n",
    "from sklearn.manifold import TSNE\n",
    "\n",
    "# from evaluate import evaluate\n",
    "from utils.io import load_file"
   ]
  },
  {
   "cell_type": "code",
   "execution_count": 2,
   "metadata": {},
   "outputs": [],
   "source": [
    "labels_dir = os.path.join(os.getcwd(), '../result/clustering/cluster_result/labels')\n",
    "methods = ['davies_bouldin_score', 'calinski_harabasz_score']\n",
    "methods_dict = {'davies_bouldin_score': davies_bouldin_score, 'calinski_harabasz_score': calinski_harabasz_score}\n",
    "evaluation_dir = '/scratch/yk1962/ABC2/result/evaluation'\n",
    "latent_space_dir = os.path.join(os.getcwd(), '../result/clustering/cluster_result/latent_space')\n",
    "# result_dict = {'byol_latent_space.npy': 'Byol-k=32.npy', 'atlasnet_latent_space.npy': 'AtlasNet-k=32.npy'}"
   ]
  },
  {
   "cell_type": "code",
   "execution_count": 3,
   "metadata": {},
   "outputs": [],
   "source": [
    "def rename():\n",
    "    for name in list(filter(lambda name: 'IIC' in name, os.listdir(latent_space_dir))):\n",
    "        path = os.path.join(latent_space_dir, name)\n",
    "        command = 'mv {} {}'.format(path, path+'.npy')\n",
    "        os.system(command)"
   ]
  },
  {
   "cell_type": "code",
   "execution_count": 4,
   "metadata": {},
   "outputs": [
    {
     "data": {
      "text/plain": [
       "['AtlasNet_latent_space.npy',\n",
       " 'BYOL_latent_space.npy',\n",
       " 'DEC_latent_space-k=1024.npy',\n",
       " 'DEC_latent_space-k=128.npy',\n",
       " 'DEC_latent_space-k=2000.npy',\n",
       " 'DEC_latent_space-k=256.npy',\n",
       " 'DEC_latent_space-k=32.npy',\n",
       " 'DEC_latent_space-k=512.npy',\n",
       " 'DEC_latent_space-k=64.npy',\n",
       " 'DeepCluster_latent_space-k=1024.npy',\n",
       " 'DeepCluster_latent_space-k=128.npy',\n",
       " 'DeepCluster_latent_space-k=2000.npy',\n",
       " 'DeepCluster_latent_space-k=256.npy',\n",
       " 'DeepCluster_latent_space-k=32.npy',\n",
       " 'DeepCluster_latent_space-k=512.npy',\n",
       " 'DeepCluster_latent_space-k=64.npy',\n",
       " 'IIC_latent_space-k=1024.npy',\n",
       " 'IIC_latent_space-k=128.npy',\n",
       " 'IIC_latent_space-k=2000.npy',\n",
       " 'IIC_latent_space-k=256.npy',\n",
       " 'IIC_latent_space-k=32.npy',\n",
       " 'IIC_latent_space-k=512.npy',\n",
       " 'IIC_latent_space-k=64.npy',\n",
       " 'MVCNN_latent_space.npy',\n",
       " 'SCAN_latent_space-k=1024.npy',\n",
       " 'SCAN_latent_space-k=128.npy',\n",
       " 'SCAN_latent_space-k=2000.npy',\n",
       " 'SCAN_latent_space-k=256.npy',\n",
       " 'SCAN_latent_space-k=32.npy',\n",
       " 'SCAN_latent_space-k=512.npy',\n",
       " 'SCAN_latent_space-k=64.npy']"
      ]
     },
     "execution_count": 4,
     "metadata": {},
     "output_type": "execute_result"
    }
   ],
   "source": [
    "latent_space_list = sorted(os.listdir(latent_space_dir))\n",
    "latent_space_list"
   ]
  },
  {
   "cell_type": "code",
   "execution_count": 5,
   "metadata": {},
   "outputs": [
    {
     "data": {
      "text/plain": [
       "['AtlasNet-k=1024.npy',\n",
       " 'AtlasNet-k=128.npy',\n",
       " 'AtlasNet-k=2000.npy',\n",
       " 'AtlasNet-k=256.npy',\n",
       " 'AtlasNet-k=32.npy',\n",
       " 'AtlasNet-k=512.npy',\n",
       " 'AtlasNet-k=64.npy',\n",
       " 'BYOL-k=1024.npy',\n",
       " 'BYOL-k=128.npy',\n",
       " 'BYOL-k=2000.npy',\n",
       " 'BYOL-k=256.npy',\n",
       " 'BYOL-k=32.npy',\n",
       " 'BYOL-k=512.npy',\n",
       " 'BYOL-k=64.npy',\n",
       " 'DEC-k=1024.npy',\n",
       " 'DEC-k=128.npy',\n",
       " 'DEC-k=2000.npy',\n",
       " 'DEC-k=256.npy',\n",
       " 'DEC-k=32.npy',\n",
       " 'DEC-k=512.npy',\n",
       " 'DEC-k=64.npy',\n",
       " 'DeepCluster-k=1024.npy',\n",
       " 'DeepCluster-k=128.npy',\n",
       " 'DeepCluster-k=2000.npy',\n",
       " 'DeepCluster-k=256.npy',\n",
       " 'DeepCluster-k=32.npy',\n",
       " 'DeepCluster-k=512.npy',\n",
       " 'DeepCluster-k=64.npy',\n",
       " 'IIC-k=1024.npy',\n",
       " 'IIC-k=128.npy',\n",
       " 'IIC-k=2000.npy',\n",
       " 'IIC-k=256.npy',\n",
       " 'IIC-k=32.npy',\n",
       " 'IIC-k=512.npy',\n",
       " 'IIC-k=64.npy',\n",
       " 'MVCNN-k=1024.npy',\n",
       " 'MVCNN-k=128.npy',\n",
       " 'MVCNN-k=2000.npy',\n",
       " 'MVCNN-k=256.npy',\n",
       " 'MVCNN-k=32.npy',\n",
       " 'MVCNN-k=512.npy',\n",
       " 'MVCNN-k=64.npy',\n",
       " 'SCAN-k=1024.npy',\n",
       " 'SCAN-k=128.npy',\n",
       " 'SCAN-k=2000.npy',\n",
       " 'SCAN-k=256.npy',\n",
       " 'SCAN-k=32.npy',\n",
       " 'SCAN-k=512.npy',\n",
       " 'SCAN-k=64.npy']"
      ]
     },
     "execution_count": 5,
     "metadata": {},
     "output_type": "execute_result"
    }
   ],
   "source": [
    "labels_list = sorted(list(filter(lambda name: '.npy' in name, os.listdir(labels_dir))))\n",
    "labels_list"
   ]
  },
  {
   "cell_type": "code",
   "execution_count": 6,
   "metadata": {},
   "outputs": [],
   "source": [
    "def save_obj(obj, name, obj_dir, postfix=True):\n",
    "    filepath = os.path.join(obj_dir, name)\n",
    "    if postfix:\n",
    "        filepath += '.pkl'\n",
    "    with open(filepath, 'wb') as f:\n",
    "        pickle.dump(obj, f, pickle.HIGHEST_PROTOCOL)"
   ]
  },
  {
   "cell_type": "code",
   "execution_count": 7,
   "metadata": {},
   "outputs": [],
   "source": [
    "# evaluation_dict = load_file('evaluation_result', evaluation_dir, load_type='pkl')\n",
    "# evaluation_dict = {}\n",
    "evaluation_dict = load_file('extra_evaluation_result', evaluation_dir, load_type='pkl')"
   ]
  },
  {
   "cell_type": "code",
   "execution_count": 8,
   "metadata": {
    "scrolled": true
   },
   "outputs": [
    {
     "name": "stderr",
     "output_type": "stream",
     "text": [
      "100%|██████████| 31/31 [00:15<00:00,  1.99it/s]\n"
     ]
    }
   ],
   "source": [
    "for latent_space_name in tqdm(latent_space_list):        \n",
    "    latent_space = np.load(os.path.join(latent_space_dir, latent_space_name))\n",
    "    method_name = latent_space_name.split('_')[0]\n",
    "    relavent_labels = list(filter(lambda name: method_name in name, labels_list))\n",
    "    if 'k=' in latent_space_name:\n",
    "        relavent_labels = list(filter(lambda name: latent_space_name.split('k=')[-1].split('.')[0] in name, relavent_labels))\n",
    "\n",
    "    for method in methods:\n",
    "        for labels_name in relavent_labels:\n",
    "            labels = np.load(os.path.join(labels_dir, labels_name))\n",
    "            subject_name = 'cluster result name: {}, evaluation method: {}, labels={}'.format(latent_space_name, method, labels_name)\n",
    "            if subject_name in evaluation_dict:\n",
    "                continue\n",
    "            score = methods_dict[method](latent_space, labels)\n",
    "            evaluation_dict[subject_name] = score\n",
    "            \n",
    "#         save_obj(evaluation_dict, 'evaluation_result', evaluation_dir)"
   ]
  },
  {
   "cell_type": "code",
   "execution_count": 9,
   "metadata": {
    "scrolled": false
   },
   "outputs": [
    {
     "data": {
      "text/plain": [
       "{'cluster result name: AtlasNet_latent_space.npy, evaluation method: davies_bouldin_score, labels=AtlasNet-k=1024.npy': 8.670681520858725,\n",
       " 'cluster result name: AtlasNet_latent_space.npy, evaluation method: davies_bouldin_score, labels=AtlasNet-k=128.npy': 24.282790220985977,\n",
       " 'cluster result name: AtlasNet_latent_space.npy, evaluation method: davies_bouldin_score, labels=AtlasNet-k=2000.npy': 5.914476572752382,\n",
       " 'cluster result name: AtlasNet_latent_space.npy, evaluation method: davies_bouldin_score, labels=AtlasNet-k=256.npy': 17.311879688688958,\n",
       " 'cluster result name: AtlasNet_latent_space.npy, evaluation method: davies_bouldin_score, labels=AtlasNet-k=32.npy': 44.76687261624034,\n",
       " 'cluster result name: AtlasNet_latent_space.npy, evaluation method: davies_bouldin_score, labels=AtlasNet-k=512.npy': 12.419137068955035,\n",
       " 'cluster result name: AtlasNet_latent_space.npy, evaluation method: davies_bouldin_score, labels=AtlasNet-k=64.npy': 32.81692879989689,\n",
       " 'cluster result name: AtlasNet_latent_space.npy, evaluation method: calinski_harabasz_score, labels=AtlasNet-k=1024.npy': 0.9933851260190149,\n",
       " 'cluster result name: AtlasNet_latent_space.npy, evaluation method: calinski_harabasz_score, labels=AtlasNet-k=128.npy': 0.9875804876881534,\n",
       " 'cluster result name: AtlasNet_latent_space.npy, evaluation method: calinski_harabasz_score, labels=AtlasNet-k=2000.npy': 0.9964201379846008,\n",
       " 'cluster result name: AtlasNet_latent_space.npy, evaluation method: calinski_harabasz_score, labels=AtlasNet-k=256.npy': 0.9962989186593332,\n",
       " 'cluster result name: AtlasNet_latent_space.npy, evaluation method: calinski_harabasz_score, labels=AtlasNet-k=32.npy': 1.034789741667522,\n",
       " 'cluster result name: AtlasNet_latent_space.npy, evaluation method: calinski_harabasz_score, labels=AtlasNet-k=512.npy': 0.9795221183680232,\n",
       " 'cluster result name: AtlasNet_latent_space.npy, evaluation method: calinski_harabasz_score, labels=AtlasNet-k=64.npy': 0.9971470491621492,\n",
       " 'cluster result name: BYOL_latent_space.npy, evaluation method: davies_bouldin_score, labels=BYOL-k=1024.npy': 8.511774599504815,\n",
       " 'cluster result name: BYOL_latent_space.npy, evaluation method: davies_bouldin_score, labels=BYOL-k=128.npy': 24.021687449589244,\n",
       " 'cluster result name: BYOL_latent_space.npy, evaluation method: davies_bouldin_score, labels=BYOL-k=2000.npy': 5.686962527988802,\n",
       " 'cluster result name: BYOL_latent_space.npy, evaluation method: davies_bouldin_score, labels=BYOL-k=256.npy': 17.42117807162812,\n",
       " 'cluster result name: BYOL_latent_space.npy, evaluation method: davies_bouldin_score, labels=BYOL-k=32.npy': 46.56955134208232,\n",
       " 'cluster result name: BYOL_latent_space.npy, evaluation method: davies_bouldin_score, labels=BYOL-k=512.npy': 12.296962031459714,\n",
       " 'cluster result name: BYOL_latent_space.npy, evaluation method: davies_bouldin_score, labels=BYOL-k=64.npy': 33.125326827186655,\n",
       " 'cluster result name: BYOL_latent_space.npy, evaluation method: calinski_harabasz_score, labels=BYOL-k=1024.npy': 0.9949002347914264,\n",
       " 'cluster result name: BYOL_latent_space.npy, evaluation method: calinski_harabasz_score, labels=BYOL-k=128.npy': 0.9697914380709889,\n",
       " 'cluster result name: BYOL_latent_space.npy, evaluation method: calinski_harabasz_score, labels=BYOL-k=2000.npy': 0.9885800367574821,\n",
       " 'cluster result name: BYOL_latent_space.npy, evaluation method: calinski_harabasz_score, labels=BYOL-k=256.npy': 0.9707561820146392,\n",
       " 'cluster result name: BYOL_latent_space.npy, evaluation method: calinski_harabasz_score, labels=BYOL-k=32.npy': 0.9801484054442099,\n",
       " 'cluster result name: BYOL_latent_space.npy, evaluation method: calinski_harabasz_score, labels=BYOL-k=512.npy': 0.9909248032811389,\n",
       " 'cluster result name: BYOL_latent_space.npy, evaluation method: calinski_harabasz_score, labels=BYOL-k=64.npy': 0.9835493742252579,\n",
       " 'cluster result name: IIC_latent_space-k=1024.npy, evaluation method: davies_bouldin_score, labels=IIC-k=1024.npy': 19.81470071217189,\n",
       " 'cluster result name: IIC_latent_space-k=1024.npy, evaluation method: calinski_harabasz_score, labels=IIC-k=1024.npy': 0.9444168746003495,\n",
       " 'cluster result name: IIC_latent_space-k=128.npy, evaluation method: davies_bouldin_score, labels=IIC-k=128.npy': 24.17451020262432,\n",
       " 'cluster result name: IIC_latent_space-k=128.npy, evaluation method: calinski_harabasz_score, labels=IIC-k=128.npy': 0.9085552057745967,\n",
       " 'cluster result name: IIC_latent_space-k=2000.npy, evaluation method: davies_bouldin_score, labels=IIC-k=2000.npy': 17.953256095516593,\n",
       " 'cluster result name: IIC_latent_space-k=2000.npy, evaluation method: calinski_harabasz_score, labels=IIC-k=2000.npy': 0.9395441045314178,\n",
       " 'cluster result name: IIC_latent_space-k=256.npy, evaluation method: davies_bouldin_score, labels=IIC-k=256.npy': 21.52113733388429,\n",
       " 'cluster result name: IIC_latent_space-k=256.npy, evaluation method: calinski_harabasz_score, labels=IIC-k=256.npy': 1.0620740050295008,\n",
       " 'cluster result name: IIC_latent_space-k=32.npy, evaluation method: davies_bouldin_score, labels=IIC-k=32.npy': 51.63162942818333,\n",
       " 'cluster result name: IIC_latent_space-k=32.npy, evaluation method: calinski_harabasz_score, labels=IIC-k=32.npy': 0.9800208424096956,\n",
       " 'cluster result name: IIC_latent_space-k=512.npy, evaluation method: davies_bouldin_score, labels=IIC-k=512.npy': 18.021377785791287,\n",
       " 'cluster result name: IIC_latent_space-k=512.npy, evaluation method: calinski_harabasz_score, labels=IIC-k=512.npy': 0.9321471118028279,\n",
       " 'cluster result name: IIC_latent_space-k=64.npy, evaluation method: davies_bouldin_score, labels=IIC-k=64.npy': 35.34111974396514,\n",
       " 'cluster result name: IIC_latent_space-k=64.npy, evaluation method: calinski_harabasz_score, labels=IIC-k=64.npy': 0.9828743560198915,\n",
       " 'cluster result name: DEC_latent_space-k=1024.npy, evaluation method: davies_bouldin_score, labels=DEC-k=1024.npy': 9.763164383697827,\n",
       " 'cluster result name: DEC_latent_space-k=1024.npy, evaluation method: calinski_harabasz_score, labels=DEC-k=1024.npy': 1.0030231347948102,\n",
       " 'cluster result name: DEC_latent_space-k=128.npy, evaluation method: davies_bouldin_score, labels=DEC-k=128.npy': 27.11449408897881,\n",
       " 'cluster result name: DEC_latent_space-k=128.npy, evaluation method: calinski_harabasz_score, labels=DEC-k=128.npy': 0.9702998671354583,\n",
       " 'cluster result name: DEC_latent_space-k=2000.npy, evaluation method: davies_bouldin_score, labels=DEC-k=2000.npy': 6.769917107761702,\n",
       " 'cluster result name: DEC_latent_space-k=2000.npy, evaluation method: calinski_harabasz_score, labels=DEC-k=2000.npy': 1.000905690890181,\n",
       " 'cluster result name: DEC_latent_space-k=256.npy, evaluation method: davies_bouldin_score, labels=DEC-k=256.npy': 19.402301491414285,\n",
       " 'cluster result name: DEC_latent_space-k=256.npy, evaluation method: calinski_harabasz_score, labels=DEC-k=256.npy': 0.9850322340513279,\n",
       " 'cluster result name: DEC_latent_space-k=32.npy, evaluation method: davies_bouldin_score, labels=DEC-k=32.npy': 49.63697002689389,\n",
       " 'cluster result name: DEC_latent_space-k=32.npy, evaluation method: calinski_harabasz_score, labels=DEC-k=32.npy': 1.123902326572264,\n",
       " 'cluster result name: DEC_latent_space-k=512.npy, evaluation method: davies_bouldin_score, labels=DEC-k=512.npy': 13.969984512487812,\n",
       " 'cluster result name: DEC_latent_space-k=512.npy, evaluation method: calinski_harabasz_score, labels=DEC-k=512.npy': 0.9634343510560016,\n",
       " 'cluster result name: DEC_latent_space-k=64.npy, evaluation method: davies_bouldin_score, labels=DEC-k=64.npy': 36.961426361536596,\n",
       " 'cluster result name: DEC_latent_space-k=64.npy, evaluation method: calinski_harabasz_score, labels=DEC-k=64.npy': 1.0220891069707672,\n",
       " 'cluster result name: DeepCluster_latent_space-k=1024.npy, evaluation method: davies_bouldin_score, labels=DeepCluster-k=1024.npy': 10.150247669160294,\n",
       " 'cluster result name: DeepCluster_latent_space-k=1024.npy, evaluation method: calinski_harabasz_score, labels=DeepCluster-k=1024.npy': 1.0194401440681953,\n",
       " 'cluster result name: DeepCluster_latent_space-k=128.npy, evaluation method: davies_bouldin_score, labels=DeepCluster-k=128.npy': 30.145490973130453,\n",
       " 'cluster result name: DeepCluster_latent_space-k=128.npy, evaluation method: calinski_harabasz_score, labels=DeepCluster-k=128.npy': 1.0186762954440647,\n",
       " 'cluster result name: DeepCluster_latent_space-k=2000.npy, evaluation method: davies_bouldin_score, labels=DeepCluster-k=2000.npy': 7.370035169970313,\n",
       " 'cluster result name: DeepCluster_latent_space-k=2000.npy, evaluation method: calinski_harabasz_score, labels=DeepCluster-k=2000.npy': 0.99589613804537,\n",
       " 'cluster result name: DeepCluster_latent_space-k=256.npy, evaluation method: davies_bouldin_score, labels=DeepCluster-k=256.npy': 20.19410726101033,\n",
       " 'cluster result name: DeepCluster_latent_space-k=256.npy, evaluation method: calinski_harabasz_score, labels=DeepCluster-k=256.npy': 1.0083356728800477,\n",
       " 'cluster result name: DeepCluster_latent_space-k=32.npy, evaluation method: davies_bouldin_score, labels=DeepCluster-k=32.npy': 57.676822875148325,\n",
       " 'cluster result name: DeepCluster_latent_space-k=32.npy, evaluation method: calinski_harabasz_score, labels=DeepCluster-k=32.npy': 1.0186128201606761,\n",
       " 'cluster result name: DeepCluster_latent_space-k=512.npy, evaluation method: davies_bouldin_score, labels=DeepCluster-k=512.npy': 14.8615797141669,\n",
       " 'cluster result name: DeepCluster_latent_space-k=512.npy, evaluation method: calinski_harabasz_score, labels=DeepCluster-k=512.npy': 0.9916333982841811,\n",
       " 'cluster result name: DeepCluster_latent_space-k=64.npy, evaluation method: davies_bouldin_score, labels=DeepCluster-k=64.npy': 40.49608046964686,\n",
       " 'cluster result name: DeepCluster_latent_space-k=64.npy, evaluation method: calinski_harabasz_score, labels=DeepCluster-k=64.npy': 0.9527837147681032,\n",
       " 'cluster result name: MVCNN_latent_space.npy, evaluation method: davies_bouldin_score, labels=MVCNN-k=1024.npy': 1.407029548442531,\n",
       " 'cluster result name: MVCNN_latent_space.npy, evaluation method: davies_bouldin_score, labels=MVCNN-k=128.npy': 1.4100822870897602,\n",
       " 'cluster result name: MVCNN_latent_space.npy, evaluation method: davies_bouldin_score, labels=MVCNN-k=2000.npy': 1.2479010892945097,\n",
       " 'cluster result name: MVCNN_latent_space.npy, evaluation method: davies_bouldin_score, labels=MVCNN-k=256.npy': 1.4638928299090517,\n",
       " 'cluster result name: MVCNN_latent_space.npy, evaluation method: davies_bouldin_score, labels=MVCNN-k=32.npy': 1.3528431931455769,\n",
       " 'cluster result name: MVCNN_latent_space.npy, evaluation method: davies_bouldin_score, labels=MVCNN-k=512.npy': 1.4578761231496316,\n",
       " 'cluster result name: MVCNN_latent_space.npy, evaluation method: davies_bouldin_score, labels=MVCNN-k=64.npy': 1.366233534028567,\n",
       " 'cluster result name: MVCNN_latent_space.npy, evaluation method: calinski_harabasz_score, labels=MVCNN-k=1024.npy': 1179.241723611864,\n",
       " 'cluster result name: MVCNN_latent_space.npy, evaluation method: calinski_harabasz_score, labels=MVCNN-k=128.npy': 3936.3709586441305,\n",
       " 'cluster result name: MVCNN_latent_space.npy, evaluation method: calinski_harabasz_score, labels=MVCNN-k=2000.npy': 845.9763012049864,\n",
       " 'cluster result name: MVCNN_latent_space.npy, evaluation method: calinski_harabasz_score, labels=MVCNN-k=256.npy': 2613.7266213859284,\n",
       " 'cluster result name: MVCNN_latent_space.npy, evaluation method: calinski_harabasz_score, labels=MVCNN-k=32.npy': 8398.85500514954,\n",
       " 'cluster result name: MVCNN_latent_space.npy, evaluation method: calinski_harabasz_score, labels=MVCNN-k=512.npy': 1740.9040106138257,\n",
       " 'cluster result name: MVCNN_latent_space.npy, evaluation method: calinski_harabasz_score, labels=MVCNN-k=64.npy': 5860.5910249866165,\n",
       " 'cluster result name: SCAN_latent_space-k=1024.npy, evaluation method: davies_bouldin_score, labels=SCAN-k=1024.npy': 12.48390483710674,\n",
       " 'cluster result name: SCAN_latent_space-k=1024.npy, evaluation method: calinski_harabasz_score, labels=SCAN-k=1024.npy': 7.747248189959736,\n",
       " 'cluster result name: SCAN_latent_space-k=128.npy, evaluation method: davies_bouldin_score, labels=SCAN-k=128.npy': 13.206889004237615,\n",
       " 'cluster result name: SCAN_latent_space-k=128.npy, evaluation method: calinski_harabasz_score, labels=SCAN-k=128.npy': 6.6607363672060105,\n",
       " 'cluster result name: SCAN_latent_space-k=2000.npy, evaluation method: davies_bouldin_score, labels=SCAN-k=2000.npy': 12.274873587372737,\n",
       " 'cluster result name: SCAN_latent_space-k=2000.npy, evaluation method: calinski_harabasz_score, labels=SCAN-k=2000.npy': 9.365263279706165,\n",
       " 'cluster result name: SCAN_latent_space-k=256.npy, evaluation method: davies_bouldin_score, labels=SCAN-k=256.npy': 12.540266882308254,\n",
       " 'cluster result name: SCAN_latent_space-k=256.npy, evaluation method: calinski_harabasz_score, labels=SCAN-k=256.npy': 6.606618772708542,\n",
       " 'cluster result name: SCAN_latent_space-k=32.npy, evaluation method: davies_bouldin_score, labels=SCAN-k=32.npy': 12.124655336792085,\n",
       " 'cluster result name: SCAN_latent_space-k=32.npy, evaluation method: calinski_harabasz_score, labels=SCAN-k=32.npy': 20.18421376127662,\n",
       " 'cluster result name: SCAN_latent_space-k=512.npy, evaluation method: davies_bouldin_score, labels=SCAN-k=512.npy': 11.422333146608295,\n",
       " 'cluster result name: SCAN_latent_space-k=512.npy, evaluation method: calinski_harabasz_score, labels=SCAN-k=512.npy': 6.15188665156246,\n",
       " 'cluster result name: SCAN_latent_space-k=64.npy, evaluation method: davies_bouldin_score, labels=SCAN-k=64.npy': 12.634218225475891,\n",
       " 'cluster result name: SCAN_latent_space-k=64.npy, evaluation method: calinski_harabasz_score, labels=SCAN-k=64.npy': 10.1677344902284}"
      ]
     },
     "execution_count": 9,
     "metadata": {},
     "output_type": "execute_result"
    }
   ],
   "source": [
    "evaluation_dict"
   ]
  },
  {
   "cell_type": "code",
   "execution_count": null,
   "metadata": {},
   "outputs": [],
   "source": []
  },
  {
   "cell_type": "code",
   "execution_count": 10,
   "metadata": {},
   "outputs": [],
   "source": [
    "save_obj(evaluation_dict, 'extra_evaluation_result', evaluation_dir)"
   ]
  },
  {
   "cell_type": "code",
   "execution_count": null,
   "metadata": {},
   "outputs": [],
   "source": [
    "keys = \n",
    "for key in "
   ]
  }
 ],
 "metadata": {
  "kernelspec": {
   "display_name": "pytorch3d",
   "language": "python",
   "name": "build_central"
  },
  "language_info": {
   "codemirror_mode": {
    "name": "ipython",
    "version": 3
   },
   "file_extension": ".py",
   "mimetype": "text/x-python",
   "name": "python",
   "nbconvert_exporter": "python",
   "pygments_lexer": "ipython3",
   "version": "3.8.8"
  }
 },
 "nbformat": 4,
 "nbformat_minor": 4
}
