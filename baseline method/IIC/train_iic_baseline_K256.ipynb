{
 "cells": [
  {
   "cell_type": "code",
   "execution_count": 1,
   "metadata": {},
   "outputs": [],
   "source": [
    "import os\n",
    "os.environ[\"CUDA_VISIBLE_DEVICES\"] = '3'\n",
    "\n",
    "import torch\n",
    "from torch.utils.data import DataLoader, Dataset\n",
    "from torch import nn\n",
    "import glob\n",
    "import torch.nn.functional as F\n",
    "import provider   \n",
    "import argparse\n",
    "import os\n",
    "from tqdm import tqdm\n",
    "\n",
    "from tensorboardX import SummaryWriter\n",
    "from code.utils.cluster.IID_losses import IID_loss"
   ]
  },
  {
   "cell_type": "code",
   "execution_count": 2,
   "metadata": {},
   "outputs": [],
   "source": [
    "parser = argparse.ArgumentParser(description='byol-pointnet_baseline')\n",
    "# parser.add_argument('--image_folder', type=str, required = True, help='path to your folder of images for self-supervised learning')\n",
    "parser.add_argument('--train_dir', default=\"/data2/ABC2/data_raw_clustering/pc_correct_num\", required=False, help='Training data root.')\n",
    "parser.add_argument('--csv_dir', default=\"/data2/ABC2/GT-final.csv\", required=False, help='GT label data root.')\n",
    "parser.add_argument('--taskType', type=str, default='Clustering', help='Type of task.')\n",
    "parser.add_argument('--batchSize', type=int, default=10, help='input batch size')\n",
    "parser.add_argument('--workers', type=int, help='number of data loading workers', default=12)\n",
    "parser.add_argument(\"--lamb\", type=float, default=1.0)\n",
    "args = parser.parse_args([])"
   ]
  },
  {
   "cell_type": "code",
   "execution_count": 3,
   "metadata": {},
   "outputs": [],
   "source": [
    "class ABC2Dataset_pc(Dataset):\n",
    "    \"\"\"ABC2Dataset\"\"\"\n",
    "\n",
    "    def __init__(self, csv_file, root_dir, task_type, transform=None):\n",
    "        \"\"\"\n",
    "        Args:\n",
    "            csv_file (string): Path to the csv file with ground truth.\n",
    "            root_dir (string): Directory with all the model files.\n",
    "            task_type (string): Task type.\n",
    "        \"\"\"\n",
    "\n",
    "        # self.ground_truth_file = pd.read_csv(csv_file, header=0)\n",
    "        self.model_id = glob.glob(os.path.join(root_dir, '*'))\n",
    "        self.root_dir = root_dir\n",
    "        self.task_type = task_type\n",
    "        # print(\"model_id:\", len(self.model_id))\n",
    "\n",
    "    def __len__(self):\n",
    "        return len(self.model_id)\n",
    "\n",
    "    def __getitem__(self, idx):\n",
    "\n",
    "        \"Clustering\"\n",
    "        if self.task_type == \"Clustering\":\n",
    "            model_ID = self.model_id[idx].split('/')[-1]\n",
    "  \n",
    "            obj_path = glob.glob(os.path.join(self.model_id[idx], '*.pt'))\n",
    "#             print(obj_path)\n",
    "            point_cloud_normalized = torch.load(obj_path[0])\n",
    "            # print(\"wen_debug dataloader\", point_cloud_normalized.shape)\n",
    "            pc1 = point_cloud_normalized\n",
    "#             point_cloud_normalized = point_cloud_normalized.unsqueeze(0)\n",
    "#             # print(\"wen_debug dataloader\", point_cloud_normalized.shape)\n",
    "#             pc1 = provider.random_point_dropout(point_cloud_normalized)\n",
    "#             pc1 = provider.random_scale_point_cloud(pc1)\n",
    "#             pc1 = provider.shift_point_cloud(pc1)\n",
    "\n",
    "            point_cloud_normalized = point_cloud_normalized.unsqueeze(0)\n",
    "            pc2 = provider.random_point_dropout(point_cloud_normalized)\n",
    "            pc2 = provider.random_scale_point_cloud(pc2)\n",
    "            pc2 = provider.shift_point_cloud(pc2)\n",
    "\n",
    "            return pc1.transpose(0,1), pc2.squeeze(0).transpose(0,1)\n",
    "        \n",
    "class ABC2Dataset_pc_test(Dataset):\n",
    "    \"\"\"ABC2Dataset\"\"\"\n",
    "\n",
    "    def __init__(self, csv_file, root_dir, task_type, transform=None):\n",
    "        \"\"\"\n",
    "        Args:\n",
    "            csv_file (string): Path to the csv file with ground truth.\n",
    "            root_dir (string): Directory with all the model files.\n",
    "            task_type (string): Task type.\n",
    "        \"\"\"\n",
    "\n",
    "        # self.ground_truth_file = pd.read_csv(csv_file, header=0)\n",
    "        self.model_id = glob.glob(os.path.join(root_dir, '*'))\n",
    "        self.root_dir = root_dir\n",
    "        self.task_type = task_type\n",
    "        # print(\"model_id:\", len(self.model_id))\n",
    "\n",
    "    def __len__(self):\n",
    "        return len(self.model_id)\n",
    "\n",
    "    def __getitem__(self, idx):\n",
    "\n",
    "        \"Clustering\"\n",
    "        if self.task_type == \"Clustering\":\n",
    "            model_ID = self.model_id[idx].split('/')[-1]\n",
    "  \n",
    "            obj_path = glob.glob(os.path.join(self.model_id[idx], '*.pt'))\n",
    "            \n",
    "            point_cloud_normalized = torch.load(obj_path[0])\n",
    "            # print(\"wen_debug dataloader\", point_cloud_normalized.shape)\n",
    "\n",
    "            return point_cloud_normalized.transpose(0,1), model_ID"
   ]
  },
  {
   "cell_type": "code",
   "execution_count": 4,
   "metadata": {},
   "outputs": [],
   "source": [
    "class PointNetEncoder(nn.Module):\n",
    "    def __init__(self, global_feat=True, channel=3):\n",
    "        super(PointNetEncoder, self).__init__()\n",
    "        self.conv1 = torch.nn.Conv1d(channel, 64, 1)\n",
    "        self.conv2 = torch.nn.Conv1d(64, 128, 1)\n",
    "        self.conv3 = torch.nn.Conv1d(128, 1024, 1)\n",
    "        self.bn1 = nn.BatchNorm1d(64)\n",
    "        self.bn2 = nn.BatchNorm1d(128)\n",
    "        self.bn3 = nn.BatchNorm1d(1024)\n",
    "\n",
    "    def forward(self, x):\n",
    "        B, D, N = x.size()\n",
    "        x = F.relu(self.bn1(self.conv1(x)))\n",
    "        x = F.relu(self.bn2(self.conv2(x)))\n",
    "        x = self.bn3(self.conv3(x))\n",
    "        x = torch.max(x, 2, keepdim=True)[0]\n",
    "        x = x.view(-1, 1024)\n",
    "\n",
    "        return x\n",
    "        \n",
    "\n",
    "class pointnet_cls(nn.Module):\n",
    "    def __init__(self, k=2000, normal_channel=False):\n",
    "        super(pointnet_cls, self).__init__()\n",
    "        if normal_channel:\n",
    "            channel = 6\n",
    "        else:\n",
    "            channel = 3\n",
    "        self.feat = PointNetEncoder(global_feat=True, channel=channel)\n",
    "        self.fc1 = nn.Linear(1024, 512)\n",
    "        self.fc2 = nn.Linear(512, 256)\n",
    "        self.fc3 = nn.Linear(256, k)\n",
    "        self.dropout = nn.Dropout(p=0.4)\n",
    "        self.bn1 = nn.BatchNorm1d(512)\n",
    "        self.bn2 = nn.BatchNorm1d(256)\n",
    "        self.relu = nn.ReLU()\n",
    "\n",
    "    def forward(self, x):\n",
    "        x = self.feat(x)\n",
    "        x = F.relu(self.bn1(self.fc1(x)))\n",
    "        x = F.relu(self.bn2(self.dropout(self.fc2(x))))\n",
    "        x = self.fc3(x)\n",
    "        x = F.softmax(x, dim=1)\n",
    "        return x"
   ]
  },
  {
   "cell_type": "code",
   "execution_count": 5,
   "metadata": {},
   "outputs": [],
   "source": [
    "train_data = ABC2Dataset_pc(args.csv_dir, args.train_dir, args.taskType)\n",
    "train_loader = DataLoader(train_data, batch_size=args.batchSize, num_workers=args.workers, shuffle=True)"
   ]
  },
  {
   "cell_type": "code",
   "execution_count": 6,
   "metadata": {},
   "outputs": [
    {
     "data": {
      "text/plain": [
       "22968"
      ]
     },
     "execution_count": 6,
     "metadata": {},
     "output_type": "execute_result"
    }
   ],
   "source": [
    "len(train_data)"
   ]
  },
  {
   "cell_type": "code",
   "execution_count": 7,
   "metadata": {},
   "outputs": [],
   "source": [
    "model = pointnet_cls(k=256)\n",
    "\n",
    "opt = torch.optim.Adam(model.parameters(), lr=3e-4)\n",
    "\n",
    "device = torch.device('cuda') if torch.cuda.is_available() else torch.device('cpu')\n",
    "model.to(device)\n",
    "model = model.train()\n",
    "writer = SummaryWriter('iic_pointnet_baseline')\n"
   ]
  },
  {
   "cell_type": "code",
   "execution_count": 8,
   "metadata": {
    "scrolled": true
   },
   "outputs": [
    {
     "name": "stderr",
     "output_type": "stream",
     "text": [
      "100%|██████████| 2297/2297 [01:04<00:00, 35.57it/s]"
     ]
    },
    {
     "name": "stdout",
     "output_type": "stream",
     "text": [
      "epoch, Training loss:  0 -2563.2268825969077\n"
     ]
    },
    {
     "name": "stderr",
     "output_type": "stream",
     "text": [
      "\n",
      "100%|██████████| 2297/2297 [01:07<00:00, 34.17it/s]"
     ]
    },
    {
     "name": "stdout",
     "output_type": "stream",
     "text": [
      "epoch, Training loss:  1 -4050.952571630478\n"
     ]
    },
    {
     "name": "stderr",
     "output_type": "stream",
     "text": [
      "\n",
      "100%|██████████| 2297/2297 [01:08<00:00, 33.74it/s]"
     ]
    },
    {
     "name": "stdout",
     "output_type": "stream",
     "text": [
      "epoch, Training loss:  2 -4500.323747038841\n"
     ]
    },
    {
     "name": "stderr",
     "output_type": "stream",
     "text": [
      "\n",
      "100%|██████████| 2297/2297 [01:08<00:00, 33.48it/s]"
     ]
    },
    {
     "name": "stdout",
     "output_type": "stream",
     "text": [
      "epoch, Training loss:  3 -4739.919529557228\n"
     ]
    },
    {
     "name": "stderr",
     "output_type": "stream",
     "text": [
      "\n",
      "100%|██████████| 2297/2297 [01:08<00:00, 33.46it/s]"
     ]
    },
    {
     "name": "stdout",
     "output_type": "stream",
     "text": [
      "epoch, Training loss:  4 -4914.374559640884\n"
     ]
    },
    {
     "name": "stderr",
     "output_type": "stream",
     "text": [
      "\n",
      "100%|██████████| 2297/2297 [01:08<00:00, 33.39it/s]"
     ]
    },
    {
     "name": "stdout",
     "output_type": "stream",
     "text": [
      "epoch, Training loss:  5 -5037.101469635963\n"
     ]
    },
    {
     "name": "stderr",
     "output_type": "stream",
     "text": [
      "\n",
      "100%|██████████| 2297/2297 [01:09<00:00, 32.97it/s]"
     ]
    },
    {
     "name": "stdout",
     "output_type": "stream",
     "text": [
      "epoch, Training loss:  6 -5179.99608707428\n"
     ]
    },
    {
     "name": "stderr",
     "output_type": "stream",
     "text": [
      "\n",
      "100%|██████████| 2297/2297 [01:09<00:00, 32.87it/s]"
     ]
    },
    {
     "name": "stdout",
     "output_type": "stream",
     "text": [
      "epoch, Training loss:  7 -5329.654037833214\n"
     ]
    },
    {
     "name": "stderr",
     "output_type": "stream",
     "text": [
      "\n",
      "100%|██████████| 2297/2297 [01:10<00:00, 32.75it/s]"
     ]
    },
    {
     "name": "stdout",
     "output_type": "stream",
     "text": [
      "epoch, Training loss:  8 -5500.192034482956\n"
     ]
    },
    {
     "name": "stderr",
     "output_type": "stream",
     "text": [
      "\n",
      "100%|██████████| 2297/2297 [01:10<00:00, 32.68it/s]"
     ]
    },
    {
     "name": "stdout",
     "output_type": "stream",
     "text": [
      "epoch, Training loss:  9 -5667.287063121796\n"
     ]
    },
    {
     "name": "stderr",
     "output_type": "stream",
     "text": [
      "\n",
      "100%|██████████| 2297/2297 [01:10<00:00, 32.52it/s]"
     ]
    },
    {
     "name": "stdout",
     "output_type": "stream",
     "text": [
      "epoch, Training loss:  10 -5791.73764705658\n"
     ]
    },
    {
     "name": "stderr",
     "output_type": "stream",
     "text": [
      "\n",
      "100%|██████████| 2297/2297 [01:10<00:00, 32.36it/s]"
     ]
    },
    {
     "name": "stdout",
     "output_type": "stream",
     "text": [
      "epoch, Training loss:  11 -5895.33956861496\n"
     ]
    },
    {
     "name": "stderr",
     "output_type": "stream",
     "text": [
      "\n",
      "100%|██████████| 2297/2297 [01:10<00:00, 32.42it/s]"
     ]
    },
    {
     "name": "stdout",
     "output_type": "stream",
     "text": [
      "epoch, Training loss:  12 -5989.767723798752\n"
     ]
    },
    {
     "name": "stderr",
     "output_type": "stream",
     "text": [
      "\n",
      "100%|██████████| 2297/2297 [01:11<00:00, 32.21it/s]"
     ]
    },
    {
     "name": "stdout",
     "output_type": "stream",
     "text": [
      "epoch, Training loss:  13 -6060.681067466736\n"
     ]
    },
    {
     "name": "stderr",
     "output_type": "stream",
     "text": [
      "\n",
      "100%|██████████| 2297/2297 [01:10<00:00, 32.47it/s]"
     ]
    },
    {
     "name": "stdout",
     "output_type": "stream",
     "text": [
      "epoch, Training loss:  14 -6123.079252719879\n"
     ]
    },
    {
     "name": "stderr",
     "output_type": "stream",
     "text": [
      "\n",
      "100%|██████████| 2297/2297 [01:10<00:00, 32.41it/s]"
     ]
    },
    {
     "name": "stdout",
     "output_type": "stream",
     "text": [
      "epoch, Training loss:  15 -6172.392023801804\n"
     ]
    },
    {
     "name": "stderr",
     "output_type": "stream",
     "text": [
      "\n",
      "100%|██████████| 2297/2297 [01:10<00:00, 32.42it/s]"
     ]
    },
    {
     "name": "stdout",
     "output_type": "stream",
     "text": [
      "epoch, Training loss:  16 -6215.07114648819\n"
     ]
    },
    {
     "name": "stderr",
     "output_type": "stream",
     "text": [
      "\n",
      "100%|██████████| 2297/2297 [01:10<00:00, 32.44it/s]"
     ]
    },
    {
     "name": "stdout",
     "output_type": "stream",
     "text": [
      "epoch, Training loss:  17 -6249.6136820316315\n"
     ]
    },
    {
     "name": "stderr",
     "output_type": "stream",
     "text": [
      "\n",
      "100%|██████████| 2297/2297 [01:10<00:00, 32.50it/s]"
     ]
    },
    {
     "name": "stdout",
     "output_type": "stream",
     "text": [
      "epoch, Training loss:  18 -6281.443498849869\n"
     ]
    },
    {
     "name": "stderr",
     "output_type": "stream",
     "text": [
      "\n",
      "100%|██████████| 2297/2297 [01:10<00:00, 32.50it/s]"
     ]
    },
    {
     "name": "stdout",
     "output_type": "stream",
     "text": [
      "epoch, Training loss:  19 -6314.632014989853\n"
     ]
    },
    {
     "name": "stderr",
     "output_type": "stream",
     "text": [
      "\n",
      "100%|██████████| 2297/2297 [01:10<00:00, 32.48it/s]"
     ]
    },
    {
     "name": "stdout",
     "output_type": "stream",
     "text": [
      "epoch, Training loss:  20 -6327.095587730408\n"
     ]
    },
    {
     "name": "stderr",
     "output_type": "stream",
     "text": [
      "\n",
      "100%|██████████| 2297/2297 [01:10<00:00, 32.55it/s]"
     ]
    },
    {
     "name": "stdout",
     "output_type": "stream",
     "text": [
      "epoch, Training loss:  21 -6352.3524787425995\n"
     ]
    },
    {
     "name": "stderr",
     "output_type": "stream",
     "text": [
      "\n",
      "100%|██████████| 2297/2297 [01:10<00:00, 32.36it/s]"
     ]
    },
    {
     "name": "stdout",
     "output_type": "stream",
     "text": [
      "epoch, Training loss:  22 -6375.473245859146\n"
     ]
    },
    {
     "name": "stderr",
     "output_type": "stream",
     "text": [
      "\n",
      "100%|██████████| 2297/2297 [01:10<00:00, 32.43it/s]"
     ]
    },
    {
     "name": "stdout",
     "output_type": "stream",
     "text": [
      "epoch, Training loss:  23 -6383.894538164139\n"
     ]
    },
    {
     "name": "stderr",
     "output_type": "stream",
     "text": [
      "\n",
      "100%|██████████| 2297/2297 [01:10<00:00, 32.49it/s]"
     ]
    },
    {
     "name": "stdout",
     "output_type": "stream",
     "text": [
      "epoch, Training loss:  24 -6402.215129852295\n"
     ]
    },
    {
     "name": "stderr",
     "output_type": "stream",
     "text": [
      "\n",
      "100%|██████████| 2297/2297 [01:11<00:00, 32.29it/s]"
     ]
    },
    {
     "name": "stdout",
     "output_type": "stream",
     "text": [
      "epoch, Training loss:  25 -6417.891879796982\n"
     ]
    },
    {
     "name": "stderr",
     "output_type": "stream",
     "text": [
      "\n",
      "100%|██████████| 2297/2297 [01:10<00:00, 32.43it/s]"
     ]
    },
    {
     "name": "stdout",
     "output_type": "stream",
     "text": [
      "epoch, Training loss:  26 -6426.865793466568\n"
     ]
    },
    {
     "name": "stderr",
     "output_type": "stream",
     "text": [
      "\n",
      "100%|██████████| 2297/2297 [01:10<00:00, 32.50it/s]"
     ]
    },
    {
     "name": "stdout",
     "output_type": "stream",
     "text": [
      "epoch, Training loss:  27 -6434.863570213318\n"
     ]
    },
    {
     "name": "stderr",
     "output_type": "stream",
     "text": [
      "\n",
      "100%|██████████| 2297/2297 [01:10<00:00, 32.53it/s]"
     ]
    },
    {
     "name": "stdout",
     "output_type": "stream",
     "text": [
      "epoch, Training loss:  28 -6437.522647857666\n"
     ]
    },
    {
     "name": "stderr",
     "output_type": "stream",
     "text": [
      "\n",
      "100%|██████████| 2297/2297 [01:10<00:00, 32.52it/s]"
     ]
    },
    {
     "name": "stdout",
     "output_type": "stream",
     "text": [
      "epoch, Training loss:  29 -6455.5113253593445\n"
     ]
    },
    {
     "name": "stderr",
     "output_type": "stream",
     "text": [
      "\n",
      "100%|██████████| 2297/2297 [01:10<00:00, 32.57it/s]"
     ]
    },
    {
     "name": "stdout",
     "output_type": "stream",
     "text": [
      "epoch, Training loss:  30 -6465.932829856873\n"
     ]
    },
    {
     "name": "stderr",
     "output_type": "stream",
     "text": [
      "\n",
      "100%|██████████| 2297/2297 [01:10<00:00, 32.37it/s]"
     ]
    },
    {
     "name": "stdout",
     "output_type": "stream",
     "text": [
      "epoch, Training loss:  31 -6472.186025619507\n"
     ]
    },
    {
     "name": "stderr",
     "output_type": "stream",
     "text": [
      "\n",
      "100%|██████████| 2297/2297 [01:10<00:00, 32.44it/s]"
     ]
    },
    {
     "name": "stdout",
     "output_type": "stream",
     "text": [
      "epoch, Training loss:  32 -6482.573924541473\n"
     ]
    },
    {
     "name": "stderr",
     "output_type": "stream",
     "text": [
      "\n",
      "100%|██████████| 2297/2297 [01:11<00:00, 32.34it/s]"
     ]
    },
    {
     "name": "stdout",
     "output_type": "stream",
     "text": [
      "epoch, Training loss:  33 -6489.924809455872\n"
     ]
    },
    {
     "name": "stderr",
     "output_type": "stream",
     "text": [
      "\n",
      "100%|██████████| 2297/2297 [01:11<00:00, 32.28it/s]"
     ]
    },
    {
     "name": "stdout",
     "output_type": "stream",
     "text": [
      "epoch, Training loss:  34 -6488.994112491608\n"
     ]
    },
    {
     "name": "stderr",
     "output_type": "stream",
     "text": [
      "\n",
      "100%|██████████| 2297/2297 [01:11<00:00, 32.32it/s]"
     ]
    },
    {
     "name": "stdout",
     "output_type": "stream",
     "text": [
      "epoch, Training loss:  35 -6492.583439826965\n"
     ]
    },
    {
     "name": "stderr",
     "output_type": "stream",
     "text": [
      "\n",
      "100%|██████████| 2297/2297 [01:10<00:00, 32.45it/s]"
     ]
    },
    {
     "name": "stdout",
     "output_type": "stream",
     "text": [
      "epoch, Training loss:  36 -6504.955135822296\n"
     ]
    },
    {
     "name": "stderr",
     "output_type": "stream",
     "text": [
      "\n",
      "100%|██████████| 2297/2297 [01:11<00:00, 32.29it/s]"
     ]
    },
    {
     "name": "stdout",
     "output_type": "stream",
     "text": [
      "epoch, Training loss:  37 -6509.662816762924\n"
     ]
    },
    {
     "name": "stderr",
     "output_type": "stream",
     "text": [
      "\n",
      "100%|██████████| 2297/2297 [01:10<00:00, 32.42it/s]"
     ]
    },
    {
     "name": "stdout",
     "output_type": "stream",
     "text": [
      "epoch, Training loss:  38 -6521.078746080399\n"
     ]
    },
    {
     "name": "stderr",
     "output_type": "stream",
     "text": [
      "\n",
      "100%|██████████| 2297/2297 [01:11<00:00, 32.33it/s]"
     ]
    },
    {
     "name": "stdout",
     "output_type": "stream",
     "text": [
      "epoch, Training loss:  39 -6520.000031471252\n"
     ]
    },
    {
     "name": "stderr",
     "output_type": "stream",
     "text": [
      "\n",
      "100%|██████████| 2297/2297 [01:10<00:00, 32.44it/s]"
     ]
    },
    {
     "name": "stdout",
     "output_type": "stream",
     "text": [
      "epoch, Training loss:  40 -6516.431742668152\n"
     ]
    },
    {
     "name": "stderr",
     "output_type": "stream",
     "text": [
      "\n",
      "100%|██████████| 2297/2297 [01:10<00:00, 32.42it/s]"
     ]
    },
    {
     "name": "stdout",
     "output_type": "stream",
     "text": [
      "epoch, Training loss:  41 -6530.171114683151\n"
     ]
    },
    {
     "name": "stderr",
     "output_type": "stream",
     "text": [
      "\n",
      "100%|██████████| 2297/2297 [01:10<00:00, 32.45it/s]"
     ]
    },
    {
     "name": "stdout",
     "output_type": "stream",
     "text": [
      "epoch, Training loss:  42 -6537.167949438095\n"
     ]
    },
    {
     "name": "stderr",
     "output_type": "stream",
     "text": [
      "\n",
      "100%|██████████| 2297/2297 [01:10<00:00, 32.42it/s]"
     ]
    },
    {
     "name": "stdout",
     "output_type": "stream",
     "text": [
      "epoch, Training loss:  43 -6541.7511484622955\n"
     ]
    },
    {
     "name": "stderr",
     "output_type": "stream",
     "text": [
      "\n",
      "100%|██████████| 2297/2297 [01:11<00:00, 32.35it/s]"
     ]
    },
    {
     "name": "stdout",
     "output_type": "stream",
     "text": [
      "epoch, Training loss:  44 -6533.436820983887\n"
     ]
    },
    {
     "name": "stderr",
     "output_type": "stream",
     "text": [
      "\n",
      "100%|██████████| 2297/2297 [01:10<00:00, 32.36it/s]"
     ]
    },
    {
     "name": "stdout",
     "output_type": "stream",
     "text": [
      "epoch, Training loss:  45 -6545.088688135147\n"
     ]
    },
    {
     "name": "stderr",
     "output_type": "stream",
     "text": [
      "\n",
      "100%|██████████| 2297/2297 [01:11<00:00, 32.28it/s]"
     ]
    },
    {
     "name": "stdout",
     "output_type": "stream",
     "text": [
      "epoch, Training loss:  46 -6546.35786151886\n"
     ]
    },
    {
     "name": "stderr",
     "output_type": "stream",
     "text": [
      "\n",
      "100%|██████████| 2297/2297 [01:10<00:00, 32.57it/s]"
     ]
    },
    {
     "name": "stdout",
     "output_type": "stream",
     "text": [
      "epoch, Training loss:  47 -6562.988699197769\n"
     ]
    },
    {
     "name": "stderr",
     "output_type": "stream",
     "text": [
      "\n",
      "100%|██████████| 2297/2297 [01:10<00:00, 32.45it/s]"
     ]
    },
    {
     "name": "stdout",
     "output_type": "stream",
     "text": [
      "epoch, Training loss:  48 -6554.02494263649\n"
     ]
    },
    {
     "name": "stderr",
     "output_type": "stream",
     "text": [
      "\n",
      "100%|██████████| 2297/2297 [01:10<00:00, 32.48it/s]"
     ]
    },
    {
     "name": "stdout",
     "output_type": "stream",
     "text": [
      "epoch, Training loss:  49 -6558.010581493378\n"
     ]
    },
    {
     "name": "stderr",
     "output_type": "stream",
     "text": [
      "\n",
      "100%|██████████| 2297/2297 [01:10<00:00, 32.42it/s]"
     ]
    },
    {
     "name": "stdout",
     "output_type": "stream",
     "text": [
      "epoch, Training loss:  50 -6558.883900403976\n"
     ]
    },
    {
     "name": "stderr",
     "output_type": "stream",
     "text": [
      "\n",
      "100%|██████████| 2297/2297 [01:11<00:00, 32.29it/s]"
     ]
    },
    {
     "name": "stdout",
     "output_type": "stream",
     "text": [
      "epoch, Training loss:  51 -6567.223198413849\n"
     ]
    },
    {
     "name": "stderr",
     "output_type": "stream",
     "text": [
      "\n",
      "100%|██████████| 2297/2297 [01:10<00:00, 32.56it/s]"
     ]
    },
    {
     "name": "stdout",
     "output_type": "stream",
     "text": [
      "epoch, Training loss:  52 -6566.865798473358\n"
     ]
    },
    {
     "name": "stderr",
     "output_type": "stream",
     "text": [
      "\n",
      "100%|██████████| 2297/2297 [01:10<00:00, 32.41it/s]"
     ]
    },
    {
     "name": "stdout",
     "output_type": "stream",
     "text": [
      "epoch, Training loss:  53 -6564.303084611893\n"
     ]
    },
    {
     "name": "stderr",
     "output_type": "stream",
     "text": [
      "\n",
      "100%|██████████| 2297/2297 [01:10<00:00, 32.37it/s]"
     ]
    },
    {
     "name": "stdout",
     "output_type": "stream",
     "text": [
      "epoch, Training loss:  54 -6565.314704418182\n"
     ]
    },
    {
     "name": "stderr",
     "output_type": "stream",
     "text": [
      "\n",
      "100%|██████████| 2297/2297 [01:11<00:00, 32.33it/s]"
     ]
    },
    {
     "name": "stdout",
     "output_type": "stream",
     "text": [
      "epoch, Training loss:  55 -6573.282817363739\n"
     ]
    },
    {
     "name": "stderr",
     "output_type": "stream",
     "text": [
      "\n",
      "100%|██████████| 2297/2297 [01:10<00:00, 32.47it/s]"
     ]
    },
    {
     "name": "stdout",
     "output_type": "stream",
     "text": [
      "epoch, Training loss:  56 -6576.23489689827\n"
     ]
    },
    {
     "name": "stderr",
     "output_type": "stream",
     "text": [
      "\n",
      "100%|██████████| 2297/2297 [01:10<00:00, 32.43it/s]"
     ]
    },
    {
     "name": "stdout",
     "output_type": "stream",
     "text": [
      "epoch, Training loss:  57 -6573.928010702133\n"
     ]
    },
    {
     "name": "stderr",
     "output_type": "stream",
     "text": [
      "\n",
      "100%|██████████| 2297/2297 [01:10<00:00, 32.39it/s]"
     ]
    },
    {
     "name": "stdout",
     "output_type": "stream",
     "text": [
      "epoch, Training loss:  58 -6584.21563243866\n"
     ]
    },
    {
     "name": "stderr",
     "output_type": "stream",
     "text": [
      "\n",
      "100%|██████████| 2297/2297 [01:10<00:00, 32.35it/s]\n"
     ]
    },
    {
     "name": "stdout",
     "output_type": "stream",
     "text": [
      "epoch, Training loss:  59 -6575.954509019852\n"
     ]
    },
    {
     "name": "stderr",
     "output_type": "stream",
     "text": [
      "100%|██████████| 2297/2297 [01:11<00:00, 32.20it/s]"
     ]
    },
    {
     "name": "stdout",
     "output_type": "stream",
     "text": [
      "epoch, Training loss:  60 -6586.907736539841\n"
     ]
    },
    {
     "name": "stderr",
     "output_type": "stream",
     "text": [
      "\n",
      "100%|██████████| 2297/2297 [01:10<00:00, 32.45it/s]"
     ]
    },
    {
     "name": "stdout",
     "output_type": "stream",
     "text": [
      "epoch, Training loss:  61 -6579.751161813736\n"
     ]
    },
    {
     "name": "stderr",
     "output_type": "stream",
     "text": [
      "\n",
      "100%|██████████| 2297/2297 [01:10<00:00, 32.43it/s]"
     ]
    },
    {
     "name": "stdout",
     "output_type": "stream",
     "text": [
      "epoch, Training loss:  62 -6591.7231528759\n"
     ]
    },
    {
     "name": "stderr",
     "output_type": "stream",
     "text": [
      "\n",
      "100%|██████████| 2297/2297 [01:10<00:00, 32.57it/s]"
     ]
    },
    {
     "name": "stdout",
     "output_type": "stream",
     "text": [
      "epoch, Training loss:  63 -6584.721755027771\n"
     ]
    },
    {
     "name": "stderr",
     "output_type": "stream",
     "text": [
      "\n",
      "100%|██████████| 2297/2297 [01:10<00:00, 32.42it/s]"
     ]
    },
    {
     "name": "stdout",
     "output_type": "stream",
     "text": [
      "epoch, Training loss:  64 -6597.804543495178\n"
     ]
    },
    {
     "name": "stderr",
     "output_type": "stream",
     "text": [
      "\n",
      "100%|██████████| 2297/2297 [01:11<00:00, 32.32it/s]"
     ]
    },
    {
     "name": "stdout",
     "output_type": "stream",
     "text": [
      "epoch, Training loss:  65 -6594.175172328949\n"
     ]
    },
    {
     "name": "stderr",
     "output_type": "stream",
     "text": [
      "\n",
      "100%|██████████| 2297/2297 [01:10<00:00, 32.44it/s]"
     ]
    },
    {
     "name": "stdout",
     "output_type": "stream",
     "text": [
      "epoch, Training loss:  66 -6608.1840443611145\n"
     ]
    },
    {
     "name": "stderr",
     "output_type": "stream",
     "text": [
      "\n",
      "100%|██████████| 2297/2297 [01:10<00:00, 32.49it/s]"
     ]
    },
    {
     "name": "stdout",
     "output_type": "stream",
     "text": [
      "epoch, Training loss:  67 -6612.003643751144\n"
     ]
    },
    {
     "name": "stderr",
     "output_type": "stream",
     "text": [
      "\n",
      "100%|██████████| 2297/2297 [01:10<00:00, 32.50it/s]"
     ]
    },
    {
     "name": "stdout",
     "output_type": "stream",
     "text": [
      "epoch, Training loss:  68 -6601.7912774086\n"
     ]
    },
    {
     "name": "stderr",
     "output_type": "stream",
     "text": [
      "\n",
      "100%|██████████| 2297/2297 [01:10<00:00, 32.45it/s]"
     ]
    },
    {
     "name": "stdout",
     "output_type": "stream",
     "text": [
      "epoch, Training loss:  69 -6605.23509812355\n"
     ]
    },
    {
     "name": "stderr",
     "output_type": "stream",
     "text": [
      "\n",
      "100%|██████████| 2297/2297 [01:10<00:00, 32.43it/s]"
     ]
    },
    {
     "name": "stdout",
     "output_type": "stream",
     "text": [
      "epoch, Training loss:  70 -6596.798934459686\n"
     ]
    },
    {
     "name": "stderr",
     "output_type": "stream",
     "text": [
      "\n",
      "100%|██████████| 2297/2297 [01:11<00:00, 32.25it/s]"
     ]
    },
    {
     "name": "stdout",
     "output_type": "stream",
     "text": [
      "epoch, Training loss:  71 -6608.333466053009\n"
     ]
    },
    {
     "name": "stderr",
     "output_type": "stream",
     "text": [
      "\n",
      "100%|██████████| 2297/2297 [01:10<00:00, 32.44it/s]"
     ]
    },
    {
     "name": "stdout",
     "output_type": "stream",
     "text": [
      "epoch, Training loss:  72 -6602.05374956131\n"
     ]
    },
    {
     "name": "stderr",
     "output_type": "stream",
     "text": [
      "\n",
      "100%|██████████| 2297/2297 [01:10<00:00, 32.36it/s]"
     ]
    },
    {
     "name": "stdout",
     "output_type": "stream",
     "text": [
      "epoch, Training loss:  73 -6604.045810461044\n"
     ]
    },
    {
     "name": "stderr",
     "output_type": "stream",
     "text": [
      "\n",
      "100%|██████████| 2297/2297 [01:11<00:00, 32.32it/s]"
     ]
    },
    {
     "name": "stdout",
     "output_type": "stream",
     "text": [
      "epoch, Training loss:  74 -6600.523146152496\n"
     ]
    },
    {
     "name": "stderr",
     "output_type": "stream",
     "text": [
      "\n",
      "100%|██████████| 2297/2297 [01:11<00:00, 32.27it/s]"
     ]
    },
    {
     "name": "stdout",
     "output_type": "stream",
     "text": [
      "epoch, Training loss:  75 -6601.204106807709\n"
     ]
    },
    {
     "name": "stderr",
     "output_type": "stream",
     "text": [
      "\n",
      "100%|██████████| 2297/2297 [01:10<00:00, 32.37it/s]"
     ]
    },
    {
     "name": "stdout",
     "output_type": "stream",
     "text": [
      "epoch, Training loss:  76 -6613.416275262833\n"
     ]
    },
    {
     "name": "stderr",
     "output_type": "stream",
     "text": [
      "\n",
      "100%|██████████| 2297/2297 [01:10<00:00, 32.58it/s]"
     ]
    },
    {
     "name": "stdout",
     "output_type": "stream",
     "text": [
      "epoch, Training loss:  77 -6607.604194641113\n"
     ]
    },
    {
     "name": "stderr",
     "output_type": "stream",
     "text": [
      "\n",
      "100%|██████████| 2297/2297 [01:10<00:00, 32.69it/s]"
     ]
    },
    {
     "name": "stdout",
     "output_type": "stream",
     "text": [
      "epoch, Training loss:  78 -6613.619949579239\n"
     ]
    },
    {
     "name": "stderr",
     "output_type": "stream",
     "text": [
      "\n",
      "100%|██████████| 2297/2297 [01:10<00:00, 32.71it/s]"
     ]
    },
    {
     "name": "stdout",
     "output_type": "stream",
     "text": [
      "epoch, Training loss:  79 -6612.437024354935\n"
     ]
    },
    {
     "name": "stderr",
     "output_type": "stream",
     "text": [
      "\n",
      "100%|██████████| 2297/2297 [01:10<00:00, 32.64it/s]"
     ]
    },
    {
     "name": "stdout",
     "output_type": "stream",
     "text": [
      "epoch, Training loss:  80 -6616.663692474365\n"
     ]
    },
    {
     "name": "stderr",
     "output_type": "stream",
     "text": [
      "\n",
      "100%|██████████| 2297/2297 [01:10<00:00, 32.66it/s]"
     ]
    },
    {
     "name": "stdout",
     "output_type": "stream",
     "text": [
      "epoch, Training loss:  81 -6614.602504491806\n"
     ]
    },
    {
     "name": "stderr",
     "output_type": "stream",
     "text": [
      "\n",
      "100%|██████████| 2297/2297 [01:10<00:00, 32.72it/s]"
     ]
    },
    {
     "name": "stdout",
     "output_type": "stream",
     "text": [
      "epoch, Training loss:  82 -6614.7091472148895\n"
     ]
    },
    {
     "name": "stderr",
     "output_type": "stream",
     "text": [
      "\n",
      "100%|██████████| 2297/2297 [01:09<00:00, 32.83it/s]"
     ]
    },
    {
     "name": "stdout",
     "output_type": "stream",
     "text": [
      "epoch, Training loss:  83 -6625.794642925262\n"
     ]
    },
    {
     "name": "stderr",
     "output_type": "stream",
     "text": [
      "\n",
      "100%|██████████| 2297/2297 [01:10<00:00, 32.73it/s]"
     ]
    },
    {
     "name": "stdout",
     "output_type": "stream",
     "text": [
      "epoch, Training loss:  84 -6620.151348829269\n"
     ]
    },
    {
     "name": "stderr",
     "output_type": "stream",
     "text": [
      "\n",
      "100%|██████████| 2297/2297 [01:10<00:00, 32.76it/s]"
     ]
    },
    {
     "name": "stdout",
     "output_type": "stream",
     "text": [
      "epoch, Training loss:  85 -6624.310397148132\n"
     ]
    },
    {
     "name": "stderr",
     "output_type": "stream",
     "text": [
      "\n",
      "100%|██████████| 2297/2297 [01:10<00:00, 32.81it/s]"
     ]
    },
    {
     "name": "stdout",
     "output_type": "stream",
     "text": [
      "epoch, Training loss:  86 -6626.656254291534\n"
     ]
    },
    {
     "name": "stderr",
     "output_type": "stream",
     "text": [
      "\n",
      "100%|██████████| 2297/2297 [01:09<00:00, 32.92it/s]"
     ]
    },
    {
     "name": "stdout",
     "output_type": "stream",
     "text": [
      "epoch, Training loss:  87 -6623.281843185425\n"
     ]
    },
    {
     "name": "stderr",
     "output_type": "stream",
     "text": [
      "\n",
      "100%|██████████| 2297/2297 [01:09<00:00, 32.87it/s]"
     ]
    },
    {
     "name": "stdout",
     "output_type": "stream",
     "text": [
      "epoch, Training loss:  88 -6615.149544477463\n"
     ]
    },
    {
     "name": "stderr",
     "output_type": "stream",
     "text": [
      "\n",
      "100%|██████████| 2297/2297 [01:10<00:00, 32.81it/s]"
     ]
    },
    {
     "name": "stdout",
     "output_type": "stream",
     "text": [
      "epoch, Training loss:  89 -6628.613304138184\n"
     ]
    },
    {
     "name": "stderr",
     "output_type": "stream",
     "text": [
      "\n",
      "100%|██████████| 2297/2297 [01:09<00:00, 32.96it/s]"
     ]
    },
    {
     "name": "stdout",
     "output_type": "stream",
     "text": [
      "epoch, Training loss:  90 -6622.982315778732\n"
     ]
    },
    {
     "name": "stderr",
     "output_type": "stream",
     "text": [
      "\n",
      "100%|██████████| 2297/2297 [01:09<00:00, 33.14it/s]"
     ]
    },
    {
     "name": "stdout",
     "output_type": "stream",
     "text": [
      "epoch, Training loss:  91 -6627.8914659023285\n"
     ]
    },
    {
     "name": "stderr",
     "output_type": "stream",
     "text": [
      "\n",
      "100%|██████████| 2297/2297 [01:09<00:00, 33.23it/s]"
     ]
    },
    {
     "name": "stdout",
     "output_type": "stream",
     "text": [
      "epoch, Training loss:  92 -6630.112178325653\n"
     ]
    },
    {
     "name": "stderr",
     "output_type": "stream",
     "text": [
      "\n",
      "100%|██████████| 2297/2297 [01:09<00:00, 33.22it/s]"
     ]
    },
    {
     "name": "stdout",
     "output_type": "stream",
     "text": [
      "epoch, Training loss:  93 -6619.426297664642\n"
     ]
    },
    {
     "name": "stderr",
     "output_type": "stream",
     "text": [
      "\n",
      "100%|██████████| 2297/2297 [01:09<00:00, 33.27it/s]"
     ]
    },
    {
     "name": "stdout",
     "output_type": "stream",
     "text": [
      "epoch, Training loss:  94 -6622.13078045845\n"
     ]
    },
    {
     "name": "stderr",
     "output_type": "stream",
     "text": [
      "\n",
      "100%|██████████| 2297/2297 [01:08<00:00, 33.34it/s]"
     ]
    },
    {
     "name": "stdout",
     "output_type": "stream",
     "text": [
      "epoch, Training loss:  95 -6631.590719461441\n"
     ]
    },
    {
     "name": "stderr",
     "output_type": "stream",
     "text": [
      "\n",
      "100%|██████████| 2297/2297 [01:08<00:00, 33.37it/s]"
     ]
    },
    {
     "name": "stdout",
     "output_type": "stream",
     "text": [
      "epoch, Training loss:  96 -6623.379580974579\n"
     ]
    },
    {
     "name": "stderr",
     "output_type": "stream",
     "text": [
      "\n",
      "100%|██████████| 2297/2297 [01:09<00:00, 33.29it/s]"
     ]
    },
    {
     "name": "stdout",
     "output_type": "stream",
     "text": [
      "epoch, Training loss:  97 -6639.638449668884\n"
     ]
    },
    {
     "name": "stderr",
     "output_type": "stream",
     "text": [
      "\n",
      "100%|██████████| 2297/2297 [01:09<00:00, 33.14it/s]"
     ]
    },
    {
     "name": "stdout",
     "output_type": "stream",
     "text": [
      "epoch, Training loss:  98 -6625.514168024063\n"
     ]
    },
    {
     "name": "stderr",
     "output_type": "stream",
     "text": [
      "\n",
      "100%|██████████| 2297/2297 [01:09<00:00, 33.22it/s]"
     ]
    },
    {
     "name": "stdout",
     "output_type": "stream",
     "text": [
      "epoch, Training loss:  99 -6630.938138484955\n"
     ]
    },
    {
     "name": "stderr",
     "output_type": "stream",
     "text": [
      "\n"
     ]
    }
   ],
   "source": [
    "for epoch in range(100):\n",
    "    Loss = 0\n",
    "    for batch_id, data in tqdm(enumerate(train_loader, 0), total=len(train_loader), smoothing=0):\n",
    "        pc1, pc2 = data\n",
    "        pc1, pc2 = pc1.cuda(), pc2.cuda()\n",
    "        \n",
    "        x_outs = model(pc1)\n",
    "        x_tf_outs = model(pc2)\n",
    "#         print(pc1.shape, pc2.shape, x_outs.shape, x_tf_outs.shape)\n",
    "        loss, loss_no_lamb = IID_loss(x_outs, x_tf_outs, lamb=args.lamb)\n",
    "#         print(loss, loss_no_lamb)\n",
    "        Loss += loss.item()\n",
    "        opt.zero_grad()\n",
    "        loss.backward()\n",
    "        opt.step()\n",
    "    \n",
    "    writer.add_scalars('train_loss', {'train_loss': Loss,}, epoch)\n",
    "    print(\"epoch, Training loss: \", epoch, Loss)\n",
    "# save your improved network\n",
    "torch.save(model.state_dict(), './model_iic_k256.pt')\n",
    "\n",
    "writer.export_scalars_to_json(\"./iic_pointnet_baseline.json\")\n",
    "writer.close()"
   ]
  },
  {
   "cell_type": "code",
   "execution_count": 9,
   "metadata": {},
   "outputs": [],
   "source": [
    "class PointNetEncoder(nn.Module):\n",
    "    def __init__(self, global_feat=True, channel=3):\n",
    "        super(PointNetEncoder, self).__init__()\n",
    "        self.conv1 = torch.nn.Conv1d(channel, 64, 1)\n",
    "        self.conv2 = torch.nn.Conv1d(64, 128, 1)\n",
    "        self.conv3 = torch.nn.Conv1d(128, 1024, 1)\n",
    "        self.bn1 = nn.BatchNorm1d(64)\n",
    "        self.bn2 = nn.BatchNorm1d(128)\n",
    "        self.bn3 = nn.BatchNorm1d(1024)\n",
    "\n",
    "    def forward(self, x):\n",
    "        B, D, N = x.size()\n",
    "        x = F.relu(self.bn1(self.conv1(x)))\n",
    "        x = F.relu(self.bn2(self.conv2(x)))\n",
    "        x = self.bn3(self.conv3(x))\n",
    "        x = torch.max(x, 2, keepdim=True)[0]\n",
    "        x = x.view(-1, 1024)\n",
    "\n",
    "        return x\n",
    "        \n",
    "\n",
    "class pointnet_cls(nn.Module):\n",
    "    def __init__(self, k=2000, normal_channel=False):\n",
    "        super(pointnet_cls, self).__init__()\n",
    "        if normal_channel:\n",
    "            channel = 6\n",
    "        else:\n",
    "            channel = 3\n",
    "        self.feat = PointNetEncoder(global_feat=True, channel=channel)\n",
    "        self.fc1 = nn.Linear(1024, 512)\n",
    "        self.fc2 = nn.Linear(512, 256)\n",
    "        self.fc3 = nn.Linear(256, k)\n",
    "        self.dropout = nn.Dropout(p=0.4)\n",
    "        self.bn1 = nn.BatchNorm1d(512)\n",
    "        self.bn2 = nn.BatchNorm1d(256)\n",
    "        self.relu = nn.ReLU()\n",
    "\n",
    "    def forward(self, x):\n",
    "        x = self.feat(x)\n",
    "        fea = x\n",
    "        x = F.relu(self.bn1(self.fc1(x)))\n",
    "        x = F.relu(self.bn2(self.dropout(self.fc2(x))))\n",
    "        x = self.fc3(x)\n",
    "        x = F.softmax(x, dim=1)\n",
    "        return fea, x"
   ]
  },
  {
   "cell_type": "code",
   "execution_count": 11,
   "metadata": {},
   "outputs": [],
   "source": [
    "train_data = ABC2Dataset_pc_test(args.csv_dir, args.train_dir, args.taskType)\n",
    "train_loader = DataLoader(train_data, batch_size=args.batchSize, num_workers=args.workers, shuffle=False)"
   ]
  },
  {
   "cell_type": "code",
   "execution_count": 62,
   "metadata": {},
   "outputs": [
    {
     "data": {
      "text/plain": [
       "pointnet_cls(\n",
       "  (feat): PointNetEncoder(\n",
       "    (conv1): Conv1d(3, 64, kernel_size=(1,), stride=(1,))\n",
       "    (conv2): Conv1d(64, 128, kernel_size=(1,), stride=(1,))\n",
       "    (conv3): Conv1d(128, 1024, kernel_size=(1,), stride=(1,))\n",
       "    (bn1): BatchNorm1d(64, eps=1e-05, momentum=0.1, affine=True, track_running_stats=True)\n",
       "    (bn2): BatchNorm1d(128, eps=1e-05, momentum=0.1, affine=True, track_running_stats=True)\n",
       "    (bn3): BatchNorm1d(1024, eps=1e-05, momentum=0.1, affine=True, track_running_stats=True)\n",
       "  )\n",
       "  (fc1): Linear(in_features=1024, out_features=512, bias=True)\n",
       "  (fc2): Linear(in_features=512, out_features=256, bias=True)\n",
       "  (fc3): Linear(in_features=256, out_features=32, bias=True)\n",
       "  (dropout): Dropout(p=0.4, inplace=False)\n",
       "  (bn1): BatchNorm1d(512, eps=1e-05, momentum=0.1, affine=True, track_running_stats=True)\n",
       "  (bn2): BatchNorm1d(256, eps=1e-05, momentum=0.1, affine=True, track_running_stats=True)\n",
       "  (relu): ReLU()\n",
       ")"
      ]
     },
     "execution_count": 62,
     "metadata": {},
     "output_type": "execute_result"
    }
   ],
   "source": [
    "model = pointnet_cls(k=32)\n",
    "device = torch.device('cuda') if torch.cuda.is_available() else torch.device('cpu')\n",
    "model.to(device)\n",
    "model.load_state_dict(torch.load('./model_iic_k32.pt'))\n",
    "model.eval()"
   ]
  },
  {
   "cell_type": "code",
   "execution_count": 63,
   "metadata": {},
   "outputs": [
    {
     "name": "stdout",
     "output_type": "stream",
     "text": [
      "0 torch.Size([10, 1024]) torch.Size([10, 3, 4096]) torch.Size([10, 32])\n",
      "1 torch.Size([10, 1024]) torch.Size([10, 3, 4096]) torch.Size([10, 32])\n",
      "2 torch.Size([10, 1024]) torch.Size([10, 3, 4096]) torch.Size([10, 32])\n",
      "3 torch.Size([10, 1024]) torch.Size([10, 3, 4096]) torch.Size([10, 32])\n",
      "4 torch.Size([10, 1024]) torch.Size([10, 3, 4096]) torch.Size([10, 32])\n",
      "5 torch.Size([10, 1024]) torch.Size([10, 3, 4096]) torch.Size([10, 32])\n",
      "6 torch.Size([10, 1024]) torch.Size([10, 3, 4096]) torch.Size([10, 32])\n",
      "7 torch.Size([10, 1024]) torch.Size([10, 3, 4096]) torch.Size([10, 32])\n",
      "8 torch.Size([10, 1024]) torch.Size([10, 3, 4096]) torch.Size([10, 32])\n",
      "9 torch.Size([10, 1024]) torch.Size([10, 3, 4096]) torch.Size([10, 32])\n",
      "10 torch.Size([10, 1024]) torch.Size([10, 3, 4096]) torch.Size([10, 32])\n",
      "11 torch.Size([10, 1024]) torch.Size([10, 3, 4096]) torch.Size([10, 32])\n",
      "12 torch.Size([10, 1024]) torch.Size([10, 3, 4096]) torch.Size([10, 32])\n",
      "13 torch.Size([10, 1024]) torch.Size([10, 3, 4096]) torch.Size([10, 32])\n",
      "14 torch.Size([10, 1024]) torch.Size([10, 3, 4096]) torch.Size([10, 32])\n",
      "15 torch.Size([10, 1024]) torch.Size([10, 3, 4096]) torch.Size([10, 32])\n",
      "16 torch.Size([10, 1024]) torch.Size([10, 3, 4096]) torch.Size([10, 32])\n",
      "17 torch.Size([10, 1024]) torch.Size([10, 3, 4096]) torch.Size([10, 32])\n",
      "18 torch.Size([10, 1024]) torch.Size([10, 3, 4096]) torch.Size([10, 32])\n",
      "19 torch.Size([10, 1024]) torch.Size([10, 3, 4096]) torch.Size([10, 32])\n",
      "20 torch.Size([10, 1024]) torch.Size([10, 3, 4096]) torch.Size([10, 32])\n",
      "21 torch.Size([10, 1024]) torch.Size([10, 3, 4096]) torch.Size([10, 32])\n",
      "22 torch.Size([10, 1024]) torch.Size([10, 3, 4096]) torch.Size([10, 32])\n",
      "23 torch.Size([10, 1024]) torch.Size([10, 3, 4096]) torch.Size([10, 32])\n",
      "24 torch.Size([10, 1024]) torch.Size([10, 3, 4096]) torch.Size([10, 32])\n",
      "25 torch.Size([10, 1024]) torch.Size([10, 3, 4096]) torch.Size([10, 32])\n",
      "26 torch.Size([10, 1024]) torch.Size([10, 3, 4096]) torch.Size([10, 32])\n",
      "27 torch.Size([10, 1024]) torch.Size([10, 3, 4096]) torch.Size([10, 32])\n",
      "28 torch.Size([10, 1024]) torch.Size([10, 3, 4096]) torch.Size([10, 32])\n",
      "29 torch.Size([10, 1024]) torch.Size([10, 3, 4096]) torch.Size([10, 32])\n",
      "30 torch.Size([10, 1024]) torch.Size([10, 3, 4096]) torch.Size([10, 32])\n",
      "31 torch.Size([10, 1024]) torch.Size([10, 3, 4096]) torch.Size([10, 32])\n",
      "32 torch.Size([10, 1024]) torch.Size([10, 3, 4096]) torch.Size([10, 32])\n",
      "33 torch.Size([10, 1024]) torch.Size([10, 3, 4096]) torch.Size([10, 32])\n",
      "34 torch.Size([10, 1024]) torch.Size([10, 3, 4096]) torch.Size([10, 32])\n",
      "35 torch.Size([10, 1024]) torch.Size([10, 3, 4096]) torch.Size([10, 32])\n",
      "36 torch.Size([10, 1024]) torch.Size([10, 3, 4096]) torch.Size([10, 32])\n",
      "37 torch.Size([10, 1024]) torch.Size([10, 3, 4096]) torch.Size([10, 32])\n",
      "38 torch.Size([10, 1024]) torch.Size([10, 3, 4096]) torch.Size([10, 32])\n",
      "39 torch.Size([10, 1024]) torch.Size([10, 3, 4096]) torch.Size([10, 32])\n",
      "40 torch.Size([10, 1024]) torch.Size([10, 3, 4096]) torch.Size([10, 32])\n",
      "41 torch.Size([10, 1024]) torch.Size([10, 3, 4096]) torch.Size([10, 32])\n",
      "42 torch.Size([10, 1024]) torch.Size([10, 3, 4096]) torch.Size([10, 32])\n",
      "43 torch.Size([10, 1024]) torch.Size([10, 3, 4096]) torch.Size([10, 32])\n",
      "44 torch.Size([10, 1024]) torch.Size([10, 3, 4096]) torch.Size([10, 32])\n",
      "45 torch.Size([10, 1024]) torch.Size([10, 3, 4096]) torch.Size([10, 32])\n",
      "46 torch.Size([10, 1024]) torch.Size([10, 3, 4096]) torch.Size([10, 32])\n",
      "47 torch.Size([10, 1024]) torch.Size([10, 3, 4096]) torch.Size([10, 32])\n",
      "48 torch.Size([10, 1024]) torch.Size([10, 3, 4096]) torch.Size([10, 32])\n",
      "49 torch.Size([10, 1024]) torch.Size([10, 3, 4096]) torch.Size([10, 32])\n",
      "50 torch.Size([10, 1024]) torch.Size([10, 3, 4096]) torch.Size([10, 32])\n",
      "51 torch.Size([10, 1024]) torch.Size([10, 3, 4096]) torch.Size([10, 32])\n",
      "52 torch.Size([10, 1024]) torch.Size([10, 3, 4096]) torch.Size([10, 32])\n",
      "53 torch.Size([10, 1024]) torch.Size([10, 3, 4096]) torch.Size([10, 32])\n",
      "54 torch.Size([10, 1024]) torch.Size([10, 3, 4096]) torch.Size([10, 32])\n",
      "55 torch.Size([10, 1024]) torch.Size([10, 3, 4096]) torch.Size([10, 32])\n",
      "56 torch.Size([10, 1024]) torch.Size([10, 3, 4096]) torch.Size([10, 32])\n",
      "57 torch.Size([10, 1024]) torch.Size([10, 3, 4096]) torch.Size([10, 32])\n",
      "58 torch.Size([10, 1024]) torch.Size([10, 3, 4096]) torch.Size([10, 32])\n",
      "59 torch.Size([10, 1024]) torch.Size([10, 3, 4096]) torch.Size([10, 32])\n",
      "60 torch.Size([10, 1024]) torch.Size([10, 3, 4096]) torch.Size([10, 32])\n",
      "61 torch.Size([10, 1024]) torch.Size([10, 3, 4096]) torch.Size([10, 32])\n",
      "62 torch.Size([10, 1024]) torch.Size([10, 3, 4096]) torch.Size([10, 32])\n",
      "63 torch.Size([10, 1024]) torch.Size([10, 3, 4096]) torch.Size([10, 32])\n",
      "64 torch.Size([10, 1024]) torch.Size([10, 3, 4096]) torch.Size([10, 32])\n",
      "65 torch.Size([10, 1024]) torch.Size([10, 3, 4096]) torch.Size([10, 32])\n",
      "66 torch.Size([10, 1024]) torch.Size([10, 3, 4096]) torch.Size([10, 32])\n",
      "67 torch.Size([10, 1024]) torch.Size([10, 3, 4096]) torch.Size([10, 32])\n",
      "68 torch.Size([10, 1024]) torch.Size([10, 3, 4096]) torch.Size([10, 32])\n",
      "69 torch.Size([10, 1024]) torch.Size([10, 3, 4096]) torch.Size([10, 32])\n",
      "70 torch.Size([10, 1024]) torch.Size([10, 3, 4096]) torch.Size([10, 32])\n",
      "71 torch.Size([10, 1024]) torch.Size([10, 3, 4096]) torch.Size([10, 32])\n",
      "72 torch.Size([10, 1024]) torch.Size([10, 3, 4096]) torch.Size([10, 32])\n",
      "73 torch.Size([10, 1024]) torch.Size([10, 3, 4096]) torch.Size([10, 32])\n",
      "74 torch.Size([10, 1024]) torch.Size([10, 3, 4096]) torch.Size([10, 32])\n",
      "75 torch.Size([10, 1024]) torch.Size([10, 3, 4096]) torch.Size([10, 32])\n",
      "76 torch.Size([10, 1024]) torch.Size([10, 3, 4096]) torch.Size([10, 32])\n",
      "77 torch.Size([10, 1024]) torch.Size([10, 3, 4096]) torch.Size([10, 32])\n",
      "78 torch.Size([10, 1024]) torch.Size([10, 3, 4096]) torch.Size([10, 32])\n",
      "79 torch.Size([10, 1024]) torch.Size([10, 3, 4096]) torch.Size([10, 32])\n",
      "80 torch.Size([10, 1024]) torch.Size([10, 3, 4096]) torch.Size([10, 32])\n",
      "81 torch.Size([10, 1024]) torch.Size([10, 3, 4096]) torch.Size([10, 32])\n",
      "82 torch.Size([10, 1024]) torch.Size([10, 3, 4096]) torch.Size([10, 32])\n",
      "83 torch.Size([10, 1024]) torch.Size([10, 3, 4096]) torch.Size([10, 32])\n",
      "84 torch.Size([10, 1024]) torch.Size([10, 3, 4096]) torch.Size([10, 32])\n",
      "85 torch.Size([10, 1024]) torch.Size([10, 3, 4096]) torch.Size([10, 32])\n",
      "86 torch.Size([10, 1024]) torch.Size([10, 3, 4096]) torch.Size([10, 32])\n",
      "87 torch.Size([10, 1024]) torch.Size([10, 3, 4096]) torch.Size([10, 32])\n",
      "88 torch.Size([10, 1024]) torch.Size([10, 3, 4096]) torch.Size([10, 32])\n",
      "89 torch.Size([10, 1024]) torch.Size([10, 3, 4096]) torch.Size([10, 32])\n",
      "90 torch.Size([10, 1024]) torch.Size([10, 3, 4096]) torch.Size([10, 32])\n",
      "91 torch.Size([10, 1024]) torch.Size([10, 3, 4096]) torch.Size([10, 32])\n",
      "92 torch.Size([10, 1024]) torch.Size([10, 3, 4096]) torch.Size([10, 32])\n",
      "93 torch.Size([10, 1024]) torch.Size([10, 3, 4096]) torch.Size([10, 32])\n",
      "94 torch.Size([10, 1024]) torch.Size([10, 3, 4096]) torch.Size([10, 32])\n",
      "95 torch.Size([10, 1024]) torch.Size([10, 3, 4096]) torch.Size([10, 32])\n",
      "96 torch.Size([10, 1024]) torch.Size([10, 3, 4096]) torch.Size([10, 32])\n",
      "97 torch.Size([10, 1024]) torch.Size([10, 3, 4096]) torch.Size([10, 32])\n",
      "98 torch.Size([10, 1024]) torch.Size([10, 3, 4096]) torch.Size([10, 32])\n",
      "99 torch.Size([10, 1024]) torch.Size([10, 3, 4096]) torch.Size([10, 32])\n",
      "100 torch.Size([10, 1024]) torch.Size([10, 3, 4096]) torch.Size([10, 32])\n",
      "101 torch.Size([10, 1024]) torch.Size([10, 3, 4096]) torch.Size([10, 32])\n",
      "102 torch.Size([10, 1024]) torch.Size([10, 3, 4096]) torch.Size([10, 32])\n",
      "103 torch.Size([10, 1024]) torch.Size([10, 3, 4096]) torch.Size([10, 32])\n",
      "104 torch.Size([10, 1024]) torch.Size([10, 3, 4096]) torch.Size([10, 32])\n",
      "105 torch.Size([10, 1024]) torch.Size([10, 3, 4096]) torch.Size([10, 32])\n",
      "106 torch.Size([10, 1024]) torch.Size([10, 3, 4096]) torch.Size([10, 32])\n",
      "107 torch.Size([10, 1024]) torch.Size([10, 3, 4096]) torch.Size([10, 32])\n",
      "108 torch.Size([10, 1024]) torch.Size([10, 3, 4096]) torch.Size([10, 32])\n",
      "109 torch.Size([10, 1024]) torch.Size([10, 3, 4096]) torch.Size([10, 32])\n",
      "110 torch.Size([10, 1024]) torch.Size([10, 3, 4096]) torch.Size([10, 32])\n",
      "111 torch.Size([10, 1024]) torch.Size([10, 3, 4096]) torch.Size([10, 32])\n",
      "112 torch.Size([10, 1024]) torch.Size([10, 3, 4096]) torch.Size([10, 32])\n",
      "113 torch.Size([10, 1024]) torch.Size([10, 3, 4096]) torch.Size([10, 32])\n",
      "114 torch.Size([10, 1024]) torch.Size([10, 3, 4096]) torch.Size([10, 32])\n",
      "115 torch.Size([10, 1024]) torch.Size([10, 3, 4096]) torch.Size([10, 32])\n",
      "116 torch.Size([10, 1024]) torch.Size([10, 3, 4096]) torch.Size([10, 32])\n",
      "117 torch.Size([10, 1024]) torch.Size([10, 3, 4096]) torch.Size([10, 32])\n",
      "118 torch.Size([10, 1024]) torch.Size([10, 3, 4096]) torch.Size([10, 32])\n",
      "119 torch.Size([10, 1024]) torch.Size([10, 3, 4096]) torch.Size([10, 32])\n",
      "120 torch.Size([10, 1024]) torch.Size([10, 3, 4096]) torch.Size([10, 32])\n",
      "121 torch.Size([10, 1024]) torch.Size([10, 3, 4096]) torch.Size([10, 32])\n",
      "122 torch.Size([10, 1024]) torch.Size([10, 3, 4096]) torch.Size([10, 32])\n",
      "123 torch.Size([10, 1024]) torch.Size([10, 3, 4096]) torch.Size([10, 32])\n",
      "124 torch.Size([10, 1024]) torch.Size([10, 3, 4096]) torch.Size([10, 32])\n",
      "125 torch.Size([10, 1024]) torch.Size([10, 3, 4096]) torch.Size([10, 32])\n",
      "126 torch.Size([10, 1024]) torch.Size([10, 3, 4096]) torch.Size([10, 32])\n",
      "127 torch.Size([10, 1024]) torch.Size([10, 3, 4096]) torch.Size([10, 32])\n",
      "128 torch.Size([10, 1024]) torch.Size([10, 3, 4096]) torch.Size([10, 32])\n",
      "129 torch.Size([10, 1024]) torch.Size([10, 3, 4096]) torch.Size([10, 32])\n",
      "130 torch.Size([10, 1024]) torch.Size([10, 3, 4096]) torch.Size([10, 32])\n",
      "131 torch.Size([10, 1024]) torch.Size([10, 3, 4096]) torch.Size([10, 32])\n",
      "132 torch.Size([10, 1024]) torch.Size([10, 3, 4096]) torch.Size([10, 32])\n",
      "133 torch.Size([10, 1024]) torch.Size([10, 3, 4096]) torch.Size([10, 32])\n",
      "134 torch.Size([10, 1024]) torch.Size([10, 3, 4096]) torch.Size([10, 32])\n",
      "135 torch.Size([10, 1024]) torch.Size([10, 3, 4096]) torch.Size([10, 32])\n",
      "136 torch.Size([10, 1024]) torch.Size([10, 3, 4096]) torch.Size([10, 32])\n",
      "137 torch.Size([10, 1024]) torch.Size([10, 3, 4096]) torch.Size([10, 32])\n",
      "138 torch.Size([10, 1024]) torch.Size([10, 3, 4096]) torch.Size([10, 32])\n",
      "139 torch.Size([10, 1024]) torch.Size([10, 3, 4096]) torch.Size([10, 32])\n",
      "140 torch.Size([10, 1024]) torch.Size([10, 3, 4096]) torch.Size([10, 32])\n",
      "141 torch.Size([10, 1024]) torch.Size([10, 3, 4096]) torch.Size([10, 32])\n",
      "142 torch.Size([10, 1024]) torch.Size([10, 3, 4096]) torch.Size([10, 32])\n",
      "143 torch.Size([10, 1024]) torch.Size([10, 3, 4096]) torch.Size([10, 32])\n",
      "144 torch.Size([10, 1024]) torch.Size([10, 3, 4096]) torch.Size([10, 32])\n",
      "145 torch.Size([10, 1024]) torch.Size([10, 3, 4096]) torch.Size([10, 32])\n",
      "146 torch.Size([10, 1024]) torch.Size([10, 3, 4096]) torch.Size([10, 32])\n"
     ]
    },
    {
     "name": "stdout",
     "output_type": "stream",
     "text": [
      "147 torch.Size([10, 1024]) torch.Size([10, 3, 4096]) torch.Size([10, 32])\n",
      "148 torch.Size([10, 1024]) torch.Size([10, 3, 4096]) torch.Size([10, 32])\n",
      "149 torch.Size([10, 1024]) torch.Size([10, 3, 4096]) torch.Size([10, 32])\n",
      "150 torch.Size([10, 1024]) torch.Size([10, 3, 4096]) torch.Size([10, 32])\n",
      "151 torch.Size([10, 1024]) torch.Size([10, 3, 4096]) torch.Size([10, 32])\n",
      "152 torch.Size([10, 1024]) torch.Size([10, 3, 4096]) torch.Size([10, 32])\n",
      "153 torch.Size([10, 1024]) torch.Size([10, 3, 4096]) torch.Size([10, 32])\n",
      "154 torch.Size([10, 1024]) torch.Size([10, 3, 4096]) torch.Size([10, 32])\n",
      "155 torch.Size([10, 1024]) torch.Size([10, 3, 4096]) torch.Size([10, 32])\n",
      "156 torch.Size([10, 1024]) torch.Size([10, 3, 4096]) torch.Size([10, 32])\n",
      "157 torch.Size([10, 1024]) torch.Size([10, 3, 4096]) torch.Size([10, 32])\n",
      "158 torch.Size([10, 1024]) torch.Size([10, 3, 4096]) torch.Size([10, 32])\n",
      "159 torch.Size([10, 1024]) torch.Size([10, 3, 4096]) torch.Size([10, 32])\n",
      "160 torch.Size([10, 1024]) torch.Size([10, 3, 4096]) torch.Size([10, 32])\n",
      "161 torch.Size([10, 1024]) torch.Size([10, 3, 4096]) torch.Size([10, 32])\n",
      "162 torch.Size([10, 1024]) torch.Size([10, 3, 4096]) torch.Size([10, 32])\n",
      "163 torch.Size([10, 1024]) torch.Size([10, 3, 4096]) torch.Size([10, 32])\n",
      "164 torch.Size([10, 1024]) torch.Size([10, 3, 4096]) torch.Size([10, 32])\n",
      "165 torch.Size([10, 1024]) torch.Size([10, 3, 4096]) torch.Size([10, 32])\n",
      "166 torch.Size([10, 1024]) torch.Size([10, 3, 4096]) torch.Size([10, 32])\n",
      "167 torch.Size([10, 1024]) torch.Size([10, 3, 4096]) torch.Size([10, 32])\n",
      "168 torch.Size([10, 1024]) torch.Size([10, 3, 4096]) torch.Size([10, 32])\n",
      "169 torch.Size([10, 1024]) torch.Size([10, 3, 4096]) torch.Size([10, 32])\n",
      "170 torch.Size([10, 1024]) torch.Size([10, 3, 4096]) torch.Size([10, 32])\n",
      "171 torch.Size([10, 1024]) torch.Size([10, 3, 4096]) torch.Size([10, 32])\n",
      "172 torch.Size([10, 1024]) torch.Size([10, 3, 4096]) torch.Size([10, 32])\n",
      "173 torch.Size([10, 1024]) torch.Size([10, 3, 4096]) torch.Size([10, 32])\n",
      "174 torch.Size([10, 1024]) torch.Size([10, 3, 4096]) torch.Size([10, 32])\n",
      "175 torch.Size([10, 1024]) torch.Size([10, 3, 4096]) torch.Size([10, 32])\n",
      "176 torch.Size([10, 1024]) torch.Size([10, 3, 4096]) torch.Size([10, 32])\n",
      "177 torch.Size([10, 1024]) torch.Size([10, 3, 4096]) torch.Size([10, 32])\n",
      "178 torch.Size([10, 1024]) torch.Size([10, 3, 4096]) torch.Size([10, 32])\n",
      "179 torch.Size([10, 1024]) torch.Size([10, 3, 4096]) torch.Size([10, 32])\n",
      "180 torch.Size([10, 1024]) torch.Size([10, 3, 4096]) torch.Size([10, 32])\n",
      "181 torch.Size([10, 1024]) torch.Size([10, 3, 4096]) torch.Size([10, 32])\n",
      "182 torch.Size([10, 1024]) torch.Size([10, 3, 4096]) torch.Size([10, 32])\n",
      "183 torch.Size([10, 1024]) torch.Size([10, 3, 4096]) torch.Size([10, 32])\n",
      "184 torch.Size([10, 1024]) torch.Size([10, 3, 4096]) torch.Size([10, 32])\n",
      "185 torch.Size([10, 1024]) torch.Size([10, 3, 4096]) torch.Size([10, 32])\n",
      "186 torch.Size([10, 1024]) torch.Size([10, 3, 4096]) torch.Size([10, 32])\n",
      "187 torch.Size([10, 1024]) torch.Size([10, 3, 4096]) torch.Size([10, 32])\n",
      "188 torch.Size([10, 1024]) torch.Size([10, 3, 4096]) torch.Size([10, 32])\n",
      "189 torch.Size([10, 1024]) torch.Size([10, 3, 4096]) torch.Size([10, 32])\n",
      "190 torch.Size([10, 1024]) torch.Size([10, 3, 4096]) torch.Size([10, 32])\n",
      "191 torch.Size([10, 1024]) torch.Size([10, 3, 4096]) torch.Size([10, 32])\n",
      "192 torch.Size([10, 1024]) torch.Size([10, 3, 4096]) torch.Size([10, 32])\n",
      "193 torch.Size([10, 1024]) torch.Size([10, 3, 4096]) torch.Size([10, 32])\n",
      "194 torch.Size([10, 1024]) torch.Size([10, 3, 4096]) torch.Size([10, 32])\n",
      "195 torch.Size([10, 1024]) torch.Size([10, 3, 4096]) torch.Size([10, 32])\n",
      "196 torch.Size([10, 1024]) torch.Size([10, 3, 4096]) torch.Size([10, 32])\n",
      "197 torch.Size([10, 1024]) torch.Size([10, 3, 4096]) torch.Size([10, 32])\n",
      "198 torch.Size([10, 1024]) torch.Size([10, 3, 4096]) torch.Size([10, 32])\n",
      "199 torch.Size([10, 1024]) torch.Size([10, 3, 4096]) torch.Size([10, 32])\n",
      "200 torch.Size([10, 1024]) torch.Size([10, 3, 4096]) torch.Size([10, 32])\n",
      "201 torch.Size([10, 1024]) torch.Size([10, 3, 4096]) torch.Size([10, 32])\n",
      "202 torch.Size([10, 1024]) torch.Size([10, 3, 4096]) torch.Size([10, 32])\n",
      "203 torch.Size([10, 1024]) torch.Size([10, 3, 4096]) torch.Size([10, 32])\n",
      "204 torch.Size([10, 1024]) torch.Size([10, 3, 4096]) torch.Size([10, 32])\n",
      "205 torch.Size([10, 1024]) torch.Size([10, 3, 4096]) torch.Size([10, 32])\n",
      "206 torch.Size([10, 1024]) torch.Size([10, 3, 4096]) torch.Size([10, 32])\n",
      "207 torch.Size([10, 1024]) torch.Size([10, 3, 4096]) torch.Size([10, 32])\n",
      "208 torch.Size([10, 1024]) torch.Size([10, 3, 4096]) torch.Size([10, 32])\n",
      "209 torch.Size([10, 1024]) torch.Size([10, 3, 4096]) torch.Size([10, 32])\n",
      "210 torch.Size([10, 1024]) torch.Size([10, 3, 4096]) torch.Size([10, 32])\n",
      "211 torch.Size([10, 1024]) torch.Size([10, 3, 4096]) torch.Size([10, 32])\n",
      "212 torch.Size([10, 1024]) torch.Size([10, 3, 4096]) torch.Size([10, 32])\n",
      "213 torch.Size([10, 1024]) torch.Size([10, 3, 4096]) torch.Size([10, 32])\n",
      "214 torch.Size([10, 1024]) torch.Size([10, 3, 4096]) torch.Size([10, 32])\n",
      "215 torch.Size([10, 1024]) torch.Size([10, 3, 4096]) torch.Size([10, 32])\n",
      "216 torch.Size([10, 1024]) torch.Size([10, 3, 4096]) torch.Size([10, 32])\n",
      "217 torch.Size([10, 1024]) torch.Size([10, 3, 4096]) torch.Size([10, 32])\n",
      "218 torch.Size([10, 1024]) torch.Size([10, 3, 4096]) torch.Size([10, 32])\n",
      "219 torch.Size([10, 1024]) torch.Size([10, 3, 4096]) torch.Size([10, 32])\n",
      "220 torch.Size([10, 1024]) torch.Size([10, 3, 4096]) torch.Size([10, 32])\n",
      "221 torch.Size([10, 1024]) torch.Size([10, 3, 4096]) torch.Size([10, 32])\n",
      "222 torch.Size([10, 1024]) torch.Size([10, 3, 4096]) torch.Size([10, 32])\n",
      "223 torch.Size([10, 1024]) torch.Size([10, 3, 4096]) torch.Size([10, 32])\n",
      "224 torch.Size([10, 1024]) torch.Size([10, 3, 4096]) torch.Size([10, 32])\n",
      "225 torch.Size([10, 1024]) torch.Size([10, 3, 4096]) torch.Size([10, 32])\n",
      "226 torch.Size([10, 1024]) torch.Size([10, 3, 4096]) torch.Size([10, 32])\n",
      "227 torch.Size([10, 1024]) torch.Size([10, 3, 4096]) torch.Size([10, 32])\n",
      "228 torch.Size([10, 1024]) torch.Size([10, 3, 4096]) torch.Size([10, 32])\n",
      "229 torch.Size([10, 1024]) torch.Size([10, 3, 4096]) torch.Size([10, 32])\n",
      "230 torch.Size([10, 1024]) torch.Size([10, 3, 4096]) torch.Size([10, 32])\n",
      "231 torch.Size([10, 1024]) torch.Size([10, 3, 4096]) torch.Size([10, 32])\n",
      "232 torch.Size([10, 1024]) torch.Size([10, 3, 4096]) torch.Size([10, 32])\n",
      "233 torch.Size([10, 1024]) torch.Size([10, 3, 4096]) torch.Size([10, 32])\n",
      "234 torch.Size([10, 1024]) torch.Size([10, 3, 4096]) torch.Size([10, 32])\n",
      "235 torch.Size([10, 1024]) torch.Size([10, 3, 4096]) torch.Size([10, 32])\n",
      "236 torch.Size([10, 1024]) torch.Size([10, 3, 4096]) torch.Size([10, 32])\n",
      "237 torch.Size([10, 1024]) torch.Size([10, 3, 4096]) torch.Size([10, 32])\n",
      "238 torch.Size([10, 1024]) torch.Size([10, 3, 4096]) torch.Size([10, 32])\n",
      "239 torch.Size([10, 1024]) torch.Size([10, 3, 4096]) torch.Size([10, 32])\n",
      "240 torch.Size([10, 1024]) torch.Size([10, 3, 4096]) torch.Size([10, 32])\n",
      "241 torch.Size([10, 1024]) torch.Size([10, 3, 4096]) torch.Size([10, 32])\n",
      "242 torch.Size([10, 1024]) torch.Size([10, 3, 4096]) torch.Size([10, 32])\n",
      "243 torch.Size([10, 1024]) torch.Size([10, 3, 4096]) torch.Size([10, 32])\n",
      "244 torch.Size([10, 1024]) torch.Size([10, 3, 4096]) torch.Size([10, 32])\n",
      "245 torch.Size([10, 1024]) torch.Size([10, 3, 4096]) torch.Size([10, 32])\n",
      "246 torch.Size([10, 1024]) torch.Size([10, 3, 4096]) torch.Size([10, 32])\n",
      "247 torch.Size([10, 1024]) torch.Size([10, 3, 4096]) torch.Size([10, 32])\n",
      "248 torch.Size([10, 1024]) torch.Size([10, 3, 4096]) torch.Size([10, 32])\n",
      "249 torch.Size([10, 1024]) torch.Size([10, 3, 4096]) torch.Size([10, 32])\n",
      "250 torch.Size([10, 1024]) torch.Size([10, 3, 4096]) torch.Size([10, 32])\n",
      "251 torch.Size([10, 1024]) torch.Size([10, 3, 4096]) torch.Size([10, 32])\n",
      "252 torch.Size([10, 1024]) torch.Size([10, 3, 4096]) torch.Size([10, 32])\n",
      "253 torch.Size([10, 1024]) torch.Size([10, 3, 4096]) torch.Size([10, 32])\n",
      "254 torch.Size([10, 1024]) torch.Size([10, 3, 4096]) torch.Size([10, 32])\n",
      "255 torch.Size([10, 1024]) torch.Size([10, 3, 4096]) torch.Size([10, 32])\n",
      "256 torch.Size([10, 1024]) torch.Size([10, 3, 4096]) torch.Size([10, 32])\n",
      "257 torch.Size([10, 1024]) torch.Size([10, 3, 4096]) torch.Size([10, 32])\n",
      "258 torch.Size([10, 1024]) torch.Size([10, 3, 4096]) torch.Size([10, 32])\n",
      "259 torch.Size([10, 1024]) torch.Size([10, 3, 4096]) torch.Size([10, 32])\n",
      "260 torch.Size([10, 1024]) torch.Size([10, 3, 4096]) torch.Size([10, 32])\n",
      "261 torch.Size([10, 1024]) torch.Size([10, 3, 4096]) torch.Size([10, 32])\n",
      "262 torch.Size([10, 1024]) torch.Size([10, 3, 4096]) torch.Size([10, 32])\n",
      "263 torch.Size([10, 1024]) torch.Size([10, 3, 4096]) torch.Size([10, 32])\n"
     ]
    },
    {
     "name": "stdout",
     "output_type": "stream",
     "text": [
      "264 torch.Size([10, 1024]) torch.Size([10, 3, 4096]) torch.Size([10, 32])\n",
      "265 torch.Size([10, 1024]) torch.Size([10, 3, 4096]) torch.Size([10, 32])\n",
      "266 torch.Size([10, 1024]) torch.Size([10, 3, 4096]) torch.Size([10, 32])\n",
      "267 torch.Size([10, 1024]) torch.Size([10, 3, 4096]) torch.Size([10, 32])\n",
      "268 torch.Size([10, 1024]) torch.Size([10, 3, 4096]) torch.Size([10, 32])\n",
      "269 torch.Size([10, 1024]) torch.Size([10, 3, 4096]) torch.Size([10, 32])\n",
      "270 torch.Size([10, 1024]) torch.Size([10, 3, 4096]) torch.Size([10, 32])\n",
      "271 torch.Size([10, 1024]) torch.Size([10, 3, 4096]) torch.Size([10, 32])\n",
      "272 torch.Size([10, 1024]) torch.Size([10, 3, 4096]) torch.Size([10, 32])\n",
      "273 torch.Size([10, 1024]) torch.Size([10, 3, 4096]) torch.Size([10, 32])\n",
      "274 torch.Size([10, 1024]) torch.Size([10, 3, 4096]) torch.Size([10, 32])\n",
      "275 torch.Size([10, 1024]) torch.Size([10, 3, 4096]) torch.Size([10, 32])\n",
      "276 torch.Size([10, 1024]) torch.Size([10, 3, 4096]) torch.Size([10, 32])\n",
      "277 torch.Size([10, 1024]) torch.Size([10, 3, 4096]) torch.Size([10, 32])\n",
      "278 torch.Size([10, 1024]) torch.Size([10, 3, 4096]) torch.Size([10, 32])\n",
      "279 torch.Size([10, 1024]) torch.Size([10, 3, 4096]) torch.Size([10, 32])\n",
      "280 torch.Size([10, 1024]) torch.Size([10, 3, 4096]) torch.Size([10, 32])\n",
      "281 torch.Size([10, 1024]) torch.Size([10, 3, 4096]) torch.Size([10, 32])\n",
      "282 torch.Size([10, 1024]) torch.Size([10, 3, 4096]) torch.Size([10, 32])\n",
      "283 torch.Size([10, 1024]) torch.Size([10, 3, 4096]) torch.Size([10, 32])\n",
      "284 torch.Size([10, 1024]) torch.Size([10, 3, 4096]) torch.Size([10, 32])\n",
      "285 torch.Size([10, 1024]) torch.Size([10, 3, 4096]) torch.Size([10, 32])\n",
      "286 torch.Size([10, 1024]) torch.Size([10, 3, 4096]) torch.Size([10, 32])\n",
      "287 torch.Size([10, 1024]) torch.Size([10, 3, 4096]) torch.Size([10, 32])\n",
      "288 torch.Size([10, 1024]) torch.Size([10, 3, 4096]) torch.Size([10, 32])\n",
      "289 torch.Size([10, 1024]) torch.Size([10, 3, 4096]) torch.Size([10, 32])\n",
      "290 torch.Size([10, 1024]) torch.Size([10, 3, 4096]) torch.Size([10, 32])\n",
      "291 torch.Size([10, 1024]) torch.Size([10, 3, 4096]) torch.Size([10, 32])\n",
      "292 torch.Size([10, 1024]) torch.Size([10, 3, 4096]) torch.Size([10, 32])\n",
      "293 torch.Size([10, 1024]) torch.Size([10, 3, 4096]) torch.Size([10, 32])\n",
      "294 torch.Size([10, 1024]) torch.Size([10, 3, 4096]) torch.Size([10, 32])\n",
      "295 torch.Size([10, 1024]) torch.Size([10, 3, 4096]) torch.Size([10, 32])\n",
      "296 torch.Size([10, 1024]) torch.Size([10, 3, 4096]) torch.Size([10, 32])\n",
      "297 torch.Size([10, 1024]) torch.Size([10, 3, 4096]) torch.Size([10, 32])\n",
      "298 torch.Size([10, 1024]) torch.Size([10, 3, 4096]) torch.Size([10, 32])\n",
      "299 torch.Size([10, 1024]) torch.Size([10, 3, 4096]) torch.Size([10, 32])\n",
      "300 torch.Size([10, 1024]) torch.Size([10, 3, 4096]) torch.Size([10, 32])\n",
      "301 torch.Size([10, 1024]) torch.Size([10, 3, 4096]) torch.Size([10, 32])\n",
      "302 torch.Size([10, 1024]) torch.Size([10, 3, 4096]) torch.Size([10, 32])\n",
      "303 torch.Size([10, 1024]) torch.Size([10, 3, 4096]) torch.Size([10, 32])\n",
      "304 torch.Size([10, 1024]) torch.Size([10, 3, 4096]) torch.Size([10, 32])\n",
      "305 torch.Size([10, 1024]) torch.Size([10, 3, 4096]) torch.Size([10, 32])\n",
      "306 torch.Size([10, 1024]) torch.Size([10, 3, 4096]) torch.Size([10, 32])\n",
      "307 torch.Size([10, 1024]) torch.Size([10, 3, 4096]) torch.Size([10, 32])\n",
      "308 torch.Size([10, 1024]) torch.Size([10, 3, 4096]) torch.Size([10, 32])\n",
      "309 torch.Size([10, 1024]) torch.Size([10, 3, 4096]) torch.Size([10, 32])\n",
      "310 torch.Size([10, 1024]) torch.Size([10, 3, 4096]) torch.Size([10, 32])\n",
      "311 torch.Size([10, 1024]) torch.Size([10, 3, 4096]) torch.Size([10, 32])\n",
      "312 torch.Size([10, 1024]) torch.Size([10, 3, 4096]) torch.Size([10, 32])\n",
      "313 torch.Size([10, 1024]) torch.Size([10, 3, 4096]) torch.Size([10, 32])\n",
      "314 torch.Size([10, 1024]) torch.Size([10, 3, 4096]) torch.Size([10, 32])\n",
      "315 torch.Size([10, 1024]) torch.Size([10, 3, 4096]) torch.Size([10, 32])\n",
      "316 torch.Size([10, 1024]) torch.Size([10, 3, 4096]) torch.Size([10, 32])\n",
      "317 torch.Size([10, 1024]) torch.Size([10, 3, 4096]) torch.Size([10, 32])\n",
      "318 torch.Size([10, 1024]) torch.Size([10, 3, 4096]) torch.Size([10, 32])\n",
      "319 torch.Size([10, 1024]) torch.Size([10, 3, 4096]) torch.Size([10, 32])\n",
      "320 torch.Size([10, 1024]) torch.Size([10, 3, 4096]) torch.Size([10, 32])\n",
      "321 torch.Size([10, 1024]) torch.Size([10, 3, 4096]) torch.Size([10, 32])\n",
      "322 torch.Size([10, 1024]) torch.Size([10, 3, 4096]) torch.Size([10, 32])\n",
      "323 torch.Size([10, 1024]) torch.Size([10, 3, 4096]) torch.Size([10, 32])\n",
      "324 torch.Size([10, 1024]) torch.Size([10, 3, 4096]) torch.Size([10, 32])\n",
      "325 torch.Size([10, 1024]) torch.Size([10, 3, 4096]) torch.Size([10, 32])\n",
      "326 torch.Size([10, 1024]) torch.Size([10, 3, 4096]) torch.Size([10, 32])\n",
      "327 torch.Size([10, 1024]) torch.Size([10, 3, 4096]) torch.Size([10, 32])\n",
      "328 torch.Size([10, 1024]) torch.Size([10, 3, 4096]) torch.Size([10, 32])\n",
      "329 torch.Size([10, 1024]) torch.Size([10, 3, 4096]) torch.Size([10, 32])\n",
      "330 torch.Size([10, 1024]) torch.Size([10, 3, 4096]) torch.Size([10, 32])\n",
      "331 torch.Size([10, 1024]) torch.Size([10, 3, 4096]) torch.Size([10, 32])\n",
      "332 torch.Size([10, 1024]) torch.Size([10, 3, 4096]) torch.Size([10, 32])\n",
      "333 torch.Size([10, 1024]) torch.Size([10, 3, 4096]) torch.Size([10, 32])\n",
      "334 torch.Size([10, 1024]) torch.Size([10, 3, 4096]) torch.Size([10, 32])\n",
      "335 torch.Size([10, 1024]) torch.Size([10, 3, 4096]) torch.Size([10, 32])\n",
      "336 torch.Size([10, 1024]) torch.Size([10, 3, 4096]) torch.Size([10, 32])\n",
      "337 torch.Size([10, 1024]) torch.Size([10, 3, 4096]) torch.Size([10, 32])\n",
      "338 torch.Size([10, 1024]) torch.Size([10, 3, 4096]) torch.Size([10, 32])\n",
      "339 torch.Size([10, 1024]) torch.Size([10, 3, 4096]) torch.Size([10, 32])\n",
      "340 torch.Size([10, 1024]) torch.Size([10, 3, 4096]) torch.Size([10, 32])\n",
      "341 torch.Size([10, 1024]) torch.Size([10, 3, 4096]) torch.Size([10, 32])\n",
      "342 torch.Size([10, 1024]) torch.Size([10, 3, 4096]) torch.Size([10, 32])\n",
      "343 torch.Size([10, 1024]) torch.Size([10, 3, 4096]) torch.Size([10, 32])\n",
      "344 torch.Size([10, 1024]) torch.Size([10, 3, 4096]) torch.Size([10, 32])\n",
      "345 torch.Size([10, 1024]) torch.Size([10, 3, 4096]) torch.Size([10, 32])\n",
      "346 torch.Size([10, 1024]) torch.Size([10, 3, 4096]) torch.Size([10, 32])\n",
      "347 torch.Size([10, 1024]) torch.Size([10, 3, 4096]) torch.Size([10, 32])\n",
      "348 torch.Size([10, 1024]) torch.Size([10, 3, 4096]) torch.Size([10, 32])\n",
      "349 torch.Size([10, 1024]) torch.Size([10, 3, 4096]) torch.Size([10, 32])\n",
      "350 torch.Size([10, 1024]) torch.Size([10, 3, 4096]) torch.Size([10, 32])\n",
      "351 torch.Size([10, 1024]) torch.Size([10, 3, 4096]) torch.Size([10, 32])\n",
      "352 torch.Size([10, 1024]) torch.Size([10, 3, 4096]) torch.Size([10, 32])\n",
      "353 torch.Size([10, 1024]) torch.Size([10, 3, 4096]) torch.Size([10, 32])\n",
      "354 torch.Size([10, 1024]) torch.Size([10, 3, 4096]) torch.Size([10, 32])\n",
      "355 torch.Size([10, 1024]) torch.Size([10, 3, 4096]) torch.Size([10, 32])\n",
      "356 torch.Size([10, 1024]) torch.Size([10, 3, 4096]) torch.Size([10, 32])\n",
      "357 torch.Size([10, 1024]) torch.Size([10, 3, 4096]) torch.Size([10, 32])\n",
      "358 torch.Size([10, 1024]) torch.Size([10, 3, 4096]) torch.Size([10, 32])\n",
      "359 torch.Size([10, 1024]) torch.Size([10, 3, 4096]) torch.Size([10, 32])\n",
      "360 torch.Size([10, 1024]) torch.Size([10, 3, 4096]) torch.Size([10, 32])\n",
      "361 torch.Size([10, 1024]) torch.Size([10, 3, 4096]) torch.Size([10, 32])\n",
      "362 torch.Size([10, 1024]) torch.Size([10, 3, 4096]) torch.Size([10, 32])\n",
      "363 torch.Size([10, 1024]) torch.Size([10, 3, 4096]) torch.Size([10, 32])\n",
      "364 torch.Size([10, 1024]) torch.Size([10, 3, 4096]) torch.Size([10, 32])\n",
      "365 torch.Size([10, 1024]) torch.Size([10, 3, 4096]) torch.Size([10, 32])\n",
      "366 torch.Size([10, 1024]) torch.Size([10, 3, 4096]) torch.Size([10, 32])\n",
      "367 torch.Size([10, 1024]) torch.Size([10, 3, 4096]) torch.Size([10, 32])\n",
      "368 torch.Size([10, 1024]) torch.Size([10, 3, 4096]) torch.Size([10, 32])\n",
      "369 torch.Size([10, 1024]) torch.Size([10, 3, 4096]) torch.Size([10, 32])\n",
      "370 torch.Size([10, 1024]) torch.Size([10, 3, 4096]) torch.Size([10, 32])\n",
      "371 torch.Size([10, 1024]) torch.Size([10, 3, 4096]) torch.Size([10, 32])\n",
      "372 torch.Size([10, 1024]) torch.Size([10, 3, 4096]) torch.Size([10, 32])\n",
      "373 torch.Size([10, 1024]) torch.Size([10, 3, 4096]) torch.Size([10, 32])\n",
      "374 torch.Size([10, 1024]) torch.Size([10, 3, 4096]) torch.Size([10, 32])\n",
      "375 torch.Size([10, 1024]) torch.Size([10, 3, 4096]) torch.Size([10, 32])\n",
      "376 torch.Size([10, 1024]) torch.Size([10, 3, 4096]) torch.Size([10, 32])\n",
      "377 torch.Size([10, 1024]) torch.Size([10, 3, 4096]) torch.Size([10, 32])\n",
      "378 torch.Size([10, 1024]) torch.Size([10, 3, 4096]) torch.Size([10, 32])\n",
      "379 torch.Size([10, 1024]) torch.Size([10, 3, 4096]) torch.Size([10, 32])\n"
     ]
    },
    {
     "name": "stdout",
     "output_type": "stream",
     "text": [
      "380 torch.Size([10, 1024]) torch.Size([10, 3, 4096]) torch.Size([10, 32])\n",
      "381 torch.Size([10, 1024]) torch.Size([10, 3, 4096]) torch.Size([10, 32])\n",
      "382 torch.Size([10, 1024]) torch.Size([10, 3, 4096]) torch.Size([10, 32])\n",
      "383 torch.Size([10, 1024]) torch.Size([10, 3, 4096]) torch.Size([10, 32])\n",
      "384 torch.Size([10, 1024]) torch.Size([10, 3, 4096]) torch.Size([10, 32])\n",
      "385 torch.Size([10, 1024]) torch.Size([10, 3, 4096]) torch.Size([10, 32])\n",
      "386 torch.Size([10, 1024]) torch.Size([10, 3, 4096]) torch.Size([10, 32])\n",
      "387 torch.Size([10, 1024]) torch.Size([10, 3, 4096]) torch.Size([10, 32])\n",
      "388 torch.Size([10, 1024]) torch.Size([10, 3, 4096]) torch.Size([10, 32])\n",
      "389 torch.Size([10, 1024]) torch.Size([10, 3, 4096]) torch.Size([10, 32])\n",
      "390 torch.Size([10, 1024]) torch.Size([10, 3, 4096]) torch.Size([10, 32])\n",
      "391 torch.Size([10, 1024]) torch.Size([10, 3, 4096]) torch.Size([10, 32])\n",
      "392 torch.Size([10, 1024]) torch.Size([10, 3, 4096]) torch.Size([10, 32])\n",
      "393 torch.Size([10, 1024]) torch.Size([10, 3, 4096]) torch.Size([10, 32])\n",
      "394 torch.Size([10, 1024]) torch.Size([10, 3, 4096]) torch.Size([10, 32])\n",
      "395 torch.Size([10, 1024]) torch.Size([10, 3, 4096]) torch.Size([10, 32])\n",
      "396 torch.Size([10, 1024]) torch.Size([10, 3, 4096]) torch.Size([10, 32])\n",
      "397 torch.Size([10, 1024]) torch.Size([10, 3, 4096]) torch.Size([10, 32])\n",
      "398 torch.Size([10, 1024]) torch.Size([10, 3, 4096]) torch.Size([10, 32])\n",
      "399 torch.Size([10, 1024]) torch.Size([10, 3, 4096]) torch.Size([10, 32])\n",
      "400 torch.Size([10, 1024]) torch.Size([10, 3, 4096]) torch.Size([10, 32])\n",
      "401 torch.Size([10, 1024]) torch.Size([10, 3, 4096]) torch.Size([10, 32])\n",
      "402 torch.Size([10, 1024]) torch.Size([10, 3, 4096]) torch.Size([10, 32])\n",
      "403 torch.Size([10, 1024]) torch.Size([10, 3, 4096]) torch.Size([10, 32])\n",
      "404 torch.Size([10, 1024]) torch.Size([10, 3, 4096]) torch.Size([10, 32])\n",
      "405 torch.Size([10, 1024]) torch.Size([10, 3, 4096]) torch.Size([10, 32])\n",
      "406 torch.Size([10, 1024]) torch.Size([10, 3, 4096]) torch.Size([10, 32])\n",
      "407 torch.Size([10, 1024]) torch.Size([10, 3, 4096]) torch.Size([10, 32])\n",
      "408 torch.Size([10, 1024]) torch.Size([10, 3, 4096]) torch.Size([10, 32])\n",
      "409 torch.Size([10, 1024]) torch.Size([10, 3, 4096]) torch.Size([10, 32])\n",
      "410 torch.Size([10, 1024]) torch.Size([10, 3, 4096]) torch.Size([10, 32])\n",
      "411 torch.Size([10, 1024]) torch.Size([10, 3, 4096]) torch.Size([10, 32])\n",
      "412 torch.Size([10, 1024]) torch.Size([10, 3, 4096]) torch.Size([10, 32])\n",
      "413 torch.Size([10, 1024]) torch.Size([10, 3, 4096]) torch.Size([10, 32])\n",
      "414 torch.Size([10, 1024]) torch.Size([10, 3, 4096]) torch.Size([10, 32])\n",
      "415 torch.Size([10, 1024]) torch.Size([10, 3, 4096]) torch.Size([10, 32])\n",
      "416 torch.Size([10, 1024]) torch.Size([10, 3, 4096]) torch.Size([10, 32])\n",
      "417 torch.Size([10, 1024]) torch.Size([10, 3, 4096]) torch.Size([10, 32])\n",
      "418 torch.Size([10, 1024]) torch.Size([10, 3, 4096]) torch.Size([10, 32])\n",
      "419 torch.Size([10, 1024]) torch.Size([10, 3, 4096]) torch.Size([10, 32])\n",
      "420 torch.Size([10, 1024]) torch.Size([10, 3, 4096]) torch.Size([10, 32])\n",
      "421 torch.Size([10, 1024]) torch.Size([10, 3, 4096]) torch.Size([10, 32])\n",
      "422 torch.Size([10, 1024]) torch.Size([10, 3, 4096]) torch.Size([10, 32])\n",
      "423 torch.Size([10, 1024]) torch.Size([10, 3, 4096]) torch.Size([10, 32])\n",
      "424 torch.Size([10, 1024]) torch.Size([10, 3, 4096]) torch.Size([10, 32])\n",
      "425 torch.Size([10, 1024]) torch.Size([10, 3, 4096]) torch.Size([10, 32])\n",
      "426 torch.Size([10, 1024]) torch.Size([10, 3, 4096]) torch.Size([10, 32])\n",
      "427 torch.Size([10, 1024]) torch.Size([10, 3, 4096]) torch.Size([10, 32])\n",
      "428 torch.Size([10, 1024]) torch.Size([10, 3, 4096]) torch.Size([10, 32])\n",
      "429 torch.Size([10, 1024]) torch.Size([10, 3, 4096]) torch.Size([10, 32])\n",
      "430 torch.Size([10, 1024]) torch.Size([10, 3, 4096]) torch.Size([10, 32])\n",
      "431 torch.Size([10, 1024]) torch.Size([10, 3, 4096]) torch.Size([10, 32])\n",
      "432 torch.Size([10, 1024]) torch.Size([10, 3, 4096]) torch.Size([10, 32])\n",
      "433 torch.Size([10, 1024]) torch.Size([10, 3, 4096]) torch.Size([10, 32])\n",
      "434 torch.Size([10, 1024]) torch.Size([10, 3, 4096]) torch.Size([10, 32])\n",
      "435 torch.Size([10, 1024]) torch.Size([10, 3, 4096]) torch.Size([10, 32])\n",
      "436 torch.Size([10, 1024]) torch.Size([10, 3, 4096]) torch.Size([10, 32])\n",
      "437 torch.Size([10, 1024]) torch.Size([10, 3, 4096]) torch.Size([10, 32])\n",
      "438 torch.Size([10, 1024]) torch.Size([10, 3, 4096]) torch.Size([10, 32])\n",
      "439 torch.Size([10, 1024]) torch.Size([10, 3, 4096]) torch.Size([10, 32])\n",
      "440 torch.Size([10, 1024]) torch.Size([10, 3, 4096]) torch.Size([10, 32])\n",
      "441 torch.Size([10, 1024]) torch.Size([10, 3, 4096]) torch.Size([10, 32])\n",
      "442 torch.Size([10, 1024]) torch.Size([10, 3, 4096]) torch.Size([10, 32])\n",
      "443 torch.Size([10, 1024]) torch.Size([10, 3, 4096]) torch.Size([10, 32])\n",
      "444 torch.Size([10, 1024]) torch.Size([10, 3, 4096]) torch.Size([10, 32])\n",
      "445 torch.Size([10, 1024]) torch.Size([10, 3, 4096]) torch.Size([10, 32])\n",
      "446 torch.Size([10, 1024]) torch.Size([10, 3, 4096]) torch.Size([10, 32])\n",
      "447 torch.Size([10, 1024]) torch.Size([10, 3, 4096]) torch.Size([10, 32])\n",
      "448 torch.Size([10, 1024]) torch.Size([10, 3, 4096]) torch.Size([10, 32])\n",
      "449 torch.Size([10, 1024]) torch.Size([10, 3, 4096]) torch.Size([10, 32])\n",
      "450 torch.Size([10, 1024]) torch.Size([10, 3, 4096]) torch.Size([10, 32])\n",
      "451 torch.Size([10, 1024]) torch.Size([10, 3, 4096]) torch.Size([10, 32])\n",
      "452 torch.Size([10, 1024]) torch.Size([10, 3, 4096]) torch.Size([10, 32])\n",
      "453 torch.Size([10, 1024]) torch.Size([10, 3, 4096]) torch.Size([10, 32])\n",
      "454 torch.Size([10, 1024]) torch.Size([10, 3, 4096]) torch.Size([10, 32])\n",
      "455 torch.Size([10, 1024]) torch.Size([10, 3, 4096]) torch.Size([10, 32])\n",
      "456 torch.Size([10, 1024]) torch.Size([10, 3, 4096]) torch.Size([10, 32])\n",
      "457 torch.Size([10, 1024]) torch.Size([10, 3, 4096]) torch.Size([10, 32])\n",
      "458 torch.Size([10, 1024]) torch.Size([10, 3, 4096]) torch.Size([10, 32])\n",
      "459 torch.Size([10, 1024]) torch.Size([10, 3, 4096]) torch.Size([10, 32])\n",
      "460 torch.Size([10, 1024]) torch.Size([10, 3, 4096]) torch.Size([10, 32])\n",
      "461 torch.Size([10, 1024]) torch.Size([10, 3, 4096]) torch.Size([10, 32])\n",
      "462 torch.Size([10, 1024]) torch.Size([10, 3, 4096]) torch.Size([10, 32])\n",
      "463 torch.Size([10, 1024]) torch.Size([10, 3, 4096]) torch.Size([10, 32])\n",
      "464 torch.Size([10, 1024]) torch.Size([10, 3, 4096]) torch.Size([10, 32])\n",
      "465 torch.Size([10, 1024]) torch.Size([10, 3, 4096]) torch.Size([10, 32])\n",
      "466 torch.Size([10, 1024]) torch.Size([10, 3, 4096]) torch.Size([10, 32])\n",
      "467 torch.Size([10, 1024]) torch.Size([10, 3, 4096]) torch.Size([10, 32])\n",
      "468 torch.Size([10, 1024]) torch.Size([10, 3, 4096]) torch.Size([10, 32])\n",
      "469 torch.Size([10, 1024]) torch.Size([10, 3, 4096]) torch.Size([10, 32])\n",
      "470 torch.Size([10, 1024]) torch.Size([10, 3, 4096]) torch.Size([10, 32])\n",
      "471 torch.Size([10, 1024]) torch.Size([10, 3, 4096]) torch.Size([10, 32])\n",
      "472 torch.Size([10, 1024]) torch.Size([10, 3, 4096]) torch.Size([10, 32])\n",
      "473 torch.Size([10, 1024]) torch.Size([10, 3, 4096]) torch.Size([10, 32])\n",
      "474 torch.Size([10, 1024]) torch.Size([10, 3, 4096]) torch.Size([10, 32])\n",
      "475 torch.Size([10, 1024]) torch.Size([10, 3, 4096]) torch.Size([10, 32])\n",
      "476 torch.Size([10, 1024]) torch.Size([10, 3, 4096]) torch.Size([10, 32])\n",
      "477 torch.Size([10, 1024]) torch.Size([10, 3, 4096]) torch.Size([10, 32])\n",
      "478 torch.Size([10, 1024]) torch.Size([10, 3, 4096]) torch.Size([10, 32])\n",
      "479 torch.Size([10, 1024]) torch.Size([10, 3, 4096]) torch.Size([10, 32])\n",
      "480 torch.Size([10, 1024]) torch.Size([10, 3, 4096]) torch.Size([10, 32])\n",
      "481 torch.Size([10, 1024]) torch.Size([10, 3, 4096]) torch.Size([10, 32])\n",
      "482 torch.Size([10, 1024]) torch.Size([10, 3, 4096]) torch.Size([10, 32])\n",
      "483 torch.Size([10, 1024]) torch.Size([10, 3, 4096]) torch.Size([10, 32])\n",
      "484 torch.Size([10, 1024]) torch.Size([10, 3, 4096]) torch.Size([10, 32])\n",
      "485 torch.Size([10, 1024]) torch.Size([10, 3, 4096]) torch.Size([10, 32])\n",
      "486 torch.Size([10, 1024]) torch.Size([10, 3, 4096]) torch.Size([10, 32])\n",
      "487 torch.Size([10, 1024]) torch.Size([10, 3, 4096]) torch.Size([10, 32])\n",
      "488 torch.Size([10, 1024]) torch.Size([10, 3, 4096]) torch.Size([10, 32])\n",
      "489 torch.Size([10, 1024]) torch.Size([10, 3, 4096]) torch.Size([10, 32])\n",
      "490 torch.Size([10, 1024]) torch.Size([10, 3, 4096]) torch.Size([10, 32])\n",
      "491 torch.Size([10, 1024]) torch.Size([10, 3, 4096]) torch.Size([10, 32])\n",
      "492 torch.Size([10, 1024]) torch.Size([10, 3, 4096]) torch.Size([10, 32])\n",
      "493 torch.Size([10, 1024]) torch.Size([10, 3, 4096]) torch.Size([10, 32])\n",
      "494 torch.Size([10, 1024]) torch.Size([10, 3, 4096]) torch.Size([10, 32])\n",
      "495 torch.Size([10, 1024]) torch.Size([10, 3, 4096]) torch.Size([10, 32])\n",
      "496 torch.Size([10, 1024]) torch.Size([10, 3, 4096]) torch.Size([10, 32])\n",
      "497 torch.Size([10, 1024]) torch.Size([10, 3, 4096]) torch.Size([10, 32])\n",
      "498 torch.Size([10, 1024]) torch.Size([10, 3, 4096]) torch.Size([10, 32])\n"
     ]
    },
    {
     "name": "stdout",
     "output_type": "stream",
     "text": [
      "499 torch.Size([10, 1024]) torch.Size([10, 3, 4096]) torch.Size([10, 32])\n",
      "500 torch.Size([10, 1024]) torch.Size([10, 3, 4096]) torch.Size([10, 32])\n",
      "501 torch.Size([10, 1024]) torch.Size([10, 3, 4096]) torch.Size([10, 32])\n",
      "502 torch.Size([10, 1024]) torch.Size([10, 3, 4096]) torch.Size([10, 32])\n",
      "503 torch.Size([10, 1024]) torch.Size([10, 3, 4096]) torch.Size([10, 32])\n",
      "504 torch.Size([10, 1024]) torch.Size([10, 3, 4096]) torch.Size([10, 32])\n",
      "505 torch.Size([10, 1024]) torch.Size([10, 3, 4096]) torch.Size([10, 32])\n",
      "506 torch.Size([10, 1024]) torch.Size([10, 3, 4096]) torch.Size([10, 32])\n",
      "507 torch.Size([10, 1024]) torch.Size([10, 3, 4096]) torch.Size([10, 32])\n",
      "508 torch.Size([10, 1024]) torch.Size([10, 3, 4096]) torch.Size([10, 32])\n",
      "509 torch.Size([10, 1024]) torch.Size([10, 3, 4096]) torch.Size([10, 32])\n",
      "510 torch.Size([10, 1024]) torch.Size([10, 3, 4096]) torch.Size([10, 32])\n",
      "511 torch.Size([10, 1024]) torch.Size([10, 3, 4096]) torch.Size([10, 32])\n",
      "512 torch.Size([10, 1024]) torch.Size([10, 3, 4096]) torch.Size([10, 32])\n",
      "513 torch.Size([10, 1024]) torch.Size([10, 3, 4096]) torch.Size([10, 32])\n",
      "514 torch.Size([10, 1024]) torch.Size([10, 3, 4096]) torch.Size([10, 32])\n",
      "515 torch.Size([10, 1024]) torch.Size([10, 3, 4096]) torch.Size([10, 32])\n",
      "516 torch.Size([10, 1024]) torch.Size([10, 3, 4096]) torch.Size([10, 32])\n",
      "517 torch.Size([10, 1024]) torch.Size([10, 3, 4096]) torch.Size([10, 32])\n",
      "518 torch.Size([10, 1024]) torch.Size([10, 3, 4096]) torch.Size([10, 32])\n",
      "519 torch.Size([10, 1024]) torch.Size([10, 3, 4096]) torch.Size([10, 32])\n",
      "520 torch.Size([10, 1024]) torch.Size([10, 3, 4096]) torch.Size([10, 32])\n",
      "521 torch.Size([10, 1024]) torch.Size([10, 3, 4096]) torch.Size([10, 32])\n",
      "522 torch.Size([10, 1024]) torch.Size([10, 3, 4096]) torch.Size([10, 32])\n",
      "523 torch.Size([10, 1024]) torch.Size([10, 3, 4096]) torch.Size([10, 32])\n",
      "524 torch.Size([10, 1024]) torch.Size([10, 3, 4096]) torch.Size([10, 32])\n",
      "525 torch.Size([10, 1024]) torch.Size([10, 3, 4096]) torch.Size([10, 32])\n",
      "526 torch.Size([10, 1024]) torch.Size([10, 3, 4096]) torch.Size([10, 32])\n",
      "527 torch.Size([10, 1024]) torch.Size([10, 3, 4096]) torch.Size([10, 32])\n",
      "528 torch.Size([10, 1024]) torch.Size([10, 3, 4096]) torch.Size([10, 32])\n",
      "529 torch.Size([10, 1024]) torch.Size([10, 3, 4096]) torch.Size([10, 32])\n",
      "530 torch.Size([10, 1024]) torch.Size([10, 3, 4096]) torch.Size([10, 32])\n",
      "531 torch.Size([10, 1024]) torch.Size([10, 3, 4096]) torch.Size([10, 32])\n",
      "532 torch.Size([10, 1024]) torch.Size([10, 3, 4096]) torch.Size([10, 32])\n",
      "533 torch.Size([10, 1024]) torch.Size([10, 3, 4096]) torch.Size([10, 32])\n",
      "534 torch.Size([10, 1024]) torch.Size([10, 3, 4096]) torch.Size([10, 32])\n",
      "535 torch.Size([10, 1024]) torch.Size([10, 3, 4096]) torch.Size([10, 32])\n",
      "536 torch.Size([10, 1024]) torch.Size([10, 3, 4096]) torch.Size([10, 32])\n",
      "537 torch.Size([10, 1024]) torch.Size([10, 3, 4096]) torch.Size([10, 32])\n",
      "538 torch.Size([10, 1024]) torch.Size([10, 3, 4096]) torch.Size([10, 32])\n",
      "539 torch.Size([10, 1024]) torch.Size([10, 3, 4096]) torch.Size([10, 32])\n",
      "540 torch.Size([10, 1024]) torch.Size([10, 3, 4096]) torch.Size([10, 32])\n",
      "541 torch.Size([10, 1024]) torch.Size([10, 3, 4096]) torch.Size([10, 32])\n",
      "542 torch.Size([10, 1024]) torch.Size([10, 3, 4096]) torch.Size([10, 32])\n",
      "543 torch.Size([10, 1024]) torch.Size([10, 3, 4096]) torch.Size([10, 32])\n",
      "544 torch.Size([10, 1024]) torch.Size([10, 3, 4096]) torch.Size([10, 32])\n",
      "545 torch.Size([10, 1024]) torch.Size([10, 3, 4096]) torch.Size([10, 32])\n",
      "546 torch.Size([10, 1024]) torch.Size([10, 3, 4096]) torch.Size([10, 32])\n",
      "547 torch.Size([10, 1024]) torch.Size([10, 3, 4096]) torch.Size([10, 32])\n",
      "548 torch.Size([10, 1024]) torch.Size([10, 3, 4096]) torch.Size([10, 32])\n",
      "549 torch.Size([10, 1024]) torch.Size([10, 3, 4096]) torch.Size([10, 32])\n",
      "550 torch.Size([10, 1024]) torch.Size([10, 3, 4096]) torch.Size([10, 32])\n",
      "551 torch.Size([10, 1024]) torch.Size([10, 3, 4096]) torch.Size([10, 32])\n",
      "552 torch.Size([10, 1024]) torch.Size([10, 3, 4096]) torch.Size([10, 32])\n",
      "553 torch.Size([10, 1024]) torch.Size([10, 3, 4096]) torch.Size([10, 32])\n",
      "554 torch.Size([10, 1024]) torch.Size([10, 3, 4096]) torch.Size([10, 32])\n",
      "555 torch.Size([10, 1024]) torch.Size([10, 3, 4096]) torch.Size([10, 32])\n",
      "556 torch.Size([10, 1024]) torch.Size([10, 3, 4096]) torch.Size([10, 32])\n",
      "557 torch.Size([10, 1024]) torch.Size([10, 3, 4096]) torch.Size([10, 32])\n",
      "558 torch.Size([10, 1024]) torch.Size([10, 3, 4096]) torch.Size([10, 32])\n",
      "559 torch.Size([10, 1024]) torch.Size([10, 3, 4096]) torch.Size([10, 32])\n",
      "560 torch.Size([10, 1024]) torch.Size([10, 3, 4096]) torch.Size([10, 32])\n",
      "561 torch.Size([10, 1024]) torch.Size([10, 3, 4096]) torch.Size([10, 32])\n",
      "562 torch.Size([10, 1024]) torch.Size([10, 3, 4096]) torch.Size([10, 32])\n",
      "563 torch.Size([10, 1024]) torch.Size([10, 3, 4096]) torch.Size([10, 32])\n",
      "564 torch.Size([10, 1024]) torch.Size([10, 3, 4096]) torch.Size([10, 32])\n",
      "565 torch.Size([10, 1024]) torch.Size([10, 3, 4096]) torch.Size([10, 32])\n",
      "566 torch.Size([10, 1024]) torch.Size([10, 3, 4096]) torch.Size([10, 32])\n",
      "567 torch.Size([10, 1024]) torch.Size([10, 3, 4096]) torch.Size([10, 32])\n",
      "568 torch.Size([10, 1024]) torch.Size([10, 3, 4096]) torch.Size([10, 32])\n",
      "569 torch.Size([10, 1024]) torch.Size([10, 3, 4096]) torch.Size([10, 32])\n",
      "570 torch.Size([10, 1024]) torch.Size([10, 3, 4096]) torch.Size([10, 32])\n",
      "571 torch.Size([10, 1024]) torch.Size([10, 3, 4096]) torch.Size([10, 32])\n",
      "572 torch.Size([10, 1024]) torch.Size([10, 3, 4096]) torch.Size([10, 32])\n",
      "573 torch.Size([10, 1024]) torch.Size([10, 3, 4096]) torch.Size([10, 32])\n",
      "574 torch.Size([10, 1024]) torch.Size([10, 3, 4096]) torch.Size([10, 32])\n",
      "575 torch.Size([10, 1024]) torch.Size([10, 3, 4096]) torch.Size([10, 32])\n",
      "576 torch.Size([10, 1024]) torch.Size([10, 3, 4096]) torch.Size([10, 32])\n",
      "577 torch.Size([10, 1024]) torch.Size([10, 3, 4096]) torch.Size([10, 32])\n",
      "578 torch.Size([10, 1024]) torch.Size([10, 3, 4096]) torch.Size([10, 32])\n",
      "579 torch.Size([10, 1024]) torch.Size([10, 3, 4096]) torch.Size([10, 32])\n",
      "580 torch.Size([10, 1024]) torch.Size([10, 3, 4096]) torch.Size([10, 32])\n",
      "581 torch.Size([10, 1024]) torch.Size([10, 3, 4096]) torch.Size([10, 32])\n",
      "582 torch.Size([10, 1024]) torch.Size([10, 3, 4096]) torch.Size([10, 32])\n",
      "583 torch.Size([10, 1024]) torch.Size([10, 3, 4096]) torch.Size([10, 32])\n",
      "584 torch.Size([10, 1024]) torch.Size([10, 3, 4096]) torch.Size([10, 32])\n",
      "585 torch.Size([10, 1024]) torch.Size([10, 3, 4096]) torch.Size([10, 32])\n",
      "586 torch.Size([10, 1024]) torch.Size([10, 3, 4096]) torch.Size([10, 32])\n",
      "587 torch.Size([10, 1024]) torch.Size([10, 3, 4096]) torch.Size([10, 32])\n",
      "588 torch.Size([10, 1024]) torch.Size([10, 3, 4096]) torch.Size([10, 32])\n",
      "589 torch.Size([10, 1024]) torch.Size([10, 3, 4096]) torch.Size([10, 32])\n",
      "590 torch.Size([10, 1024]) torch.Size([10, 3, 4096]) torch.Size([10, 32])\n",
      "591 torch.Size([10, 1024]) torch.Size([10, 3, 4096]) torch.Size([10, 32])\n",
      "592 torch.Size([10, 1024]) torch.Size([10, 3, 4096]) torch.Size([10, 32])\n",
      "593 torch.Size([10, 1024]) torch.Size([10, 3, 4096]) torch.Size([10, 32])\n",
      "594 torch.Size([10, 1024]) torch.Size([10, 3, 4096]) torch.Size([10, 32])\n",
      "595 torch.Size([10, 1024]) torch.Size([10, 3, 4096]) torch.Size([10, 32])\n",
      "596 torch.Size([10, 1024]) torch.Size([10, 3, 4096]) torch.Size([10, 32])\n",
      "597 torch.Size([10, 1024]) torch.Size([10, 3, 4096]) torch.Size([10, 32])\n",
      "598 torch.Size([10, 1024]) torch.Size([10, 3, 4096]) torch.Size([10, 32])\n",
      "599 torch.Size([10, 1024]) torch.Size([10, 3, 4096]) torch.Size([10, 32])\n",
      "600 torch.Size([10, 1024]) torch.Size([10, 3, 4096]) torch.Size([10, 32])\n",
      "601 torch.Size([10, 1024]) torch.Size([10, 3, 4096]) torch.Size([10, 32])\n",
      "602 torch.Size([10, 1024]) torch.Size([10, 3, 4096]) torch.Size([10, 32])\n",
      "603 torch.Size([10, 1024]) torch.Size([10, 3, 4096]) torch.Size([10, 32])\n",
      "604 torch.Size([10, 1024]) torch.Size([10, 3, 4096]) torch.Size([10, 32])\n",
      "605 torch.Size([10, 1024]) torch.Size([10, 3, 4096]) torch.Size([10, 32])\n",
      "606 torch.Size([10, 1024]) torch.Size([10, 3, 4096]) torch.Size([10, 32])\n",
      "607 torch.Size([10, 1024]) torch.Size([10, 3, 4096]) torch.Size([10, 32])\n",
      "608 torch.Size([10, 1024]) torch.Size([10, 3, 4096]) torch.Size([10, 32])\n",
      "609 torch.Size([10, 1024]) torch.Size([10, 3, 4096]) torch.Size([10, 32])\n",
      "610 torch.Size([10, 1024]) torch.Size([10, 3, 4096]) torch.Size([10, 32])\n",
      "611 torch.Size([10, 1024]) torch.Size([10, 3, 4096]) torch.Size([10, 32])\n",
      "612 torch.Size([10, 1024]) torch.Size([10, 3, 4096]) torch.Size([10, 32])\n",
      "613 torch.Size([10, 1024]) torch.Size([10, 3, 4096]) torch.Size([10, 32])\n",
      "614 torch.Size([10, 1024]) torch.Size([10, 3, 4096]) torch.Size([10, 32])\n",
      "615 torch.Size([10, 1024]) torch.Size([10, 3, 4096]) torch.Size([10, 32])\n"
     ]
    },
    {
     "name": "stdout",
     "output_type": "stream",
     "text": [
      "616 torch.Size([10, 1024]) torch.Size([10, 3, 4096]) torch.Size([10, 32])\n",
      "617 torch.Size([10, 1024]) torch.Size([10, 3, 4096]) torch.Size([10, 32])\n",
      "618 torch.Size([10, 1024]) torch.Size([10, 3, 4096]) torch.Size([10, 32])\n",
      "619 torch.Size([10, 1024]) torch.Size([10, 3, 4096]) torch.Size([10, 32])\n",
      "620 torch.Size([10, 1024]) torch.Size([10, 3, 4096]) torch.Size([10, 32])\n",
      "621 torch.Size([10, 1024]) torch.Size([10, 3, 4096]) torch.Size([10, 32])\n",
      "622 torch.Size([10, 1024]) torch.Size([10, 3, 4096]) torch.Size([10, 32])\n",
      "623 torch.Size([10, 1024]) torch.Size([10, 3, 4096]) torch.Size([10, 32])\n",
      "624 torch.Size([10, 1024]) torch.Size([10, 3, 4096]) torch.Size([10, 32])\n",
      "625 torch.Size([10, 1024]) torch.Size([10, 3, 4096]) torch.Size([10, 32])\n",
      "626 torch.Size([10, 1024]) torch.Size([10, 3, 4096]) torch.Size([10, 32])\n",
      "627 torch.Size([10, 1024]) torch.Size([10, 3, 4096]) torch.Size([10, 32])\n",
      "628 torch.Size([10, 1024]) torch.Size([10, 3, 4096]) torch.Size([10, 32])\n",
      "629 torch.Size([10, 1024]) torch.Size([10, 3, 4096]) torch.Size([10, 32])\n",
      "630 torch.Size([10, 1024]) torch.Size([10, 3, 4096]) torch.Size([10, 32])\n",
      "631 torch.Size([10, 1024]) torch.Size([10, 3, 4096]) torch.Size([10, 32])\n",
      "632 torch.Size([10, 1024]) torch.Size([10, 3, 4096]) torch.Size([10, 32])\n",
      "633 torch.Size([10, 1024]) torch.Size([10, 3, 4096]) torch.Size([10, 32])\n",
      "634 torch.Size([10, 1024]) torch.Size([10, 3, 4096]) torch.Size([10, 32])\n",
      "635 torch.Size([10, 1024]) torch.Size([10, 3, 4096]) torch.Size([10, 32])\n",
      "636 torch.Size([10, 1024]) torch.Size([10, 3, 4096]) torch.Size([10, 32])\n",
      "637 torch.Size([10, 1024]) torch.Size([10, 3, 4096]) torch.Size([10, 32])\n",
      "638 torch.Size([10, 1024]) torch.Size([10, 3, 4096]) torch.Size([10, 32])\n",
      "639 torch.Size([10, 1024]) torch.Size([10, 3, 4096]) torch.Size([10, 32])\n",
      "640 torch.Size([10, 1024]) torch.Size([10, 3, 4096]) torch.Size([10, 32])\n",
      "641 torch.Size([10, 1024]) torch.Size([10, 3, 4096]) torch.Size([10, 32])\n",
      "642 torch.Size([10, 1024]) torch.Size([10, 3, 4096]) torch.Size([10, 32])\n",
      "643 torch.Size([10, 1024]) torch.Size([10, 3, 4096]) torch.Size([10, 32])\n",
      "644 torch.Size([10, 1024]) torch.Size([10, 3, 4096]) torch.Size([10, 32])\n",
      "645 torch.Size([10, 1024]) torch.Size([10, 3, 4096]) torch.Size([10, 32])\n",
      "646 torch.Size([10, 1024]) torch.Size([10, 3, 4096]) torch.Size([10, 32])\n",
      "647 torch.Size([10, 1024]) torch.Size([10, 3, 4096]) torch.Size([10, 32])\n",
      "648 torch.Size([10, 1024]) torch.Size([10, 3, 4096]) torch.Size([10, 32])\n",
      "649 torch.Size([10, 1024]) torch.Size([10, 3, 4096]) torch.Size([10, 32])\n",
      "650 torch.Size([10, 1024]) torch.Size([10, 3, 4096]) torch.Size([10, 32])\n",
      "651 torch.Size([10, 1024]) torch.Size([10, 3, 4096]) torch.Size([10, 32])\n",
      "652 torch.Size([10, 1024]) torch.Size([10, 3, 4096]) torch.Size([10, 32])\n",
      "653 torch.Size([10, 1024]) torch.Size([10, 3, 4096]) torch.Size([10, 32])\n",
      "654 torch.Size([10, 1024]) torch.Size([10, 3, 4096]) torch.Size([10, 32])\n",
      "655 torch.Size([10, 1024]) torch.Size([10, 3, 4096]) torch.Size([10, 32])\n",
      "656 torch.Size([10, 1024]) torch.Size([10, 3, 4096]) torch.Size([10, 32])\n",
      "657 torch.Size([10, 1024]) torch.Size([10, 3, 4096]) torch.Size([10, 32])\n",
      "658 torch.Size([10, 1024]) torch.Size([10, 3, 4096]) torch.Size([10, 32])\n",
      "659 torch.Size([10, 1024]) torch.Size([10, 3, 4096]) torch.Size([10, 32])\n",
      "660 torch.Size([10, 1024]) torch.Size([10, 3, 4096]) torch.Size([10, 32])\n",
      "661 torch.Size([10, 1024]) torch.Size([10, 3, 4096]) torch.Size([10, 32])\n",
      "662 torch.Size([10, 1024]) torch.Size([10, 3, 4096]) torch.Size([10, 32])\n",
      "663 torch.Size([10, 1024]) torch.Size([10, 3, 4096]) torch.Size([10, 32])\n",
      "664 torch.Size([10, 1024]) torch.Size([10, 3, 4096]) torch.Size([10, 32])\n",
      "665 torch.Size([10, 1024]) torch.Size([10, 3, 4096]) torch.Size([10, 32])\n",
      "666 torch.Size([10, 1024]) torch.Size([10, 3, 4096]) torch.Size([10, 32])\n",
      "667 torch.Size([10, 1024]) torch.Size([10, 3, 4096]) torch.Size([10, 32])\n",
      "668 torch.Size([10, 1024]) torch.Size([10, 3, 4096]) torch.Size([10, 32])\n",
      "669 torch.Size([10, 1024]) torch.Size([10, 3, 4096]) torch.Size([10, 32])\n",
      "670 torch.Size([10, 1024]) torch.Size([10, 3, 4096]) torch.Size([10, 32])\n",
      "671 torch.Size([10, 1024]) torch.Size([10, 3, 4096]) torch.Size([10, 32])\n",
      "672 torch.Size([10, 1024]) torch.Size([10, 3, 4096]) torch.Size([10, 32])\n",
      "673 torch.Size([10, 1024]) torch.Size([10, 3, 4096]) torch.Size([10, 32])\n",
      "674 torch.Size([10, 1024]) torch.Size([10, 3, 4096]) torch.Size([10, 32])\n",
      "675 torch.Size([10, 1024]) torch.Size([10, 3, 4096]) torch.Size([10, 32])\n",
      "676 torch.Size([10, 1024]) torch.Size([10, 3, 4096]) torch.Size([10, 32])\n",
      "677 torch.Size([10, 1024]) torch.Size([10, 3, 4096]) torch.Size([10, 32])\n",
      "678 torch.Size([10, 1024]) torch.Size([10, 3, 4096]) torch.Size([10, 32])\n",
      "679 torch.Size([10, 1024]) torch.Size([10, 3, 4096]) torch.Size([10, 32])\n",
      "680 torch.Size([10, 1024]) torch.Size([10, 3, 4096]) torch.Size([10, 32])\n",
      "681 torch.Size([10, 1024]) torch.Size([10, 3, 4096]) torch.Size([10, 32])\n",
      "682 torch.Size([10, 1024]) torch.Size([10, 3, 4096]) torch.Size([10, 32])\n",
      "683 torch.Size([10, 1024]) torch.Size([10, 3, 4096]) torch.Size([10, 32])\n",
      "684 torch.Size([10, 1024]) torch.Size([10, 3, 4096]) torch.Size([10, 32])\n",
      "685 torch.Size([10, 1024]) torch.Size([10, 3, 4096]) torch.Size([10, 32])\n",
      "686 torch.Size([10, 1024]) torch.Size([10, 3, 4096]) torch.Size([10, 32])\n",
      "687 torch.Size([10, 1024]) torch.Size([10, 3, 4096]) torch.Size([10, 32])\n",
      "688 torch.Size([10, 1024]) torch.Size([10, 3, 4096]) torch.Size([10, 32])\n",
      "689 torch.Size([10, 1024]) torch.Size([10, 3, 4096]) torch.Size([10, 32])\n",
      "690 torch.Size([10, 1024]) torch.Size([10, 3, 4096]) torch.Size([10, 32])\n",
      "691 torch.Size([10, 1024]) torch.Size([10, 3, 4096]) torch.Size([10, 32])\n",
      "692 torch.Size([10, 1024]) torch.Size([10, 3, 4096]) torch.Size([10, 32])\n",
      "693 torch.Size([10, 1024]) torch.Size([10, 3, 4096]) torch.Size([10, 32])\n",
      "694 torch.Size([10, 1024]) torch.Size([10, 3, 4096]) torch.Size([10, 32])\n",
      "695 torch.Size([10, 1024]) torch.Size([10, 3, 4096]) torch.Size([10, 32])\n",
      "696 torch.Size([10, 1024]) torch.Size([10, 3, 4096]) torch.Size([10, 32])\n",
      "697 torch.Size([10, 1024]) torch.Size([10, 3, 4096]) torch.Size([10, 32])\n",
      "698 torch.Size([10, 1024]) torch.Size([10, 3, 4096]) torch.Size([10, 32])\n",
      "699 torch.Size([10, 1024]) torch.Size([10, 3, 4096]) torch.Size([10, 32])\n",
      "700 torch.Size([10, 1024]) torch.Size([10, 3, 4096]) torch.Size([10, 32])\n",
      "701 torch.Size([10, 1024]) torch.Size([10, 3, 4096]) torch.Size([10, 32])\n",
      "702 torch.Size([10, 1024]) torch.Size([10, 3, 4096]) torch.Size([10, 32])\n",
      "703 torch.Size([10, 1024]) torch.Size([10, 3, 4096]) torch.Size([10, 32])\n",
      "704 torch.Size([10, 1024]) torch.Size([10, 3, 4096]) torch.Size([10, 32])\n",
      "705 torch.Size([10, 1024]) torch.Size([10, 3, 4096]) torch.Size([10, 32])\n",
      "706 torch.Size([10, 1024]) torch.Size([10, 3, 4096]) torch.Size([10, 32])\n",
      "707 torch.Size([10, 1024]) torch.Size([10, 3, 4096]) torch.Size([10, 32])\n",
      "708 torch.Size([10, 1024]) torch.Size([10, 3, 4096]) torch.Size([10, 32])\n",
      "709 torch.Size([10, 1024]) torch.Size([10, 3, 4096]) torch.Size([10, 32])\n",
      "710 torch.Size([10, 1024]) torch.Size([10, 3, 4096]) torch.Size([10, 32])\n",
      "711 torch.Size([10, 1024]) torch.Size([10, 3, 4096]) torch.Size([10, 32])\n",
      "712 torch.Size([10, 1024]) torch.Size([10, 3, 4096]) torch.Size([10, 32])\n",
      "713 torch.Size([10, 1024]) torch.Size([10, 3, 4096]) torch.Size([10, 32])\n",
      "714 torch.Size([10, 1024]) torch.Size([10, 3, 4096]) torch.Size([10, 32])\n",
      "715 torch.Size([10, 1024]) torch.Size([10, 3, 4096]) torch.Size([10, 32])\n",
      "716 torch.Size([10, 1024]) torch.Size([10, 3, 4096]) torch.Size([10, 32])\n",
      "717 torch.Size([10, 1024]) torch.Size([10, 3, 4096]) torch.Size([10, 32])\n",
      "718 torch.Size([10, 1024]) torch.Size([10, 3, 4096]) torch.Size([10, 32])\n",
      "719 torch.Size([10, 1024]) torch.Size([10, 3, 4096]) torch.Size([10, 32])\n",
      "720 torch.Size([10, 1024]) torch.Size([10, 3, 4096]) torch.Size([10, 32])\n",
      "721 torch.Size([10, 1024]) torch.Size([10, 3, 4096]) torch.Size([10, 32])\n",
      "722 torch.Size([10, 1024]) torch.Size([10, 3, 4096]) torch.Size([10, 32])\n",
      "723 torch.Size([10, 1024]) torch.Size([10, 3, 4096]) torch.Size([10, 32])\n",
      "724 torch.Size([10, 1024]) torch.Size([10, 3, 4096]) torch.Size([10, 32])\n",
      "725 torch.Size([10, 1024]) torch.Size([10, 3, 4096]) torch.Size([10, 32])\n",
      "726 torch.Size([10, 1024]) torch.Size([10, 3, 4096]) torch.Size([10, 32])\n",
      "727 torch.Size([10, 1024]) torch.Size([10, 3, 4096]) torch.Size([10, 32])\n",
      "728 torch.Size([10, 1024]) torch.Size([10, 3, 4096]) torch.Size([10, 32])\n",
      "729 torch.Size([10, 1024]) torch.Size([10, 3, 4096]) torch.Size([10, 32])\n",
      "730 torch.Size([10, 1024]) torch.Size([10, 3, 4096]) torch.Size([10, 32])\n",
      "731 torch.Size([10, 1024]) torch.Size([10, 3, 4096]) torch.Size([10, 32])\n",
      "732 torch.Size([10, 1024]) torch.Size([10, 3, 4096]) torch.Size([10, 32])\n"
     ]
    },
    {
     "name": "stdout",
     "output_type": "stream",
     "text": [
      "733 torch.Size([10, 1024]) torch.Size([10, 3, 4096]) torch.Size([10, 32])\n",
      "734 torch.Size([10, 1024]) torch.Size([10, 3, 4096]) torch.Size([10, 32])\n",
      "735 torch.Size([10, 1024]) torch.Size([10, 3, 4096]) torch.Size([10, 32])\n",
      "736 torch.Size([10, 1024]) torch.Size([10, 3, 4096]) torch.Size([10, 32])\n",
      "737 torch.Size([10, 1024]) torch.Size([10, 3, 4096]) torch.Size([10, 32])\n",
      "738 torch.Size([10, 1024]) torch.Size([10, 3, 4096]) torch.Size([10, 32])\n",
      "739 torch.Size([10, 1024]) torch.Size([10, 3, 4096]) torch.Size([10, 32])\n",
      "740 torch.Size([10, 1024]) torch.Size([10, 3, 4096]) torch.Size([10, 32])\n",
      "741 torch.Size([10, 1024]) torch.Size([10, 3, 4096]) torch.Size([10, 32])\n",
      "742 torch.Size([10, 1024]) torch.Size([10, 3, 4096]) torch.Size([10, 32])\n",
      "743 torch.Size([10, 1024]) torch.Size([10, 3, 4096]) torch.Size([10, 32])\n",
      "744 torch.Size([10, 1024]) torch.Size([10, 3, 4096]) torch.Size([10, 32])\n",
      "745 torch.Size([10, 1024]) torch.Size([10, 3, 4096]) torch.Size([10, 32])\n",
      "746 torch.Size([10, 1024]) torch.Size([10, 3, 4096]) torch.Size([10, 32])\n",
      "747 torch.Size([10, 1024]) torch.Size([10, 3, 4096]) torch.Size([10, 32])\n",
      "748 torch.Size([10, 1024]) torch.Size([10, 3, 4096]) torch.Size([10, 32])\n",
      "749 torch.Size([10, 1024]) torch.Size([10, 3, 4096]) torch.Size([10, 32])\n",
      "750 torch.Size([10, 1024]) torch.Size([10, 3, 4096]) torch.Size([10, 32])\n",
      "751 torch.Size([10, 1024]) torch.Size([10, 3, 4096]) torch.Size([10, 32])\n",
      "752 torch.Size([10, 1024]) torch.Size([10, 3, 4096]) torch.Size([10, 32])\n",
      "753 torch.Size([10, 1024]) torch.Size([10, 3, 4096]) torch.Size([10, 32])\n",
      "754 torch.Size([10, 1024]) torch.Size([10, 3, 4096]) torch.Size([10, 32])\n",
      "755 torch.Size([10, 1024]) torch.Size([10, 3, 4096]) torch.Size([10, 32])\n",
      "756 torch.Size([10, 1024]) torch.Size([10, 3, 4096]) torch.Size([10, 32])\n",
      "757 torch.Size([10, 1024]) torch.Size([10, 3, 4096]) torch.Size([10, 32])\n",
      "758 torch.Size([10, 1024]) torch.Size([10, 3, 4096]) torch.Size([10, 32])\n",
      "759 torch.Size([10, 1024]) torch.Size([10, 3, 4096]) torch.Size([10, 32])\n",
      "760 torch.Size([10, 1024]) torch.Size([10, 3, 4096]) torch.Size([10, 32])\n",
      "761 torch.Size([10, 1024]) torch.Size([10, 3, 4096]) torch.Size([10, 32])\n",
      "762 torch.Size([10, 1024]) torch.Size([10, 3, 4096]) torch.Size([10, 32])\n",
      "763 torch.Size([10, 1024]) torch.Size([10, 3, 4096]) torch.Size([10, 32])\n",
      "764 torch.Size([10, 1024]) torch.Size([10, 3, 4096]) torch.Size([10, 32])\n",
      "765 torch.Size([10, 1024]) torch.Size([10, 3, 4096]) torch.Size([10, 32])\n",
      "766 torch.Size([10, 1024]) torch.Size([10, 3, 4096]) torch.Size([10, 32])\n",
      "767 torch.Size([10, 1024]) torch.Size([10, 3, 4096]) torch.Size([10, 32])\n",
      "768 torch.Size([10, 1024]) torch.Size([10, 3, 4096]) torch.Size([10, 32])\n",
      "769 torch.Size([10, 1024]) torch.Size([10, 3, 4096]) torch.Size([10, 32])\n",
      "770 torch.Size([10, 1024]) torch.Size([10, 3, 4096]) torch.Size([10, 32])\n",
      "771 torch.Size([10, 1024]) torch.Size([10, 3, 4096]) torch.Size([10, 32])\n",
      "772 torch.Size([10, 1024]) torch.Size([10, 3, 4096]) torch.Size([10, 32])\n",
      "773 torch.Size([10, 1024]) torch.Size([10, 3, 4096]) torch.Size([10, 32])\n",
      "774 torch.Size([10, 1024]) torch.Size([10, 3, 4096]) torch.Size([10, 32])\n",
      "775 torch.Size([10, 1024]) torch.Size([10, 3, 4096]) torch.Size([10, 32])\n",
      "776 torch.Size([10, 1024]) torch.Size([10, 3, 4096]) torch.Size([10, 32])\n",
      "777 torch.Size([10, 1024]) torch.Size([10, 3, 4096]) torch.Size([10, 32])\n",
      "778 torch.Size([10, 1024]) torch.Size([10, 3, 4096]) torch.Size([10, 32])\n",
      "779 torch.Size([10, 1024]) torch.Size([10, 3, 4096]) torch.Size([10, 32])\n",
      "780 torch.Size([10, 1024]) torch.Size([10, 3, 4096]) torch.Size([10, 32])\n",
      "781 torch.Size([10, 1024]) torch.Size([10, 3, 4096]) torch.Size([10, 32])\n",
      "782 torch.Size([10, 1024]) torch.Size([10, 3, 4096]) torch.Size([10, 32])\n",
      "783 torch.Size([10, 1024]) torch.Size([10, 3, 4096]) torch.Size([10, 32])\n",
      "784 torch.Size([10, 1024]) torch.Size([10, 3, 4096]) torch.Size([10, 32])\n",
      "785 torch.Size([10, 1024]) torch.Size([10, 3, 4096]) torch.Size([10, 32])\n",
      "786 torch.Size([10, 1024]) torch.Size([10, 3, 4096]) torch.Size([10, 32])\n",
      "787 torch.Size([10, 1024]) torch.Size([10, 3, 4096]) torch.Size([10, 32])\n",
      "788 torch.Size([10, 1024]) torch.Size([10, 3, 4096]) torch.Size([10, 32])\n",
      "789 torch.Size([10, 1024]) torch.Size([10, 3, 4096]) torch.Size([10, 32])\n",
      "790 torch.Size([10, 1024]) torch.Size([10, 3, 4096]) torch.Size([10, 32])\n",
      "791 torch.Size([10, 1024]) torch.Size([10, 3, 4096]) torch.Size([10, 32])\n",
      "792 torch.Size([10, 1024]) torch.Size([10, 3, 4096]) torch.Size([10, 32])\n",
      "793 torch.Size([10, 1024]) torch.Size([10, 3, 4096]) torch.Size([10, 32])\n",
      "794 torch.Size([10, 1024]) torch.Size([10, 3, 4096]) torch.Size([10, 32])\n",
      "795 torch.Size([10, 1024]) torch.Size([10, 3, 4096]) torch.Size([10, 32])\n",
      "796 torch.Size([10, 1024]) torch.Size([10, 3, 4096]) torch.Size([10, 32])\n",
      "797 torch.Size([10, 1024]) torch.Size([10, 3, 4096]) torch.Size([10, 32])\n",
      "798 torch.Size([10, 1024]) torch.Size([10, 3, 4096]) torch.Size([10, 32])\n",
      "799 torch.Size([10, 1024]) torch.Size([10, 3, 4096]) torch.Size([10, 32])\n",
      "800 torch.Size([10, 1024]) torch.Size([10, 3, 4096]) torch.Size([10, 32])\n",
      "801 torch.Size([10, 1024]) torch.Size([10, 3, 4096]) torch.Size([10, 32])\n",
      "802 torch.Size([10, 1024]) torch.Size([10, 3, 4096]) torch.Size([10, 32])\n",
      "803 torch.Size([10, 1024]) torch.Size([10, 3, 4096]) torch.Size([10, 32])\n",
      "804 torch.Size([10, 1024]) torch.Size([10, 3, 4096]) torch.Size([10, 32])\n",
      "805 torch.Size([10, 1024]) torch.Size([10, 3, 4096]) torch.Size([10, 32])\n",
      "806 torch.Size([10, 1024]) torch.Size([10, 3, 4096]) torch.Size([10, 32])\n",
      "807 torch.Size([10, 1024]) torch.Size([10, 3, 4096]) torch.Size([10, 32])\n",
      "808 torch.Size([10, 1024]) torch.Size([10, 3, 4096]) torch.Size([10, 32])\n",
      "809 torch.Size([10, 1024]) torch.Size([10, 3, 4096]) torch.Size([10, 32])\n",
      "810 torch.Size([10, 1024]) torch.Size([10, 3, 4096]) torch.Size([10, 32])\n",
      "811 torch.Size([10, 1024]) torch.Size([10, 3, 4096]) torch.Size([10, 32])\n",
      "812 torch.Size([10, 1024]) torch.Size([10, 3, 4096]) torch.Size([10, 32])\n",
      "813 torch.Size([10, 1024]) torch.Size([10, 3, 4096]) torch.Size([10, 32])\n",
      "814 torch.Size([10, 1024]) torch.Size([10, 3, 4096]) torch.Size([10, 32])\n",
      "815 torch.Size([10, 1024]) torch.Size([10, 3, 4096]) torch.Size([10, 32])\n",
      "816 torch.Size([10, 1024]) torch.Size([10, 3, 4096]) torch.Size([10, 32])\n",
      "817 torch.Size([10, 1024]) torch.Size([10, 3, 4096]) torch.Size([10, 32])\n",
      "818 torch.Size([10, 1024]) torch.Size([10, 3, 4096]) torch.Size([10, 32])\n",
      "819 torch.Size([10, 1024]) torch.Size([10, 3, 4096]) torch.Size([10, 32])\n",
      "820 torch.Size([10, 1024]) torch.Size([10, 3, 4096]) torch.Size([10, 32])\n",
      "821 torch.Size([10, 1024]) torch.Size([10, 3, 4096]) torch.Size([10, 32])\n",
      "822 torch.Size([10, 1024]) torch.Size([10, 3, 4096]) torch.Size([10, 32])\n",
      "823 torch.Size([10, 1024]) torch.Size([10, 3, 4096]) torch.Size([10, 32])\n",
      "824 torch.Size([10, 1024]) torch.Size([10, 3, 4096]) torch.Size([10, 32])\n",
      "825 torch.Size([10, 1024]) torch.Size([10, 3, 4096]) torch.Size([10, 32])\n",
      "826 torch.Size([10, 1024]) torch.Size([10, 3, 4096]) torch.Size([10, 32])\n",
      "827 torch.Size([10, 1024]) torch.Size([10, 3, 4096]) torch.Size([10, 32])\n",
      "828 torch.Size([10, 1024]) torch.Size([10, 3, 4096]) torch.Size([10, 32])\n",
      "829 torch.Size([10, 1024]) torch.Size([10, 3, 4096]) torch.Size([10, 32])\n",
      "830 torch.Size([10, 1024]) torch.Size([10, 3, 4096]) torch.Size([10, 32])\n",
      "831 torch.Size([10, 1024]) torch.Size([10, 3, 4096]) torch.Size([10, 32])\n",
      "832 torch.Size([10, 1024]) torch.Size([10, 3, 4096]) torch.Size([10, 32])\n",
      "833 torch.Size([10, 1024]) torch.Size([10, 3, 4096]) torch.Size([10, 32])\n",
      "834 torch.Size([10, 1024]) torch.Size([10, 3, 4096]) torch.Size([10, 32])\n",
      "835 torch.Size([10, 1024]) torch.Size([10, 3, 4096]) torch.Size([10, 32])\n",
      "836 torch.Size([10, 1024]) torch.Size([10, 3, 4096]) torch.Size([10, 32])\n",
      "837 torch.Size([10, 1024]) torch.Size([10, 3, 4096]) torch.Size([10, 32])\n",
      "838 torch.Size([10, 1024]) torch.Size([10, 3, 4096]) torch.Size([10, 32])\n",
      "839 torch.Size([10, 1024]) torch.Size([10, 3, 4096]) torch.Size([10, 32])\n",
      "840 torch.Size([10, 1024]) torch.Size([10, 3, 4096]) torch.Size([10, 32])\n",
      "841 torch.Size([10, 1024]) torch.Size([10, 3, 4096]) torch.Size([10, 32])\n",
      "842 torch.Size([10, 1024]) torch.Size([10, 3, 4096]) torch.Size([10, 32])\n",
      "843 torch.Size([10, 1024]) torch.Size([10, 3, 4096]) torch.Size([10, 32])\n",
      "844 torch.Size([10, 1024]) torch.Size([10, 3, 4096]) torch.Size([10, 32])\n",
      "845 torch.Size([10, 1024]) torch.Size([10, 3, 4096]) torch.Size([10, 32])\n",
      "846 torch.Size([10, 1024]) torch.Size([10, 3, 4096]) torch.Size([10, 32])\n",
      "847 torch.Size([10, 1024]) torch.Size([10, 3, 4096]) torch.Size([10, 32])\n",
      "848 torch.Size([10, 1024]) torch.Size([10, 3, 4096]) torch.Size([10, 32])\n",
      "849 torch.Size([10, 1024]) torch.Size([10, 3, 4096]) torch.Size([10, 32])\n",
      "850 torch.Size([10, 1024]) torch.Size([10, 3, 4096]) torch.Size([10, 32])\n"
     ]
    },
    {
     "name": "stdout",
     "output_type": "stream",
     "text": [
      "851 torch.Size([10, 1024]) torch.Size([10, 3, 4096]) torch.Size([10, 32])\n",
      "852 torch.Size([10, 1024]) torch.Size([10, 3, 4096]) torch.Size([10, 32])\n",
      "853 torch.Size([10, 1024]) torch.Size([10, 3, 4096]) torch.Size([10, 32])\n",
      "854 torch.Size([10, 1024]) torch.Size([10, 3, 4096]) torch.Size([10, 32])\n",
      "855 torch.Size([10, 1024]) torch.Size([10, 3, 4096]) torch.Size([10, 32])\n",
      "856 torch.Size([10, 1024]) torch.Size([10, 3, 4096]) torch.Size([10, 32])\n",
      "857 torch.Size([10, 1024]) torch.Size([10, 3, 4096]) torch.Size([10, 32])\n",
      "858 torch.Size([10, 1024]) torch.Size([10, 3, 4096]) torch.Size([10, 32])\n",
      "859 torch.Size([10, 1024]) torch.Size([10, 3, 4096]) torch.Size([10, 32])\n",
      "860 torch.Size([10, 1024]) torch.Size([10, 3, 4096]) torch.Size([10, 32])\n",
      "861 torch.Size([10, 1024]) torch.Size([10, 3, 4096]) torch.Size([10, 32])\n",
      "862 torch.Size([10, 1024]) torch.Size([10, 3, 4096]) torch.Size([10, 32])\n",
      "863 torch.Size([10, 1024]) torch.Size([10, 3, 4096]) torch.Size([10, 32])\n",
      "864 torch.Size([10, 1024]) torch.Size([10, 3, 4096]) torch.Size([10, 32])\n",
      "865 torch.Size([10, 1024]) torch.Size([10, 3, 4096]) torch.Size([10, 32])\n",
      "866 torch.Size([10, 1024]) torch.Size([10, 3, 4096]) torch.Size([10, 32])\n",
      "867 torch.Size([10, 1024]) torch.Size([10, 3, 4096]) torch.Size([10, 32])\n",
      "868 torch.Size([10, 1024]) torch.Size([10, 3, 4096]) torch.Size([10, 32])\n",
      "869 torch.Size([10, 1024]) torch.Size([10, 3, 4096]) torch.Size([10, 32])\n",
      "870 torch.Size([10, 1024]) torch.Size([10, 3, 4096]) torch.Size([10, 32])\n",
      "871 torch.Size([10, 1024]) torch.Size([10, 3, 4096]) torch.Size([10, 32])\n",
      "872 torch.Size([10, 1024]) torch.Size([10, 3, 4096]) torch.Size([10, 32])\n",
      "873 torch.Size([10, 1024]) torch.Size([10, 3, 4096]) torch.Size([10, 32])\n",
      "874 torch.Size([10, 1024]) torch.Size([10, 3, 4096]) torch.Size([10, 32])\n",
      "875 torch.Size([10, 1024]) torch.Size([10, 3, 4096]) torch.Size([10, 32])\n",
      "876 torch.Size([10, 1024]) torch.Size([10, 3, 4096]) torch.Size([10, 32])\n",
      "877 torch.Size([10, 1024]) torch.Size([10, 3, 4096]) torch.Size([10, 32])\n",
      "878 torch.Size([10, 1024]) torch.Size([10, 3, 4096]) torch.Size([10, 32])\n",
      "879 torch.Size([10, 1024]) torch.Size([10, 3, 4096]) torch.Size([10, 32])\n",
      "880 torch.Size([10, 1024]) torch.Size([10, 3, 4096]) torch.Size([10, 32])\n",
      "881 torch.Size([10, 1024]) torch.Size([10, 3, 4096]) torch.Size([10, 32])\n",
      "882 torch.Size([10, 1024]) torch.Size([10, 3, 4096]) torch.Size([10, 32])\n",
      "883 torch.Size([10, 1024]) torch.Size([10, 3, 4096]) torch.Size([10, 32])\n",
      "884 torch.Size([10, 1024]) torch.Size([10, 3, 4096]) torch.Size([10, 32])\n",
      "885 torch.Size([10, 1024]) torch.Size([10, 3, 4096]) torch.Size([10, 32])\n",
      "886 torch.Size([10, 1024]) torch.Size([10, 3, 4096]) torch.Size([10, 32])\n",
      "887 torch.Size([10, 1024]) torch.Size([10, 3, 4096]) torch.Size([10, 32])\n",
      "888 torch.Size([10, 1024]) torch.Size([10, 3, 4096]) torch.Size([10, 32])\n",
      "889 torch.Size([10, 1024]) torch.Size([10, 3, 4096]) torch.Size([10, 32])\n",
      "890 torch.Size([10, 1024]) torch.Size([10, 3, 4096]) torch.Size([10, 32])\n",
      "891 torch.Size([10, 1024]) torch.Size([10, 3, 4096]) torch.Size([10, 32])\n",
      "892 torch.Size([10, 1024]) torch.Size([10, 3, 4096]) torch.Size([10, 32])\n",
      "893 torch.Size([10, 1024]) torch.Size([10, 3, 4096]) torch.Size([10, 32])\n",
      "894 torch.Size([10, 1024]) torch.Size([10, 3, 4096]) torch.Size([10, 32])\n",
      "895 torch.Size([10, 1024]) torch.Size([10, 3, 4096]) torch.Size([10, 32])\n",
      "896 torch.Size([10, 1024]) torch.Size([10, 3, 4096]) torch.Size([10, 32])\n",
      "897 torch.Size([10, 1024]) torch.Size([10, 3, 4096]) torch.Size([10, 32])\n",
      "898 torch.Size([10, 1024]) torch.Size([10, 3, 4096]) torch.Size([10, 32])\n",
      "899 torch.Size([10, 1024]) torch.Size([10, 3, 4096]) torch.Size([10, 32])\n",
      "900 torch.Size([10, 1024]) torch.Size([10, 3, 4096]) torch.Size([10, 32])\n",
      "901 torch.Size([10, 1024]) torch.Size([10, 3, 4096]) torch.Size([10, 32])\n",
      "902 torch.Size([10, 1024]) torch.Size([10, 3, 4096]) torch.Size([10, 32])\n",
      "903 torch.Size([10, 1024]) torch.Size([10, 3, 4096]) torch.Size([10, 32])\n",
      "904 torch.Size([10, 1024]) torch.Size([10, 3, 4096]) torch.Size([10, 32])\n",
      "905 torch.Size([10, 1024]) torch.Size([10, 3, 4096]) torch.Size([10, 32])\n",
      "906 torch.Size([10, 1024]) torch.Size([10, 3, 4096]) torch.Size([10, 32])\n",
      "907 torch.Size([10, 1024]) torch.Size([10, 3, 4096]) torch.Size([10, 32])\n",
      "908 torch.Size([10, 1024]) torch.Size([10, 3, 4096]) torch.Size([10, 32])\n",
      "909 torch.Size([10, 1024]) torch.Size([10, 3, 4096]) torch.Size([10, 32])\n",
      "910 torch.Size([10, 1024]) torch.Size([10, 3, 4096]) torch.Size([10, 32])\n",
      "911 torch.Size([10, 1024]) torch.Size([10, 3, 4096]) torch.Size([10, 32])\n",
      "912 torch.Size([10, 1024]) torch.Size([10, 3, 4096]) torch.Size([10, 32])\n",
      "913 torch.Size([10, 1024]) torch.Size([10, 3, 4096]) torch.Size([10, 32])\n",
      "914 torch.Size([10, 1024]) torch.Size([10, 3, 4096]) torch.Size([10, 32])\n",
      "915 torch.Size([10, 1024]) torch.Size([10, 3, 4096]) torch.Size([10, 32])\n",
      "916 torch.Size([10, 1024]) torch.Size([10, 3, 4096]) torch.Size([10, 32])\n",
      "917 torch.Size([10, 1024]) torch.Size([10, 3, 4096]) torch.Size([10, 32])\n",
      "918 torch.Size([10, 1024]) torch.Size([10, 3, 4096]) torch.Size([10, 32])\n",
      "919 torch.Size([10, 1024]) torch.Size([10, 3, 4096]) torch.Size([10, 32])\n",
      "920 torch.Size([10, 1024]) torch.Size([10, 3, 4096]) torch.Size([10, 32])\n",
      "921 torch.Size([10, 1024]) torch.Size([10, 3, 4096]) torch.Size([10, 32])\n",
      "922 torch.Size([10, 1024]) torch.Size([10, 3, 4096]) torch.Size([10, 32])\n",
      "923 torch.Size([10, 1024]) torch.Size([10, 3, 4096]) torch.Size([10, 32])\n",
      "924 torch.Size([10, 1024]) torch.Size([10, 3, 4096]) torch.Size([10, 32])\n",
      "925 torch.Size([10, 1024]) torch.Size([10, 3, 4096]) torch.Size([10, 32])\n",
      "926 torch.Size([10, 1024]) torch.Size([10, 3, 4096]) torch.Size([10, 32])\n",
      "927 torch.Size([10, 1024]) torch.Size([10, 3, 4096]) torch.Size([10, 32])\n",
      "928 torch.Size([10, 1024]) torch.Size([10, 3, 4096]) torch.Size([10, 32])\n",
      "929 torch.Size([10, 1024]) torch.Size([10, 3, 4096]) torch.Size([10, 32])\n",
      "930 torch.Size([10, 1024]) torch.Size([10, 3, 4096]) torch.Size([10, 32])\n",
      "931 torch.Size([10, 1024]) torch.Size([10, 3, 4096]) torch.Size([10, 32])\n",
      "932 torch.Size([10, 1024]) torch.Size([10, 3, 4096]) torch.Size([10, 32])\n",
      "933 torch.Size([10, 1024]) torch.Size([10, 3, 4096]) torch.Size([10, 32])\n",
      "934 torch.Size([10, 1024]) torch.Size([10, 3, 4096]) torch.Size([10, 32])\n",
      "935 torch.Size([10, 1024]) torch.Size([10, 3, 4096]) torch.Size([10, 32])\n",
      "936 torch.Size([10, 1024]) torch.Size([10, 3, 4096]) torch.Size([10, 32])\n",
      "937 torch.Size([10, 1024]) torch.Size([10, 3, 4096]) torch.Size([10, 32])\n",
      "938 torch.Size([10, 1024]) torch.Size([10, 3, 4096]) torch.Size([10, 32])\n",
      "939 torch.Size([10, 1024]) torch.Size([10, 3, 4096]) torch.Size([10, 32])\n",
      "940 torch.Size([10, 1024]) torch.Size([10, 3, 4096]) torch.Size([10, 32])\n",
      "941 torch.Size([10, 1024]) torch.Size([10, 3, 4096]) torch.Size([10, 32])\n",
      "942 torch.Size([10, 1024]) torch.Size([10, 3, 4096]) torch.Size([10, 32])\n",
      "943 torch.Size([10, 1024]) torch.Size([10, 3, 4096]) torch.Size([10, 32])\n",
      "944 torch.Size([10, 1024]) torch.Size([10, 3, 4096]) torch.Size([10, 32])\n",
      "945 torch.Size([10, 1024]) torch.Size([10, 3, 4096]) torch.Size([10, 32])\n",
      "946 torch.Size([10, 1024]) torch.Size([10, 3, 4096]) torch.Size([10, 32])\n",
      "947 torch.Size([10, 1024]) torch.Size([10, 3, 4096]) torch.Size([10, 32])\n",
      "948 torch.Size([10, 1024]) torch.Size([10, 3, 4096]) torch.Size([10, 32])\n",
      "949 torch.Size([10, 1024]) torch.Size([10, 3, 4096]) torch.Size([10, 32])\n",
      "950 torch.Size([10, 1024]) torch.Size([10, 3, 4096]) torch.Size([10, 32])\n",
      "951 torch.Size([10, 1024]) torch.Size([10, 3, 4096]) torch.Size([10, 32])\n",
      "952 torch.Size([10, 1024]) torch.Size([10, 3, 4096]) torch.Size([10, 32])\n",
      "953 torch.Size([10, 1024]) torch.Size([10, 3, 4096]) torch.Size([10, 32])\n",
      "954 torch.Size([10, 1024]) torch.Size([10, 3, 4096]) torch.Size([10, 32])\n",
      "955 torch.Size([10, 1024]) torch.Size([10, 3, 4096]) torch.Size([10, 32])\n",
      "956 torch.Size([10, 1024]) torch.Size([10, 3, 4096]) torch.Size([10, 32])\n",
      "957 torch.Size([10, 1024]) torch.Size([10, 3, 4096]) torch.Size([10, 32])\n",
      "958 torch.Size([10, 1024]) torch.Size([10, 3, 4096]) torch.Size([10, 32])\n",
      "959 torch.Size([10, 1024]) torch.Size([10, 3, 4096]) torch.Size([10, 32])\n",
      "960 torch.Size([10, 1024]) torch.Size([10, 3, 4096]) torch.Size([10, 32])\n",
      "961 torch.Size([10, 1024]) torch.Size([10, 3, 4096]) torch.Size([10, 32])\n",
      "962 torch.Size([10, 1024]) torch.Size([10, 3, 4096]) torch.Size([10, 32])\n",
      "963 torch.Size([10, 1024]) torch.Size([10, 3, 4096]) torch.Size([10, 32])\n",
      "964 torch.Size([10, 1024]) torch.Size([10, 3, 4096]) torch.Size([10, 32])\n",
      "965 torch.Size([10, 1024]) torch.Size([10, 3, 4096]) torch.Size([10, 32])\n",
      "966 torch.Size([10, 1024]) torch.Size([10, 3, 4096]) torch.Size([10, 32])\n",
      "967 torch.Size([10, 1024]) torch.Size([10, 3, 4096]) torch.Size([10, 32])\n"
     ]
    },
    {
     "name": "stdout",
     "output_type": "stream",
     "text": [
      "968 torch.Size([10, 1024]) torch.Size([10, 3, 4096]) torch.Size([10, 32])\n",
      "969 torch.Size([10, 1024]) torch.Size([10, 3, 4096]) torch.Size([10, 32])\n",
      "970 torch.Size([10, 1024]) torch.Size([10, 3, 4096]) torch.Size([10, 32])\n",
      "971 torch.Size([10, 1024]) torch.Size([10, 3, 4096]) torch.Size([10, 32])\n",
      "972 torch.Size([10, 1024]) torch.Size([10, 3, 4096]) torch.Size([10, 32])\n",
      "973 torch.Size([10, 1024]) torch.Size([10, 3, 4096]) torch.Size([10, 32])\n",
      "974 torch.Size([10, 1024]) torch.Size([10, 3, 4096]) torch.Size([10, 32])\n",
      "975 torch.Size([10, 1024]) torch.Size([10, 3, 4096]) torch.Size([10, 32])\n",
      "976 torch.Size([10, 1024]) torch.Size([10, 3, 4096]) torch.Size([10, 32])\n",
      "977 torch.Size([10, 1024]) torch.Size([10, 3, 4096]) torch.Size([10, 32])\n",
      "978 torch.Size([10, 1024]) torch.Size([10, 3, 4096]) torch.Size([10, 32])\n",
      "979 torch.Size([10, 1024]) torch.Size([10, 3, 4096]) torch.Size([10, 32])\n",
      "980 torch.Size([10, 1024]) torch.Size([10, 3, 4096]) torch.Size([10, 32])\n",
      "981 torch.Size([10, 1024]) torch.Size([10, 3, 4096]) torch.Size([10, 32])\n",
      "982 torch.Size([10, 1024]) torch.Size([10, 3, 4096]) torch.Size([10, 32])\n",
      "983 torch.Size([10, 1024]) torch.Size([10, 3, 4096]) torch.Size([10, 32])\n",
      "984 torch.Size([10, 1024]) torch.Size([10, 3, 4096]) torch.Size([10, 32])\n",
      "985 torch.Size([10, 1024]) torch.Size([10, 3, 4096]) torch.Size([10, 32])\n",
      "986 torch.Size([10, 1024]) torch.Size([10, 3, 4096]) torch.Size([10, 32])\n",
      "987 torch.Size([10, 1024]) torch.Size([10, 3, 4096]) torch.Size([10, 32])\n",
      "988 torch.Size([10, 1024]) torch.Size([10, 3, 4096]) torch.Size([10, 32])\n",
      "989 torch.Size([10, 1024]) torch.Size([10, 3, 4096]) torch.Size([10, 32])\n",
      "990 torch.Size([10, 1024]) torch.Size([10, 3, 4096]) torch.Size([10, 32])\n",
      "991 torch.Size([10, 1024]) torch.Size([10, 3, 4096]) torch.Size([10, 32])\n",
      "992 torch.Size([10, 1024]) torch.Size([10, 3, 4096]) torch.Size([10, 32])\n",
      "993 torch.Size([10, 1024]) torch.Size([10, 3, 4096]) torch.Size([10, 32])\n",
      "994 torch.Size([10, 1024]) torch.Size([10, 3, 4096]) torch.Size([10, 32])\n",
      "995 torch.Size([10, 1024]) torch.Size([10, 3, 4096]) torch.Size([10, 32])\n",
      "996 torch.Size([10, 1024]) torch.Size([10, 3, 4096]) torch.Size([10, 32])\n",
      "997 torch.Size([10, 1024]) torch.Size([10, 3, 4096]) torch.Size([10, 32])\n",
      "998 torch.Size([10, 1024]) torch.Size([10, 3, 4096]) torch.Size([10, 32])\n",
      "999 torch.Size([10, 1024]) torch.Size([10, 3, 4096]) torch.Size([10, 32])\n",
      "1000 torch.Size([10, 1024]) torch.Size([10, 3, 4096]) torch.Size([10, 32])\n",
      "1001 torch.Size([10, 1024]) torch.Size([10, 3, 4096]) torch.Size([10, 32])\n",
      "1002 torch.Size([10, 1024]) torch.Size([10, 3, 4096]) torch.Size([10, 32])\n",
      "1003 torch.Size([10, 1024]) torch.Size([10, 3, 4096]) torch.Size([10, 32])\n",
      "1004 torch.Size([10, 1024]) torch.Size([10, 3, 4096]) torch.Size([10, 32])\n",
      "1005 torch.Size([10, 1024]) torch.Size([10, 3, 4096]) torch.Size([10, 32])\n",
      "1006 torch.Size([10, 1024]) torch.Size([10, 3, 4096]) torch.Size([10, 32])\n",
      "1007 torch.Size([10, 1024]) torch.Size([10, 3, 4096]) torch.Size([10, 32])\n",
      "1008 torch.Size([10, 1024]) torch.Size([10, 3, 4096]) torch.Size([10, 32])\n",
      "1009 torch.Size([10, 1024]) torch.Size([10, 3, 4096]) torch.Size([10, 32])\n",
      "1010 torch.Size([10, 1024]) torch.Size([10, 3, 4096]) torch.Size([10, 32])\n",
      "1011 torch.Size([10, 1024]) torch.Size([10, 3, 4096]) torch.Size([10, 32])\n",
      "1012 torch.Size([10, 1024]) torch.Size([10, 3, 4096]) torch.Size([10, 32])\n",
      "1013 torch.Size([10, 1024]) torch.Size([10, 3, 4096]) torch.Size([10, 32])\n",
      "1014 torch.Size([10, 1024]) torch.Size([10, 3, 4096]) torch.Size([10, 32])\n",
      "1015 torch.Size([10, 1024]) torch.Size([10, 3, 4096]) torch.Size([10, 32])\n",
      "1016 torch.Size([10, 1024]) torch.Size([10, 3, 4096]) torch.Size([10, 32])\n",
      "1017 torch.Size([10, 1024]) torch.Size([10, 3, 4096]) torch.Size([10, 32])\n",
      "1018 torch.Size([10, 1024]) torch.Size([10, 3, 4096]) torch.Size([10, 32])\n",
      "1019 torch.Size([10, 1024]) torch.Size([10, 3, 4096]) torch.Size([10, 32])\n",
      "1020 torch.Size([10, 1024]) torch.Size([10, 3, 4096]) torch.Size([10, 32])\n",
      "1021 torch.Size([10, 1024]) torch.Size([10, 3, 4096]) torch.Size([10, 32])\n",
      "1022 torch.Size([10, 1024]) torch.Size([10, 3, 4096]) torch.Size([10, 32])\n",
      "1023 torch.Size([10, 1024]) torch.Size([10, 3, 4096]) torch.Size([10, 32])\n",
      "1024 torch.Size([10, 1024]) torch.Size([10, 3, 4096]) torch.Size([10, 32])\n",
      "1025 torch.Size([10, 1024]) torch.Size([10, 3, 4096]) torch.Size([10, 32])\n",
      "1026 torch.Size([10, 1024]) torch.Size([10, 3, 4096]) torch.Size([10, 32])\n",
      "1027 torch.Size([10, 1024]) torch.Size([10, 3, 4096]) torch.Size([10, 32])\n",
      "1028 torch.Size([10, 1024]) torch.Size([10, 3, 4096]) torch.Size([10, 32])\n",
      "1029 torch.Size([10, 1024]) torch.Size([10, 3, 4096]) torch.Size([10, 32])\n",
      "1030 torch.Size([10, 1024]) torch.Size([10, 3, 4096]) torch.Size([10, 32])\n",
      "1031 torch.Size([10, 1024]) torch.Size([10, 3, 4096]) torch.Size([10, 32])\n",
      "1032 torch.Size([10, 1024]) torch.Size([10, 3, 4096]) torch.Size([10, 32])\n",
      "1033 torch.Size([10, 1024]) torch.Size([10, 3, 4096]) torch.Size([10, 32])\n",
      "1034 torch.Size([10, 1024]) torch.Size([10, 3, 4096]) torch.Size([10, 32])\n",
      "1035 torch.Size([10, 1024]) torch.Size([10, 3, 4096]) torch.Size([10, 32])\n",
      "1036 torch.Size([10, 1024]) torch.Size([10, 3, 4096]) torch.Size([10, 32])\n",
      "1037 torch.Size([10, 1024]) torch.Size([10, 3, 4096]) torch.Size([10, 32])\n",
      "1038 torch.Size([10, 1024]) torch.Size([10, 3, 4096]) torch.Size([10, 32])\n",
      "1039 torch.Size([10, 1024]) torch.Size([10, 3, 4096]) torch.Size([10, 32])\n",
      "1040 torch.Size([10, 1024]) torch.Size([10, 3, 4096]) torch.Size([10, 32])\n",
      "1041 torch.Size([10, 1024]) torch.Size([10, 3, 4096]) torch.Size([10, 32])\n",
      "1042 torch.Size([10, 1024]) torch.Size([10, 3, 4096]) torch.Size([10, 32])\n",
      "1043 torch.Size([10, 1024]) torch.Size([10, 3, 4096]) torch.Size([10, 32])\n",
      "1044 torch.Size([10, 1024]) torch.Size([10, 3, 4096]) torch.Size([10, 32])\n",
      "1045 torch.Size([10, 1024]) torch.Size([10, 3, 4096]) torch.Size([10, 32])\n",
      "1046 torch.Size([10, 1024]) torch.Size([10, 3, 4096]) torch.Size([10, 32])\n",
      "1047 torch.Size([10, 1024]) torch.Size([10, 3, 4096]) torch.Size([10, 32])\n",
      "1048 torch.Size([10, 1024]) torch.Size([10, 3, 4096]) torch.Size([10, 32])\n",
      "1049 torch.Size([10, 1024]) torch.Size([10, 3, 4096]) torch.Size([10, 32])\n",
      "1050 torch.Size([10, 1024]) torch.Size([10, 3, 4096]) torch.Size([10, 32])\n",
      "1051 torch.Size([10, 1024]) torch.Size([10, 3, 4096]) torch.Size([10, 32])\n",
      "1052 torch.Size([10, 1024]) torch.Size([10, 3, 4096]) torch.Size([10, 32])\n",
      "1053 torch.Size([10, 1024]) torch.Size([10, 3, 4096]) torch.Size([10, 32])\n",
      "1054 torch.Size([10, 1024]) torch.Size([10, 3, 4096]) torch.Size([10, 32])\n",
      "1055 torch.Size([10, 1024]) torch.Size([10, 3, 4096]) torch.Size([10, 32])\n",
      "1056 torch.Size([10, 1024]) torch.Size([10, 3, 4096]) torch.Size([10, 32])\n",
      "1057 torch.Size([10, 1024]) torch.Size([10, 3, 4096]) torch.Size([10, 32])\n",
      "1058 torch.Size([10, 1024]) torch.Size([10, 3, 4096]) torch.Size([10, 32])\n",
      "1059 torch.Size([10, 1024]) torch.Size([10, 3, 4096]) torch.Size([10, 32])\n",
      "1060 torch.Size([10, 1024]) torch.Size([10, 3, 4096]) torch.Size([10, 32])\n",
      "1061 torch.Size([10, 1024]) torch.Size([10, 3, 4096]) torch.Size([10, 32])\n",
      "1062 torch.Size([10, 1024]) torch.Size([10, 3, 4096]) torch.Size([10, 32])\n",
      "1063 torch.Size([10, 1024]) torch.Size([10, 3, 4096]) torch.Size([10, 32])\n",
      "1064 torch.Size([10, 1024]) torch.Size([10, 3, 4096]) torch.Size([10, 32])\n",
      "1065 torch.Size([10, 1024]) torch.Size([10, 3, 4096]) torch.Size([10, 32])\n",
      "1066 torch.Size([10, 1024]) torch.Size([10, 3, 4096]) torch.Size([10, 32])\n",
      "1067 torch.Size([10, 1024]) torch.Size([10, 3, 4096]) torch.Size([10, 32])\n",
      "1068 torch.Size([10, 1024]) torch.Size([10, 3, 4096]) torch.Size([10, 32])\n",
      "1069 torch.Size([10, 1024]) torch.Size([10, 3, 4096]) torch.Size([10, 32])\n",
      "1070 torch.Size([10, 1024]) torch.Size([10, 3, 4096]) torch.Size([10, 32])\n",
      "1071 torch.Size([10, 1024]) torch.Size([10, 3, 4096]) torch.Size([10, 32])\n",
      "1072 torch.Size([10, 1024]) torch.Size([10, 3, 4096]) torch.Size([10, 32])\n",
      "1073 torch.Size([10, 1024]) torch.Size([10, 3, 4096]) torch.Size([10, 32])\n",
      "1074 torch.Size([10, 1024]) torch.Size([10, 3, 4096]) torch.Size([10, 32])\n",
      "1075 torch.Size([10, 1024]) torch.Size([10, 3, 4096]) torch.Size([10, 32])\n",
      "1076 torch.Size([10, 1024]) torch.Size([10, 3, 4096]) torch.Size([10, 32])\n",
      "1077 torch.Size([10, 1024]) torch.Size([10, 3, 4096]) torch.Size([10, 32])\n",
      "1078 torch.Size([10, 1024]) torch.Size([10, 3, 4096]) torch.Size([10, 32])\n",
      "1079 torch.Size([10, 1024]) torch.Size([10, 3, 4096]) torch.Size([10, 32])\n",
      "1080 torch.Size([10, 1024]) torch.Size([10, 3, 4096]) torch.Size([10, 32])\n",
      "1081 torch.Size([10, 1024]) torch.Size([10, 3, 4096]) torch.Size([10, 32])\n",
      "1082 torch.Size([10, 1024]) torch.Size([10, 3, 4096]) torch.Size([10, 32])\n",
      "1083 torch.Size([10, 1024]) torch.Size([10, 3, 4096]) torch.Size([10, 32])\n",
      "1084 torch.Size([10, 1024]) torch.Size([10, 3, 4096]) torch.Size([10, 32])\n",
      "1085 torch.Size([10, 1024]) torch.Size([10, 3, 4096]) torch.Size([10, 32])\n",
      "1086 torch.Size([10, 1024]) torch.Size([10, 3, 4096]) torch.Size([10, 32])\n"
     ]
    },
    {
     "name": "stdout",
     "output_type": "stream",
     "text": [
      "1087 torch.Size([10, 1024]) torch.Size([10, 3, 4096]) torch.Size([10, 32])\n",
      "1088 torch.Size([10, 1024]) torch.Size([10, 3, 4096]) torch.Size([10, 32])\n",
      "1089 torch.Size([10, 1024]) torch.Size([10, 3, 4096]) torch.Size([10, 32])\n",
      "1090 torch.Size([10, 1024]) torch.Size([10, 3, 4096]) torch.Size([10, 32])\n",
      "1091 torch.Size([10, 1024]) torch.Size([10, 3, 4096]) torch.Size([10, 32])\n",
      "1092 torch.Size([10, 1024]) torch.Size([10, 3, 4096]) torch.Size([10, 32])\n",
      "1093 torch.Size([10, 1024]) torch.Size([10, 3, 4096]) torch.Size([10, 32])\n",
      "1094 torch.Size([10, 1024]) torch.Size([10, 3, 4096]) torch.Size([10, 32])\n",
      "1095 torch.Size([10, 1024]) torch.Size([10, 3, 4096]) torch.Size([10, 32])\n",
      "1096 torch.Size([10, 1024]) torch.Size([10, 3, 4096]) torch.Size([10, 32])\n",
      "1097 torch.Size([10, 1024]) torch.Size([10, 3, 4096]) torch.Size([10, 32])\n",
      "1098 torch.Size([10, 1024]) torch.Size([10, 3, 4096]) torch.Size([10, 32])\n",
      "1099 torch.Size([10, 1024]) torch.Size([10, 3, 4096]) torch.Size([10, 32])\n",
      "1100 torch.Size([10, 1024]) torch.Size([10, 3, 4096]) torch.Size([10, 32])\n",
      "1101 torch.Size([10, 1024]) torch.Size([10, 3, 4096]) torch.Size([10, 32])\n",
      "1102 torch.Size([10, 1024]) torch.Size([10, 3, 4096]) torch.Size([10, 32])\n",
      "1103 torch.Size([10, 1024]) torch.Size([10, 3, 4096]) torch.Size([10, 32])\n",
      "1104 torch.Size([10, 1024]) torch.Size([10, 3, 4096]) torch.Size([10, 32])\n",
      "1105 torch.Size([10, 1024]) torch.Size([10, 3, 4096]) torch.Size([10, 32])\n",
      "1106 torch.Size([10, 1024]) torch.Size([10, 3, 4096]) torch.Size([10, 32])\n",
      "1107 torch.Size([10, 1024]) torch.Size([10, 3, 4096]) torch.Size([10, 32])\n",
      "1108 torch.Size([10, 1024]) torch.Size([10, 3, 4096]) torch.Size([10, 32])\n",
      "1109 torch.Size([10, 1024]) torch.Size([10, 3, 4096]) torch.Size([10, 32])\n",
      "1110 torch.Size([10, 1024]) torch.Size([10, 3, 4096]) torch.Size([10, 32])\n",
      "1111 torch.Size([10, 1024]) torch.Size([10, 3, 4096]) torch.Size([10, 32])\n",
      "1112 torch.Size([10, 1024]) torch.Size([10, 3, 4096]) torch.Size([10, 32])\n",
      "1113 torch.Size([10, 1024]) torch.Size([10, 3, 4096]) torch.Size([10, 32])\n",
      "1114 torch.Size([10, 1024]) torch.Size([10, 3, 4096]) torch.Size([10, 32])\n",
      "1115 torch.Size([10, 1024]) torch.Size([10, 3, 4096]) torch.Size([10, 32])\n",
      "1116 torch.Size([10, 1024]) torch.Size([10, 3, 4096]) torch.Size([10, 32])\n",
      "1117 torch.Size([10, 1024]) torch.Size([10, 3, 4096]) torch.Size([10, 32])\n",
      "1118 torch.Size([10, 1024]) torch.Size([10, 3, 4096]) torch.Size([10, 32])\n",
      "1119 torch.Size([10, 1024]) torch.Size([10, 3, 4096]) torch.Size([10, 32])\n",
      "1120 torch.Size([10, 1024]) torch.Size([10, 3, 4096]) torch.Size([10, 32])\n",
      "1121 torch.Size([10, 1024]) torch.Size([10, 3, 4096]) torch.Size([10, 32])\n",
      "1122 torch.Size([10, 1024]) torch.Size([10, 3, 4096]) torch.Size([10, 32])\n",
      "1123 torch.Size([10, 1024]) torch.Size([10, 3, 4096]) torch.Size([10, 32])\n",
      "1124 torch.Size([10, 1024]) torch.Size([10, 3, 4096]) torch.Size([10, 32])\n",
      "1125 torch.Size([10, 1024]) torch.Size([10, 3, 4096]) torch.Size([10, 32])\n",
      "1126 torch.Size([10, 1024]) torch.Size([10, 3, 4096]) torch.Size([10, 32])\n",
      "1127 torch.Size([10, 1024]) torch.Size([10, 3, 4096]) torch.Size([10, 32])\n",
      "1128 torch.Size([10, 1024]) torch.Size([10, 3, 4096]) torch.Size([10, 32])\n",
      "1129 torch.Size([10, 1024]) torch.Size([10, 3, 4096]) torch.Size([10, 32])\n",
      "1130 torch.Size([10, 1024]) torch.Size([10, 3, 4096]) torch.Size([10, 32])\n",
      "1131 torch.Size([10, 1024]) torch.Size([10, 3, 4096]) torch.Size([10, 32])\n",
      "1132 torch.Size([10, 1024]) torch.Size([10, 3, 4096]) torch.Size([10, 32])\n",
      "1133 torch.Size([10, 1024]) torch.Size([10, 3, 4096]) torch.Size([10, 32])\n",
      "1134 torch.Size([10, 1024]) torch.Size([10, 3, 4096]) torch.Size([10, 32])\n",
      "1135 torch.Size([10, 1024]) torch.Size([10, 3, 4096]) torch.Size([10, 32])\n",
      "1136 torch.Size([10, 1024]) torch.Size([10, 3, 4096]) torch.Size([10, 32])\n",
      "1137 torch.Size([10, 1024]) torch.Size([10, 3, 4096]) torch.Size([10, 32])\n",
      "1138 torch.Size([10, 1024]) torch.Size([10, 3, 4096]) torch.Size([10, 32])\n",
      "1139 torch.Size([10, 1024]) torch.Size([10, 3, 4096]) torch.Size([10, 32])\n",
      "1140 torch.Size([10, 1024]) torch.Size([10, 3, 4096]) torch.Size([10, 32])\n",
      "1141 torch.Size([10, 1024]) torch.Size([10, 3, 4096]) torch.Size([10, 32])\n",
      "1142 torch.Size([10, 1024]) torch.Size([10, 3, 4096]) torch.Size([10, 32])\n",
      "1143 torch.Size([10, 1024]) torch.Size([10, 3, 4096]) torch.Size([10, 32])\n",
      "1144 torch.Size([10, 1024]) torch.Size([10, 3, 4096]) torch.Size([10, 32])\n",
      "1145 torch.Size([10, 1024]) torch.Size([10, 3, 4096]) torch.Size([10, 32])\n",
      "1146 torch.Size([10, 1024]) torch.Size([10, 3, 4096]) torch.Size([10, 32])\n",
      "1147 torch.Size([10, 1024]) torch.Size([10, 3, 4096]) torch.Size([10, 32])\n",
      "1148 torch.Size([10, 1024]) torch.Size([10, 3, 4096]) torch.Size([10, 32])\n",
      "1149 torch.Size([10, 1024]) torch.Size([10, 3, 4096]) torch.Size([10, 32])\n",
      "1150 torch.Size([10, 1024]) torch.Size([10, 3, 4096]) torch.Size([10, 32])\n",
      "1151 torch.Size([10, 1024]) torch.Size([10, 3, 4096]) torch.Size([10, 32])\n",
      "1152 torch.Size([10, 1024]) torch.Size([10, 3, 4096]) torch.Size([10, 32])\n",
      "1153 torch.Size([10, 1024]) torch.Size([10, 3, 4096]) torch.Size([10, 32])\n",
      "1154 torch.Size([10, 1024]) torch.Size([10, 3, 4096]) torch.Size([10, 32])\n",
      "1155 torch.Size([10, 1024]) torch.Size([10, 3, 4096]) torch.Size([10, 32])\n",
      "1156 torch.Size([10, 1024]) torch.Size([10, 3, 4096]) torch.Size([10, 32])\n",
      "1157 torch.Size([10, 1024]) torch.Size([10, 3, 4096]) torch.Size([10, 32])\n",
      "1158 torch.Size([10, 1024]) torch.Size([10, 3, 4096]) torch.Size([10, 32])\n",
      "1159 torch.Size([10, 1024]) torch.Size([10, 3, 4096]) torch.Size([10, 32])\n",
      "1160 torch.Size([10, 1024]) torch.Size([10, 3, 4096]) torch.Size([10, 32])\n",
      "1161 torch.Size([10, 1024]) torch.Size([10, 3, 4096]) torch.Size([10, 32])\n",
      "1162 torch.Size([10, 1024]) torch.Size([10, 3, 4096]) torch.Size([10, 32])\n",
      "1163 torch.Size([10, 1024]) torch.Size([10, 3, 4096]) torch.Size([10, 32])\n",
      "1164 torch.Size([10, 1024]) torch.Size([10, 3, 4096]) torch.Size([10, 32])\n",
      "1165 torch.Size([10, 1024]) torch.Size([10, 3, 4096]) torch.Size([10, 32])\n",
      "1166 torch.Size([10, 1024]) torch.Size([10, 3, 4096]) torch.Size([10, 32])\n",
      "1167 torch.Size([10, 1024]) torch.Size([10, 3, 4096]) torch.Size([10, 32])\n",
      "1168 torch.Size([10, 1024]) torch.Size([10, 3, 4096]) torch.Size([10, 32])\n",
      "1169 torch.Size([10, 1024]) torch.Size([10, 3, 4096]) torch.Size([10, 32])\n",
      "1170 torch.Size([10, 1024]) torch.Size([10, 3, 4096]) torch.Size([10, 32])\n",
      "1171 torch.Size([10, 1024]) torch.Size([10, 3, 4096]) torch.Size([10, 32])\n",
      "1172 torch.Size([10, 1024]) torch.Size([10, 3, 4096]) torch.Size([10, 32])\n",
      "1173 torch.Size([10, 1024]) torch.Size([10, 3, 4096]) torch.Size([10, 32])\n",
      "1174 torch.Size([10, 1024]) torch.Size([10, 3, 4096]) torch.Size([10, 32])\n",
      "1175 torch.Size([10, 1024]) torch.Size([10, 3, 4096]) torch.Size([10, 32])\n",
      "1176 torch.Size([10, 1024]) torch.Size([10, 3, 4096]) torch.Size([10, 32])\n",
      "1177 torch.Size([10, 1024]) torch.Size([10, 3, 4096]) torch.Size([10, 32])\n",
      "1178 torch.Size([10, 1024]) torch.Size([10, 3, 4096]) torch.Size([10, 32])\n",
      "1179 torch.Size([10, 1024]) torch.Size([10, 3, 4096]) torch.Size([10, 32])\n",
      "1180 torch.Size([10, 1024]) torch.Size([10, 3, 4096]) torch.Size([10, 32])\n",
      "1181 torch.Size([10, 1024]) torch.Size([10, 3, 4096]) torch.Size([10, 32])\n",
      "1182 torch.Size([10, 1024]) torch.Size([10, 3, 4096]) torch.Size([10, 32])\n",
      "1183 torch.Size([10, 1024]) torch.Size([10, 3, 4096]) torch.Size([10, 32])\n",
      "1184 torch.Size([10, 1024]) torch.Size([10, 3, 4096]) torch.Size([10, 32])\n",
      "1185 torch.Size([10, 1024]) torch.Size([10, 3, 4096]) torch.Size([10, 32])\n",
      "1186 torch.Size([10, 1024]) torch.Size([10, 3, 4096]) torch.Size([10, 32])\n",
      "1187 torch.Size([10, 1024]) torch.Size([10, 3, 4096]) torch.Size([10, 32])\n",
      "1188 torch.Size([10, 1024]) torch.Size([10, 3, 4096]) torch.Size([10, 32])\n",
      "1189 torch.Size([10, 1024]) torch.Size([10, 3, 4096]) torch.Size([10, 32])\n",
      "1190 torch.Size([10, 1024]) torch.Size([10, 3, 4096]) torch.Size([10, 32])\n",
      "1191 torch.Size([10, 1024]) torch.Size([10, 3, 4096]) torch.Size([10, 32])\n",
      "1192 torch.Size([10, 1024]) torch.Size([10, 3, 4096]) torch.Size([10, 32])\n",
      "1193 torch.Size([10, 1024]) torch.Size([10, 3, 4096]) torch.Size([10, 32])\n",
      "1194 torch.Size([10, 1024]) torch.Size([10, 3, 4096]) torch.Size([10, 32])\n",
      "1195 torch.Size([10, 1024]) torch.Size([10, 3, 4096]) torch.Size([10, 32])\n",
      "1196 torch.Size([10, 1024]) torch.Size([10, 3, 4096]) torch.Size([10, 32])\n",
      "1197 torch.Size([10, 1024]) torch.Size([10, 3, 4096]) torch.Size([10, 32])\n",
      "1198 torch.Size([10, 1024]) torch.Size([10, 3, 4096]) torch.Size([10, 32])\n",
      "1199 torch.Size([10, 1024]) torch.Size([10, 3, 4096]) torch.Size([10, 32])\n",
      "1200 torch.Size([10, 1024]) torch.Size([10, 3, 4096]) torch.Size([10, 32])\n",
      "1201 torch.Size([10, 1024]) torch.Size([10, 3, 4096]) torch.Size([10, 32])\n",
      "1202 torch.Size([10, 1024]) torch.Size([10, 3, 4096]) torch.Size([10, 32])\n",
      "1203 torch.Size([10, 1024]) torch.Size([10, 3, 4096]) torch.Size([10, 32])\n",
      "1204 torch.Size([10, 1024]) torch.Size([10, 3, 4096]) torch.Size([10, 32])\n"
     ]
    },
    {
     "name": "stdout",
     "output_type": "stream",
     "text": [
      "1205 torch.Size([10, 1024]) torch.Size([10, 3, 4096]) torch.Size([10, 32])\n",
      "1206 torch.Size([10, 1024]) torch.Size([10, 3, 4096]) torch.Size([10, 32])\n",
      "1207 torch.Size([10, 1024]) torch.Size([10, 3, 4096]) torch.Size([10, 32])\n",
      "1208 torch.Size([10, 1024]) torch.Size([10, 3, 4096]) torch.Size([10, 32])\n",
      "1209 torch.Size([10, 1024]) torch.Size([10, 3, 4096]) torch.Size([10, 32])\n",
      "1210 torch.Size([10, 1024]) torch.Size([10, 3, 4096]) torch.Size([10, 32])\n",
      "1211 torch.Size([10, 1024]) torch.Size([10, 3, 4096]) torch.Size([10, 32])\n",
      "1212 torch.Size([10, 1024]) torch.Size([10, 3, 4096]) torch.Size([10, 32])\n",
      "1213 torch.Size([10, 1024]) torch.Size([10, 3, 4096]) torch.Size([10, 32])\n",
      "1214 torch.Size([10, 1024]) torch.Size([10, 3, 4096]) torch.Size([10, 32])\n",
      "1215 torch.Size([10, 1024]) torch.Size([10, 3, 4096]) torch.Size([10, 32])\n",
      "1216 torch.Size([10, 1024]) torch.Size([10, 3, 4096]) torch.Size([10, 32])\n",
      "1217 torch.Size([10, 1024]) torch.Size([10, 3, 4096]) torch.Size([10, 32])\n",
      "1218 torch.Size([10, 1024]) torch.Size([10, 3, 4096]) torch.Size([10, 32])\n",
      "1219 torch.Size([10, 1024]) torch.Size([10, 3, 4096]) torch.Size([10, 32])\n",
      "1220 torch.Size([10, 1024]) torch.Size([10, 3, 4096]) torch.Size([10, 32])\n",
      "1221 torch.Size([10, 1024]) torch.Size([10, 3, 4096]) torch.Size([10, 32])\n",
      "1222 torch.Size([10, 1024]) torch.Size([10, 3, 4096]) torch.Size([10, 32])\n",
      "1223 torch.Size([10, 1024]) torch.Size([10, 3, 4096]) torch.Size([10, 32])\n",
      "1224 torch.Size([10, 1024]) torch.Size([10, 3, 4096]) torch.Size([10, 32])\n",
      "1225 torch.Size([10, 1024]) torch.Size([10, 3, 4096]) torch.Size([10, 32])\n",
      "1226 torch.Size([10, 1024]) torch.Size([10, 3, 4096]) torch.Size([10, 32])\n",
      "1227 torch.Size([10, 1024]) torch.Size([10, 3, 4096]) torch.Size([10, 32])\n",
      "1228 torch.Size([10, 1024]) torch.Size([10, 3, 4096]) torch.Size([10, 32])\n",
      "1229 torch.Size([10, 1024]) torch.Size([10, 3, 4096]) torch.Size([10, 32])\n",
      "1230 torch.Size([10, 1024]) torch.Size([10, 3, 4096]) torch.Size([10, 32])\n",
      "1231 torch.Size([10, 1024]) torch.Size([10, 3, 4096]) torch.Size([10, 32])\n",
      "1232 torch.Size([10, 1024]) torch.Size([10, 3, 4096]) torch.Size([10, 32])\n",
      "1233 torch.Size([10, 1024]) torch.Size([10, 3, 4096]) torch.Size([10, 32])\n",
      "1234 torch.Size([10, 1024]) torch.Size([10, 3, 4096]) torch.Size([10, 32])\n",
      "1235 torch.Size([10, 1024]) torch.Size([10, 3, 4096]) torch.Size([10, 32])\n",
      "1236 torch.Size([10, 1024]) torch.Size([10, 3, 4096]) torch.Size([10, 32])\n",
      "1237 torch.Size([10, 1024]) torch.Size([10, 3, 4096]) torch.Size([10, 32])\n",
      "1238 torch.Size([10, 1024]) torch.Size([10, 3, 4096]) torch.Size([10, 32])\n",
      "1239 torch.Size([10, 1024]) torch.Size([10, 3, 4096]) torch.Size([10, 32])\n",
      "1240 torch.Size([10, 1024]) torch.Size([10, 3, 4096]) torch.Size([10, 32])\n",
      "1241 torch.Size([10, 1024]) torch.Size([10, 3, 4096]) torch.Size([10, 32])\n",
      "1242 torch.Size([10, 1024]) torch.Size([10, 3, 4096]) torch.Size([10, 32])\n",
      "1243 torch.Size([10, 1024]) torch.Size([10, 3, 4096]) torch.Size([10, 32])\n",
      "1244 torch.Size([10, 1024]) torch.Size([10, 3, 4096]) torch.Size([10, 32])\n",
      "1245 torch.Size([10, 1024]) torch.Size([10, 3, 4096]) torch.Size([10, 32])\n",
      "1246 torch.Size([10, 1024]) torch.Size([10, 3, 4096]) torch.Size([10, 32])\n",
      "1247 torch.Size([10, 1024]) torch.Size([10, 3, 4096]) torch.Size([10, 32])\n",
      "1248 torch.Size([10, 1024]) torch.Size([10, 3, 4096]) torch.Size([10, 32])\n",
      "1249 torch.Size([10, 1024]) torch.Size([10, 3, 4096]) torch.Size([10, 32])\n",
      "1250 torch.Size([10, 1024]) torch.Size([10, 3, 4096]) torch.Size([10, 32])\n",
      "1251 torch.Size([10, 1024]) torch.Size([10, 3, 4096]) torch.Size([10, 32])\n",
      "1252 torch.Size([10, 1024]) torch.Size([10, 3, 4096]) torch.Size([10, 32])\n",
      "1253 torch.Size([10, 1024]) torch.Size([10, 3, 4096]) torch.Size([10, 32])\n",
      "1254 torch.Size([10, 1024]) torch.Size([10, 3, 4096]) torch.Size([10, 32])\n",
      "1255 torch.Size([10, 1024]) torch.Size([10, 3, 4096]) torch.Size([10, 32])\n",
      "1256 torch.Size([10, 1024]) torch.Size([10, 3, 4096]) torch.Size([10, 32])\n",
      "1257 torch.Size([10, 1024]) torch.Size([10, 3, 4096]) torch.Size([10, 32])\n",
      "1258 torch.Size([10, 1024]) torch.Size([10, 3, 4096]) torch.Size([10, 32])\n",
      "1259 torch.Size([10, 1024]) torch.Size([10, 3, 4096]) torch.Size([10, 32])\n",
      "1260 torch.Size([10, 1024]) torch.Size([10, 3, 4096]) torch.Size([10, 32])\n",
      "1261 torch.Size([10, 1024]) torch.Size([10, 3, 4096]) torch.Size([10, 32])\n",
      "1262 torch.Size([10, 1024]) torch.Size([10, 3, 4096]) torch.Size([10, 32])\n",
      "1263 torch.Size([10, 1024]) torch.Size([10, 3, 4096]) torch.Size([10, 32])\n",
      "1264 torch.Size([10, 1024]) torch.Size([10, 3, 4096]) torch.Size([10, 32])\n",
      "1265 torch.Size([10, 1024]) torch.Size([10, 3, 4096]) torch.Size([10, 32])\n",
      "1266 torch.Size([10, 1024]) torch.Size([10, 3, 4096]) torch.Size([10, 32])\n",
      "1267 torch.Size([10, 1024]) torch.Size([10, 3, 4096]) torch.Size([10, 32])\n",
      "1268 torch.Size([10, 1024]) torch.Size([10, 3, 4096]) torch.Size([10, 32])\n",
      "1269 torch.Size([10, 1024]) torch.Size([10, 3, 4096]) torch.Size([10, 32])\n",
      "1270 torch.Size([10, 1024]) torch.Size([10, 3, 4096]) torch.Size([10, 32])\n",
      "1271 torch.Size([10, 1024]) torch.Size([10, 3, 4096]) torch.Size([10, 32])\n",
      "1272 torch.Size([10, 1024]) torch.Size([10, 3, 4096]) torch.Size([10, 32])\n",
      "1273 torch.Size([10, 1024]) torch.Size([10, 3, 4096]) torch.Size([10, 32])\n",
      "1274 torch.Size([10, 1024]) torch.Size([10, 3, 4096]) torch.Size([10, 32])\n",
      "1275 torch.Size([10, 1024]) torch.Size([10, 3, 4096]) torch.Size([10, 32])\n",
      "1276 torch.Size([10, 1024]) torch.Size([10, 3, 4096]) torch.Size([10, 32])\n",
      "1277 torch.Size([10, 1024]) torch.Size([10, 3, 4096]) torch.Size([10, 32])\n",
      "1278 torch.Size([10, 1024]) torch.Size([10, 3, 4096]) torch.Size([10, 32])\n",
      "1279 torch.Size([10, 1024]) torch.Size([10, 3, 4096]) torch.Size([10, 32])\n",
      "1280 torch.Size([10, 1024]) torch.Size([10, 3, 4096]) torch.Size([10, 32])\n",
      "1281 torch.Size([10, 1024]) torch.Size([10, 3, 4096]) torch.Size([10, 32])\n",
      "1282 torch.Size([10, 1024]) torch.Size([10, 3, 4096]) torch.Size([10, 32])\n",
      "1283 torch.Size([10, 1024]) torch.Size([10, 3, 4096]) torch.Size([10, 32])\n",
      "1284 torch.Size([10, 1024]) torch.Size([10, 3, 4096]) torch.Size([10, 32])\n",
      "1285 torch.Size([10, 1024]) torch.Size([10, 3, 4096]) torch.Size([10, 32])\n",
      "1286 torch.Size([10, 1024]) torch.Size([10, 3, 4096]) torch.Size([10, 32])\n",
      "1287 torch.Size([10, 1024]) torch.Size([10, 3, 4096]) torch.Size([10, 32])\n",
      "1288 torch.Size([10, 1024]) torch.Size([10, 3, 4096]) torch.Size([10, 32])\n",
      "1289 torch.Size([10, 1024]) torch.Size([10, 3, 4096]) torch.Size([10, 32])\n",
      "1290 torch.Size([10, 1024]) torch.Size([10, 3, 4096]) torch.Size([10, 32])\n",
      "1291 torch.Size([10, 1024]) torch.Size([10, 3, 4096]) torch.Size([10, 32])\n",
      "1292 torch.Size([10, 1024]) torch.Size([10, 3, 4096]) torch.Size([10, 32])\n",
      "1293 torch.Size([10, 1024]) torch.Size([10, 3, 4096]) torch.Size([10, 32])\n",
      "1294 torch.Size([10, 1024]) torch.Size([10, 3, 4096]) torch.Size([10, 32])\n",
      "1295 torch.Size([10, 1024]) torch.Size([10, 3, 4096]) torch.Size([10, 32])\n",
      "1296 torch.Size([10, 1024]) torch.Size([10, 3, 4096]) torch.Size([10, 32])\n",
      "1297 torch.Size([10, 1024]) torch.Size([10, 3, 4096]) torch.Size([10, 32])\n",
      "1298 torch.Size([10, 1024]) torch.Size([10, 3, 4096]) torch.Size([10, 32])\n",
      "1299 torch.Size([10, 1024]) torch.Size([10, 3, 4096]) torch.Size([10, 32])\n",
      "1300 torch.Size([10, 1024]) torch.Size([10, 3, 4096]) torch.Size([10, 32])\n",
      "1301 torch.Size([10, 1024]) torch.Size([10, 3, 4096]) torch.Size([10, 32])\n",
      "1302 torch.Size([10, 1024]) torch.Size([10, 3, 4096]) torch.Size([10, 32])\n",
      "1303 torch.Size([10, 1024]) torch.Size([10, 3, 4096]) torch.Size([10, 32])\n",
      "1304 torch.Size([10, 1024]) torch.Size([10, 3, 4096]) torch.Size([10, 32])\n",
      "1305 torch.Size([10, 1024]) torch.Size([10, 3, 4096]) torch.Size([10, 32])\n",
      "1306 torch.Size([10, 1024]) torch.Size([10, 3, 4096]) torch.Size([10, 32])\n",
      "1307 torch.Size([10, 1024]) torch.Size([10, 3, 4096]) torch.Size([10, 32])\n",
      "1308 torch.Size([10, 1024]) torch.Size([10, 3, 4096]) torch.Size([10, 32])\n",
      "1309 torch.Size([10, 1024]) torch.Size([10, 3, 4096]) torch.Size([10, 32])\n",
      "1310 torch.Size([10, 1024]) torch.Size([10, 3, 4096]) torch.Size([10, 32])\n",
      "1311 torch.Size([10, 1024]) torch.Size([10, 3, 4096]) torch.Size([10, 32])\n",
      "1312 torch.Size([10, 1024]) torch.Size([10, 3, 4096]) torch.Size([10, 32])\n",
      "1313 torch.Size([10, 1024]) torch.Size([10, 3, 4096]) torch.Size([10, 32])\n",
      "1314 torch.Size([10, 1024]) torch.Size([10, 3, 4096]) torch.Size([10, 32])\n",
      "1315 torch.Size([10, 1024]) torch.Size([10, 3, 4096]) torch.Size([10, 32])\n",
      "1316 torch.Size([10, 1024]) torch.Size([10, 3, 4096]) torch.Size([10, 32])\n",
      "1317 torch.Size([10, 1024]) torch.Size([10, 3, 4096]) torch.Size([10, 32])\n",
      "1318 torch.Size([10, 1024]) torch.Size([10, 3, 4096]) torch.Size([10, 32])\n",
      "1319 torch.Size([10, 1024]) torch.Size([10, 3, 4096]) torch.Size([10, 32])\n",
      "1320 torch.Size([10, 1024]) torch.Size([10, 3, 4096]) torch.Size([10, 32])\n",
      "1321 torch.Size([10, 1024]) torch.Size([10, 3, 4096]) torch.Size([10, 32])\n"
     ]
    },
    {
     "name": "stdout",
     "output_type": "stream",
     "text": [
      "1322 torch.Size([10, 1024]) torch.Size([10, 3, 4096]) torch.Size([10, 32])\n",
      "1323 torch.Size([10, 1024]) torch.Size([10, 3, 4096]) torch.Size([10, 32])\n",
      "1324 torch.Size([10, 1024]) torch.Size([10, 3, 4096]) torch.Size([10, 32])\n",
      "1325 torch.Size([10, 1024]) torch.Size([10, 3, 4096]) torch.Size([10, 32])\n",
      "1326 torch.Size([10, 1024]) torch.Size([10, 3, 4096]) torch.Size([10, 32])\n",
      "1327 torch.Size([10, 1024]) torch.Size([10, 3, 4096]) torch.Size([10, 32])\n",
      "1328 torch.Size([10, 1024]) torch.Size([10, 3, 4096]) torch.Size([10, 32])\n",
      "1329 torch.Size([10, 1024]) torch.Size([10, 3, 4096]) torch.Size([10, 32])\n",
      "1330 torch.Size([10, 1024]) torch.Size([10, 3, 4096]) torch.Size([10, 32])\n",
      "1331 torch.Size([10, 1024]) torch.Size([10, 3, 4096]) torch.Size([10, 32])\n",
      "1332 torch.Size([10, 1024]) torch.Size([10, 3, 4096]) torch.Size([10, 32])\n",
      "1333 torch.Size([10, 1024]) torch.Size([10, 3, 4096]) torch.Size([10, 32])\n",
      "1334 torch.Size([10, 1024]) torch.Size([10, 3, 4096]) torch.Size([10, 32])\n",
      "1335 torch.Size([10, 1024]) torch.Size([10, 3, 4096]) torch.Size([10, 32])\n",
      "1336 torch.Size([10, 1024]) torch.Size([10, 3, 4096]) torch.Size([10, 32])\n",
      "1337 torch.Size([10, 1024]) torch.Size([10, 3, 4096]) torch.Size([10, 32])\n",
      "1338 torch.Size([10, 1024]) torch.Size([10, 3, 4096]) torch.Size([10, 32])\n",
      "1339 torch.Size([10, 1024]) torch.Size([10, 3, 4096]) torch.Size([10, 32])\n",
      "1340 torch.Size([10, 1024]) torch.Size([10, 3, 4096]) torch.Size([10, 32])\n",
      "1341 torch.Size([10, 1024]) torch.Size([10, 3, 4096]) torch.Size([10, 32])\n",
      "1342 torch.Size([10, 1024]) torch.Size([10, 3, 4096]) torch.Size([10, 32])\n",
      "1343 torch.Size([10, 1024]) torch.Size([10, 3, 4096]) torch.Size([10, 32])\n",
      "1344 torch.Size([10, 1024]) torch.Size([10, 3, 4096]) torch.Size([10, 32])\n",
      "1345 torch.Size([10, 1024]) torch.Size([10, 3, 4096]) torch.Size([10, 32])\n",
      "1346 torch.Size([10, 1024]) torch.Size([10, 3, 4096]) torch.Size([10, 32])\n",
      "1347 torch.Size([10, 1024]) torch.Size([10, 3, 4096]) torch.Size([10, 32])\n",
      "1348 torch.Size([10, 1024]) torch.Size([10, 3, 4096]) torch.Size([10, 32])\n",
      "1349 torch.Size([10, 1024]) torch.Size([10, 3, 4096]) torch.Size([10, 32])\n",
      "1350 torch.Size([10, 1024]) torch.Size([10, 3, 4096]) torch.Size([10, 32])\n",
      "1351 torch.Size([10, 1024]) torch.Size([10, 3, 4096]) torch.Size([10, 32])\n",
      "1352 torch.Size([10, 1024]) torch.Size([10, 3, 4096]) torch.Size([10, 32])\n",
      "1353 torch.Size([10, 1024]) torch.Size([10, 3, 4096]) torch.Size([10, 32])\n",
      "1354 torch.Size([10, 1024]) torch.Size([10, 3, 4096]) torch.Size([10, 32])\n",
      "1355 torch.Size([10, 1024]) torch.Size([10, 3, 4096]) torch.Size([10, 32])\n",
      "1356 torch.Size([10, 1024]) torch.Size([10, 3, 4096]) torch.Size([10, 32])\n",
      "1357 torch.Size([10, 1024]) torch.Size([10, 3, 4096]) torch.Size([10, 32])\n",
      "1358 torch.Size([10, 1024]) torch.Size([10, 3, 4096]) torch.Size([10, 32])\n",
      "1359 torch.Size([10, 1024]) torch.Size([10, 3, 4096]) torch.Size([10, 32])\n",
      "1360 torch.Size([10, 1024]) torch.Size([10, 3, 4096]) torch.Size([10, 32])\n",
      "1361 torch.Size([10, 1024]) torch.Size([10, 3, 4096]) torch.Size([10, 32])\n",
      "1362 torch.Size([10, 1024]) torch.Size([10, 3, 4096]) torch.Size([10, 32])\n",
      "1363 torch.Size([10, 1024]) torch.Size([10, 3, 4096]) torch.Size([10, 32])\n",
      "1364 torch.Size([10, 1024]) torch.Size([10, 3, 4096]) torch.Size([10, 32])\n",
      "1365 torch.Size([10, 1024]) torch.Size([10, 3, 4096]) torch.Size([10, 32])\n",
      "1366 torch.Size([10, 1024]) torch.Size([10, 3, 4096]) torch.Size([10, 32])\n",
      "1367 torch.Size([10, 1024]) torch.Size([10, 3, 4096]) torch.Size([10, 32])\n",
      "1368 torch.Size([10, 1024]) torch.Size([10, 3, 4096]) torch.Size([10, 32])\n",
      "1369 torch.Size([10, 1024]) torch.Size([10, 3, 4096]) torch.Size([10, 32])\n",
      "1370 torch.Size([10, 1024]) torch.Size([10, 3, 4096]) torch.Size([10, 32])\n",
      "1371 torch.Size([10, 1024]) torch.Size([10, 3, 4096]) torch.Size([10, 32])\n",
      "1372 torch.Size([10, 1024]) torch.Size([10, 3, 4096]) torch.Size([10, 32])\n",
      "1373 torch.Size([10, 1024]) torch.Size([10, 3, 4096]) torch.Size([10, 32])\n",
      "1374 torch.Size([10, 1024]) torch.Size([10, 3, 4096]) torch.Size([10, 32])\n",
      "1375 torch.Size([10, 1024]) torch.Size([10, 3, 4096]) torch.Size([10, 32])\n",
      "1376 torch.Size([10, 1024]) torch.Size([10, 3, 4096]) torch.Size([10, 32])\n",
      "1377 torch.Size([10, 1024]) torch.Size([10, 3, 4096]) torch.Size([10, 32])\n",
      "1378 torch.Size([10, 1024]) torch.Size([10, 3, 4096]) torch.Size([10, 32])\n",
      "1379 torch.Size([10, 1024]) torch.Size([10, 3, 4096]) torch.Size([10, 32])\n",
      "1380 torch.Size([10, 1024]) torch.Size([10, 3, 4096]) torch.Size([10, 32])\n",
      "1381 torch.Size([10, 1024]) torch.Size([10, 3, 4096]) torch.Size([10, 32])\n",
      "1382 torch.Size([10, 1024]) torch.Size([10, 3, 4096]) torch.Size([10, 32])\n",
      "1383 torch.Size([10, 1024]) torch.Size([10, 3, 4096]) torch.Size([10, 32])\n",
      "1384 torch.Size([10, 1024]) torch.Size([10, 3, 4096]) torch.Size([10, 32])\n",
      "1385 torch.Size([10, 1024]) torch.Size([10, 3, 4096]) torch.Size([10, 32])\n",
      "1386 torch.Size([10, 1024]) torch.Size([10, 3, 4096]) torch.Size([10, 32])\n",
      "1387 torch.Size([10, 1024]) torch.Size([10, 3, 4096]) torch.Size([10, 32])\n",
      "1388 torch.Size([10, 1024]) torch.Size([10, 3, 4096]) torch.Size([10, 32])\n",
      "1389 torch.Size([10, 1024]) torch.Size([10, 3, 4096]) torch.Size([10, 32])\n",
      "1390 torch.Size([10, 1024]) torch.Size([10, 3, 4096]) torch.Size([10, 32])\n",
      "1391 torch.Size([10, 1024]) torch.Size([10, 3, 4096]) torch.Size([10, 32])\n",
      "1392 torch.Size([10, 1024]) torch.Size([10, 3, 4096]) torch.Size([10, 32])\n",
      "1393 torch.Size([10, 1024]) torch.Size([10, 3, 4096]) torch.Size([10, 32])\n",
      "1394 torch.Size([10, 1024]) torch.Size([10, 3, 4096]) torch.Size([10, 32])\n",
      "1395 torch.Size([10, 1024]) torch.Size([10, 3, 4096]) torch.Size([10, 32])\n",
      "1396 torch.Size([10, 1024]) torch.Size([10, 3, 4096]) torch.Size([10, 32])\n",
      "1397 torch.Size([10, 1024]) torch.Size([10, 3, 4096]) torch.Size([10, 32])\n",
      "1398 torch.Size([10, 1024]) torch.Size([10, 3, 4096]) torch.Size([10, 32])\n",
      "1399 torch.Size([10, 1024]) torch.Size([10, 3, 4096]) torch.Size([10, 32])\n",
      "1400 torch.Size([10, 1024]) torch.Size([10, 3, 4096]) torch.Size([10, 32])\n",
      "1401 torch.Size([10, 1024]) torch.Size([10, 3, 4096]) torch.Size([10, 32])\n",
      "1402 torch.Size([10, 1024]) torch.Size([10, 3, 4096]) torch.Size([10, 32])\n",
      "1403 torch.Size([10, 1024]) torch.Size([10, 3, 4096]) torch.Size([10, 32])\n",
      "1404 torch.Size([10, 1024]) torch.Size([10, 3, 4096]) torch.Size([10, 32])\n",
      "1405 torch.Size([10, 1024]) torch.Size([10, 3, 4096]) torch.Size([10, 32])\n",
      "1406 torch.Size([10, 1024]) torch.Size([10, 3, 4096]) torch.Size([10, 32])\n",
      "1407 torch.Size([10, 1024]) torch.Size([10, 3, 4096]) torch.Size([10, 32])\n",
      "1408 torch.Size([10, 1024]) torch.Size([10, 3, 4096]) torch.Size([10, 32])\n",
      "1409 torch.Size([10, 1024]) torch.Size([10, 3, 4096]) torch.Size([10, 32])\n",
      "1410 torch.Size([10, 1024]) torch.Size([10, 3, 4096]) torch.Size([10, 32])\n",
      "1411 torch.Size([10, 1024]) torch.Size([10, 3, 4096]) torch.Size([10, 32])\n",
      "1412 torch.Size([10, 1024]) torch.Size([10, 3, 4096]) torch.Size([10, 32])\n",
      "1413 torch.Size([10, 1024]) torch.Size([10, 3, 4096]) torch.Size([10, 32])\n",
      "1414 torch.Size([10, 1024]) torch.Size([10, 3, 4096]) torch.Size([10, 32])\n",
      "1415 torch.Size([10, 1024]) torch.Size([10, 3, 4096]) torch.Size([10, 32])\n",
      "1416 torch.Size([10, 1024]) torch.Size([10, 3, 4096]) torch.Size([10, 32])\n",
      "1417 torch.Size([10, 1024]) torch.Size([10, 3, 4096]) torch.Size([10, 32])\n",
      "1418 torch.Size([10, 1024]) torch.Size([10, 3, 4096]) torch.Size([10, 32])\n",
      "1419 torch.Size([10, 1024]) torch.Size([10, 3, 4096]) torch.Size([10, 32])\n",
      "1420 torch.Size([10, 1024]) torch.Size([10, 3, 4096]) torch.Size([10, 32])\n",
      "1421 torch.Size([10, 1024]) torch.Size([10, 3, 4096]) torch.Size([10, 32])\n",
      "1422 torch.Size([10, 1024]) torch.Size([10, 3, 4096]) torch.Size([10, 32])\n",
      "1423 torch.Size([10, 1024]) torch.Size([10, 3, 4096]) torch.Size([10, 32])\n",
      "1424 torch.Size([10, 1024]) torch.Size([10, 3, 4096]) torch.Size([10, 32])\n",
      "1425 torch.Size([10, 1024]) torch.Size([10, 3, 4096]) torch.Size([10, 32])\n",
      "1426 torch.Size([10, 1024]) torch.Size([10, 3, 4096]) torch.Size([10, 32])\n",
      "1427 torch.Size([10, 1024]) torch.Size([10, 3, 4096]) torch.Size([10, 32])\n",
      "1428 torch.Size([10, 1024]) torch.Size([10, 3, 4096]) torch.Size([10, 32])\n",
      "1429 torch.Size([10, 1024]) torch.Size([10, 3, 4096]) torch.Size([10, 32])\n",
      "1430 torch.Size([10, 1024]) torch.Size([10, 3, 4096]) torch.Size([10, 32])\n",
      "1431 torch.Size([10, 1024]) torch.Size([10, 3, 4096]) torch.Size([10, 32])\n",
      "1432 torch.Size([10, 1024]) torch.Size([10, 3, 4096]) torch.Size([10, 32])\n",
      "1433 torch.Size([10, 1024]) torch.Size([10, 3, 4096]) torch.Size([10, 32])\n",
      "1434 torch.Size([10, 1024]) torch.Size([10, 3, 4096]) torch.Size([10, 32])\n",
      "1435 torch.Size([10, 1024]) torch.Size([10, 3, 4096]) torch.Size([10, 32])\n",
      "1436 torch.Size([10, 1024]) torch.Size([10, 3, 4096]) torch.Size([10, 32])\n",
      "1437 torch.Size([10, 1024]) torch.Size([10, 3, 4096]) torch.Size([10, 32])\n",
      "1438 torch.Size([10, 1024]) torch.Size([10, 3, 4096]) torch.Size([10, 32])\n"
     ]
    },
    {
     "name": "stdout",
     "output_type": "stream",
     "text": [
      "1439 torch.Size([10, 1024]) torch.Size([10, 3, 4096]) torch.Size([10, 32])\n",
      "1440 torch.Size([10, 1024]) torch.Size([10, 3, 4096]) torch.Size([10, 32])\n",
      "1441 torch.Size([10, 1024]) torch.Size([10, 3, 4096]) torch.Size([10, 32])\n",
      "1442 torch.Size([10, 1024]) torch.Size([10, 3, 4096]) torch.Size([10, 32])\n",
      "1443 torch.Size([10, 1024]) torch.Size([10, 3, 4096]) torch.Size([10, 32])\n",
      "1444 torch.Size([10, 1024]) torch.Size([10, 3, 4096]) torch.Size([10, 32])\n",
      "1445 torch.Size([10, 1024]) torch.Size([10, 3, 4096]) torch.Size([10, 32])\n",
      "1446 torch.Size([10, 1024]) torch.Size([10, 3, 4096]) torch.Size([10, 32])\n",
      "1447 torch.Size([10, 1024]) torch.Size([10, 3, 4096]) torch.Size([10, 32])\n",
      "1448 torch.Size([10, 1024]) torch.Size([10, 3, 4096]) torch.Size([10, 32])\n",
      "1449 torch.Size([10, 1024]) torch.Size([10, 3, 4096]) torch.Size([10, 32])\n",
      "1450 torch.Size([10, 1024]) torch.Size([10, 3, 4096]) torch.Size([10, 32])\n",
      "1451 torch.Size([10, 1024]) torch.Size([10, 3, 4096]) torch.Size([10, 32])\n",
      "1452 torch.Size([10, 1024]) torch.Size([10, 3, 4096]) torch.Size([10, 32])\n",
      "1453 torch.Size([10, 1024]) torch.Size([10, 3, 4096]) torch.Size([10, 32])\n",
      "1454 torch.Size([10, 1024]) torch.Size([10, 3, 4096]) torch.Size([10, 32])\n",
      "1455 torch.Size([10, 1024]) torch.Size([10, 3, 4096]) torch.Size([10, 32])\n",
      "1456 torch.Size([10, 1024]) torch.Size([10, 3, 4096]) torch.Size([10, 32])\n",
      "1457 torch.Size([10, 1024]) torch.Size([10, 3, 4096]) torch.Size([10, 32])\n",
      "1458 torch.Size([10, 1024]) torch.Size([10, 3, 4096]) torch.Size([10, 32])\n",
      "1459 torch.Size([10, 1024]) torch.Size([10, 3, 4096]) torch.Size([10, 32])\n",
      "1460 torch.Size([10, 1024]) torch.Size([10, 3, 4096]) torch.Size([10, 32])\n",
      "1461 torch.Size([10, 1024]) torch.Size([10, 3, 4096]) torch.Size([10, 32])\n",
      "1462 torch.Size([10, 1024]) torch.Size([10, 3, 4096]) torch.Size([10, 32])\n",
      "1463 torch.Size([10, 1024]) torch.Size([10, 3, 4096]) torch.Size([10, 32])\n",
      "1464 torch.Size([10, 1024]) torch.Size([10, 3, 4096]) torch.Size([10, 32])\n",
      "1465 torch.Size([10, 1024]) torch.Size([10, 3, 4096]) torch.Size([10, 32])\n",
      "1466 torch.Size([10, 1024]) torch.Size([10, 3, 4096]) torch.Size([10, 32])\n",
      "1467 torch.Size([10, 1024]) torch.Size([10, 3, 4096]) torch.Size([10, 32])\n",
      "1468 torch.Size([10, 1024]) torch.Size([10, 3, 4096]) torch.Size([10, 32])\n",
      "1469 torch.Size([10, 1024]) torch.Size([10, 3, 4096]) torch.Size([10, 32])\n",
      "1470 torch.Size([10, 1024]) torch.Size([10, 3, 4096]) torch.Size([10, 32])\n",
      "1471 torch.Size([10, 1024]) torch.Size([10, 3, 4096]) torch.Size([10, 32])\n",
      "1472 torch.Size([10, 1024]) torch.Size([10, 3, 4096]) torch.Size([10, 32])\n",
      "1473 torch.Size([10, 1024]) torch.Size([10, 3, 4096]) torch.Size([10, 32])\n",
      "1474 torch.Size([10, 1024]) torch.Size([10, 3, 4096]) torch.Size([10, 32])\n",
      "1475 torch.Size([10, 1024]) torch.Size([10, 3, 4096]) torch.Size([10, 32])\n",
      "1476 torch.Size([10, 1024]) torch.Size([10, 3, 4096]) torch.Size([10, 32])\n",
      "1477 torch.Size([10, 1024]) torch.Size([10, 3, 4096]) torch.Size([10, 32])\n",
      "1478 torch.Size([10, 1024]) torch.Size([10, 3, 4096]) torch.Size([10, 32])\n",
      "1479 torch.Size([10, 1024]) torch.Size([10, 3, 4096]) torch.Size([10, 32])\n",
      "1480 torch.Size([10, 1024]) torch.Size([10, 3, 4096]) torch.Size([10, 32])\n",
      "1481 torch.Size([10, 1024]) torch.Size([10, 3, 4096]) torch.Size([10, 32])\n",
      "1482 torch.Size([10, 1024]) torch.Size([10, 3, 4096]) torch.Size([10, 32])\n",
      "1483 torch.Size([10, 1024]) torch.Size([10, 3, 4096]) torch.Size([10, 32])\n",
      "1484 torch.Size([10, 1024]) torch.Size([10, 3, 4096]) torch.Size([10, 32])\n",
      "1485 torch.Size([10, 1024]) torch.Size([10, 3, 4096]) torch.Size([10, 32])\n",
      "1486 torch.Size([10, 1024]) torch.Size([10, 3, 4096]) torch.Size([10, 32])\n",
      "1487 torch.Size([10, 1024]) torch.Size([10, 3, 4096]) torch.Size([10, 32])\n",
      "1488 torch.Size([10, 1024]) torch.Size([10, 3, 4096]) torch.Size([10, 32])\n",
      "1489 torch.Size([10, 1024]) torch.Size([10, 3, 4096]) torch.Size([10, 32])\n",
      "1490 torch.Size([10, 1024]) torch.Size([10, 3, 4096]) torch.Size([10, 32])\n",
      "1491 torch.Size([10, 1024]) torch.Size([10, 3, 4096]) torch.Size([10, 32])\n",
      "1492 torch.Size([10, 1024]) torch.Size([10, 3, 4096]) torch.Size([10, 32])\n",
      "1493 torch.Size([10, 1024]) torch.Size([10, 3, 4096]) torch.Size([10, 32])\n",
      "1494 torch.Size([10, 1024]) torch.Size([10, 3, 4096]) torch.Size([10, 32])\n",
      "1495 torch.Size([10, 1024]) torch.Size([10, 3, 4096]) torch.Size([10, 32])\n",
      "1496 torch.Size([10, 1024]) torch.Size([10, 3, 4096]) torch.Size([10, 32])\n",
      "1497 torch.Size([10, 1024]) torch.Size([10, 3, 4096]) torch.Size([10, 32])\n",
      "1498 torch.Size([10, 1024]) torch.Size([10, 3, 4096]) torch.Size([10, 32])\n",
      "1499 torch.Size([10, 1024]) torch.Size([10, 3, 4096]) torch.Size([10, 32])\n",
      "1500 torch.Size([10, 1024]) torch.Size([10, 3, 4096]) torch.Size([10, 32])\n",
      "1501 torch.Size([10, 1024]) torch.Size([10, 3, 4096]) torch.Size([10, 32])\n",
      "1502 torch.Size([10, 1024]) torch.Size([10, 3, 4096]) torch.Size([10, 32])\n",
      "1503 torch.Size([10, 1024]) torch.Size([10, 3, 4096]) torch.Size([10, 32])\n",
      "1504 torch.Size([10, 1024]) torch.Size([10, 3, 4096]) torch.Size([10, 32])\n",
      "1505 torch.Size([10, 1024]) torch.Size([10, 3, 4096]) torch.Size([10, 32])\n",
      "1506 torch.Size([10, 1024]) torch.Size([10, 3, 4096]) torch.Size([10, 32])\n",
      "1507 torch.Size([10, 1024]) torch.Size([10, 3, 4096]) torch.Size([10, 32])\n",
      "1508 torch.Size([10, 1024]) torch.Size([10, 3, 4096]) torch.Size([10, 32])\n",
      "1509 torch.Size([10, 1024]) torch.Size([10, 3, 4096]) torch.Size([10, 32])\n",
      "1510 torch.Size([10, 1024]) torch.Size([10, 3, 4096]) torch.Size([10, 32])\n",
      "1511 torch.Size([10, 1024]) torch.Size([10, 3, 4096]) torch.Size([10, 32])\n",
      "1512 torch.Size([10, 1024]) torch.Size([10, 3, 4096]) torch.Size([10, 32])\n",
      "1513 torch.Size([10, 1024]) torch.Size([10, 3, 4096]) torch.Size([10, 32])\n",
      "1514 torch.Size([10, 1024]) torch.Size([10, 3, 4096]) torch.Size([10, 32])\n",
      "1515 torch.Size([10, 1024]) torch.Size([10, 3, 4096]) torch.Size([10, 32])\n",
      "1516 torch.Size([10, 1024]) torch.Size([10, 3, 4096]) torch.Size([10, 32])\n",
      "1517 torch.Size([10, 1024]) torch.Size([10, 3, 4096]) torch.Size([10, 32])\n",
      "1518 torch.Size([10, 1024]) torch.Size([10, 3, 4096]) torch.Size([10, 32])\n",
      "1519 torch.Size([10, 1024]) torch.Size([10, 3, 4096]) torch.Size([10, 32])\n",
      "1520 torch.Size([10, 1024]) torch.Size([10, 3, 4096]) torch.Size([10, 32])\n",
      "1521 torch.Size([10, 1024]) torch.Size([10, 3, 4096]) torch.Size([10, 32])\n",
      "1522 torch.Size([10, 1024]) torch.Size([10, 3, 4096]) torch.Size([10, 32])\n",
      "1523 torch.Size([10, 1024]) torch.Size([10, 3, 4096]) torch.Size([10, 32])\n",
      "1524 torch.Size([10, 1024]) torch.Size([10, 3, 4096]) torch.Size([10, 32])\n",
      "1525 torch.Size([10, 1024]) torch.Size([10, 3, 4096]) torch.Size([10, 32])\n",
      "1526 torch.Size([10, 1024]) torch.Size([10, 3, 4096]) torch.Size([10, 32])\n",
      "1527 torch.Size([10, 1024]) torch.Size([10, 3, 4096]) torch.Size([10, 32])\n",
      "1528 torch.Size([10, 1024]) torch.Size([10, 3, 4096]) torch.Size([10, 32])\n",
      "1529 torch.Size([10, 1024]) torch.Size([10, 3, 4096]) torch.Size([10, 32])\n",
      "1530 torch.Size([10, 1024]) torch.Size([10, 3, 4096]) torch.Size([10, 32])\n",
      "1531 torch.Size([10, 1024]) torch.Size([10, 3, 4096]) torch.Size([10, 32])\n",
      "1532 torch.Size([10, 1024]) torch.Size([10, 3, 4096]) torch.Size([10, 32])\n",
      "1533 torch.Size([10, 1024]) torch.Size([10, 3, 4096]) torch.Size([10, 32])\n",
      "1534 torch.Size([10, 1024]) torch.Size([10, 3, 4096]) torch.Size([10, 32])\n",
      "1535 torch.Size([10, 1024]) torch.Size([10, 3, 4096]) torch.Size([10, 32])\n",
      "1536 torch.Size([10, 1024]) torch.Size([10, 3, 4096]) torch.Size([10, 32])\n",
      "1537 torch.Size([10, 1024]) torch.Size([10, 3, 4096]) torch.Size([10, 32])\n",
      "1538 torch.Size([10, 1024]) torch.Size([10, 3, 4096]) torch.Size([10, 32])\n",
      "1539 torch.Size([10, 1024]) torch.Size([10, 3, 4096]) torch.Size([10, 32])\n",
      "1540 torch.Size([10, 1024]) torch.Size([10, 3, 4096]) torch.Size([10, 32])\n",
      "1541 torch.Size([10, 1024]) torch.Size([10, 3, 4096]) torch.Size([10, 32])\n",
      "1542 torch.Size([10, 1024]) torch.Size([10, 3, 4096]) torch.Size([10, 32])\n",
      "1543 torch.Size([10, 1024]) torch.Size([10, 3, 4096]) torch.Size([10, 32])\n",
      "1544 torch.Size([10, 1024]) torch.Size([10, 3, 4096]) torch.Size([10, 32])\n",
      "1545 torch.Size([10, 1024]) torch.Size([10, 3, 4096]) torch.Size([10, 32])\n",
      "1546 torch.Size([10, 1024]) torch.Size([10, 3, 4096]) torch.Size([10, 32])\n",
      "1547 torch.Size([10, 1024]) torch.Size([10, 3, 4096]) torch.Size([10, 32])\n",
      "1548 torch.Size([10, 1024]) torch.Size([10, 3, 4096]) torch.Size([10, 32])\n",
      "1549 torch.Size([10, 1024]) torch.Size([10, 3, 4096]) torch.Size([10, 32])\n",
      "1550 torch.Size([10, 1024]) torch.Size([10, 3, 4096]) torch.Size([10, 32])\n",
      "1551 torch.Size([10, 1024]) torch.Size([10, 3, 4096]) torch.Size([10, 32])\n",
      "1552 torch.Size([10, 1024]) torch.Size([10, 3, 4096]) torch.Size([10, 32])\n"
     ]
    },
    {
     "name": "stdout",
     "output_type": "stream",
     "text": [
      "1553 torch.Size([10, 1024]) torch.Size([10, 3, 4096]) torch.Size([10, 32])\n",
      "1554 torch.Size([10, 1024]) torch.Size([10, 3, 4096]) torch.Size([10, 32])\n",
      "1555 torch.Size([10, 1024]) torch.Size([10, 3, 4096]) torch.Size([10, 32])\n",
      "1556 torch.Size([10, 1024]) torch.Size([10, 3, 4096]) torch.Size([10, 32])\n",
      "1557 torch.Size([10, 1024]) torch.Size([10, 3, 4096]) torch.Size([10, 32])\n",
      "1558 torch.Size([10, 1024]) torch.Size([10, 3, 4096]) torch.Size([10, 32])\n",
      "1559 torch.Size([10, 1024]) torch.Size([10, 3, 4096]) torch.Size([10, 32])\n",
      "1560 torch.Size([10, 1024]) torch.Size([10, 3, 4096]) torch.Size([10, 32])\n",
      "1561 torch.Size([10, 1024]) torch.Size([10, 3, 4096]) torch.Size([10, 32])\n",
      "1562 torch.Size([10, 1024]) torch.Size([10, 3, 4096]) torch.Size([10, 32])\n",
      "1563 torch.Size([10, 1024]) torch.Size([10, 3, 4096]) torch.Size([10, 32])\n",
      "1564 torch.Size([10, 1024]) torch.Size([10, 3, 4096]) torch.Size([10, 32])\n",
      "1565 torch.Size([10, 1024]) torch.Size([10, 3, 4096]) torch.Size([10, 32])\n",
      "1566 torch.Size([10, 1024]) torch.Size([10, 3, 4096]) torch.Size([10, 32])\n",
      "1567 torch.Size([10, 1024]) torch.Size([10, 3, 4096]) torch.Size([10, 32])\n",
      "1568 torch.Size([10, 1024]) torch.Size([10, 3, 4096]) torch.Size([10, 32])\n",
      "1569 torch.Size([10, 1024]) torch.Size([10, 3, 4096]) torch.Size([10, 32])\n",
      "1570 torch.Size([10, 1024]) torch.Size([10, 3, 4096]) torch.Size([10, 32])\n",
      "1571 torch.Size([10, 1024]) torch.Size([10, 3, 4096]) torch.Size([10, 32])\n",
      "1572 torch.Size([10, 1024]) torch.Size([10, 3, 4096]) torch.Size([10, 32])\n",
      "1573 torch.Size([10, 1024]) torch.Size([10, 3, 4096]) torch.Size([10, 32])\n",
      "1574 torch.Size([10, 1024]) torch.Size([10, 3, 4096]) torch.Size([10, 32])\n",
      "1575 torch.Size([10, 1024]) torch.Size([10, 3, 4096]) torch.Size([10, 32])\n",
      "1576 torch.Size([10, 1024]) torch.Size([10, 3, 4096]) torch.Size([10, 32])\n",
      "1577 torch.Size([10, 1024]) torch.Size([10, 3, 4096]) torch.Size([10, 32])\n",
      "1578 torch.Size([10, 1024]) torch.Size([10, 3, 4096]) torch.Size([10, 32])\n",
      "1579 torch.Size([10, 1024]) torch.Size([10, 3, 4096]) torch.Size([10, 32])\n",
      "1580 torch.Size([10, 1024]) torch.Size([10, 3, 4096]) torch.Size([10, 32])\n",
      "1581 torch.Size([10, 1024]) torch.Size([10, 3, 4096]) torch.Size([10, 32])\n",
      "1582 torch.Size([10, 1024]) torch.Size([10, 3, 4096]) torch.Size([10, 32])\n",
      "1583 torch.Size([10, 1024]) torch.Size([10, 3, 4096]) torch.Size([10, 32])\n",
      "1584 torch.Size([10, 1024]) torch.Size([10, 3, 4096]) torch.Size([10, 32])\n",
      "1585 torch.Size([10, 1024]) torch.Size([10, 3, 4096]) torch.Size([10, 32])\n",
      "1586 torch.Size([10, 1024]) torch.Size([10, 3, 4096]) torch.Size([10, 32])\n",
      "1587 torch.Size([10, 1024]) torch.Size([10, 3, 4096]) torch.Size([10, 32])\n",
      "1588 torch.Size([10, 1024]) torch.Size([10, 3, 4096]) torch.Size([10, 32])\n",
      "1589 torch.Size([10, 1024]) torch.Size([10, 3, 4096]) torch.Size([10, 32])\n",
      "1590 torch.Size([10, 1024]) torch.Size([10, 3, 4096]) torch.Size([10, 32])\n",
      "1591 torch.Size([10, 1024]) torch.Size([10, 3, 4096]) torch.Size([10, 32])\n",
      "1592 torch.Size([10, 1024]) torch.Size([10, 3, 4096]) torch.Size([10, 32])\n",
      "1593 torch.Size([10, 1024]) torch.Size([10, 3, 4096]) torch.Size([10, 32])\n",
      "1594 torch.Size([10, 1024]) torch.Size([10, 3, 4096]) torch.Size([10, 32])\n",
      "1595 torch.Size([10, 1024]) torch.Size([10, 3, 4096]) torch.Size([10, 32])\n",
      "1596 torch.Size([10, 1024]) torch.Size([10, 3, 4096]) torch.Size([10, 32])\n",
      "1597 torch.Size([10, 1024]) torch.Size([10, 3, 4096]) torch.Size([10, 32])\n",
      "1598 torch.Size([10, 1024]) torch.Size([10, 3, 4096]) torch.Size([10, 32])\n",
      "1599 torch.Size([10, 1024]) torch.Size([10, 3, 4096]) torch.Size([10, 32])\n",
      "1600 torch.Size([10, 1024]) torch.Size([10, 3, 4096]) torch.Size([10, 32])\n",
      "1601 torch.Size([10, 1024]) torch.Size([10, 3, 4096]) torch.Size([10, 32])\n",
      "1602 torch.Size([10, 1024]) torch.Size([10, 3, 4096]) torch.Size([10, 32])\n",
      "1603 torch.Size([10, 1024]) torch.Size([10, 3, 4096]) torch.Size([10, 32])\n",
      "1604 torch.Size([10, 1024]) torch.Size([10, 3, 4096]) torch.Size([10, 32])\n",
      "1605 torch.Size([10, 1024]) torch.Size([10, 3, 4096]) torch.Size([10, 32])\n",
      "1606 torch.Size([10, 1024]) torch.Size([10, 3, 4096]) torch.Size([10, 32])\n",
      "1607 torch.Size([10, 1024]) torch.Size([10, 3, 4096]) torch.Size([10, 32])\n",
      "1608 torch.Size([10, 1024]) torch.Size([10, 3, 4096]) torch.Size([10, 32])\n",
      "1609 torch.Size([10, 1024]) torch.Size([10, 3, 4096]) torch.Size([10, 32])\n",
      "1610 torch.Size([10, 1024]) torch.Size([10, 3, 4096]) torch.Size([10, 32])\n",
      "1611 torch.Size([10, 1024]) torch.Size([10, 3, 4096]) torch.Size([10, 32])\n",
      "1612 torch.Size([10, 1024]) torch.Size([10, 3, 4096]) torch.Size([10, 32])\n",
      "1613 torch.Size([10, 1024]) torch.Size([10, 3, 4096]) torch.Size([10, 32])\n",
      "1614 torch.Size([10, 1024]) torch.Size([10, 3, 4096]) torch.Size([10, 32])\n",
      "1615 torch.Size([10, 1024]) torch.Size([10, 3, 4096]) torch.Size([10, 32])\n",
      "1616 torch.Size([10, 1024]) torch.Size([10, 3, 4096]) torch.Size([10, 32])\n",
      "1617 torch.Size([10, 1024]) torch.Size([10, 3, 4096]) torch.Size([10, 32])\n",
      "1618 torch.Size([10, 1024]) torch.Size([10, 3, 4096]) torch.Size([10, 32])\n",
      "1619 torch.Size([10, 1024]) torch.Size([10, 3, 4096]) torch.Size([10, 32])\n",
      "1620 torch.Size([10, 1024]) torch.Size([10, 3, 4096]) torch.Size([10, 32])\n",
      "1621 torch.Size([10, 1024]) torch.Size([10, 3, 4096]) torch.Size([10, 32])\n",
      "1622 torch.Size([10, 1024]) torch.Size([10, 3, 4096]) torch.Size([10, 32])\n",
      "1623 torch.Size([10, 1024]) torch.Size([10, 3, 4096]) torch.Size([10, 32])\n",
      "1624 torch.Size([10, 1024]) torch.Size([10, 3, 4096]) torch.Size([10, 32])\n",
      "1625 torch.Size([10, 1024]) torch.Size([10, 3, 4096]) torch.Size([10, 32])\n",
      "1626 torch.Size([10, 1024]) torch.Size([10, 3, 4096]) torch.Size([10, 32])\n",
      "1627 torch.Size([10, 1024]) torch.Size([10, 3, 4096]) torch.Size([10, 32])\n",
      "1628 torch.Size([10, 1024]) torch.Size([10, 3, 4096]) torch.Size([10, 32])\n",
      "1629 torch.Size([10, 1024]) torch.Size([10, 3, 4096]) torch.Size([10, 32])\n",
      "1630 torch.Size([10, 1024]) torch.Size([10, 3, 4096]) torch.Size([10, 32])\n",
      "1631 torch.Size([10, 1024]) torch.Size([10, 3, 4096]) torch.Size([10, 32])\n",
      "1632 torch.Size([10, 1024]) torch.Size([10, 3, 4096]) torch.Size([10, 32])\n",
      "1633 torch.Size([10, 1024]) torch.Size([10, 3, 4096]) torch.Size([10, 32])\n",
      "1634 torch.Size([10, 1024]) torch.Size([10, 3, 4096]) torch.Size([10, 32])\n",
      "1635 torch.Size([10, 1024]) torch.Size([10, 3, 4096]) torch.Size([10, 32])\n",
      "1636 torch.Size([10, 1024]) torch.Size([10, 3, 4096]) torch.Size([10, 32])\n",
      "1637 torch.Size([10, 1024]) torch.Size([10, 3, 4096]) torch.Size([10, 32])\n",
      "1638 torch.Size([10, 1024]) torch.Size([10, 3, 4096]) torch.Size([10, 32])\n",
      "1639 torch.Size([10, 1024]) torch.Size([10, 3, 4096]) torch.Size([10, 32])\n",
      "1640 torch.Size([10, 1024]) torch.Size([10, 3, 4096]) torch.Size([10, 32])\n",
      "1641 torch.Size([10, 1024]) torch.Size([10, 3, 4096]) torch.Size([10, 32])\n",
      "1642 torch.Size([10, 1024]) torch.Size([10, 3, 4096]) torch.Size([10, 32])\n",
      "1643 torch.Size([10, 1024]) torch.Size([10, 3, 4096]) torch.Size([10, 32])\n",
      "1644 torch.Size([10, 1024]) torch.Size([10, 3, 4096]) torch.Size([10, 32])\n",
      "1645 torch.Size([10, 1024]) torch.Size([10, 3, 4096]) torch.Size([10, 32])\n",
      "1646 torch.Size([10, 1024]) torch.Size([10, 3, 4096]) torch.Size([10, 32])\n",
      "1647 torch.Size([10, 1024]) torch.Size([10, 3, 4096]) torch.Size([10, 32])\n",
      "1648 torch.Size([10, 1024]) torch.Size([10, 3, 4096]) torch.Size([10, 32])\n",
      "1649 torch.Size([10, 1024]) torch.Size([10, 3, 4096]) torch.Size([10, 32])\n",
      "1650 torch.Size([10, 1024]) torch.Size([10, 3, 4096]) torch.Size([10, 32])\n",
      "1651 torch.Size([10, 1024]) torch.Size([10, 3, 4096]) torch.Size([10, 32])\n",
      "1652 torch.Size([10, 1024]) torch.Size([10, 3, 4096]) torch.Size([10, 32])\n",
      "1653 torch.Size([10, 1024]) torch.Size([10, 3, 4096]) torch.Size([10, 32])\n",
      "1654 torch.Size([10, 1024]) torch.Size([10, 3, 4096]) torch.Size([10, 32])\n",
      "1655 torch.Size([10, 1024]) torch.Size([10, 3, 4096]) torch.Size([10, 32])\n",
      "1656 torch.Size([10, 1024]) torch.Size([10, 3, 4096]) torch.Size([10, 32])\n",
      "1657 torch.Size([10, 1024]) torch.Size([10, 3, 4096]) torch.Size([10, 32])\n",
      "1658 torch.Size([10, 1024]) torch.Size([10, 3, 4096]) torch.Size([10, 32])\n",
      "1659 torch.Size([10, 1024]) torch.Size([10, 3, 4096]) torch.Size([10, 32])\n",
      "1660 torch.Size([10, 1024]) torch.Size([10, 3, 4096]) torch.Size([10, 32])\n",
      "1661 torch.Size([10, 1024]) torch.Size([10, 3, 4096]) torch.Size([10, 32])\n",
      "1662 torch.Size([10, 1024]) torch.Size([10, 3, 4096]) torch.Size([10, 32])\n",
      "1663 torch.Size([10, 1024]) torch.Size([10, 3, 4096]) torch.Size([10, 32])\n",
      "1664 torch.Size([10, 1024]) torch.Size([10, 3, 4096]) torch.Size([10, 32])\n",
      "1665 torch.Size([10, 1024]) torch.Size([10, 3, 4096]) torch.Size([10, 32])\n",
      "1666 torch.Size([10, 1024]) torch.Size([10, 3, 4096]) torch.Size([10, 32])\n",
      "1667 torch.Size([10, 1024]) torch.Size([10, 3, 4096]) torch.Size([10, 32])\n",
      "1668 torch.Size([10, 1024]) torch.Size([10, 3, 4096]) torch.Size([10, 32])\n"
     ]
    },
    {
     "name": "stdout",
     "output_type": "stream",
     "text": [
      "1669 torch.Size([10, 1024]) torch.Size([10, 3, 4096]) torch.Size([10, 32])\n",
      "1670 torch.Size([10, 1024]) torch.Size([10, 3, 4096]) torch.Size([10, 32])\n",
      "1671 torch.Size([10, 1024]) torch.Size([10, 3, 4096]) torch.Size([10, 32])\n",
      "1672 torch.Size([10, 1024]) torch.Size([10, 3, 4096]) torch.Size([10, 32])\n",
      "1673 torch.Size([10, 1024]) torch.Size([10, 3, 4096]) torch.Size([10, 32])\n",
      "1674 torch.Size([10, 1024]) torch.Size([10, 3, 4096]) torch.Size([10, 32])\n",
      "1675 torch.Size([10, 1024]) torch.Size([10, 3, 4096]) torch.Size([10, 32])\n",
      "1676 torch.Size([10, 1024]) torch.Size([10, 3, 4096]) torch.Size([10, 32])\n",
      "1677 torch.Size([10, 1024]) torch.Size([10, 3, 4096]) torch.Size([10, 32])\n",
      "1678 torch.Size([10, 1024]) torch.Size([10, 3, 4096]) torch.Size([10, 32])\n",
      "1679 torch.Size([10, 1024]) torch.Size([10, 3, 4096]) torch.Size([10, 32])\n",
      "1680 torch.Size([10, 1024]) torch.Size([10, 3, 4096]) torch.Size([10, 32])\n",
      "1681 torch.Size([10, 1024]) torch.Size([10, 3, 4096]) torch.Size([10, 32])\n",
      "1682 torch.Size([10, 1024]) torch.Size([10, 3, 4096]) torch.Size([10, 32])\n",
      "1683 torch.Size([10, 1024]) torch.Size([10, 3, 4096]) torch.Size([10, 32])\n",
      "1684 torch.Size([10, 1024]) torch.Size([10, 3, 4096]) torch.Size([10, 32])\n",
      "1685 torch.Size([10, 1024]) torch.Size([10, 3, 4096]) torch.Size([10, 32])\n",
      "1686 torch.Size([10, 1024]) torch.Size([10, 3, 4096]) torch.Size([10, 32])\n",
      "1687 torch.Size([10, 1024]) torch.Size([10, 3, 4096]) torch.Size([10, 32])\n",
      "1688 torch.Size([10, 1024]) torch.Size([10, 3, 4096]) torch.Size([10, 32])\n",
      "1689 torch.Size([10, 1024]) torch.Size([10, 3, 4096]) torch.Size([10, 32])\n",
      "1690 torch.Size([10, 1024]) torch.Size([10, 3, 4096]) torch.Size([10, 32])\n",
      "1691 torch.Size([10, 1024]) torch.Size([10, 3, 4096]) torch.Size([10, 32])\n",
      "1692 torch.Size([10, 1024]) torch.Size([10, 3, 4096]) torch.Size([10, 32])\n",
      "1693 torch.Size([10, 1024]) torch.Size([10, 3, 4096]) torch.Size([10, 32])\n",
      "1694 torch.Size([10, 1024]) torch.Size([10, 3, 4096]) torch.Size([10, 32])\n",
      "1695 torch.Size([10, 1024]) torch.Size([10, 3, 4096]) torch.Size([10, 32])\n",
      "1696 torch.Size([10, 1024]) torch.Size([10, 3, 4096]) torch.Size([10, 32])\n",
      "1697 torch.Size([10, 1024]) torch.Size([10, 3, 4096]) torch.Size([10, 32])\n",
      "1698 torch.Size([10, 1024]) torch.Size([10, 3, 4096]) torch.Size([10, 32])\n",
      "1699 torch.Size([10, 1024]) torch.Size([10, 3, 4096]) torch.Size([10, 32])\n",
      "1700 torch.Size([10, 1024]) torch.Size([10, 3, 4096]) torch.Size([10, 32])\n",
      "1701 torch.Size([10, 1024]) torch.Size([10, 3, 4096]) torch.Size([10, 32])\n",
      "1702 torch.Size([10, 1024]) torch.Size([10, 3, 4096]) torch.Size([10, 32])\n",
      "1703 torch.Size([10, 1024]) torch.Size([10, 3, 4096]) torch.Size([10, 32])\n",
      "1704 torch.Size([10, 1024]) torch.Size([10, 3, 4096]) torch.Size([10, 32])\n",
      "1705 torch.Size([10, 1024]) torch.Size([10, 3, 4096]) torch.Size([10, 32])\n",
      "1706 torch.Size([10, 1024]) torch.Size([10, 3, 4096]) torch.Size([10, 32])\n",
      "1707 torch.Size([10, 1024]) torch.Size([10, 3, 4096]) torch.Size([10, 32])\n",
      "1708 torch.Size([10, 1024]) torch.Size([10, 3, 4096]) torch.Size([10, 32])\n",
      "1709 torch.Size([10, 1024]) torch.Size([10, 3, 4096]) torch.Size([10, 32])\n",
      "1710 torch.Size([10, 1024]) torch.Size([10, 3, 4096]) torch.Size([10, 32])\n",
      "1711 torch.Size([10, 1024]) torch.Size([10, 3, 4096]) torch.Size([10, 32])\n",
      "1712 torch.Size([10, 1024]) torch.Size([10, 3, 4096]) torch.Size([10, 32])\n",
      "1713 torch.Size([10, 1024]) torch.Size([10, 3, 4096]) torch.Size([10, 32])\n",
      "1714 torch.Size([10, 1024]) torch.Size([10, 3, 4096]) torch.Size([10, 32])\n",
      "1715 torch.Size([10, 1024]) torch.Size([10, 3, 4096]) torch.Size([10, 32])\n",
      "1716 torch.Size([10, 1024]) torch.Size([10, 3, 4096]) torch.Size([10, 32])\n",
      "1717 torch.Size([10, 1024]) torch.Size([10, 3, 4096]) torch.Size([10, 32])\n",
      "1718 torch.Size([10, 1024]) torch.Size([10, 3, 4096]) torch.Size([10, 32])\n",
      "1719 torch.Size([10, 1024]) torch.Size([10, 3, 4096]) torch.Size([10, 32])\n",
      "1720 torch.Size([10, 1024]) torch.Size([10, 3, 4096]) torch.Size([10, 32])\n",
      "1721 torch.Size([10, 1024]) torch.Size([10, 3, 4096]) torch.Size([10, 32])\n",
      "1722 torch.Size([10, 1024]) torch.Size([10, 3, 4096]) torch.Size([10, 32])\n",
      "1723 torch.Size([10, 1024]) torch.Size([10, 3, 4096]) torch.Size([10, 32])\n",
      "1724 torch.Size([10, 1024]) torch.Size([10, 3, 4096]) torch.Size([10, 32])\n",
      "1725 torch.Size([10, 1024]) torch.Size([10, 3, 4096]) torch.Size([10, 32])\n",
      "1726 torch.Size([10, 1024]) torch.Size([10, 3, 4096]) torch.Size([10, 32])\n",
      "1727 torch.Size([10, 1024]) torch.Size([10, 3, 4096]) torch.Size([10, 32])\n",
      "1728 torch.Size([10, 1024]) torch.Size([10, 3, 4096]) torch.Size([10, 32])\n",
      "1729 torch.Size([10, 1024]) torch.Size([10, 3, 4096]) torch.Size([10, 32])\n",
      "1730 torch.Size([10, 1024]) torch.Size([10, 3, 4096]) torch.Size([10, 32])\n",
      "1731 torch.Size([10, 1024]) torch.Size([10, 3, 4096]) torch.Size([10, 32])\n",
      "1732 torch.Size([10, 1024]) torch.Size([10, 3, 4096]) torch.Size([10, 32])\n",
      "1733 torch.Size([10, 1024]) torch.Size([10, 3, 4096]) torch.Size([10, 32])\n",
      "1734 torch.Size([10, 1024]) torch.Size([10, 3, 4096]) torch.Size([10, 32])\n",
      "1735 torch.Size([10, 1024]) torch.Size([10, 3, 4096]) torch.Size([10, 32])\n",
      "1736 torch.Size([10, 1024]) torch.Size([10, 3, 4096]) torch.Size([10, 32])\n",
      "1737 torch.Size([10, 1024]) torch.Size([10, 3, 4096]) torch.Size([10, 32])\n",
      "1738 torch.Size([10, 1024]) torch.Size([10, 3, 4096]) torch.Size([10, 32])\n",
      "1739 torch.Size([10, 1024]) torch.Size([10, 3, 4096]) torch.Size([10, 32])\n",
      "1740 torch.Size([10, 1024]) torch.Size([10, 3, 4096]) torch.Size([10, 32])\n",
      "1741 torch.Size([10, 1024]) torch.Size([10, 3, 4096]) torch.Size([10, 32])\n",
      "1742 torch.Size([10, 1024]) torch.Size([10, 3, 4096]) torch.Size([10, 32])\n",
      "1743 torch.Size([10, 1024]) torch.Size([10, 3, 4096]) torch.Size([10, 32])\n",
      "1744 torch.Size([10, 1024]) torch.Size([10, 3, 4096]) torch.Size([10, 32])\n",
      "1745 torch.Size([10, 1024]) torch.Size([10, 3, 4096]) torch.Size([10, 32])\n",
      "1746 torch.Size([10, 1024]) torch.Size([10, 3, 4096]) torch.Size([10, 32])\n",
      "1747 torch.Size([10, 1024]) torch.Size([10, 3, 4096]) torch.Size([10, 32])\n",
      "1748 torch.Size([10, 1024]) torch.Size([10, 3, 4096]) torch.Size([10, 32])\n",
      "1749 torch.Size([10, 1024]) torch.Size([10, 3, 4096]) torch.Size([10, 32])\n",
      "1750 torch.Size([10, 1024]) torch.Size([10, 3, 4096]) torch.Size([10, 32])\n",
      "1751 torch.Size([10, 1024]) torch.Size([10, 3, 4096]) torch.Size([10, 32])\n",
      "1752 torch.Size([10, 1024]) torch.Size([10, 3, 4096]) torch.Size([10, 32])\n",
      "1753 torch.Size([10, 1024]) torch.Size([10, 3, 4096]) torch.Size([10, 32])\n",
      "1754 torch.Size([10, 1024]) torch.Size([10, 3, 4096]) torch.Size([10, 32])\n",
      "1755 torch.Size([10, 1024]) torch.Size([10, 3, 4096]) torch.Size([10, 32])\n",
      "1756 torch.Size([10, 1024]) torch.Size([10, 3, 4096]) torch.Size([10, 32])\n",
      "1757 torch.Size([10, 1024]) torch.Size([10, 3, 4096]) torch.Size([10, 32])\n",
      "1758 torch.Size([10, 1024]) torch.Size([10, 3, 4096]) torch.Size([10, 32])\n",
      "1759 torch.Size([10, 1024]) torch.Size([10, 3, 4096]) torch.Size([10, 32])\n",
      "1760 torch.Size([10, 1024]) torch.Size([10, 3, 4096]) torch.Size([10, 32])\n",
      "1761 torch.Size([10, 1024]) torch.Size([10, 3, 4096]) torch.Size([10, 32])\n",
      "1762 torch.Size([10, 1024]) torch.Size([10, 3, 4096]) torch.Size([10, 32])\n",
      "1763 torch.Size([10, 1024]) torch.Size([10, 3, 4096]) torch.Size([10, 32])\n",
      "1764 torch.Size([10, 1024]) torch.Size([10, 3, 4096]) torch.Size([10, 32])\n",
      "1765 torch.Size([10, 1024]) torch.Size([10, 3, 4096]) torch.Size([10, 32])\n",
      "1766 torch.Size([10, 1024]) torch.Size([10, 3, 4096]) torch.Size([10, 32])\n",
      "1767 torch.Size([10, 1024]) torch.Size([10, 3, 4096]) torch.Size([10, 32])\n",
      "1768 torch.Size([10, 1024]) torch.Size([10, 3, 4096]) torch.Size([10, 32])\n",
      "1769 torch.Size([10, 1024]) torch.Size([10, 3, 4096]) torch.Size([10, 32])\n",
      "1770 torch.Size([10, 1024]) torch.Size([10, 3, 4096]) torch.Size([10, 32])\n",
      "1771 torch.Size([10, 1024]) torch.Size([10, 3, 4096]) torch.Size([10, 32])\n",
      "1772 torch.Size([10, 1024]) torch.Size([10, 3, 4096]) torch.Size([10, 32])\n",
      "1773 torch.Size([10, 1024]) torch.Size([10, 3, 4096]) torch.Size([10, 32])\n",
      "1774 torch.Size([10, 1024]) torch.Size([10, 3, 4096]) torch.Size([10, 32])\n",
      "1775 torch.Size([10, 1024]) torch.Size([10, 3, 4096]) torch.Size([10, 32])\n",
      "1776 torch.Size([10, 1024]) torch.Size([10, 3, 4096]) torch.Size([10, 32])\n",
      "1777 torch.Size([10, 1024]) torch.Size([10, 3, 4096]) torch.Size([10, 32])\n",
      "1778 torch.Size([10, 1024]) torch.Size([10, 3, 4096]) torch.Size([10, 32])\n",
      "1779 torch.Size([10, 1024]) torch.Size([10, 3, 4096]) torch.Size([10, 32])\n",
      "1780 torch.Size([10, 1024]) torch.Size([10, 3, 4096]) torch.Size([10, 32])\n",
      "1781 torch.Size([10, 1024]) torch.Size([10, 3, 4096]) torch.Size([10, 32])\n",
      "1782 torch.Size([10, 1024]) torch.Size([10, 3, 4096]) torch.Size([10, 32])\n",
      "1783 torch.Size([10, 1024]) torch.Size([10, 3, 4096]) torch.Size([10, 32])\n",
      "1784 torch.Size([10, 1024]) torch.Size([10, 3, 4096]) torch.Size([10, 32])\n",
      "1785 torch.Size([10, 1024]) torch.Size([10, 3, 4096]) torch.Size([10, 32])\n",
      "1786 torch.Size([10, 1024]) torch.Size([10, 3, 4096]) torch.Size([10, 32])\n"
     ]
    },
    {
     "name": "stdout",
     "output_type": "stream",
     "text": [
      "1787 torch.Size([10, 1024]) torch.Size([10, 3, 4096]) torch.Size([10, 32])\n",
      "1788 torch.Size([10, 1024]) torch.Size([10, 3, 4096]) torch.Size([10, 32])\n",
      "1789 torch.Size([10, 1024]) torch.Size([10, 3, 4096]) torch.Size([10, 32])\n",
      "1790 torch.Size([10, 1024]) torch.Size([10, 3, 4096]) torch.Size([10, 32])\n",
      "1791 torch.Size([10, 1024]) torch.Size([10, 3, 4096]) torch.Size([10, 32])\n",
      "1792 torch.Size([10, 1024]) torch.Size([10, 3, 4096]) torch.Size([10, 32])\n",
      "1793 torch.Size([10, 1024]) torch.Size([10, 3, 4096]) torch.Size([10, 32])\n",
      "1794 torch.Size([10, 1024]) torch.Size([10, 3, 4096]) torch.Size([10, 32])\n",
      "1795 torch.Size([10, 1024]) torch.Size([10, 3, 4096]) torch.Size([10, 32])\n",
      "1796 torch.Size([10, 1024]) torch.Size([10, 3, 4096]) torch.Size([10, 32])\n",
      "1797 torch.Size([10, 1024]) torch.Size([10, 3, 4096]) torch.Size([10, 32])\n",
      "1798 torch.Size([10, 1024]) torch.Size([10, 3, 4096]) torch.Size([10, 32])\n",
      "1799 torch.Size([10, 1024]) torch.Size([10, 3, 4096]) torch.Size([10, 32])\n",
      "1800 torch.Size([10, 1024]) torch.Size([10, 3, 4096]) torch.Size([10, 32])\n",
      "1801 torch.Size([10, 1024]) torch.Size([10, 3, 4096]) torch.Size([10, 32])\n",
      "1802 torch.Size([10, 1024]) torch.Size([10, 3, 4096]) torch.Size([10, 32])\n",
      "1803 torch.Size([10, 1024]) torch.Size([10, 3, 4096]) torch.Size([10, 32])\n",
      "1804 torch.Size([10, 1024]) torch.Size([10, 3, 4096]) torch.Size([10, 32])\n",
      "1805 torch.Size([10, 1024]) torch.Size([10, 3, 4096]) torch.Size([10, 32])\n",
      "1806 torch.Size([10, 1024]) torch.Size([10, 3, 4096]) torch.Size([10, 32])\n",
      "1807 torch.Size([10, 1024]) torch.Size([10, 3, 4096]) torch.Size([10, 32])\n",
      "1808 torch.Size([10, 1024]) torch.Size([10, 3, 4096]) torch.Size([10, 32])\n",
      "1809 torch.Size([10, 1024]) torch.Size([10, 3, 4096]) torch.Size([10, 32])\n",
      "1810 torch.Size([10, 1024]) torch.Size([10, 3, 4096]) torch.Size([10, 32])\n",
      "1811 torch.Size([10, 1024]) torch.Size([10, 3, 4096]) torch.Size([10, 32])\n",
      "1812 torch.Size([10, 1024]) torch.Size([10, 3, 4096]) torch.Size([10, 32])\n",
      "1813 torch.Size([10, 1024]) torch.Size([10, 3, 4096]) torch.Size([10, 32])\n",
      "1814 torch.Size([10, 1024]) torch.Size([10, 3, 4096]) torch.Size([10, 32])\n",
      "1815 torch.Size([10, 1024]) torch.Size([10, 3, 4096]) torch.Size([10, 32])\n",
      "1816 torch.Size([10, 1024]) torch.Size([10, 3, 4096]) torch.Size([10, 32])\n",
      "1817 torch.Size([10, 1024]) torch.Size([10, 3, 4096]) torch.Size([10, 32])\n",
      "1818 torch.Size([10, 1024]) torch.Size([10, 3, 4096]) torch.Size([10, 32])\n",
      "1819 torch.Size([10, 1024]) torch.Size([10, 3, 4096]) torch.Size([10, 32])\n",
      "1820 torch.Size([10, 1024]) torch.Size([10, 3, 4096]) torch.Size([10, 32])\n",
      "1821 torch.Size([10, 1024]) torch.Size([10, 3, 4096]) torch.Size([10, 32])\n",
      "1822 torch.Size([10, 1024]) torch.Size([10, 3, 4096]) torch.Size([10, 32])\n",
      "1823 torch.Size([10, 1024]) torch.Size([10, 3, 4096]) torch.Size([10, 32])\n",
      "1824 torch.Size([10, 1024]) torch.Size([10, 3, 4096]) torch.Size([10, 32])\n",
      "1825 torch.Size([10, 1024]) torch.Size([10, 3, 4096]) torch.Size([10, 32])\n",
      "1826 torch.Size([10, 1024]) torch.Size([10, 3, 4096]) torch.Size([10, 32])\n",
      "1827 torch.Size([10, 1024]) torch.Size([10, 3, 4096]) torch.Size([10, 32])\n",
      "1828 torch.Size([10, 1024]) torch.Size([10, 3, 4096]) torch.Size([10, 32])\n",
      "1829 torch.Size([10, 1024]) torch.Size([10, 3, 4096]) torch.Size([10, 32])\n",
      "1830 torch.Size([10, 1024]) torch.Size([10, 3, 4096]) torch.Size([10, 32])\n",
      "1831 torch.Size([10, 1024]) torch.Size([10, 3, 4096]) torch.Size([10, 32])\n",
      "1832 torch.Size([10, 1024]) torch.Size([10, 3, 4096]) torch.Size([10, 32])\n",
      "1833 torch.Size([10, 1024]) torch.Size([10, 3, 4096]) torch.Size([10, 32])\n",
      "1834 torch.Size([10, 1024]) torch.Size([10, 3, 4096]) torch.Size([10, 32])\n",
      "1835 torch.Size([10, 1024]) torch.Size([10, 3, 4096]) torch.Size([10, 32])\n",
      "1836 torch.Size([10, 1024]) torch.Size([10, 3, 4096]) torch.Size([10, 32])\n",
      "1837 torch.Size([10, 1024]) torch.Size([10, 3, 4096]) torch.Size([10, 32])\n",
      "1838 torch.Size([10, 1024]) torch.Size([10, 3, 4096]) torch.Size([10, 32])\n",
      "1839 torch.Size([10, 1024]) torch.Size([10, 3, 4096]) torch.Size([10, 32])\n",
      "1840 torch.Size([10, 1024]) torch.Size([10, 3, 4096]) torch.Size([10, 32])\n",
      "1841 torch.Size([10, 1024]) torch.Size([10, 3, 4096]) torch.Size([10, 32])\n",
      "1842 torch.Size([10, 1024]) torch.Size([10, 3, 4096]) torch.Size([10, 32])\n",
      "1843 torch.Size([10, 1024]) torch.Size([10, 3, 4096]) torch.Size([10, 32])\n",
      "1844 torch.Size([10, 1024]) torch.Size([10, 3, 4096]) torch.Size([10, 32])\n",
      "1845 torch.Size([10, 1024]) torch.Size([10, 3, 4096]) torch.Size([10, 32])\n",
      "1846 torch.Size([10, 1024]) torch.Size([10, 3, 4096]) torch.Size([10, 32])\n",
      "1847 torch.Size([10, 1024]) torch.Size([10, 3, 4096]) torch.Size([10, 32])\n",
      "1848 torch.Size([10, 1024]) torch.Size([10, 3, 4096]) torch.Size([10, 32])\n",
      "1849 torch.Size([10, 1024]) torch.Size([10, 3, 4096]) torch.Size([10, 32])\n",
      "1850 torch.Size([10, 1024]) torch.Size([10, 3, 4096]) torch.Size([10, 32])\n",
      "1851 torch.Size([10, 1024]) torch.Size([10, 3, 4096]) torch.Size([10, 32])\n",
      "1852 torch.Size([10, 1024]) torch.Size([10, 3, 4096]) torch.Size([10, 32])\n",
      "1853 torch.Size([10, 1024]) torch.Size([10, 3, 4096]) torch.Size([10, 32])\n",
      "1854 torch.Size([10, 1024]) torch.Size([10, 3, 4096]) torch.Size([10, 32])\n",
      "1855 torch.Size([10, 1024]) torch.Size([10, 3, 4096]) torch.Size([10, 32])\n",
      "1856 torch.Size([10, 1024]) torch.Size([10, 3, 4096]) torch.Size([10, 32])\n",
      "1857 torch.Size([10, 1024]) torch.Size([10, 3, 4096]) torch.Size([10, 32])\n",
      "1858 torch.Size([10, 1024]) torch.Size([10, 3, 4096]) torch.Size([10, 32])\n",
      "1859 torch.Size([10, 1024]) torch.Size([10, 3, 4096]) torch.Size([10, 32])\n",
      "1860 torch.Size([10, 1024]) torch.Size([10, 3, 4096]) torch.Size([10, 32])\n",
      "1861 torch.Size([10, 1024]) torch.Size([10, 3, 4096]) torch.Size([10, 32])\n",
      "1862 torch.Size([10, 1024]) torch.Size([10, 3, 4096]) torch.Size([10, 32])\n",
      "1863 torch.Size([10, 1024]) torch.Size([10, 3, 4096]) torch.Size([10, 32])\n",
      "1864 torch.Size([10, 1024]) torch.Size([10, 3, 4096]) torch.Size([10, 32])\n",
      "1865 torch.Size([10, 1024]) torch.Size([10, 3, 4096]) torch.Size([10, 32])\n",
      "1866 torch.Size([10, 1024]) torch.Size([10, 3, 4096]) torch.Size([10, 32])\n",
      "1867 torch.Size([10, 1024]) torch.Size([10, 3, 4096]) torch.Size([10, 32])\n",
      "1868 torch.Size([10, 1024]) torch.Size([10, 3, 4096]) torch.Size([10, 32])\n",
      "1869 torch.Size([10, 1024]) torch.Size([10, 3, 4096]) torch.Size([10, 32])\n",
      "1870 torch.Size([10, 1024]) torch.Size([10, 3, 4096]) torch.Size([10, 32])\n",
      "1871 torch.Size([10, 1024]) torch.Size([10, 3, 4096]) torch.Size([10, 32])\n",
      "1872 torch.Size([10, 1024]) torch.Size([10, 3, 4096]) torch.Size([10, 32])\n",
      "1873 torch.Size([10, 1024]) torch.Size([10, 3, 4096]) torch.Size([10, 32])\n",
      "1874 torch.Size([10, 1024]) torch.Size([10, 3, 4096]) torch.Size([10, 32])\n",
      "1875 torch.Size([10, 1024]) torch.Size([10, 3, 4096]) torch.Size([10, 32])\n",
      "1876 torch.Size([10, 1024]) torch.Size([10, 3, 4096]) torch.Size([10, 32])\n",
      "1877 torch.Size([10, 1024]) torch.Size([10, 3, 4096]) torch.Size([10, 32])\n",
      "1878 torch.Size([10, 1024]) torch.Size([10, 3, 4096]) torch.Size([10, 32])\n",
      "1879 torch.Size([10, 1024]) torch.Size([10, 3, 4096]) torch.Size([10, 32])\n",
      "1880 torch.Size([10, 1024]) torch.Size([10, 3, 4096]) torch.Size([10, 32])\n",
      "1881 torch.Size([10, 1024]) torch.Size([10, 3, 4096]) torch.Size([10, 32])\n",
      "1882 torch.Size([10, 1024]) torch.Size([10, 3, 4096]) torch.Size([10, 32])\n",
      "1883 torch.Size([10, 1024]) torch.Size([10, 3, 4096]) torch.Size([10, 32])\n",
      "1884 torch.Size([10, 1024]) torch.Size([10, 3, 4096]) torch.Size([10, 32])\n",
      "1885 torch.Size([10, 1024]) torch.Size([10, 3, 4096]) torch.Size([10, 32])\n",
      "1886 torch.Size([10, 1024]) torch.Size([10, 3, 4096]) torch.Size([10, 32])\n",
      "1887 torch.Size([10, 1024]) torch.Size([10, 3, 4096]) torch.Size([10, 32])\n",
      "1888 torch.Size([10, 1024]) torch.Size([10, 3, 4096]) torch.Size([10, 32])\n",
      "1889 torch.Size([10, 1024]) torch.Size([10, 3, 4096]) torch.Size([10, 32])\n",
      "1890 torch.Size([10, 1024]) torch.Size([10, 3, 4096]) torch.Size([10, 32])\n",
      "1891 torch.Size([10, 1024]) torch.Size([10, 3, 4096]) torch.Size([10, 32])\n",
      "1892 torch.Size([10, 1024]) torch.Size([10, 3, 4096]) torch.Size([10, 32])\n",
      "1893 torch.Size([10, 1024]) torch.Size([10, 3, 4096]) torch.Size([10, 32])\n",
      "1894 torch.Size([10, 1024]) torch.Size([10, 3, 4096]) torch.Size([10, 32])\n",
      "1895 torch.Size([10, 1024]) torch.Size([10, 3, 4096]) torch.Size([10, 32])\n",
      "1896 torch.Size([10, 1024]) torch.Size([10, 3, 4096]) torch.Size([10, 32])\n",
      "1897 torch.Size([10, 1024]) torch.Size([10, 3, 4096]) torch.Size([10, 32])\n",
      "1898 torch.Size([10, 1024]) torch.Size([10, 3, 4096]) torch.Size([10, 32])\n",
      "1899 torch.Size([10, 1024]) torch.Size([10, 3, 4096]) torch.Size([10, 32])\n",
      "1900 torch.Size([10, 1024]) torch.Size([10, 3, 4096]) torch.Size([10, 32])\n",
      "1901 torch.Size([10, 1024]) torch.Size([10, 3, 4096]) torch.Size([10, 32])\n",
      "1902 torch.Size([10, 1024]) torch.Size([10, 3, 4096]) torch.Size([10, 32])\n",
      "1903 torch.Size([10, 1024]) torch.Size([10, 3, 4096]) torch.Size([10, 32])\n",
      "1904 torch.Size([10, 1024]) torch.Size([10, 3, 4096]) torch.Size([10, 32])\n",
      "1905 torch.Size([10, 1024]) torch.Size([10, 3, 4096]) torch.Size([10, 32])\n"
     ]
    },
    {
     "name": "stdout",
     "output_type": "stream",
     "text": [
      "1906 torch.Size([10, 1024]) torch.Size([10, 3, 4096]) torch.Size([10, 32])\n",
      "1907 torch.Size([10, 1024]) torch.Size([10, 3, 4096]) torch.Size([10, 32])\n",
      "1908 torch.Size([10, 1024]) torch.Size([10, 3, 4096]) torch.Size([10, 32])\n",
      "1909 torch.Size([10, 1024]) torch.Size([10, 3, 4096]) torch.Size([10, 32])\n",
      "1910 torch.Size([10, 1024]) torch.Size([10, 3, 4096]) torch.Size([10, 32])\n",
      "1911 torch.Size([10, 1024]) torch.Size([10, 3, 4096]) torch.Size([10, 32])\n",
      "1912 torch.Size([10, 1024]) torch.Size([10, 3, 4096]) torch.Size([10, 32])\n",
      "1913 torch.Size([10, 1024]) torch.Size([10, 3, 4096]) torch.Size([10, 32])\n",
      "1914 torch.Size([10, 1024]) torch.Size([10, 3, 4096]) torch.Size([10, 32])\n",
      "1915 torch.Size([10, 1024]) torch.Size([10, 3, 4096]) torch.Size([10, 32])\n",
      "1916 torch.Size([10, 1024]) torch.Size([10, 3, 4096]) torch.Size([10, 32])\n",
      "1917 torch.Size([10, 1024]) torch.Size([10, 3, 4096]) torch.Size([10, 32])\n",
      "1918 torch.Size([10, 1024]) torch.Size([10, 3, 4096]) torch.Size([10, 32])\n",
      "1919 torch.Size([10, 1024]) torch.Size([10, 3, 4096]) torch.Size([10, 32])\n",
      "1920 torch.Size([10, 1024]) torch.Size([10, 3, 4096]) torch.Size([10, 32])\n",
      "1921 torch.Size([10, 1024]) torch.Size([10, 3, 4096]) torch.Size([10, 32])\n",
      "1922 torch.Size([10, 1024]) torch.Size([10, 3, 4096]) torch.Size([10, 32])\n",
      "1923 torch.Size([10, 1024]) torch.Size([10, 3, 4096]) torch.Size([10, 32])\n",
      "1924 torch.Size([10, 1024]) torch.Size([10, 3, 4096]) torch.Size([10, 32])\n",
      "1925 torch.Size([10, 1024]) torch.Size([10, 3, 4096]) torch.Size([10, 32])\n",
      "1926 torch.Size([10, 1024]) torch.Size([10, 3, 4096]) torch.Size([10, 32])\n",
      "1927 torch.Size([10, 1024]) torch.Size([10, 3, 4096]) torch.Size([10, 32])\n",
      "1928 torch.Size([10, 1024]) torch.Size([10, 3, 4096]) torch.Size([10, 32])\n",
      "1929 torch.Size([10, 1024]) torch.Size([10, 3, 4096]) torch.Size([10, 32])\n",
      "1930 torch.Size([10, 1024]) torch.Size([10, 3, 4096]) torch.Size([10, 32])\n",
      "1931 torch.Size([10, 1024]) torch.Size([10, 3, 4096]) torch.Size([10, 32])\n",
      "1932 torch.Size([10, 1024]) torch.Size([10, 3, 4096]) torch.Size([10, 32])\n",
      "1933 torch.Size([10, 1024]) torch.Size([10, 3, 4096]) torch.Size([10, 32])\n",
      "1934 torch.Size([10, 1024]) torch.Size([10, 3, 4096]) torch.Size([10, 32])\n",
      "1935 torch.Size([10, 1024]) torch.Size([10, 3, 4096]) torch.Size([10, 32])\n",
      "1936 torch.Size([10, 1024]) torch.Size([10, 3, 4096]) torch.Size([10, 32])\n",
      "1937 torch.Size([10, 1024]) torch.Size([10, 3, 4096]) torch.Size([10, 32])\n",
      "1938 torch.Size([10, 1024]) torch.Size([10, 3, 4096]) torch.Size([10, 32])\n",
      "1939 torch.Size([10, 1024]) torch.Size([10, 3, 4096]) torch.Size([10, 32])\n",
      "1940 torch.Size([10, 1024]) torch.Size([10, 3, 4096]) torch.Size([10, 32])\n",
      "1941 torch.Size([10, 1024]) torch.Size([10, 3, 4096]) torch.Size([10, 32])\n",
      "1942 torch.Size([10, 1024]) torch.Size([10, 3, 4096]) torch.Size([10, 32])\n",
      "1943 torch.Size([10, 1024]) torch.Size([10, 3, 4096]) torch.Size([10, 32])\n",
      "1944 torch.Size([10, 1024]) torch.Size([10, 3, 4096]) torch.Size([10, 32])\n",
      "1945 torch.Size([10, 1024]) torch.Size([10, 3, 4096]) torch.Size([10, 32])\n",
      "1946 torch.Size([10, 1024]) torch.Size([10, 3, 4096]) torch.Size([10, 32])\n",
      "1947 torch.Size([10, 1024]) torch.Size([10, 3, 4096]) torch.Size([10, 32])\n",
      "1948 torch.Size([10, 1024]) torch.Size([10, 3, 4096]) torch.Size([10, 32])\n",
      "1949 torch.Size([10, 1024]) torch.Size([10, 3, 4096]) torch.Size([10, 32])\n",
      "1950 torch.Size([10, 1024]) torch.Size([10, 3, 4096]) torch.Size([10, 32])\n",
      "1951 torch.Size([10, 1024]) torch.Size([10, 3, 4096]) torch.Size([10, 32])\n",
      "1952 torch.Size([10, 1024]) torch.Size([10, 3, 4096]) torch.Size([10, 32])\n",
      "1953 torch.Size([10, 1024]) torch.Size([10, 3, 4096]) torch.Size([10, 32])\n",
      "1954 torch.Size([10, 1024]) torch.Size([10, 3, 4096]) torch.Size([10, 32])\n",
      "1955 torch.Size([10, 1024]) torch.Size([10, 3, 4096]) torch.Size([10, 32])\n",
      "1956 torch.Size([10, 1024]) torch.Size([10, 3, 4096]) torch.Size([10, 32])\n",
      "1957 torch.Size([10, 1024]) torch.Size([10, 3, 4096]) torch.Size([10, 32])\n",
      "1958 torch.Size([10, 1024]) torch.Size([10, 3, 4096]) torch.Size([10, 32])\n",
      "1959 torch.Size([10, 1024]) torch.Size([10, 3, 4096]) torch.Size([10, 32])\n",
      "1960 torch.Size([10, 1024]) torch.Size([10, 3, 4096]) torch.Size([10, 32])\n",
      "1961 torch.Size([10, 1024]) torch.Size([10, 3, 4096]) torch.Size([10, 32])\n",
      "1962 torch.Size([10, 1024]) torch.Size([10, 3, 4096]) torch.Size([10, 32])\n",
      "1963 torch.Size([10, 1024]) torch.Size([10, 3, 4096]) torch.Size([10, 32])\n",
      "1964 torch.Size([10, 1024]) torch.Size([10, 3, 4096]) torch.Size([10, 32])\n",
      "1965 torch.Size([10, 1024]) torch.Size([10, 3, 4096]) torch.Size([10, 32])\n",
      "1966 torch.Size([10, 1024]) torch.Size([10, 3, 4096]) torch.Size([10, 32])\n",
      "1967 torch.Size([10, 1024]) torch.Size([10, 3, 4096]) torch.Size([10, 32])\n",
      "1968 torch.Size([10, 1024]) torch.Size([10, 3, 4096]) torch.Size([10, 32])\n",
      "1969 torch.Size([10, 1024]) torch.Size([10, 3, 4096]) torch.Size([10, 32])\n",
      "1970 torch.Size([10, 1024]) torch.Size([10, 3, 4096]) torch.Size([10, 32])\n",
      "1971 torch.Size([10, 1024]) torch.Size([10, 3, 4096]) torch.Size([10, 32])\n",
      "1972 torch.Size([10, 1024]) torch.Size([10, 3, 4096]) torch.Size([10, 32])\n",
      "1973 torch.Size([10, 1024]) torch.Size([10, 3, 4096]) torch.Size([10, 32])\n",
      "1974 torch.Size([10, 1024]) torch.Size([10, 3, 4096]) torch.Size([10, 32])\n",
      "1975 torch.Size([10, 1024]) torch.Size([10, 3, 4096]) torch.Size([10, 32])\n",
      "1976 torch.Size([10, 1024]) torch.Size([10, 3, 4096]) torch.Size([10, 32])\n",
      "1977 torch.Size([10, 1024]) torch.Size([10, 3, 4096]) torch.Size([10, 32])\n",
      "1978 torch.Size([10, 1024]) torch.Size([10, 3, 4096]) torch.Size([10, 32])\n",
      "1979 torch.Size([10, 1024]) torch.Size([10, 3, 4096]) torch.Size([10, 32])\n",
      "1980 torch.Size([10, 1024]) torch.Size([10, 3, 4096]) torch.Size([10, 32])\n",
      "1981 torch.Size([10, 1024]) torch.Size([10, 3, 4096]) torch.Size([10, 32])\n",
      "1982 torch.Size([10, 1024]) torch.Size([10, 3, 4096]) torch.Size([10, 32])\n",
      "1983 torch.Size([10, 1024]) torch.Size([10, 3, 4096]) torch.Size([10, 32])\n",
      "1984 torch.Size([10, 1024]) torch.Size([10, 3, 4096]) torch.Size([10, 32])\n",
      "1985 torch.Size([10, 1024]) torch.Size([10, 3, 4096]) torch.Size([10, 32])\n",
      "1986 torch.Size([10, 1024]) torch.Size([10, 3, 4096]) torch.Size([10, 32])\n",
      "1987 torch.Size([10, 1024]) torch.Size([10, 3, 4096]) torch.Size([10, 32])\n",
      "1988 torch.Size([10, 1024]) torch.Size([10, 3, 4096]) torch.Size([10, 32])\n",
      "1989 torch.Size([10, 1024]) torch.Size([10, 3, 4096]) torch.Size([10, 32])\n",
      "1990 torch.Size([10, 1024]) torch.Size([10, 3, 4096]) torch.Size([10, 32])\n",
      "1991 torch.Size([10, 1024]) torch.Size([10, 3, 4096]) torch.Size([10, 32])\n",
      "1992 torch.Size([10, 1024]) torch.Size([10, 3, 4096]) torch.Size([10, 32])\n",
      "1993 torch.Size([10, 1024]) torch.Size([10, 3, 4096]) torch.Size([10, 32])\n",
      "1994 torch.Size([10, 1024]) torch.Size([10, 3, 4096]) torch.Size([10, 32])\n",
      "1995 torch.Size([10, 1024]) torch.Size([10, 3, 4096]) torch.Size([10, 32])\n",
      "1996 torch.Size([10, 1024]) torch.Size([10, 3, 4096]) torch.Size([10, 32])\n",
      "1997 torch.Size([10, 1024]) torch.Size([10, 3, 4096]) torch.Size([10, 32])\n",
      "1998 torch.Size([10, 1024]) torch.Size([10, 3, 4096]) torch.Size([10, 32])\n",
      "1999 torch.Size([10, 1024]) torch.Size([10, 3, 4096]) torch.Size([10, 32])\n",
      "2000 torch.Size([10, 1024]) torch.Size([10, 3, 4096]) torch.Size([10, 32])\n",
      "2001 torch.Size([10, 1024]) torch.Size([10, 3, 4096]) torch.Size([10, 32])\n",
      "2002 torch.Size([10, 1024]) torch.Size([10, 3, 4096]) torch.Size([10, 32])\n",
      "2003 torch.Size([10, 1024]) torch.Size([10, 3, 4096]) torch.Size([10, 32])\n",
      "2004 torch.Size([10, 1024]) torch.Size([10, 3, 4096]) torch.Size([10, 32])\n",
      "2005 torch.Size([10, 1024]) torch.Size([10, 3, 4096]) torch.Size([10, 32])\n",
      "2006 torch.Size([10, 1024]) torch.Size([10, 3, 4096]) torch.Size([10, 32])\n",
      "2007 torch.Size([10, 1024]) torch.Size([10, 3, 4096]) torch.Size([10, 32])\n",
      "2008 torch.Size([10, 1024]) torch.Size([10, 3, 4096]) torch.Size([10, 32])\n",
      "2009 torch.Size([10, 1024]) torch.Size([10, 3, 4096]) torch.Size([10, 32])\n",
      "2010 torch.Size([10, 1024]) torch.Size([10, 3, 4096]) torch.Size([10, 32])\n",
      "2011 torch.Size([10, 1024]) torch.Size([10, 3, 4096]) torch.Size([10, 32])\n",
      "2012 torch.Size([10, 1024]) torch.Size([10, 3, 4096]) torch.Size([10, 32])\n",
      "2013 torch.Size([10, 1024]) torch.Size([10, 3, 4096]) torch.Size([10, 32])\n",
      "2014 torch.Size([10, 1024]) torch.Size([10, 3, 4096]) torch.Size([10, 32])\n",
      "2015 torch.Size([10, 1024]) torch.Size([10, 3, 4096]) torch.Size([10, 32])\n",
      "2016 torch.Size([10, 1024]) torch.Size([10, 3, 4096]) torch.Size([10, 32])\n",
      "2017 torch.Size([10, 1024]) torch.Size([10, 3, 4096]) torch.Size([10, 32])\n",
      "2018 torch.Size([10, 1024]) torch.Size([10, 3, 4096]) torch.Size([10, 32])\n",
      "2019 torch.Size([10, 1024]) torch.Size([10, 3, 4096]) torch.Size([10, 32])\n",
      "2020 torch.Size([10, 1024]) torch.Size([10, 3, 4096]) torch.Size([10, 32])\n",
      "2021 torch.Size([10, 1024]) torch.Size([10, 3, 4096]) torch.Size([10, 32])\n",
      "2022 torch.Size([10, 1024]) torch.Size([10, 3, 4096]) torch.Size([10, 32])\n",
      "2023 torch.Size([10, 1024]) torch.Size([10, 3, 4096]) torch.Size([10, 32])\n"
     ]
    },
    {
     "name": "stdout",
     "output_type": "stream",
     "text": [
      "2024 torch.Size([10, 1024]) torch.Size([10, 3, 4096]) torch.Size([10, 32])\n",
      "2025 torch.Size([10, 1024]) torch.Size([10, 3, 4096]) torch.Size([10, 32])\n",
      "2026 torch.Size([10, 1024]) torch.Size([10, 3, 4096]) torch.Size([10, 32])\n",
      "2027 torch.Size([10, 1024]) torch.Size([10, 3, 4096]) torch.Size([10, 32])\n",
      "2028 torch.Size([10, 1024]) torch.Size([10, 3, 4096]) torch.Size([10, 32])\n",
      "2029 torch.Size([10, 1024]) torch.Size([10, 3, 4096]) torch.Size([10, 32])\n",
      "2030 torch.Size([10, 1024]) torch.Size([10, 3, 4096]) torch.Size([10, 32])\n",
      "2031 torch.Size([10, 1024]) torch.Size([10, 3, 4096]) torch.Size([10, 32])\n",
      "2032 torch.Size([10, 1024]) torch.Size([10, 3, 4096]) torch.Size([10, 32])\n",
      "2033 torch.Size([10, 1024]) torch.Size([10, 3, 4096]) torch.Size([10, 32])\n",
      "2034 torch.Size([10, 1024]) torch.Size([10, 3, 4096]) torch.Size([10, 32])\n",
      "2035 torch.Size([10, 1024]) torch.Size([10, 3, 4096]) torch.Size([10, 32])\n",
      "2036 torch.Size([10, 1024]) torch.Size([10, 3, 4096]) torch.Size([10, 32])\n",
      "2037 torch.Size([10, 1024]) torch.Size([10, 3, 4096]) torch.Size([10, 32])\n",
      "2038 torch.Size([10, 1024]) torch.Size([10, 3, 4096]) torch.Size([10, 32])\n",
      "2039 torch.Size([10, 1024]) torch.Size([10, 3, 4096]) torch.Size([10, 32])\n",
      "2040 torch.Size([10, 1024]) torch.Size([10, 3, 4096]) torch.Size([10, 32])\n",
      "2041 torch.Size([10, 1024]) torch.Size([10, 3, 4096]) torch.Size([10, 32])\n",
      "2042 torch.Size([10, 1024]) torch.Size([10, 3, 4096]) torch.Size([10, 32])\n",
      "2043 torch.Size([10, 1024]) torch.Size([10, 3, 4096]) torch.Size([10, 32])\n",
      "2044 torch.Size([10, 1024]) torch.Size([10, 3, 4096]) torch.Size([10, 32])\n",
      "2045 torch.Size([10, 1024]) torch.Size([10, 3, 4096]) torch.Size([10, 32])\n",
      "2046 torch.Size([10, 1024]) torch.Size([10, 3, 4096]) torch.Size([10, 32])\n",
      "2047 torch.Size([10, 1024]) torch.Size([10, 3, 4096]) torch.Size([10, 32])\n",
      "2048 torch.Size([10, 1024]) torch.Size([10, 3, 4096]) torch.Size([10, 32])\n",
      "2049 torch.Size([10, 1024]) torch.Size([10, 3, 4096]) torch.Size([10, 32])\n",
      "2050 torch.Size([10, 1024]) torch.Size([10, 3, 4096]) torch.Size([10, 32])\n",
      "2051 torch.Size([10, 1024]) torch.Size([10, 3, 4096]) torch.Size([10, 32])\n",
      "2052 torch.Size([10, 1024]) torch.Size([10, 3, 4096]) torch.Size([10, 32])\n",
      "2053 torch.Size([10, 1024]) torch.Size([10, 3, 4096]) torch.Size([10, 32])\n",
      "2054 torch.Size([10, 1024]) torch.Size([10, 3, 4096]) torch.Size([10, 32])\n",
      "2055 torch.Size([10, 1024]) torch.Size([10, 3, 4096]) torch.Size([10, 32])\n",
      "2056 torch.Size([10, 1024]) torch.Size([10, 3, 4096]) torch.Size([10, 32])\n",
      "2057 torch.Size([10, 1024]) torch.Size([10, 3, 4096]) torch.Size([10, 32])\n",
      "2058 torch.Size([10, 1024]) torch.Size([10, 3, 4096]) torch.Size([10, 32])\n",
      "2059 torch.Size([10, 1024]) torch.Size([10, 3, 4096]) torch.Size([10, 32])\n",
      "2060 torch.Size([10, 1024]) torch.Size([10, 3, 4096]) torch.Size([10, 32])\n",
      "2061 torch.Size([10, 1024]) torch.Size([10, 3, 4096]) torch.Size([10, 32])\n",
      "2062 torch.Size([10, 1024]) torch.Size([10, 3, 4096]) torch.Size([10, 32])\n",
      "2063 torch.Size([10, 1024]) torch.Size([10, 3, 4096]) torch.Size([10, 32])\n",
      "2064 torch.Size([10, 1024]) torch.Size([10, 3, 4096]) torch.Size([10, 32])\n",
      "2065 torch.Size([10, 1024]) torch.Size([10, 3, 4096]) torch.Size([10, 32])\n",
      "2066 torch.Size([10, 1024]) torch.Size([10, 3, 4096]) torch.Size([10, 32])\n",
      "2067 torch.Size([10, 1024]) torch.Size([10, 3, 4096]) torch.Size([10, 32])\n",
      "2068 torch.Size([10, 1024]) torch.Size([10, 3, 4096]) torch.Size([10, 32])\n",
      "2069 torch.Size([10, 1024]) torch.Size([10, 3, 4096]) torch.Size([10, 32])\n",
      "2070 torch.Size([10, 1024]) torch.Size([10, 3, 4096]) torch.Size([10, 32])\n",
      "2071 torch.Size([10, 1024]) torch.Size([10, 3, 4096]) torch.Size([10, 32])\n",
      "2072 torch.Size([10, 1024]) torch.Size([10, 3, 4096]) torch.Size([10, 32])\n",
      "2073 torch.Size([10, 1024]) torch.Size([10, 3, 4096]) torch.Size([10, 32])\n",
      "2074 torch.Size([10, 1024]) torch.Size([10, 3, 4096]) torch.Size([10, 32])\n",
      "2075 torch.Size([10, 1024]) torch.Size([10, 3, 4096]) torch.Size([10, 32])\n",
      "2076 torch.Size([10, 1024]) torch.Size([10, 3, 4096]) torch.Size([10, 32])\n",
      "2077 torch.Size([10, 1024]) torch.Size([10, 3, 4096]) torch.Size([10, 32])\n",
      "2078 torch.Size([10, 1024]) torch.Size([10, 3, 4096]) torch.Size([10, 32])\n",
      "2079 torch.Size([10, 1024]) torch.Size([10, 3, 4096]) torch.Size([10, 32])\n",
      "2080 torch.Size([10, 1024]) torch.Size([10, 3, 4096]) torch.Size([10, 32])\n",
      "2081 torch.Size([10, 1024]) torch.Size([10, 3, 4096]) torch.Size([10, 32])\n",
      "2082 torch.Size([10, 1024]) torch.Size([10, 3, 4096]) torch.Size([10, 32])\n",
      "2083 torch.Size([10, 1024]) torch.Size([10, 3, 4096]) torch.Size([10, 32])\n",
      "2084 torch.Size([10, 1024]) torch.Size([10, 3, 4096]) torch.Size([10, 32])\n",
      "2085 torch.Size([10, 1024]) torch.Size([10, 3, 4096]) torch.Size([10, 32])\n",
      "2086 torch.Size([10, 1024]) torch.Size([10, 3, 4096]) torch.Size([10, 32])\n",
      "2087 torch.Size([10, 1024]) torch.Size([10, 3, 4096]) torch.Size([10, 32])\n",
      "2088 torch.Size([10, 1024]) torch.Size([10, 3, 4096]) torch.Size([10, 32])\n",
      "2089 torch.Size([10, 1024]) torch.Size([10, 3, 4096]) torch.Size([10, 32])\n",
      "2090 torch.Size([10, 1024]) torch.Size([10, 3, 4096]) torch.Size([10, 32])\n",
      "2091 torch.Size([10, 1024]) torch.Size([10, 3, 4096]) torch.Size([10, 32])\n",
      "2092 torch.Size([10, 1024]) torch.Size([10, 3, 4096]) torch.Size([10, 32])\n",
      "2093 torch.Size([10, 1024]) torch.Size([10, 3, 4096]) torch.Size([10, 32])\n",
      "2094 torch.Size([10, 1024]) torch.Size([10, 3, 4096]) torch.Size([10, 32])\n",
      "2095 torch.Size([10, 1024]) torch.Size([10, 3, 4096]) torch.Size([10, 32])\n",
      "2096 torch.Size([10, 1024]) torch.Size([10, 3, 4096]) torch.Size([10, 32])\n",
      "2097 torch.Size([10, 1024]) torch.Size([10, 3, 4096]) torch.Size([10, 32])\n",
      "2098 torch.Size([10, 1024]) torch.Size([10, 3, 4096]) torch.Size([10, 32])\n",
      "2099 torch.Size([10, 1024]) torch.Size([10, 3, 4096]) torch.Size([10, 32])\n",
      "2100 torch.Size([10, 1024]) torch.Size([10, 3, 4096]) torch.Size([10, 32])\n",
      "2101 torch.Size([10, 1024]) torch.Size([10, 3, 4096]) torch.Size([10, 32])\n",
      "2102 torch.Size([10, 1024]) torch.Size([10, 3, 4096]) torch.Size([10, 32])\n",
      "2103 torch.Size([10, 1024]) torch.Size([10, 3, 4096]) torch.Size([10, 32])\n",
      "2104 torch.Size([10, 1024]) torch.Size([10, 3, 4096]) torch.Size([10, 32])\n",
      "2105 torch.Size([10, 1024]) torch.Size([10, 3, 4096]) torch.Size([10, 32])\n",
      "2106 torch.Size([10, 1024]) torch.Size([10, 3, 4096]) torch.Size([10, 32])\n",
      "2107 torch.Size([10, 1024]) torch.Size([10, 3, 4096]) torch.Size([10, 32])\n",
      "2108 torch.Size([10, 1024]) torch.Size([10, 3, 4096]) torch.Size([10, 32])\n",
      "2109 torch.Size([10, 1024]) torch.Size([10, 3, 4096]) torch.Size([10, 32])\n",
      "2110 torch.Size([10, 1024]) torch.Size([10, 3, 4096]) torch.Size([10, 32])\n",
      "2111 torch.Size([10, 1024]) torch.Size([10, 3, 4096]) torch.Size([10, 32])\n",
      "2112 torch.Size([10, 1024]) torch.Size([10, 3, 4096]) torch.Size([10, 32])\n",
      "2113 torch.Size([10, 1024]) torch.Size([10, 3, 4096]) torch.Size([10, 32])\n",
      "2114 torch.Size([10, 1024]) torch.Size([10, 3, 4096]) torch.Size([10, 32])\n",
      "2115 torch.Size([10, 1024]) torch.Size([10, 3, 4096]) torch.Size([10, 32])\n",
      "2116 torch.Size([10, 1024]) torch.Size([10, 3, 4096]) torch.Size([10, 32])\n",
      "2117 torch.Size([10, 1024]) torch.Size([10, 3, 4096]) torch.Size([10, 32])\n",
      "2118 torch.Size([10, 1024]) torch.Size([10, 3, 4096]) torch.Size([10, 32])\n",
      "2119 torch.Size([10, 1024]) torch.Size([10, 3, 4096]) torch.Size([10, 32])\n",
      "2120 torch.Size([10, 1024]) torch.Size([10, 3, 4096]) torch.Size([10, 32])\n",
      "2121 torch.Size([10, 1024]) torch.Size([10, 3, 4096]) torch.Size([10, 32])\n",
      "2122 torch.Size([10, 1024]) torch.Size([10, 3, 4096]) torch.Size([10, 32])\n",
      "2123 torch.Size([10, 1024]) torch.Size([10, 3, 4096]) torch.Size([10, 32])\n",
      "2124 torch.Size([10, 1024]) torch.Size([10, 3, 4096]) torch.Size([10, 32])\n",
      "2125 torch.Size([10, 1024]) torch.Size([10, 3, 4096]) torch.Size([10, 32])\n",
      "2126 torch.Size([10, 1024]) torch.Size([10, 3, 4096]) torch.Size([10, 32])\n",
      "2127 torch.Size([10, 1024]) torch.Size([10, 3, 4096]) torch.Size([10, 32])\n",
      "2128 torch.Size([10, 1024]) torch.Size([10, 3, 4096]) torch.Size([10, 32])\n",
      "2129 torch.Size([10, 1024]) torch.Size([10, 3, 4096]) torch.Size([10, 32])\n",
      "2130 torch.Size([10, 1024]) torch.Size([10, 3, 4096]) torch.Size([10, 32])\n",
      "2131 torch.Size([10, 1024]) torch.Size([10, 3, 4096]) torch.Size([10, 32])\n",
      "2132 torch.Size([10, 1024]) torch.Size([10, 3, 4096]) torch.Size([10, 32])\n",
      "2133 torch.Size([10, 1024]) torch.Size([10, 3, 4096]) torch.Size([10, 32])\n",
      "2134 torch.Size([10, 1024]) torch.Size([10, 3, 4096]) torch.Size([10, 32])\n",
      "2135 torch.Size([10, 1024]) torch.Size([10, 3, 4096]) torch.Size([10, 32])\n",
      "2136 torch.Size([10, 1024]) torch.Size([10, 3, 4096]) torch.Size([10, 32])\n",
      "2137 torch.Size([10, 1024]) torch.Size([10, 3, 4096]) torch.Size([10, 32])\n",
      "2138 torch.Size([10, 1024]) torch.Size([10, 3, 4096]) torch.Size([10, 32])\n",
      "2139 torch.Size([10, 1024]) torch.Size([10, 3, 4096]) torch.Size([10, 32])\n",
      "2140 torch.Size([10, 1024]) torch.Size([10, 3, 4096]) torch.Size([10, 32])\n"
     ]
    },
    {
     "name": "stdout",
     "output_type": "stream",
     "text": [
      "2141 torch.Size([10, 1024]) torch.Size([10, 3, 4096]) torch.Size([10, 32])\n",
      "2142 torch.Size([10, 1024]) torch.Size([10, 3, 4096]) torch.Size([10, 32])\n",
      "2143 torch.Size([10, 1024]) torch.Size([10, 3, 4096]) torch.Size([10, 32])\n",
      "2144 torch.Size([10, 1024]) torch.Size([10, 3, 4096]) torch.Size([10, 32])\n",
      "2145 torch.Size([10, 1024]) torch.Size([10, 3, 4096]) torch.Size([10, 32])\n",
      "2146 torch.Size([10, 1024]) torch.Size([10, 3, 4096]) torch.Size([10, 32])\n",
      "2147 torch.Size([10, 1024]) torch.Size([10, 3, 4096]) torch.Size([10, 32])\n",
      "2148 torch.Size([10, 1024]) torch.Size([10, 3, 4096]) torch.Size([10, 32])\n",
      "2149 torch.Size([10, 1024]) torch.Size([10, 3, 4096]) torch.Size([10, 32])\n",
      "2150 torch.Size([10, 1024]) torch.Size([10, 3, 4096]) torch.Size([10, 32])\n",
      "2151 torch.Size([10, 1024]) torch.Size([10, 3, 4096]) torch.Size([10, 32])\n",
      "2152 torch.Size([10, 1024]) torch.Size([10, 3, 4096]) torch.Size([10, 32])\n",
      "2153 torch.Size([10, 1024]) torch.Size([10, 3, 4096]) torch.Size([10, 32])\n",
      "2154 torch.Size([10, 1024]) torch.Size([10, 3, 4096]) torch.Size([10, 32])\n",
      "2155 torch.Size([10, 1024]) torch.Size([10, 3, 4096]) torch.Size([10, 32])\n",
      "2156 torch.Size([10, 1024]) torch.Size([10, 3, 4096]) torch.Size([10, 32])\n",
      "2157 torch.Size([10, 1024]) torch.Size([10, 3, 4096]) torch.Size([10, 32])\n",
      "2158 torch.Size([10, 1024]) torch.Size([10, 3, 4096]) torch.Size([10, 32])\n",
      "2159 torch.Size([10, 1024]) torch.Size([10, 3, 4096]) torch.Size([10, 32])\n",
      "2160 torch.Size([10, 1024]) torch.Size([10, 3, 4096]) torch.Size([10, 32])\n",
      "2161 torch.Size([10, 1024]) torch.Size([10, 3, 4096]) torch.Size([10, 32])\n",
      "2162 torch.Size([10, 1024]) torch.Size([10, 3, 4096]) torch.Size([10, 32])\n",
      "2163 torch.Size([10, 1024]) torch.Size([10, 3, 4096]) torch.Size([10, 32])\n",
      "2164 torch.Size([10, 1024]) torch.Size([10, 3, 4096]) torch.Size([10, 32])\n",
      "2165 torch.Size([10, 1024]) torch.Size([10, 3, 4096]) torch.Size([10, 32])\n",
      "2166 torch.Size([10, 1024]) torch.Size([10, 3, 4096]) torch.Size([10, 32])\n",
      "2167 torch.Size([10, 1024]) torch.Size([10, 3, 4096]) torch.Size([10, 32])\n",
      "2168 torch.Size([10, 1024]) torch.Size([10, 3, 4096]) torch.Size([10, 32])\n",
      "2169 torch.Size([10, 1024]) torch.Size([10, 3, 4096]) torch.Size([10, 32])\n",
      "2170 torch.Size([10, 1024]) torch.Size([10, 3, 4096]) torch.Size([10, 32])\n",
      "2171 torch.Size([10, 1024]) torch.Size([10, 3, 4096]) torch.Size([10, 32])\n",
      "2172 torch.Size([10, 1024]) torch.Size([10, 3, 4096]) torch.Size([10, 32])\n",
      "2173 torch.Size([10, 1024]) torch.Size([10, 3, 4096]) torch.Size([10, 32])\n",
      "2174 torch.Size([10, 1024]) torch.Size([10, 3, 4096]) torch.Size([10, 32])\n",
      "2175 torch.Size([10, 1024]) torch.Size([10, 3, 4096]) torch.Size([10, 32])\n",
      "2176 torch.Size([10, 1024]) torch.Size([10, 3, 4096]) torch.Size([10, 32])\n",
      "2177 torch.Size([10, 1024]) torch.Size([10, 3, 4096]) torch.Size([10, 32])\n",
      "2178 torch.Size([10, 1024]) torch.Size([10, 3, 4096]) torch.Size([10, 32])\n",
      "2179 torch.Size([10, 1024]) torch.Size([10, 3, 4096]) torch.Size([10, 32])\n",
      "2180 torch.Size([10, 1024]) torch.Size([10, 3, 4096]) torch.Size([10, 32])\n",
      "2181 torch.Size([10, 1024]) torch.Size([10, 3, 4096]) torch.Size([10, 32])\n",
      "2182 torch.Size([10, 1024]) torch.Size([10, 3, 4096]) torch.Size([10, 32])\n",
      "2183 torch.Size([10, 1024]) torch.Size([10, 3, 4096]) torch.Size([10, 32])\n",
      "2184 torch.Size([10, 1024]) torch.Size([10, 3, 4096]) torch.Size([10, 32])\n",
      "2185 torch.Size([10, 1024]) torch.Size([10, 3, 4096]) torch.Size([10, 32])\n",
      "2186 torch.Size([10, 1024]) torch.Size([10, 3, 4096]) torch.Size([10, 32])\n",
      "2187 torch.Size([10, 1024]) torch.Size([10, 3, 4096]) torch.Size([10, 32])\n",
      "2188 torch.Size([10, 1024]) torch.Size([10, 3, 4096]) torch.Size([10, 32])\n",
      "2189 torch.Size([10, 1024]) torch.Size([10, 3, 4096]) torch.Size([10, 32])\n",
      "2190 torch.Size([10, 1024]) torch.Size([10, 3, 4096]) torch.Size([10, 32])\n",
      "2191 torch.Size([10, 1024]) torch.Size([10, 3, 4096]) torch.Size([10, 32])\n",
      "2192 torch.Size([10, 1024]) torch.Size([10, 3, 4096]) torch.Size([10, 32])\n",
      "2193 torch.Size([10, 1024]) torch.Size([10, 3, 4096]) torch.Size([10, 32])\n",
      "2194 torch.Size([10, 1024]) torch.Size([10, 3, 4096]) torch.Size([10, 32])\n",
      "2195 torch.Size([10, 1024]) torch.Size([10, 3, 4096]) torch.Size([10, 32])\n",
      "2196 torch.Size([10, 1024]) torch.Size([10, 3, 4096]) torch.Size([10, 32])\n",
      "2197 torch.Size([10, 1024]) torch.Size([10, 3, 4096]) torch.Size([10, 32])\n",
      "2198 torch.Size([10, 1024]) torch.Size([10, 3, 4096]) torch.Size([10, 32])\n",
      "2199 torch.Size([10, 1024]) torch.Size([10, 3, 4096]) torch.Size([10, 32])\n",
      "2200 torch.Size([10, 1024]) torch.Size([10, 3, 4096]) torch.Size([10, 32])\n",
      "2201 torch.Size([10, 1024]) torch.Size([10, 3, 4096]) torch.Size([10, 32])\n",
      "2202 torch.Size([10, 1024]) torch.Size([10, 3, 4096]) torch.Size([10, 32])\n",
      "2203 torch.Size([10, 1024]) torch.Size([10, 3, 4096]) torch.Size([10, 32])\n",
      "2204 torch.Size([10, 1024]) torch.Size([10, 3, 4096]) torch.Size([10, 32])\n",
      "2205 torch.Size([10, 1024]) torch.Size([10, 3, 4096]) torch.Size([10, 32])\n",
      "2206 torch.Size([10, 1024]) torch.Size([10, 3, 4096]) torch.Size([10, 32])\n",
      "2207 torch.Size([10, 1024]) torch.Size([10, 3, 4096]) torch.Size([10, 32])\n",
      "2208 torch.Size([10, 1024]) torch.Size([10, 3, 4096]) torch.Size([10, 32])\n",
      "2209 torch.Size([10, 1024]) torch.Size([10, 3, 4096]) torch.Size([10, 32])\n",
      "2210 torch.Size([10, 1024]) torch.Size([10, 3, 4096]) torch.Size([10, 32])\n",
      "2211 torch.Size([10, 1024]) torch.Size([10, 3, 4096]) torch.Size([10, 32])\n",
      "2212 torch.Size([10, 1024]) torch.Size([10, 3, 4096]) torch.Size([10, 32])\n",
      "2213 torch.Size([10, 1024]) torch.Size([10, 3, 4096]) torch.Size([10, 32])\n",
      "2214 torch.Size([10, 1024]) torch.Size([10, 3, 4096]) torch.Size([10, 32])\n",
      "2215 torch.Size([10, 1024]) torch.Size([10, 3, 4096]) torch.Size([10, 32])\n",
      "2216 torch.Size([10, 1024]) torch.Size([10, 3, 4096]) torch.Size([10, 32])\n",
      "2217 torch.Size([10, 1024]) torch.Size([10, 3, 4096]) torch.Size([10, 32])\n",
      "2218 torch.Size([10, 1024]) torch.Size([10, 3, 4096]) torch.Size([10, 32])\n",
      "2219 torch.Size([10, 1024]) torch.Size([10, 3, 4096]) torch.Size([10, 32])\n",
      "2220 torch.Size([10, 1024]) torch.Size([10, 3, 4096]) torch.Size([10, 32])\n",
      "2221 torch.Size([10, 1024]) torch.Size([10, 3, 4096]) torch.Size([10, 32])\n",
      "2222 torch.Size([10, 1024]) torch.Size([10, 3, 4096]) torch.Size([10, 32])\n",
      "2223 torch.Size([10, 1024]) torch.Size([10, 3, 4096]) torch.Size([10, 32])\n",
      "2224 torch.Size([10, 1024]) torch.Size([10, 3, 4096]) torch.Size([10, 32])\n",
      "2225 torch.Size([10, 1024]) torch.Size([10, 3, 4096]) torch.Size([10, 32])\n",
      "2226 torch.Size([10, 1024]) torch.Size([10, 3, 4096]) torch.Size([10, 32])\n",
      "2227 torch.Size([10, 1024]) torch.Size([10, 3, 4096]) torch.Size([10, 32])\n",
      "2228 torch.Size([10, 1024]) torch.Size([10, 3, 4096]) torch.Size([10, 32])\n",
      "2229 torch.Size([10, 1024]) torch.Size([10, 3, 4096]) torch.Size([10, 32])\n",
      "2230 torch.Size([10, 1024]) torch.Size([10, 3, 4096]) torch.Size([10, 32])\n",
      "2231 torch.Size([10, 1024]) torch.Size([10, 3, 4096]) torch.Size([10, 32])\n",
      "2232 torch.Size([10, 1024]) torch.Size([10, 3, 4096]) torch.Size([10, 32])\n",
      "2233 torch.Size([10, 1024]) torch.Size([10, 3, 4096]) torch.Size([10, 32])\n",
      "2234 torch.Size([10, 1024]) torch.Size([10, 3, 4096]) torch.Size([10, 32])\n",
      "2235 torch.Size([10, 1024]) torch.Size([10, 3, 4096]) torch.Size([10, 32])\n",
      "2236 torch.Size([10, 1024]) torch.Size([10, 3, 4096]) torch.Size([10, 32])\n",
      "2237 torch.Size([10, 1024]) torch.Size([10, 3, 4096]) torch.Size([10, 32])\n",
      "2238 torch.Size([10, 1024]) torch.Size([10, 3, 4096]) torch.Size([10, 32])\n",
      "2239 torch.Size([10, 1024]) torch.Size([10, 3, 4096]) torch.Size([10, 32])\n",
      "2240 torch.Size([10, 1024]) torch.Size([10, 3, 4096]) torch.Size([10, 32])\n",
      "2241 torch.Size([10, 1024]) torch.Size([10, 3, 4096]) torch.Size([10, 32])\n",
      "2242 torch.Size([10, 1024]) torch.Size([10, 3, 4096]) torch.Size([10, 32])\n",
      "2243 torch.Size([10, 1024]) torch.Size([10, 3, 4096]) torch.Size([10, 32])\n",
      "2244 torch.Size([10, 1024]) torch.Size([10, 3, 4096]) torch.Size([10, 32])\n",
      "2245 torch.Size([10, 1024]) torch.Size([10, 3, 4096]) torch.Size([10, 32])\n",
      "2246 torch.Size([10, 1024]) torch.Size([10, 3, 4096]) torch.Size([10, 32])\n",
      "2247 torch.Size([10, 1024]) torch.Size([10, 3, 4096]) torch.Size([10, 32])\n",
      "2248 torch.Size([10, 1024]) torch.Size([10, 3, 4096]) torch.Size([10, 32])\n",
      "2249 torch.Size([10, 1024]) torch.Size([10, 3, 4096]) torch.Size([10, 32])\n",
      "2250 torch.Size([10, 1024]) torch.Size([10, 3, 4096]) torch.Size([10, 32])\n",
      "2251 torch.Size([10, 1024]) torch.Size([10, 3, 4096]) torch.Size([10, 32])\n",
      "2252 torch.Size([10, 1024]) torch.Size([10, 3, 4096]) torch.Size([10, 32])\n",
      "2253 torch.Size([10, 1024]) torch.Size([10, 3, 4096]) torch.Size([10, 32])\n",
      "2254 torch.Size([10, 1024]) torch.Size([10, 3, 4096]) torch.Size([10, 32])\n",
      "2255 torch.Size([10, 1024]) torch.Size([10, 3, 4096]) torch.Size([10, 32])\n"
     ]
    },
    {
     "name": "stdout",
     "output_type": "stream",
     "text": [
      "2256 torch.Size([10, 1024]) torch.Size([10, 3, 4096]) torch.Size([10, 32])\n",
      "2257 torch.Size([10, 1024]) torch.Size([10, 3, 4096]) torch.Size([10, 32])\n",
      "2258 torch.Size([10, 1024]) torch.Size([10, 3, 4096]) torch.Size([10, 32])\n",
      "2259 torch.Size([10, 1024]) torch.Size([10, 3, 4096]) torch.Size([10, 32])\n",
      "2260 torch.Size([10, 1024]) torch.Size([10, 3, 4096]) torch.Size([10, 32])\n",
      "2261 torch.Size([10, 1024]) torch.Size([10, 3, 4096]) torch.Size([10, 32])\n",
      "2262 torch.Size([10, 1024]) torch.Size([10, 3, 4096]) torch.Size([10, 32])\n",
      "2263 torch.Size([10, 1024]) torch.Size([10, 3, 4096]) torch.Size([10, 32])\n",
      "2264 torch.Size([10, 1024]) torch.Size([10, 3, 4096]) torch.Size([10, 32])\n",
      "2265 torch.Size([10, 1024]) torch.Size([10, 3, 4096]) torch.Size([10, 32])\n",
      "2266 torch.Size([10, 1024]) torch.Size([10, 3, 4096]) torch.Size([10, 32])\n",
      "2267 torch.Size([10, 1024]) torch.Size([10, 3, 4096]) torch.Size([10, 32])\n",
      "2268 torch.Size([10, 1024]) torch.Size([10, 3, 4096]) torch.Size([10, 32])\n",
      "2269 torch.Size([10, 1024]) torch.Size([10, 3, 4096]) torch.Size([10, 32])\n",
      "2270 torch.Size([10, 1024]) torch.Size([10, 3, 4096]) torch.Size([10, 32])\n",
      "2271 torch.Size([10, 1024]) torch.Size([10, 3, 4096]) torch.Size([10, 32])\n",
      "2272 torch.Size([10, 1024]) torch.Size([10, 3, 4096]) torch.Size([10, 32])\n",
      "2273 torch.Size([10, 1024]) torch.Size([10, 3, 4096]) torch.Size([10, 32])\n",
      "2274 torch.Size([10, 1024]) torch.Size([10, 3, 4096]) torch.Size([10, 32])\n",
      "2275 torch.Size([10, 1024]) torch.Size([10, 3, 4096]) torch.Size([10, 32])\n",
      "2276 torch.Size([10, 1024]) torch.Size([10, 3, 4096]) torch.Size([10, 32])\n",
      "2277 torch.Size([10, 1024]) torch.Size([10, 3, 4096]) torch.Size([10, 32])\n",
      "2278 torch.Size([10, 1024]) torch.Size([10, 3, 4096]) torch.Size([10, 32])\n",
      "2279 torch.Size([10, 1024]) torch.Size([10, 3, 4096]) torch.Size([10, 32])\n",
      "2280 torch.Size([10, 1024]) torch.Size([10, 3, 4096]) torch.Size([10, 32])\n",
      "2281 torch.Size([10, 1024]) torch.Size([10, 3, 4096]) torch.Size([10, 32])\n",
      "2282 torch.Size([10, 1024]) torch.Size([10, 3, 4096]) torch.Size([10, 32])\n",
      "2283 torch.Size([10, 1024]) torch.Size([10, 3, 4096]) torch.Size([10, 32])\n",
      "2284 torch.Size([10, 1024]) torch.Size([10, 3, 4096]) torch.Size([10, 32])\n",
      "2285 torch.Size([10, 1024]) torch.Size([10, 3, 4096]) torch.Size([10, 32])\n",
      "2286 torch.Size([10, 1024]) torch.Size([10, 3, 4096]) torch.Size([10, 32])\n",
      "2287 torch.Size([10, 1024]) torch.Size([10, 3, 4096]) torch.Size([10, 32])\n",
      "2288 torch.Size([10, 1024]) torch.Size([10, 3, 4096]) torch.Size([10, 32])\n",
      "2289 torch.Size([10, 1024]) torch.Size([10, 3, 4096]) torch.Size([10, 32])\n",
      "2290 torch.Size([10, 1024]) torch.Size([10, 3, 4096]) torch.Size([10, 32])\n",
      "2291 torch.Size([10, 1024]) torch.Size([10, 3, 4096]) torch.Size([10, 32])\n",
      "2292 torch.Size([10, 1024]) torch.Size([10, 3, 4096]) torch.Size([10, 32])\n",
      "2293 torch.Size([10, 1024]) torch.Size([10, 3, 4096]) torch.Size([10, 32])\n",
      "2294 torch.Size([10, 1024]) torch.Size([10, 3, 4096]) torch.Size([10, 32])\n",
      "2295 torch.Size([10, 1024]) torch.Size([10, 3, 4096]) torch.Size([10, 32])\n",
      "2296 torch.Size([8, 1024]) torch.Size([8, 3, 4096]) torch.Size([8, 32])\n"
     ]
    }
   ],
   "source": [
    "modelid_list = []\n",
    "fea_list = []\n",
    "label_list = []\n",
    "with torch.no_grad():\n",
    "    for i, data in enumerate(train_loader):\n",
    "        pc, id_str = data\n",
    "        fea, pred = model(pc.cuda())\n",
    "        label = torch.argmax(pred, 1)\n",
    "        print(i, fea.shape, pc.shape,pred.shape)\n",
    "        fea_list.append(fea.detach().cpu().numpy())\n",
    "        modelid_list.append(id_str)\n",
    "        label_list.append(label.detach().cpu().numpy())\n"
   ]
  },
  {
   "cell_type": "code",
   "execution_count": 64,
   "metadata": {},
   "outputs": [],
   "source": [
    "import numpy as np"
   ]
  },
  {
   "cell_type": "code",
   "execution_count": 65,
   "metadata": {},
   "outputs": [],
   "source": [
    "modelid_list2 = []\n",
    "for i in range(len(modelid_list)):\n",
    "    modelid_list2 += modelid_list[i]"
   ]
  },
  {
   "cell_type": "code",
   "execution_count": 66,
   "metadata": {},
   "outputs": [
    {
     "name": "stdout",
     "output_type": "stream",
     "text": [
      "2297\n",
      "(22968, 1024)\n"
     ]
    }
   ],
   "source": [
    "print(len(fea_list))\n",
    "fea_list2 = np.concatenate(fea_list,0)\n",
    "print(fea_list2.shape)"
   ]
  },
  {
   "cell_type": "code",
   "execution_count": 67,
   "metadata": {},
   "outputs": [],
   "source": [
    "np.save(\"latent_space_iic_K32\", fea_list2)"
   ]
  },
  {
   "cell_type": "code",
   "execution_count": 68,
   "metadata": {},
   "outputs": [],
   "source": [
    "label_list2 = np.concatenate((label_list),0)"
   ]
  },
  {
   "cell_type": "code",
   "execution_count": 69,
   "metadata": {},
   "outputs": [
    {
     "data": {
      "text/plain": [
       "array([ 0,  1,  2,  3,  4,  5,  6,  7,  8,  9, 10, 11, 13, 14, 15, 16, 17,\n",
       "       18, 19, 20, 21, 22, 23, 24, 25, 26, 27, 28, 29, 30, 31])"
      ]
     },
     "execution_count": 69,
     "metadata": {},
     "output_type": "execute_result"
    }
   ],
   "source": [
    "np.unique(label_list2)"
   ]
  },
  {
   "cell_type": "code",
   "execution_count": 70,
   "metadata": {},
   "outputs": [],
   "source": [
    "cluster_id_class_file = open(\"cluster_id_class_iic_pc_baseline_K32.txt\", 'w')\n",
    "\n",
    "for i in range(len(modelid_list2)):\n",
    "    cluster_id_class_file.write(modelid_list2[i]+\", \"+str(label_list2[i]))\n",
    "    cluster_id_class_file.write('\\n')\n",
    "cluster_id_class_file.close()"
   ]
  },
  {
   "cell_type": "code",
   "execution_count": null,
   "metadata": {},
   "outputs": [],
   "source": []
  }
 ],
 "metadata": {
  "kernelspec": {
   "display_name": "torch_wen",
   "language": "python",
   "name": "torch_wen"
  },
  "language_info": {
   "codemirror_mode": {
    "name": "ipython",
    "version": 3
   },
   "file_extension": ".py",
   "mimetype": "text/x-python",
   "name": "python",
   "nbconvert_exporter": "python",
   "pygments_lexer": "ipython3",
   "version": "3.8.5"
  }
 },
 "nbformat": 4,
 "nbformat_minor": 4
}
