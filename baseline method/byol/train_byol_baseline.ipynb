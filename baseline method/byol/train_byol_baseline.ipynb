{
 "cells": [
  {
   "cell_type": "code",
   "execution_count": 1,
   "metadata": {},
   "outputs": [],
   "source": [
    "import os\n",
    "os.environ[\"CUDA_VISIBLE_DEVICES\"] = '2'\n",
    "\n",
    "import torch\n",
    "from byol_pytorch import BYOL\n",
    "from torch.utils.data import DataLoader, Dataset\n",
    "from torch import nn\n",
    "import glob\n",
    "import torch.nn.functional as F\n",
    "import provider   \n",
    "import argparse\n",
    "import os\n",
    "from tqdm import tqdm\n",
    "\n",
    "from tensorboardX import SummaryWriter"
   ]
  },
  {
   "cell_type": "code",
   "execution_count": 2,
   "metadata": {},
   "outputs": [],
   "source": [
    "parser = argparse.ArgumentParser(description='byol-pointnet_baseline')\n",
    "# parser.add_argument('--image_folder', type=str, required = True, help='path to your folder of images for self-supervised learning')\n",
    "parser.add_argument('--train_dir', default=\"/data2/ABC2/data_raw_clustering/pc_correct_num\", required=False, help='Training data root.')\n",
    "parser.add_argument('--csv_dir', default=\"/data2/ABC2/GT-final.csv\", required=False, help='GT label data root.')\n",
    "parser.add_argument('--taskType', type=str, default='Clustering', help='Type of task.')\n",
    "parser.add_argument('--batchSize', type=int, default=10, help='input batch size')\n",
    "parser.add_argument('--workers', type=int, help='number of data loading workers', default=12)\n",
    "args = parser.parse_args([])"
   ]
  },
  {
   "cell_type": "code",
   "execution_count": 3,
   "metadata": {},
   "outputs": [],
   "source": [
    "class ABC2Dataset_pc(Dataset):\n",
    "    \"\"\"ABC2Dataset\"\"\"\n",
    "\n",
    "    def __init__(self, csv_file, root_dir, task_type, transform=None):\n",
    "        \"\"\"\n",
    "        Args:\n",
    "            csv_file (string): Path to the csv file with ground truth.\n",
    "            root_dir (string): Directory with all the model files.\n",
    "            task_type (string): Task type.\n",
    "        \"\"\"\n",
    "\n",
    "        # self.ground_truth_file = pd.read_csv(csv_file, header=0)\n",
    "        self.model_id = glob.glob(os.path.join(root_dir, '*'))\n",
    "        self.root_dir = root_dir\n",
    "        self.task_type = task_type\n",
    "        # print(\"model_id:\", len(self.model_id))\n",
    "\n",
    "    def __len__(self):\n",
    "        return len(self.model_id)\n",
    "\n",
    "    def __getitem__(self, idx):\n",
    "\n",
    "        \"Clustering\"\n",
    "        if self.task_type == \"Clustering\":\n",
    "            model_ID = self.model_id[idx].split('/')[-1]\n",
    "  \n",
    "            obj_path = glob.glob(os.path.join(self.model_id[idx], '*.pt'))\n",
    "            point_cloud_normalized = torch.load(obj_path[0])\n",
    "            
    "\n",
    "            point_cloud_normalized = point_cloud_normalized.unsqueeze(0)\n",
    "            
    "            pc1 = provider.random_point_dropout(point_cloud_normalized)\n",
    "            pc1 = provider.random_scale_point_cloud(pc1)\n",
    "            pc1 = provider.shift_point_cloud(pc1)\n",
    "       \n",
    "            pc2 = provider.random_point_dropout(point_cloud_normalized)\n",
    "            pc2 = provider.random_scale_point_cloud(pc2)\n",
    "            pc2 = provider.shift_point_cloud(pc2)\n",
    "\n",
    "            return pc1.squeeze(0).transpose(0,1), pc2.squeeze(0).transpose(0,1)\n",
    "        \n",
    "class ABC2Dataset_pc_test(Dataset):\n",
    "    \"\"\"ABC2Dataset\"\"\"\n",
    "\n",
    "    def __init__(self, csv_file, root_dir, task_type, transform=None):\n",
    "        \"\"\"\n",
    "        Args:\n",
    "            csv_file (string): Path to the csv file with ground truth.\n",
    "            root_dir (string): Directory with all the model files.\n",
    "            task_type (string): Task type.\n",
    "        \"\"\"\n",
    "\n",
    "        # self.ground_truth_file = pd.read_csv(csv_file, header=0)\n",
    "        self.model_id = glob.glob(os.path.join(root_dir, '*'))\n",
    "        self.root_dir = root_dir\n",
    "        self.task_type = task_type\n",
    "        # print(\"model_id:\", len(self.model_id))\n",
    "\n",
    "    def __len__(self):\n",
    "        return len(self.model_id)\n",
    "\n",
    "    def __getitem__(self, idx):\n",
    "\n",
    "        \"Clustering\"\n",
    "        if self.task_type == \"Clustering\":\n",
    "            model_ID = self.model_id[idx].split('/')[-1]\n",
    "  \n",
    "            obj_path = glob.glob(os.path.join(self.model_id[idx], '*.pt'))\n",
    "            point_cloud_normalized = torch.load(obj_path[0])\n",
    "            
    "\n",
    "            return point_cloud_normalized.transpose(0,1), model_ID"
   ]
  },
  {
   "cell_type": "code",
   "execution_count": 4,
   "metadata": {},
   "outputs": [],
   "source": [
    "class PointNetEncoder(nn.Module):\n",
    "    def __init__(self, global_feat=True, channel=3):\n",
    "        super(PointNetEncoder, self).__init__()\n",
    "        self.conv1 = torch.nn.Conv1d(channel, 64, 1)\n",
    "        self.conv2 = torch.nn.Conv1d(64, 128, 1)\n",
    "        self.conv3 = torch.nn.Conv1d(128, 1024, 1)\n",
    "        self.bn1 = nn.BatchNorm1d(64)\n",
    "        self.bn2 = nn.BatchNorm1d(128)\n",
    "        self.bn3 = nn.BatchNorm1d(1024)\n",
    "\n",
    "    def forward(self, x):\n",
    "        B, D, N = x.size()\n",
    "        x = F.relu(self.bn1(self.conv1(x)))\n",
    "        x = F.relu(self.bn2(self.conv2(x)))\n",
    "        x = self.bn3(self.conv3(x))\n",
    "        x = torch.max(x, 2, keepdim=True)[0]\n",
    "        x = x.view(-1, 1024)\n",
    "\n",
    "        return x\n",
    "        \n",
    "\n",
    "class pointnet_cls(nn.Module):\n",
    "    def __init__(self, k=40, normal_channel=False):\n",
    "        super(pointnet_cls, self).__init__()\n",
    "        if normal_channel:\n",
    "            channel = 6\n",
    "        else:\n",
    "            channel = 3\n",
    "        self.feat = PointNetEncoder(global_feat=True, channel=channel)\n",
    "        self.fc1 = nn.Linear(1024, 512)\n",
    "        self.fc2 = nn.Linear(512, 256)\n",
    "#         self.fc3 = nn.Linear(256, k)\n",
    "        self.dropout = nn.Dropout(p=0.4)\n",
    "        self.bn1 = nn.BatchNorm1d(512)\n",
    "        self.bn2 = nn.BatchNorm1d(256)\n",
    "        self.relu = nn.ReLU()\n",
    "\n",
    "    def forward(self, x):\n",
    "        x = self.feat(x)\n",
    "        x = F.relu(self.bn1(self.fc1(x)))\n",
    "        x = F.relu(self.bn2(self.dropout(self.fc2(x))))\n",
    "#         x = self.fc3(x)\n",
    "#         x = F.log_softmax(x, dim=1)\n",
    "        return x"
   ]
  },
  {
   "cell_type": "code",
   "execution_count": 5,
   "metadata": {},
   "outputs": [],
   "source": [
    "train_data = ABC2Dataset_pc(args.csv_dir, args.train_dir, args.taskType)\n",
    "train_loader = DataLoader(train_data, batch_size=args.batchSize, num_workers=args.workers, shuffle=True)"
   ]
  },
  {
   "cell_type": "code",
   "execution_count": 6,
   "metadata": {},
   "outputs": [],
   "source": [
    "pointnet = pointnet_cls()\n",
    "\n",
    "learner = BYOL(\n",
    "    pointnet,\n",
    "    pc_num = 4096,\n",
    "    hidden_layer = \"bn2\",\n",
    "    projection_size = 256,\n",
    "    projection_hidden_size = 4096,\n",
    "    moving_average_decay = 0.99\n",
    ")\n",
    "\n",
    "opt = torch.optim.Adam(learner.parameters(), lr=3e-4)\n",
    "\n",
    "\n",
    "device = torch.device('cuda') if torch.cuda.is_available() else torch.device('cpu')\n",
    "learner.to(device)\n",
    "learner = learner.train()\n",
    "\n",
    "writer = SummaryWriter('byol_pointnet_baseline')\n"
   ]
  },
  {
   "cell_type": "code",
   "execution_count": 7,
   "metadata": {
    "scrolled": true
   },
   "outputs": [
    {
     "name": "stderr",
     "output_type": "stream",
     "text": [
      "100%|██████████| 2297/2297 [02:03<00:00, 18.67it/s]\n"
     ]
    },
    {
     "name": "stdout",
     "output_type": "stream",
     "text": [
      "epoch, Training loss:  0 tensor(499.5639, device='cuda:0', grad_fn=<AddBackward0>)\n"
     ]
    },
    {
     "name": "stderr",
     "output_type": "stream",
     "text": [
      "100%|██████████| 2297/2297 [01:25<00:00, 26.92it/s]\n"
     ]
    },
    {
     "name": "stdout",
     "output_type": "stream",
     "text": [
      "epoch, Training loss:  1 tensor(301.2858, device='cuda:0', grad_fn=<AddBackward0>)\n"
     ]
    },
    {
     "name": "stderr",
     "output_type": "stream",
     "text": [
      "100%|██████████| 2297/2297 [01:26<00:00, 26.55it/s]\n"
     ]
    },
    {
     "name": "stdout",
     "output_type": "stream",
     "text": [
      "epoch, Training loss:  2 tensor(273.3408, device='cuda:0', grad_fn=<AddBackward0>)\n"
     ]
    },
    {
     "name": "stderr",
     "output_type": "stream",
     "text": [
      "100%|██████████| 2297/2297 [01:26<00:00, 26.42it/s]\n"
     ]
    },
    {
     "name": "stdout",
     "output_type": "stream",
     "text": [
      "epoch, Training loss:  3 tensor(258.3195, device='cuda:0', grad_fn=<AddBackward0>)\n"
     ]
    },
    {
     "name": "stderr",
     "output_type": "stream",
     "text": [
      "100%|██████████| 2297/2297 [01:27<00:00, 26.27it/s]\n"
     ]
    },
    {
     "name": "stdout",
     "output_type": "stream",
     "text": [
      "epoch, Training loss:  4 tensor(245.5815, device='cuda:0', grad_fn=<AddBackward0>)\n"
     ]
    },
    {
     "name": "stderr",
     "output_type": "stream",
     "text": [
      "100%|██████████| 2297/2297 [01:27<00:00, 26.22it/s]\n"
     ]
    },
    {
     "name": "stdout",
     "output_type": "stream",
     "text": [
      "epoch, Training loss:  5 tensor(234.6154, device='cuda:0', grad_fn=<AddBackward0>)\n"
     ]
    },
    {
     "name": "stderr",
     "output_type": "stream",
     "text": [
      "100%|██████████| 2297/2297 [01:27<00:00, 26.15it/s]\n"
     ]
    },
    {
     "name": "stdout",
     "output_type": "stream",
     "text": [
      "epoch, Training loss:  6 tensor(222.5246, device='cuda:0', grad_fn=<AddBackward0>)\n"
     ]
    },
    {
     "name": "stderr",
     "output_type": "stream",
     "text": [
      "100%|██████████| 2297/2297 [01:28<00:00, 25.87it/s]\n"
     ]
    },
    {
     "name": "stdout",
     "output_type": "stream",
     "text": [
      "epoch, Training loss:  7 tensor(208.6030, device='cuda:0', grad_fn=<AddBackward0>)\n"
     ]
    },
    {
     "name": "stderr",
     "output_type": "stream",
     "text": [
      "100%|██████████| 2297/2297 [01:30<00:00, 25.34it/s]\n"
     ]
    },
    {
     "name": "stdout",
     "output_type": "stream",
     "text": [
      "epoch, Training loss:  8 tensor(193.9873, device='cuda:0', grad_fn=<AddBackward0>)\n"
     ]
    },
    {
     "name": "stderr",
     "output_type": "stream",
     "text": [
      "100%|██████████| 2297/2297 [01:30<00:00, 25.31it/s]\n"
     ]
    },
    {
     "name": "stdout",
     "output_type": "stream",
     "text": [
      "epoch, Training loss:  9 tensor(175.0016, device='cuda:0', grad_fn=<AddBackward0>)\n"
     ]
    },
    {
     "name": "stderr",
     "output_type": "stream",
     "text": [
      "100%|██████████| 2297/2297 [01:31<00:00, 25.23it/s]\n"
     ]
    },
    {
     "name": "stdout",
     "output_type": "stream",
     "text": [
      "epoch, Training loss:  10 tensor(158.2500, device='cuda:0', grad_fn=<AddBackward0>)\n"
     ]
    },
    {
     "name": "stderr",
     "output_type": "stream",
     "text": [
      "100%|██████████| 2297/2297 [01:31<00:00, 25.22it/s]\n"
     ]
    },
    {
     "name": "stdout",
     "output_type": "stream",
     "text": [
      "epoch, Training loss:  11 tensor(146.9775, device='cuda:0', grad_fn=<AddBackward0>)\n"
     ]
    },
    {
     "name": "stderr",
     "output_type": "stream",
     "text": [
      "100%|██████████| 2297/2297 [01:31<00:00, 25.23it/s]\n"
     ]
    },
    {
     "name": "stdout",
     "output_type": "stream",
     "text": [
      "epoch, Training loss:  12 tensor(139.1409, device='cuda:0', grad_fn=<AddBackward0>)\n"
     ]
    },
    {
     "name": "stderr",
     "output_type": "stream",
     "text": [
      "100%|██████████| 2297/2297 [01:31<00:00, 25.22it/s]\n"
     ]
    },
    {
     "name": "stdout",
     "output_type": "stream",
     "text": [
      "epoch, Training loss:  13 tensor(132.7146, device='cuda:0', grad_fn=<AddBackward0>)\n"
     ]
    },
    {
     "name": "stderr",
     "output_type": "stream",
     "text": [
      "100%|██████████| 2297/2297 [01:31<00:00, 25.23it/s]\n"
     ]
    },
    {
     "name": "stdout",
     "output_type": "stream",
     "text": [
      "epoch, Training loss:  14 tensor(131.4356, device='cuda:0', grad_fn=<AddBackward0>)\n"
     ]
    },
    {
     "name": "stderr",
     "output_type": "stream",
     "text": [
      "100%|██████████| 2297/2297 [01:31<00:00, 25.23it/s]\n"
     ]
    },
    {
     "name": "stdout",
     "output_type": "stream",
     "text": [
      "epoch, Training loss:  15 tensor(130.7414, device='cuda:0', grad_fn=<AddBackward0>)\n"
     ]
    },
    {
     "name": "stderr",
     "output_type": "stream",
     "text": [
      "100%|██████████| 2297/2297 [01:31<00:00, 25.22it/s]\n"
     ]
    },
    {
     "name": "stdout",
     "output_type": "stream",
     "text": [
      "epoch, Training loss:  16 tensor(129.5114, device='cuda:0', grad_fn=<AddBackward0>)\n"
     ]
    },
    {
     "name": "stderr",
     "output_type": "stream",
     "text": [
      "100%|██████████| 2297/2297 [01:31<00:00, 25.22it/s]\n"
     ]
    },
    {
     "name": "stdout",
     "output_type": "stream",
     "text": [
      "epoch, Training loss:  17 tensor(126.5387, device='cuda:0', grad_fn=<AddBackward0>)\n"
     ]
    },
    {
     "name": "stderr",
     "output_type": "stream",
     "text": [
      "100%|██████████| 2297/2297 [01:31<00:00, 25.24it/s]\n"
     ]
    },
    {
     "name": "stdout",
     "output_type": "stream",
     "text": [
      "epoch, Training loss:  18 tensor(122.8691, device='cuda:0', grad_fn=<AddBackward0>)\n"
     ]
    },
    {
     "name": "stderr",
     "output_type": "stream",
     "text": [
      "100%|██████████| 2297/2297 [01:31<00:00, 25.23it/s]\n"
     ]
    },
    {
     "name": "stdout",
     "output_type": "stream",
     "text": [
      "epoch, Training loss:  19 tensor(119.6512, device='cuda:0', grad_fn=<AddBackward0>)\n"
     ]
    },
    {
     "name": "stderr",
     "output_type": "stream",
     "text": [
      "100%|██████████| 2297/2297 [01:31<00:00, 25.23it/s]\n"
     ]
    },
    {
     "name": "stdout",
     "output_type": "stream",
     "text": [
      "epoch, Training loss:  20 tensor(117.3118, device='cuda:0', grad_fn=<AddBackward0>)\n"
     ]
    },
    {
     "name": "stderr",
     "output_type": "stream",
     "text": [
      "100%|██████████| 2297/2297 [01:31<00:00, 25.23it/s]\n"
     ]
    },
    {
     "name": "stdout",
     "output_type": "stream",
     "text": [
      "epoch, Training loss:  21 tensor(114.3905, device='cuda:0', grad_fn=<AddBackward0>)\n"
     ]
    },
    {
     "name": "stderr",
     "output_type": "stream",
     "text": [
      "100%|██████████| 2297/2297 [01:31<00:00, 25.23it/s]\n"
     ]
    },
    {
     "name": "stdout",
     "output_type": "stream",
     "text": [
      "epoch, Training loss:  22 tensor(113.0387, device='cuda:0', grad_fn=<AddBackward0>)\n"
     ]
    },
    {
     "name": "stderr",
     "output_type": "stream",
     "text": [
      "100%|██████████| 2297/2297 [01:31<00:00, 25.23it/s]\n"
     ]
    },
    {
     "name": "stdout",
     "output_type": "stream",
     "text": [
      "epoch, Training loss:  23 tensor(111.4937, device='cuda:0', grad_fn=<AddBackward0>)\n"
     ]
    },
    {
     "name": "stderr",
     "output_type": "stream",
     "text": [
      "100%|██████████| 2297/2297 [01:31<00:00, 25.23it/s]\n"
     ]
    },
    {
     "name": "stdout",
     "output_type": "stream",
     "text": [
      "epoch, Training loss:  24 tensor(111.5022, device='cuda:0', grad_fn=<AddBackward0>)\n"
     ]
    },
    {
     "name": "stderr",
     "output_type": "stream",
     "text": [
      "100%|██████████| 2297/2297 [01:31<00:00, 25.24it/s]\n"
     ]
    },
    {
     "name": "stdout",
     "output_type": "stream",
     "text": [
      "epoch, Training loss:  25 tensor(111.3433, device='cuda:0', grad_fn=<AddBackward0>)\n"
     ]
    },
    {
     "name": "stderr",
     "output_type": "stream",
     "text": [
      "100%|██████████| 2297/2297 [01:31<00:00, 25.23it/s]\n"
     ]
    },
    {
     "name": "stdout",
     "output_type": "stream",
     "text": [
      "epoch, Training loss:  26 tensor(112.4605, device='cuda:0', grad_fn=<AddBackward0>)\n"
     ]
    },
    {
     "name": "stderr",
     "output_type": "stream",
     "text": [
      "100%|██████████| 2297/2297 [01:31<00:00, 25.22it/s]\n"
     ]
    },
    {
     "name": "stdout",
     "output_type": "stream",
     "text": [
      "epoch, Training loss:  27 tensor(111.6789, device='cuda:0', grad_fn=<AddBackward0>)\n"
     ]
    },
    {
     "name": "stderr",
     "output_type": "stream",
     "text": [
      "100%|██████████| 2297/2297 [01:31<00:00, 25.24it/s]\n"
     ]
    },
    {
     "name": "stdout",
     "output_type": "stream",
     "text": [
      "epoch, Training loss:  28 tensor(109.1391, device='cuda:0', grad_fn=<AddBackward0>)\n"
     ]
    },
    {
     "name": "stderr",
     "output_type": "stream",
     "text": [
      "100%|██████████| 2297/2297 [01:31<00:00, 25.23it/s]\n"
     ]
    },
    {
     "name": "stdout",
     "output_type": "stream",
     "text": [
      "epoch, Training loss:  29 tensor(108.3093, device='cuda:0', grad_fn=<AddBackward0>)\n"
     ]
    },
    {
     "name": "stderr",
     "output_type": "stream",
     "text": [
      "100%|██████████| 2297/2297 [01:31<00:00, 25.24it/s]\n"
     ]
    },
    {
     "name": "stdout",
     "output_type": "stream",
     "text": [
      "epoch, Training loss:  30 tensor(108.4897, device='cuda:0', grad_fn=<AddBackward0>)\n"
     ]
    },
    {
     "name": "stderr",
     "output_type": "stream",
     "text": [
      "100%|██████████| 2297/2297 [01:31<00:00, 25.21it/s]\n"
     ]
    },
    {
     "name": "stdout",
     "output_type": "stream",
     "text": [
      "epoch, Training loss:  31 tensor(109.8826, device='cuda:0', grad_fn=<AddBackward0>)\n"
     ]
    },
    {
     "name": "stderr",
     "output_type": "stream",
     "text": [
      "100%|██████████| 2297/2297 [01:31<00:00, 25.19it/s]\n"
     ]
    },
    {
     "name": "stdout",
     "output_type": "stream",
     "text": [
      "epoch, Training loss:  32 tensor(107.9449, device='cuda:0', grad_fn=<AddBackward0>)\n"
     ]
    },
    {
     "name": "stderr",
     "output_type": "stream",
     "text": [
      "100%|██████████| 2297/2297 [01:31<00:00, 25.19it/s]\n"
     ]
    },
    {
     "name": "stdout",
     "output_type": "stream",
     "text": [
      "epoch, Training loss:  33 tensor(107.2419, device='cuda:0', grad_fn=<AddBackward0>)\n"
     ]
    },
    {
     "name": "stderr",
     "output_type": "stream",
     "text": [
      "100%|██████████| 2297/2297 [01:31<00:00, 25.20it/s]\n"
     ]
    },
    {
     "name": "stdout",
     "output_type": "stream",
     "text": [
      "epoch, Training loss:  34 tensor(109.4578, device='cuda:0', grad_fn=<AddBackward0>)\n"
     ]
    },
    {
     "name": "stderr",
     "output_type": "stream",
     "text": [
      "100%|██████████| 2297/2297 [01:31<00:00, 25.20it/s]\n"
     ]
    },
    {
     "name": "stdout",
     "output_type": "stream",
     "text": [
      "epoch, Training loss:  35 tensor(107.1732, device='cuda:0', grad_fn=<AddBackward0>)\n"
     ]
    },
    {
     "name": "stderr",
     "output_type": "stream",
     "text": [
      "100%|██████████| 2297/2297 [01:31<00:00, 25.20it/s]\n"
     ]
    },
    {
     "name": "stdout",
     "output_type": "stream",
     "text": [
      "epoch, Training loss:  36 tensor(108.7102, device='cuda:0', grad_fn=<AddBackward0>)\n"
     ]
    },
    {
     "name": "stderr",
     "output_type": "stream",
     "text": [
      "100%|██████████| 2297/2297 [01:31<00:00, 25.19it/s]\n"
     ]
    },
    {
     "name": "stdout",
     "output_type": "stream",
     "text": [
      "epoch, Training loss:  37 tensor(109.8772, device='cuda:0', grad_fn=<AddBackward0>)\n"
     ]
    },
    {
     "name": "stderr",
     "output_type": "stream",
     "text": [
      "100%|██████████| 2297/2297 [01:31<00:00, 25.20it/s]\n"
     ]
    },
    {
     "name": "stdout",
     "output_type": "stream",
     "text": [
      "epoch, Training loss:  38 tensor(112.9848, device='cuda:0', grad_fn=<AddBackward0>)\n"
     ]
    },
    {
     "name": "stderr",
     "output_type": "stream",
     "text": [
      "100%|██████████| 2297/2297 [01:31<00:00, 25.20it/s]\n"
     ]
    },
    {
     "name": "stdout",
     "output_type": "stream",
     "text": [
      "epoch, Training loss:  39 tensor(115.6715, device='cuda:0', grad_fn=<AddBackward0>)\n"
     ]
    },
    {
     "name": "stderr",
     "output_type": "stream",
     "text": [
      "100%|██████████| 2297/2297 [01:31<00:00, 25.20it/s]\n"
     ]
    },
    {
     "name": "stdout",
     "output_type": "stream",
     "text": [
      "epoch, Training loss:  40 tensor(116.7562, device='cuda:0', grad_fn=<AddBackward0>)\n"
     ]
    },
    {
     "name": "stderr",
     "output_type": "stream",
     "text": [
      "100%|██████████| 2297/2297 [01:31<00:00, 25.22it/s]\n"
     ]
    },
    {
     "name": "stdout",
     "output_type": "stream",
     "text": [
      "epoch, Training loss:  41 tensor(119.4134, device='cuda:0', grad_fn=<AddBackward0>)\n"
     ]
    },
    {
     "name": "stderr",
     "output_type": "stream",
     "text": [
      "100%|██████████| 2297/2297 [01:31<00:00, 25.21it/s]\n"
     ]
    },
    {
     "name": "stdout",
     "output_type": "stream",
     "text": [
      "epoch, Training loss:  42 tensor(122.5252, device='cuda:0', grad_fn=<AddBackward0>)\n"
     ]
    },
    {
     "name": "stderr",
     "output_type": "stream",
     "text": [
      "100%|██████████| 2297/2297 [01:31<00:00, 25.22it/s]\n"
     ]
    },
    {
     "name": "stdout",
     "output_type": "stream",
     "text": [
      "epoch, Training loss:  43 tensor(125.5922, device='cuda:0', grad_fn=<AddBackward0>)\n"
     ]
    },
    {
     "name": "stderr",
     "output_type": "stream",
     "text": [
      "100%|██████████| 2297/2297 [01:31<00:00, 25.22it/s]\n"
     ]
    },
    {
     "name": "stdout",
     "output_type": "stream",
     "text": [
      "epoch, Training loss:  44 tensor(129.0988, device='cuda:0', grad_fn=<AddBackward0>)\n"
     ]
    },
    {
     "name": "stderr",
     "output_type": "stream",
     "text": [
      "100%|██████████| 2297/2297 [01:31<00:00, 25.21it/s]\n"
     ]
    },
    {
     "name": "stdout",
     "output_type": "stream",
     "text": [
      "epoch, Training loss:  45 tensor(134.1581, device='cuda:0', grad_fn=<AddBackward0>)\n"
     ]
    },
    {
     "name": "stderr",
     "output_type": "stream",
     "text": [
      "100%|██████████| 2297/2297 [01:31<00:00, 25.23it/s]\n"
     ]
    },
    {
     "name": "stdout",
     "output_type": "stream",
     "text": [
      "epoch, Training loss:  46 tensor(138.0559, device='cuda:0', grad_fn=<AddBackward0>)\n"
     ]
    },
    {
     "name": "stderr",
     "output_type": "stream",
     "text": [
      "100%|██████████| 2297/2297 [01:31<00:00, 25.23it/s]\n"
     ]
    },
    {
     "name": "stdout",
     "output_type": "stream",
     "text": [
      "epoch, Training loss:  47 tensor(143.6224, device='cuda:0', grad_fn=<AddBackward0>)\n"
     ]
    },
    {
     "name": "stderr",
     "output_type": "stream",
     "text": [
      "100%|██████████| 2297/2297 [01:31<00:00, 25.22it/s]\n"
     ]
    },
    {
     "name": "stdout",
     "output_type": "stream",
     "text": [
      "epoch, Training loss:  48 tensor(147.3548, device='cuda:0', grad_fn=<AddBackward0>)\n"
     ]
    },
    {
     "name": "stderr",
     "output_type": "stream",
     "text": [
      "100%|██████████| 2297/2297 [01:31<00:00, 25.22it/s]\n"
     ]
    },
    {
     "name": "stdout",
     "output_type": "stream",
     "text": [
      "epoch, Training loss:  49 tensor(151.0856, device='cuda:0', grad_fn=<AddBackward0>)\n"
     ]
    },
    {
     "name": "stderr",
     "output_type": "stream",
     "text": [
      "100%|██████████| 2297/2297 [01:31<00:00, 25.22it/s]\n"
     ]
    },
    {
     "name": "stdout",
     "output_type": "stream",
     "text": [
      "epoch, Training loss:  50 tensor(155.3795, device='cuda:0', grad_fn=<AddBackward0>)\n"
     ]
    },
    {
     "name": "stderr",
     "output_type": "stream",
     "text": [
      "100%|██████████| 2297/2297 [01:31<00:00, 25.23it/s]\n"
     ]
    },
    {
     "name": "stdout",
     "output_type": "stream",
     "text": [
      "epoch, Training loss:  51 tensor(157.2835, device='cuda:0', grad_fn=<AddBackward0>)\n"
     ]
    },
    {
     "name": "stderr",
     "output_type": "stream",
     "text": [
      "100%|██████████| 2297/2297 [01:31<00:00, 25.22it/s]\n"
     ]
    },
    {
     "name": "stdout",
     "output_type": "stream",
     "text": [
      "epoch, Training loss:  52 tensor(160.1049, device='cuda:0', grad_fn=<AddBackward0>)\n"
     ]
    },
    {
     "name": "stderr",
     "output_type": "stream",
     "text": [
      "100%|██████████| 2297/2297 [01:31<00:00, 25.21it/s]\n"
     ]
    },
    {
     "name": "stdout",
     "output_type": "stream",
     "text": [
      "epoch, Training loss:  53 tensor(163.0534, device='cuda:0', grad_fn=<AddBackward0>)\n"
     ]
    },
    {
     "name": "stderr",
     "output_type": "stream",
     "text": [
      "100%|██████████| 2297/2297 [01:31<00:00, 25.24it/s]\n"
     ]
    },
    {
     "name": "stdout",
     "output_type": "stream",
     "text": [
      "epoch, Training loss:  54 tensor(165.1898, device='cuda:0', grad_fn=<AddBackward0>)\n"
     ]
    },
    {
     "name": "stderr",
     "output_type": "stream",
     "text": [
      "100%|██████████| 2297/2297 [01:31<00:00, 25.22it/s]\n"
     ]
    },
    {
     "name": "stdout",
     "output_type": "stream",
     "text": [
      "epoch, Training loss:  55 tensor(168.1102, device='cuda:0', grad_fn=<AddBackward0>)\n"
     ]
    },
    {
     "name": "stderr",
     "output_type": "stream",
     "text": [
      "100%|██████████| 2297/2297 [01:31<00:00, 25.20it/s]\n"
     ]
    },
    {
     "name": "stdout",
     "output_type": "stream",
     "text": [
      "epoch, Training loss:  56 tensor(172.1340, device='cuda:0', grad_fn=<AddBackward0>)\n"
     ]
    },
    {
     "name": "stderr",
     "output_type": "stream",
     "text": [
      "100%|██████████| 2297/2297 [01:31<00:00, 25.24it/s]\n"
     ]
    },
    {
     "name": "stdout",
     "output_type": "stream",
     "text": [
      "epoch, Training loss:  57 tensor(173.8809, device='cuda:0', grad_fn=<AddBackward0>)\n"
     ]
    },
    {
     "name": "stderr",
     "output_type": "stream",
     "text": [
      "100%|██████████| 2297/2297 [01:31<00:00, 25.22it/s]\n"
     ]
    },
    {
     "name": "stdout",
     "output_type": "stream",
     "text": [
      "epoch, Training loss:  58 tensor(177.6908, device='cuda:0', grad_fn=<AddBackward0>)\n"
     ]
    },
    {
     "name": "stderr",
     "output_type": "stream",
     "text": [
      "100%|██████████| 2297/2297 [01:31<00:00, 25.22it/s]\n"
     ]
    },
    {
     "name": "stdout",
     "output_type": "stream",
     "text": [
      "epoch, Training loss:  59 tensor(179.4314, device='cuda:0', grad_fn=<AddBackward0>)\n"
     ]
    },
    {
     "name": "stderr",
     "output_type": "stream",
     "text": [
      "100%|██████████| 2297/2297 [01:31<00:00, 25.23it/s]\n"
     ]
    },
    {
     "name": "stdout",
     "output_type": "stream",
     "text": [
      "epoch, Training loss:  60 tensor(181.0477, device='cuda:0', grad_fn=<AddBackward0>)\n"
     ]
    },
    {
     "name": "stderr",
     "output_type": "stream",
     "text": [
      "100%|██████████| 2297/2297 [01:31<00:00, 25.23it/s]\n"
     ]
    },
    {
     "name": "stdout",
     "output_type": "stream",
     "text": [
      "epoch, Training loss:  61 tensor(182.6774, device='cuda:0', grad_fn=<AddBackward0>)\n"
     ]
    },
    {
     "name": "stderr",
     "output_type": "stream",
     "text": [
      "100%|██████████| 2297/2297 [01:31<00:00, 25.23it/s]\n"
     ]
    },
    {
     "name": "stdout",
     "output_type": "stream",
     "text": [
      "epoch, Training loss:  62 tensor(185.9166, device='cuda:0', grad_fn=<AddBackward0>)\n"
     ]
    },
    {
     "name": "stderr",
     "output_type": "stream",
     "text": [
      "100%|██████████| 2297/2297 [01:31<00:00, 25.23it/s]\n"
     ]
    },
    {
     "name": "stdout",
     "output_type": "stream",
     "text": [
      "epoch, Training loss:  63 tensor(186.5932, device='cuda:0', grad_fn=<AddBackward0>)\n"
     ]
    },
    {
     "name": "stderr",
     "output_type": "stream",
     "text": [
      "100%|██████████| 2297/2297 [01:31<00:00, 25.24it/s]\n"
     ]
    },
    {
     "name": "stdout",
     "output_type": "stream",
     "text": [
      "epoch, Training loss:  64 tensor(188.3700, device='cuda:0', grad_fn=<AddBackward0>)\n"
     ]
    },
    {
     "name": "stderr",
     "output_type": "stream",
     "text": [
      "100%|██████████| 2297/2297 [01:31<00:00, 25.22it/s]\n"
     ]
    },
    {
     "name": "stdout",
     "output_type": "stream",
     "text": [
      "epoch, Training loss:  65 tensor(190.6238, device='cuda:0', grad_fn=<AddBackward0>)\n"
     ]
    },
    {
     "name": "stderr",
     "output_type": "stream",
     "text": [
      "100%|██████████| 2297/2297 [01:31<00:00, 25.23it/s]\n"
     ]
    },
    {
     "name": "stdout",
     "output_type": "stream",
     "text": [
      "epoch, Training loss:  66 tensor(192.7393, device='cuda:0', grad_fn=<AddBackward0>)\n"
     ]
    },
    {
     "name": "stderr",
     "output_type": "stream",
     "text": [
      "100%|██████████| 2297/2297 [01:31<00:00, 25.24it/s]\n"
     ]
    },
    {
     "name": "stdout",
     "output_type": "stream",
     "text": [
      "epoch, Training loss:  67 tensor(194.2153, device='cuda:0', grad_fn=<AddBackward0>)\n"
     ]
    },
    {
     "name": "stderr",
     "output_type": "stream",
     "text": [
      "100%|██████████| 2297/2297 [01:31<00:00, 25.23it/s]\n"
     ]
    },
    {
     "name": "stdout",
     "output_type": "stream",
     "text": [
      "epoch, Training loss:  68 tensor(197.6243, device='cuda:0', grad_fn=<AddBackward0>)\n"
     ]
    },
    {
     "name": "stderr",
     "output_type": "stream",
     "text": [
      "100%|██████████| 2297/2297 [01:30<00:00, 25.27it/s]\n"
     ]
    },
    {
     "name": "stdout",
     "output_type": "stream",
     "text": [
      "epoch, Training loss:  69 tensor(197.5521, device='cuda:0', grad_fn=<AddBackward0>)\n"
     ]
    },
    {
     "name": "stderr",
     "output_type": "stream",
     "text": [
      "100%|██████████| 2297/2297 [01:31<00:00, 25.23it/s]\n"
     ]
    },
    {
     "name": "stdout",
     "output_type": "stream",
     "text": [
      "epoch, Training loss:  70 tensor(200.0125, device='cuda:0', grad_fn=<AddBackward0>)\n"
     ]
    },
    {
     "name": "stderr",
     "output_type": "stream",
     "text": [
      "100%|██████████| 2297/2297 [01:31<00:00, 25.24it/s]\n"
     ]
    },
    {
     "name": "stdout",
     "output_type": "stream",
     "text": [
      "epoch, Training loss:  71 tensor(201.1722, device='cuda:0', grad_fn=<AddBackward0>)\n"
     ]
    },
    {
     "name": "stderr",
     "output_type": "stream",
     "text": [
      "100%|██████████| 2297/2297 [01:31<00:00, 25.23it/s]\n"
     ]
    },
    {
     "name": "stdout",
     "output_type": "stream",
     "text": [
      "epoch, Training loss:  72 tensor(202.1681, device='cuda:0', grad_fn=<AddBackward0>)\n"
     ]
    },
    {
     "name": "stderr",
     "output_type": "stream",
     "text": [
      "100%|██████████| 2297/2297 [01:31<00:00, 25.23it/s]\n"
     ]
    },
    {
     "name": "stdout",
     "output_type": "stream",
     "text": [
      "epoch, Training loss:  73 tensor(204.0547, device='cuda:0', grad_fn=<AddBackward0>)\n"
     ]
    },
    {
     "name": "stderr",
     "output_type": "stream",
     "text": [
      "100%|██████████| 2297/2297 [01:31<00:00, 25.23it/s]"
     ]
    },
    {
     "name": "stdout",
     "output_type": "stream",
     "text": [
      "epoch, Training loss:  74 tensor(205.2259, device='cuda:0', grad_fn=<AddBackward0>)\n"
     ]
    },
    {
     "name": "stderr",
     "output_type": "stream",
     "text": [
      "\n",
      "100%|██████████| 2297/2297 [01:31<00:00, 25.21it/s]\n"
     ]
    },
    {
     "name": "stdout",
     "output_type": "stream",
     "text": [
      "epoch, Training loss:  75 tensor(205.7783, device='cuda:0', grad_fn=<AddBackward0>)\n"
     ]
    },
    {
     "name": "stderr",
     "output_type": "stream",
     "text": [
      "100%|██████████| 2297/2297 [01:31<00:00, 25.23it/s]\n"
     ]
    },
    {
     "name": "stdout",
     "output_type": "stream",
     "text": [
      "epoch, Training loss:  76 tensor(207.3672, device='cuda:0', grad_fn=<AddBackward0>)\n"
     ]
    },
    {
     "name": "stderr",
     "output_type": "stream",
     "text": [
      "100%|██████████| 2297/2297 [01:31<00:00, 25.23it/s]\n"
     ]
    },
    {
     "name": "stdout",
     "output_type": "stream",
     "text": [
      "epoch, Training loss:  77 tensor(209.1396, device='cuda:0', grad_fn=<AddBackward0>)\n"
     ]
    },
    {
     "name": "stderr",
     "output_type": "stream",
     "text": [
      "100%|██████████| 2297/2297 [01:31<00:00, 25.23it/s]\n"
     ]
    },
    {
     "name": "stdout",
     "output_type": "stream",
     "text": [
      "epoch, Training loss:  78 tensor(209.4685, device='cuda:0', grad_fn=<AddBackward0>)\n"
     ]
    },
    {
     "name": "stderr",
     "output_type": "stream",
     "text": [
      "100%|██████████| 2297/2297 [01:31<00:00, 25.22it/s]\n"
     ]
    },
    {
     "name": "stdout",
     "output_type": "stream",
     "text": [
      "epoch, Training loss:  79 tensor(211.3192, device='cuda:0', grad_fn=<AddBackward0>)\n"
     ]
    },
    {
     "name": "stderr",
     "output_type": "stream",
     "text": [
      "100%|██████████| 2297/2297 [01:31<00:00, 25.19it/s]\n"
     ]
    },
    {
     "name": "stdout",
     "output_type": "stream",
     "text": [
      "epoch, Training loss:  80 tensor(212.0809, device='cuda:0', grad_fn=<AddBackward0>)\n"
     ]
    },
    {
     "name": "stderr",
     "output_type": "stream",
     "text": [
      "100%|██████████| 2297/2297 [01:31<00:00, 25.23it/s]\n"
     ]
    },
    {
     "name": "stdout",
     "output_type": "stream",
     "text": [
      "epoch, Training loss:  81 tensor(213.3611, device='cuda:0', grad_fn=<AddBackward0>)\n"
     ]
    },
    {
     "name": "stderr",
     "output_type": "stream",
     "text": [
      "100%|██████████| 2297/2297 [01:31<00:00, 25.22it/s]\n"
     ]
    },
    {
     "name": "stdout",
     "output_type": "stream",
     "text": [
      "epoch, Training loss:  82 tensor(214.3146, device='cuda:0', grad_fn=<AddBackward0>)\n"
     ]
    },
    {
     "name": "stderr",
     "output_type": "stream",
     "text": [
      "100%|██████████| 2297/2297 [01:31<00:00, 25.21it/s]\n"
     ]
    },
    {
     "name": "stdout",
     "output_type": "stream",
     "text": [
      "epoch, Training loss:  83 tensor(216.2370, device='cuda:0', grad_fn=<AddBackward0>)\n"
     ]
    },
    {
     "name": "stderr",
     "output_type": "stream",
     "text": [
      "100%|██████████| 2297/2297 [01:31<00:00, 25.20it/s]\n"
     ]
    },
    {
     "name": "stdout",
     "output_type": "stream",
     "text": [
      "epoch, Training loss:  84 tensor(216.0132, device='cuda:0', grad_fn=<AddBackward0>)\n"
     ]
    },
    {
     "name": "stderr",
     "output_type": "stream",
     "text": [
      "100%|██████████| 2297/2297 [01:31<00:00, 25.23it/s]\n"
     ]
    },
    {
     "name": "stdout",
     "output_type": "stream",
     "text": [
      "epoch, Training loss:  85 tensor(216.8102, device='cuda:0', grad_fn=<AddBackward0>)\n"
     ]
    },
    {
     "name": "stderr",
     "output_type": "stream",
     "text": [
      "100%|██████████| 2297/2297 [01:31<00:00, 25.21it/s]\n"
     ]
    },
    {
     "name": "stdout",
     "output_type": "stream",
     "text": [
      "epoch, Training loss:  86 tensor(217.7173, device='cuda:0', grad_fn=<AddBackward0>)\n"
     ]
    },
    {
     "name": "stderr",
     "output_type": "stream",
     "text": [
      "100%|██████████| 2297/2297 [01:31<00:00, 25.22it/s]\n"
     ]
    },
    {
     "name": "stdout",
     "output_type": "stream",
     "text": [
      "epoch, Training loss:  87 tensor(218.8200, device='cuda:0', grad_fn=<AddBackward0>)\n"
     ]
    },
    {
     "name": "stderr",
     "output_type": "stream",
     "text": [
      "100%|██████████| 2297/2297 [01:31<00:00, 25.24it/s]\n"
     ]
    },
    {
     "name": "stdout",
     "output_type": "stream",
     "text": [
      "epoch, Training loss:  88 tensor(219.3549, device='cuda:0', grad_fn=<AddBackward0>)\n"
     ]
    },
    {
     "name": "stderr",
     "output_type": "stream",
     "text": [
      "100%|██████████| 2297/2297 [01:31<00:00, 25.23it/s]\n"
     ]
    },
    {
     "name": "stdout",
     "output_type": "stream",
     "text": [
      "epoch, Training loss:  89 tensor(220.9697, device='cuda:0', grad_fn=<AddBackward0>)\n"
     ]
    },
    {
     "name": "stderr",
     "output_type": "stream",
     "text": [
      "100%|██████████| 2297/2297 [01:31<00:00, 25.23it/s]\n"
     ]
    },
    {
     "name": "stdout",
     "output_type": "stream",
     "text": [
      "epoch, Training loss:  90 tensor(221.9668, device='cuda:0', grad_fn=<AddBackward0>)\n"
     ]
    },
    {
     "name": "stderr",
     "output_type": "stream",
     "text": [
      "100%|██████████| 2297/2297 [01:31<00:00, 25.22it/s]\n"
     ]
    },
    {
     "name": "stdout",
     "output_type": "stream",
     "text": [
      "epoch, Training loss:  91 tensor(223.4736, device='cuda:0', grad_fn=<AddBackward0>)\n"
     ]
    },
    {
     "name": "stderr",
     "output_type": "stream",
     "text": [
      "100%|██████████| 2297/2297 [01:31<00:00, 25.23it/s]\n"
     ]
    },
    {
     "name": "stdout",
     "output_type": "stream",
     "text": [
      "epoch, Training loss:  92 tensor(223.7429, device='cuda:0', grad_fn=<AddBackward0>)\n"
     ]
    },
    {
     "name": "stderr",
     "output_type": "stream",
     "text": [
      "100%|██████████| 2297/2297 [01:31<00:00, 25.24it/s]\n"
     ]
    },
    {
     "name": "stdout",
     "output_type": "stream",
     "text": [
      "epoch, Training loss:  93 tensor(225.1403, device='cuda:0', grad_fn=<AddBackward0>)\n"
     ]
    },
    {
     "name": "stderr",
     "output_type": "stream",
     "text": [
      "100%|██████████| 2297/2297 [01:31<00:00, 25.22it/s]\n"
     ]
    },
    {
     "name": "stdout",
     "output_type": "stream",
     "text": [
      "epoch, Training loss:  94 tensor(225.3523, device='cuda:0', grad_fn=<AddBackward0>)\n"
     ]
    },
    {
     "name": "stderr",
     "output_type": "stream",
     "text": [
      "100%|██████████| 2297/2297 [01:31<00:00, 25.24it/s]\n"
     ]
    },
    {
     "name": "stdout",
     "output_type": "stream",
     "text": [
      "epoch, Training loss:  95 tensor(226.7762, device='cuda:0', grad_fn=<AddBackward0>)\n"
     ]
    },
    {
     "name": "stderr",
     "output_type": "stream",
     "text": [
      "100%|██████████| 2297/2297 [01:31<00:00, 25.22it/s]\n"
     ]
    },
    {
     "name": "stdout",
     "output_type": "stream",
     "text": [
      "epoch, Training loss:  96 tensor(227.4984, device='cuda:0', grad_fn=<AddBackward0>)\n"
     ]
    },
    {
     "name": "stderr",
     "output_type": "stream",
     "text": [
      "100%|██████████| 2297/2297 [01:31<00:00, 25.23it/s]\n"
     ]
    },
    {
     "name": "stdout",
     "output_type": "stream",
     "text": [
      "epoch, Training loss:  97 tensor(228.2952, device='cuda:0', grad_fn=<AddBackward0>)\n"
     ]
    },
    {
     "name": "stderr",
     "output_type": "stream",
     "text": [
      "100%|██████████| 2297/2297 [01:31<00:00, 25.23it/s]\n"
     ]
    },
    {
     "name": "stdout",
     "output_type": "stream",
     "text": [
      "epoch, Training loss:  98 tensor(227.9188, device='cuda:0', grad_fn=<AddBackward0>)\n"
     ]
    },
    {
     "name": "stderr",
     "output_type": "stream",
     "text": [
      "100%|██████████| 2297/2297 [01:31<00:00, 25.24it/s]"
     ]
    },
    {
     "name": "stdout",
     "output_type": "stream",
     "text": [
      "epoch, Training loss:  99 tensor(229.1967, device='cuda:0', grad_fn=<AddBackward0>)\n"
     ]
    },
    {
     "name": "stderr",
     "output_type": "stream",
     "text": [
      "\n"
     ]
    }
   ],
   "source": [
    "for epoch in range(100):\n",
    "    Loss = 0\n",
    "    for batch_id, data in tqdm(enumerate(train_loader, 0), total=len(train_loader), smoothing=0):\n",
    "        pc1, pc2 = data\n",
    "        pc1, pc2 = pc1.cuda(), pc2.cuda()\n",
    "        loss = learner(pc1, pc2)\n",
    "        \n",
    "        Loss += loss\n",
    "        opt.zero_grad()\n",
    "        loss.backward()\n",
    "        opt.step()\n",
    "        learner.update_moving_average() # update moving average of target encoder\n",
    "    \n",
    "    writer.add_scalars('train_loss', {'train_loss': Loss,}, epoch)\n",
    "    print(\"epoch, Training loss: \", epoch, Loss)\n",
    "# save your improved network\n",
    "torch.save(pointnet.state_dict(), './improved-net.pt')\n",
    "\n",
    "writer.export_scalars_to_json(\"./byol_pointnet_baseline.json\")\n",
    "writer.close()"
   ]
  },
  {
   "cell_type": "code",
   "execution_count": null,
   "metadata": {},
   "outputs": [],
   "source": [
    "torch.load('./improved-net.pt')"
   ]
  },
  {
   "cell_type": "code",
   "execution_count": null,
   "metadata": {},
   "outputs": [],
   "source": [
    "model = pointnet_cls()"
   ]
  },
  {
   "cell_type": "code",
   "execution_count": null,
   "metadata": {},
   "outputs": [],
   "source": [
    "model = model.load_state_dict(torch.load('./improved-net.pt'))"
   ]
  },
  {
   "cell_type": "code",
   "execution_count": null,
   "metadata": {},
   "outputs": [],
   "source": []
  },
  {
   "cell_type": "code",
   "execution_count": null,
   "metadata": {},
   "outputs": [],
   "source": [
    "learner.eval()"
   ]
  },
  {
   "cell_type": "code",
   "execution_count": null,
   "metadata": {},
   "outputs": [],
   "source": [
    "for i in enumerate(test_loader):\n",
    "    print(i)"
   ]
  },
  {
   "cell_type": "code",
   "execution_count": null,
   "metadata": {},
   "outputs": [],
   "source": [
    "pc = next(iter(test_loader))"
   ]
  },
  {
   "cell_type": "code",
   "execution_count": null,
   "metadata": {},
   "outputs": [],
   "source": [
    "pc1.shape"
   ]
  },
  {
   "cell_type": "code",
   "execution_count": null,
   "metadata": {},
   "outputs": [],
   "source": [
    "pc.shape"
   ]
  },
  {
   "cell_type": "code",
   "execution_count": null,
   "metadata": {},
   "outputs": [],
   "source": [
    "embedding = learner.online_encoder(pc.cuda(), return_embedding = True)"
   ]
  },
  {
   "cell_type": "code",
   "execution_count": null,
   "metadata": {},
   "outputs": [],
   "source": [
    "embedding.shape"
   ]
  },
  {
   "cell_type": "code",
   "execution_count": 5,
   "metadata": {},
   "outputs": [],
   "source": [
    "test_data = ABC2Dataset_pc_test(args.csv_dir, args.train_dir, args.taskType)\n",
    "test_loader = DataLoader(test_data, batch_size=100, num_workers=args.workers, shuffle=False)"
   ]
  },
  {
   "cell_type": "code",
   "execution_count": null,
   "metadata": {},
   "outputs": [],
   "source": [
    "modelid_list = []\n",
    "embedding_list = []\n",
    "with torch.no_grad():\n",
    "    for i, data in enumerate(test_loader):\n",
    "        pc, id_str = data\n",
    "        print(i)\n",
    "        embedding = learner.online_encoder(pc.cuda(), return_embedding = True)\n",
    "        embedding_list.append(embedding)\n",
    "        modelid_list.append(id_str)"
   ]
  },
  {
   "cell_type": "code",
   "execution_count": null,
   "metadata": {},
   "outputs": [],
   "source": []
  },
  {
   "cell_type": "code",
   "execution_count": null,
   "metadata": {},
   "outputs": [],
   "source": []
  },
  {
   "cell_type": "code",
   "execution_count": 9,
   "metadata": {
    "scrolled": true
   },
   "outputs": [
    {
     "name": "stdout",
     "output_type": "stream",
     "text": [
      "0\n",
      "1\n",
      "2\n",
      "3\n",
      "4\n",
      "5\n",
      "6\n",
      "7\n",
      "8\n",
      "9\n",
      "10\n",
      "11\n",
      "12\n",
      "13\n",
      "14\n",
      "15\n",
      "16\n",
      "17\n",
      "18\n",
      "19\n",
      "20\n",
      "21\n",
      "22\n",
      "23\n",
      "24\n",
      "25\n",
      "26\n",
      "27\n",
      "28\n",
      "29\n",
      "30\n",
      "31\n",
      "32\n",
      "33\n",
      "34\n",
      "35\n",
      "36\n",
      "37\n",
      "38\n",
      "39\n",
      "40\n",
      "41\n",
      "42\n",
      "43\n",
      "44\n",
      "45\n",
      "46\n",
      "47\n",
      "48\n",
      "49\n",
      "50\n",
      "51\n",
      "52\n",
      "53\n",
      "54\n",
      "55\n",
      "56\n",
      "57\n",
      "58\n",
      "59\n",
      "60\n",
      "61\n",
      "62\n",
      "63\n",
      "64\n",
      "65\n",
      "66\n",
      "67\n",
      "68\n",
      "69\n",
      "70\n",
      "71\n",
      "72\n",
      "73\n",
      "74\n",
      "75\n",
      "76\n",
      "77\n",
      "78\n",
      "79\n",
      "80\n",
      "81\n",
      "82\n",
      "83\n",
      "84\n",
      "85\n",
      "86\n",
      "87\n",
      "88\n",
      "89\n",
      "90\n",
      "91\n",
      "92\n",
      "93\n",
      "94\n",
      "95\n",
      "96\n",
      "97\n",
      "98\n",
      "99\n",
      "100\n",
      "101\n",
      "102\n",
      "103\n",
      "104\n",
      "105\n",
      "106\n",
      "107\n",
      "108\n",
      "109\n",
      "110\n",
      "111\n",
      "112\n",
      "113\n",
      "114\n",
      "115\n",
      "116\n",
      "117\n",
      "118\n",
      "119\n",
      "120\n",
      "121\n",
      "122\n",
      "123\n",
      "124\n",
      "125\n",
      "126\n",
      "127\n",
      "128\n",
      "129\n",
      "130\n",
      "131\n",
      "132\n",
      "133\n",
      "134\n",
      "135\n",
      "136\n",
      "137\n",
      "138\n",
      "139\n",
      "140\n",
      "141\n",
      "142\n",
      "143\n",
      "144\n",
      "145\n",
      "146\n",
      "147\n",
      "148\n",
      "149\n",
      "150\n",
      "151\n",
      "152\n",
      "153\n",
      "154\n",
      "155\n",
      "156\n",
      "157\n",
      "158\n",
      "159\n",
      "160\n",
      "161\n",
      "162\n",
      "163\n",
      "164\n",
      "165\n",
      "166\n",
      "167\n",
      "168\n",
      "169\n",
      "170\n",
      "171\n",
      "172\n",
      "173\n",
      "174\n",
      "175\n",
      "176\n",
      "177\n",
      "178\n",
      "179\n",
      "180\n",
      "181\n",
      "182\n",
      "183\n",
      "184\n",
      "185\n",
      "186\n",
      "187\n",
      "188\n",
      "189\n",
      "190\n",
      "191\n",
      "192\n",
      "193\n",
      "194\n",
      "195\n",
      "196\n",
      "197\n",
      "198\n",
      "199\n",
      "200\n",
      "201\n",
      "202\n",
      "203\n",
      "204\n",
      "205\n",
      "206\n",
      "207\n",
      "208\n",
      "209\n",
      "210\n",
      "211\n",
      "212\n",
      "213\n",
      "214\n",
      "215\n",
      "216\n",
      "217\n",
      "218\n",
      "219\n",
      "220\n",
      "221\n",
      "222\n",
      "223\n",
      "224\n",
      "225\n",
      "226\n",
      "227\n",
      "228\n",
      "229\n"
     ]
    }
   ],
   "source": [
    "modelid_list = []\n",
    "embedding_list = []\n",
    "with torch.no_grad():\n",
    "    for i, data in enumerate(test_loader):\n",
    "        pc, id_str = data\n",
    "        print(i)\n",
    "        embedding = learner.online_encoder(pc.cuda(), return_embedding = True)\n",
    "        embedding_list.append(embedding)\n",
    "        modelid_list.append(id_str)"
   ]
  },
  {
   "cell_type": "code",
   "execution_count": 11,
   "metadata": {},
   "outputs": [
    {
     "data": {
      "text/plain": [
       "(230, torch.Size([100, 256]))"
      ]
     },
     "execution_count": 11,
     "metadata": {},
     "output_type": "execute_result"
    }
   ],
   "source": [
    "len(embedding_list),embedding_list[0].shape"
   ]
  },
  {
   "cell_type": "code",
   "execution_count": 12,
   "metadata": {},
   "outputs": [],
   "source": [
    "modelid_list2 = []\n",
    "for id_str in modelid_list:\n",
    "    modelid_list2 += id_str"
   ]
  },
  {
   "cell_type": "code",
   "execution_count": 13,
   "metadata": {},
   "outputs": [
    {
     "data": {
      "text/plain": [
       "230"
      ]
     },
     "execution_count": 13,
     "metadata": {},
     "output_type": "execute_result"
    }
   ],
   "source": [
    "len(modelid_list)"
   ]
  },
  {
   "cell_type": "code",
   "execution_count": 14,
   "metadata": {},
   "outputs": [
    {
     "data": {
      "text/plain": [
       "22970"
      ]
     },
     "execution_count": 14,
     "metadata": {},
     "output_type": "execute_result"
    }
   ],
   "source": [
    "len(modelid_list2)"
   ]
  },
  {
   "cell_type": "code",
   "execution_count": 15,
   "metadata": {},
   "outputs": [
    {
     "data": {
      "text/plain": [
       "230"
      ]
     },
     "execution_count": 15,
     "metadata": {},
     "output_type": "execute_result"
    }
   ],
   "source": [
    "len(embedding_list)"
   ]
  },
  {
   "cell_type": "code",
   "execution_count": 16,
   "metadata": {},
   "outputs": [],
   "source": [
    "latent_space = torch.cat(embedding_list)"
   ]
  },
  {
   "cell_type": "code",
   "execution_count": 17,
   "metadata": {},
   "outputs": [
    {
     "data": {
      "text/plain": [
       "torch.Size([22970, 256])"
      ]
     },
     "execution_count": 17,
     "metadata": {},
     "output_type": "execute_result"
    }
   ],
   "source": [
    "latent_space.shape"
   ]
  },
  {
   "cell_type": "code",
   "execution_count": 21,
   "metadata": {},
   "outputs": [],
   "source": [
    "import numpy as np"
   ]
  },
  {
   "cell_type": "code",
   "execution_count": 24,
   "metadata": {},
   "outputs": [],
   "source": [
    "file = open('mode_id_list.txt','w');\n",
    "file.write(str(modelid_list2));\n",
    "file.close();"
   ]
  },
  {
   "cell_type": "code",
   "execution_count": 27,
   "metadata": {},
   "outputs": [],
   "source": [
    "np.save(\"latent_space\", latent_space.cpu().detach().numpy())"
   ]
  },
  {
   "cell_type": "code",
   "execution_count": 19,
   "metadata": {
    "scrolled": true
   },
   "outputs": [
    {
     "data": {
      "text/plain": [
       "('00026146',\n",
       " tensor([ 3.2814e+00, -1.9138e-03,  7.2255e-01,  2.8314e-01,  3.5178e+00,\n",
       "         -9.5638e-02, -2.0550e-01, -3.3458e-02, -1.2133e+00,  1.0841e+00,\n",
       "         -6.0218e-01, -4.7894e-02, -9.4130e-02, -7.0391e-01,  4.5420e-01,\n",
       "         -4.9006e-01, -2.8228e-03,  3.6662e-02, -4.8859e-01,  2.9150e+00,\n",
       "         -7.5487e-02,  3.9712e-02, -4.8670e-01, -3.6277e-03, -3.3960e+00,\n",
       "          1.7838e-01,  1.3932e-02,  9.1321e-01, -1.9187e-01,  5.0393e-01,\n",
       "          5.3579e-02,  3.4019e-05, -6.6007e-01,  3.1339e-01, -7.3116e-02,\n",
       "          4.4805e-02, -1.0993e-01, -4.4001e-01,  1.0111e+00,  1.6850e-02,\n",
       "         -5.0284e-01, -1.0751e+00, -1.2041e+00, -5.2259e-01, -1.1051e-01,\n",
       "         -1.0740e+00, -3.7533e-01, -1.4157e-01,  4.0545e-02, -2.2136e+00,\n",
       "          1.2256e-02, -1.0651e+00,  1.3736e+00, -1.1972e-01, -4.2152e-02,\n",
       "          3.6180e-02,  2.8370e-01,  3.1875e-01, -3.8796e-02, -4.9117e-01,\n",
       "          5.1501e-01, -2.3238e-01, -5.3106e-01, -4.4116e-01, -1.8761e+00,\n",
       "         -2.9991e+00, -8.4909e-02,  4.4208e-02, -3.6894e-01,  4.3121e-01,\n",
       "         -2.1833e-02,  3.6631e-02, -1.9083e-03, -8.9492e-02, -4.0881e-02,\n",
       "          1.1594e-01, -1.5157e-01, -1.3172e+00, -3.0827e-02,  3.4182e+00,\n",
       "          7.3550e-01, -3.0412e+00,  1.1337e+00,  1.7498e+00, -2.4476e+00,\n",
       "          3.5444e-02,  2.2030e-01,  1.2601e-01,  2.7422e-01,  8.9583e-03,\n",
       "          4.7022e-01,  2.0242e-02, -4.1967e-02, -9.4915e-02,  2.9241e+00,\n",
       "          6.5138e-01,  9.0855e-01, -4.8343e-02, -7.1189e-01,  1.1612e-01,\n",
       "         -4.2545e-01,  2.4469e-02, -1.1230e-02,  6.0295e-01,  3.1375e+00,\n",
       "          2.9743e+00, -4.0504e-01, -9.4210e-02, -8.3998e-01, -4.5210e-02,\n",
       "         -3.2114e+00, -4.8357e-02, -7.0858e-02,  1.2121e+00,  2.0610e-01,\n",
       "          4.4594e-02, -4.8968e-02,  3.6868e-01, -2.6627e+00, -1.0101e-02,\n",
       "         -2.3659e+00, -5.8929e-02, -1.3090e-01, -3.7046e-01,  7.9791e-01,\n",
       "         -3.7948e-02,  1.1259e-01,  1.7512e-01, -7.6953e-01, -5.7622e-01,\n",
       "          4.1908e-01, -6.9409e-01,  3.2328e-02,  1.1586e-01,  5.0063e-01,\n",
       "          3.7720e-01,  1.2365e+00,  1.0304e+00, -2.2790e+00, -3.5704e+00,\n",
       "          5.7983e-02, -2.7285e+00,  3.2155e-01, -5.9421e-01, -6.7578e-01,\n",
       "         -3.6081e-01,  1.8342e+00, -5.5250e-01,  8.1229e-03,  1.5998e+00,\n",
       "         -1.3896e+00, -4.9611e-01, -1.2103e-01, -8.8997e-02,  6.1249e-01,\n",
       "          3.0073e-02, -1.6100e+00, -1.3949e+00,  3.8020e-01,  2.6092e-01,\n",
       "         -1.2441e+00, -5.7755e-01, -9.3850e-01,  4.3796e-02,  1.1135e-01,\n",
       "         -2.1978e-02, -1.6619e+00,  6.1950e-01,  3.3278e-02,  1.4020e-01,\n",
       "         -2.9224e-02, -1.6224e-01, -2.1264e-02, -1.2777e+00, -1.0130e-01,\n",
       "          6.8216e-02, -6.5800e-02, -6.3136e-02,  1.3760e-02,  2.9640e-02,\n",
       "         -1.1070e-01, -8.5799e-02,  1.6268e-01,  2.9683e-01, -1.3007e-01,\n",
       "         -4.3903e-01,  8.7807e-01,  2.2867e-02, -6.7606e-02, -4.2552e-01,\n",
       "          2.8785e-02, -1.0764e+00,  3.8485e-01, -1.5936e-03,  8.1695e-01,\n",
       "         -2.3889e-01, -1.3155e-01, -5.3273e-02,  1.8264e-02,  3.4652e+00,\n",
       "          6.2156e-01,  5.1157e-02,  1.5924e-01, -2.3980e-01,  7.1863e-02,\n",
       "         -2.3804e+00,  1.5342e+00,  8.2831e-01,  5.3069e-02,  1.6411e-01,\n",
       "          1.2298e-01,  1.8332e-01, -1.2456e+00,  7.3753e-02,  1.2594e-01,\n",
       "         -9.5337e-01,  3.7099e-04, -6.1065e-04,  7.1549e-02,  3.0722e-02,\n",
       "         -4.2315e-01, -1.1996e-01,  6.3800e-02, -6.1955e-01,  4.5737e-01,\n",
       "         -1.5411e-02, -4.1812e-02, -2.1954e-01, -3.5063e+00, -1.1759e-01,\n",
       "          1.0286e+00, -2.8209e+00,  9.7995e-01,  2.8708e-03,  1.0562e+00,\n",
       "          1.7065e+00,  3.8350e-02,  2.7068e+00,  6.1623e-02, -1.2775e-01,\n",
       "         -7.4419e-02,  2.1836e+00,  2.5617e+00,  5.8933e-01, -1.2212e-02,\n",
       "          1.1805e+00, -3.6453e-01,  1.0621e-01,  8.4338e-02, -4.9085e-01,\n",
       "         -4.3145e-02,  1.0825e-01, -2.9057e-02, -2.1715e-02, -3.0190e+00,\n",
       "          5.5529e-02], device='cuda:0'))"
      ]
     },
     "execution_count": 19,
     "metadata": {},
     "output_type": "execute_result"
    }
   ],
   "source": [
    "modelid_list2[0], latent_space[0]"
   ]
  },
  {
   "cell_type": "code",
   "execution_count": 28,
   "metadata": {},
   "outputs": [],
   "source": [
    "latent_matrix = latent_space.cpu().detach().numpy()"
   ]
  },
  {
   "cell_type": "code",
   "execution_count": 29,
   "metadata": {},
   "outputs": [],
   "source": [
    "from sklearn import manifold"
   ]
  },
  {
   "cell_type": "code",
   "execution_count": 30,
   "metadata": {},
   "outputs": [],
   "source": [
    "X_embedded = manifold.TSNE(n_components=2).fit_transform(latent_matrix)"
   ]
  },
  {
   "cell_type": "code",
   "execution_count": 31,
   "metadata": {},
   "outputs": [],
   "source": [
    "X, Y = X_embedded.T"
   ]
  },
  {
   "cell_type": "code",
   "execution_count": 32,
   "metadata": {
    "scrolled": true
   },
   "outputs": [
    {
     "data": {
      "image/png": "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\n",
      "text/plain": [
       "<Figure size 432x432 with 1 Axes>"
      ]
     },
     "metadata": {
      "needs_background": "light"
     },
     "output_type": "display_data"
    }
   ],
   "source": [
    "import matplotlib.pyplot as plt\n",
    "\n",
    "plt.figure(figsize=(6, 6))\n",
    "# plt.axis('off')\n",
    "plt.scatter(X, Y)\n",
    "plt.show()"
   ]
  },
  {
   "cell_type": "code",
   "execution_count": 33,
   "metadata": {},
   "outputs": [],
   "source": [
    "from sklearn.cluster import KMeans"
   ]
  },
  {
   "cell_type": "code",
   "execution_count": 34,
   "metadata": {},
   "outputs": [
    {
     "data": {
      "text/plain": [
       "array([1709,  728,   53, ..., 1369,    7, 1913], dtype=int32)"
      ]
     },
     "execution_count": 34,
     "metadata": {},
     "output_type": "execute_result"
    }
   ],
   "source": [
    "kmeans = KMeans(n_clusters=2000, random_state=0).fit(latent_matrix)\n",
    "kmeans.labels_"
   ]
  },
  {
   "cell_type": "code",
   "execution_count": null,
   "metadata": {},
   "outputs": [],
   "source": []
  },
  {
   "cell_type": "code",
   "execution_count": 35,
   "metadata": {},
   "outputs": [],
   "source": [
    "cluster_id_class_file = open(\"cluster_id_class_byol_pc_baseline.txt\", 'w')\n",
    "\n",
    "for i in range(len(modelid_list2)):\n",
    "    cluster_id_class_file.write(modelid_list2[i]+\", \"+str(kmeans.labels_[i]))\n",
    "    cluster_id_class_file.write('\\n')\n",
    "cluster_id_class_file.close()"
   ]
  },
  {
   "cell_type": "code",
   "execution_count": null,
   "metadata": {},
   "outputs": [],
   "source": [
    "import numpy as np"
   ]
  },
  {
   "cell_type": "code",
   "execution_count": null,
   "metadata": {},
   "outputs": [],
   "source": [
    "hist,bins = np.histogram(kmeans.labels_,bins =np.arange(1000)) "
   ]
  },
  {
   "cell_type": "code",
   "execution_count": null,
   "metadata": {},
   "outputs": [],
   "source": [
    "hist"
   ]
  },
  {
   "cell_type": "code",
   "execution_count": null,
   "metadata": {
    "scrolled": false
   },
   "outputs": [],
   "source": [
    "import matplotlib.pyplot as plt\n",
    "import numpy as np\n",
    "import matplotlib\n",
    "plt.figure(figsize=(15,8))\n",
    "plt.hist(kmeans.labels_, bins=1000,facecolor=\"blue\", edgecolor=\"blue\", alpha=0.7)\n",
    "# 显示横轴标签\n",
    "plt.xlabel(\"cluster\")\n",
    "# 显示纵轴标签\n",
    "plt.ylabel(\"number\")\n",
    "# 显示图标题\n",
    "# plt.title(\"频数/频率分布直方图\")\n",
    "plt.show()"
   ]
  },
  {
   "cell_type": "code",
   "execution_count": null,
   "metadata": {},
   "outputs": [],
   "source": [
    "kmeans.labels_"
   ]
  },
  {
   "cell_type": "code",
   "execution_count": null,
   "metadata": {},
   "outputs": [],
   "source": []
  }
 ],
 "metadata": {
  "kernelspec": {
   "display_name": "torch_wen",
   "language": "python",
   "name": "torch_wen"
  },
  "language_info": {
   "codemirror_mode": {
    "name": "ipython",
    "version": 3
   },
   "file_extension": ".py",
   "mimetype": "text/x-python",
   "name": "python",
   "nbconvert_exporter": "python",
   "pygments_lexer": "ipython3",
   "version": "3.8.5"
  }
 },
 "nbformat": 4,
 "nbformat_minor": 4
}
